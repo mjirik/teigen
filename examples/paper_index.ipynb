{
 "cells": [
  {
   "cell_type": "markdown",
   "metadata": {},
   "source": [
    "# Paper datasets and figures\n",
    "\n",
    "[All experiments setup](https://github.com/mjirik/teigen/blob/master/examples/paper_experiments_params.ipynb)\n",
    "\n",
    "[Run all experimerimens and generate all data](https://github.com/mjirik/teigen/blob/master/examples/paper_run_experiments.ipynb)\n",
    "\n",
    "[Figures generator script](https://github.com/mjirik/teigen/blob/master/examples/paper_figures.ipynb)"
   ]
  },
  {
   "cell_type": "code",
   "execution_count": null,
   "metadata": {
    "collapsed": true
   },
   "outputs": [],
   "source": []
  },
  {
   "cell_type": "code",
   "execution_count": null,
   "metadata": {
    "collapsed": true
   },
   "outputs": [],
   "source": []
  }
 ],
 "metadata": {
  "kernelspec": {
   "display_name": "Python 2",
   "language": "python",
   "name": "python2"
  },
  "language_info": {
   "codemirror_mode": {
    "name": "ipython",
    "version": 2
   },
   "file_extension": ".py",
   "mimetype": "text/x-python",
   "name": "python",
   "nbconvert_exporter": "python",
   "pygments_lexer": "ipython2",
   "version": "2.7.9"
  }
 },
 "nbformat": 4,
 "nbformat_minor": 2
}
