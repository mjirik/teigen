{
 "cells": [
  {
   "cell_type": "markdown",
   "metadata": {
    "deletable": true,
    "editable": true
   },
   "source": [
    "# Multiple tube generation experiment processing\n",
    "\n",
    "![element_number=40, length_mean=40, radius_mean=5, measurement_resolution=20](id26en40lm40rm5mr20.png)\n",
    "element_number=40, length_mean=40, radius_mean=5, measurement_resolution=20\n",
    "![element_number=40, length_mean=40, radius_mean=5, measurement_resolution=10](id26en40lm40rm5mr10.png)\n",
    "element_number=40, length_mean=40, radius_mean=5, measurement_resolution=10"
   ]
  },
  {
   "cell_type": "code",
   "execution_count": 79,
   "metadata": {
    "collapsed": false,
    "deletable": true,
    "editable": true
   },
   "outputs": [
    {
     "name": "stdout",
     "output_type": "stream",
     "text": [
      "Populating the interactive namespace from numpy and matplotlib\n"
     ]
    }
   ],
   "source": [
    "%pylab inline"
   ]
  },
  {
   "cell_type": "code",
   "execution_count": 80,
   "metadata": {
    "collapsed": true,
    "deletable": true,
    "editable": true
   },
   "outputs": [],
   "source": [
    "import matplotlib.pyplot as plt\n",
    "import pandas as pd\n",
    "import numpy as np\n",
    "import os.path as op\n",
    "from pprint import pprint as pp\n",
    "import scipy.stats\n",
    "import seaborn as sns\n"
   ]
  },
  {
   "cell_type": "code",
   "execution_count": 117,
   "metadata": {
    "collapsed": true,
    "deletable": true,
    "editable": true
   },
   "outputs": [],
   "source": [
    "datapath = \"~/teigen_data/output_rows.csv\""
   ]
  },
  {
   "cell_type": "code",
   "execution_count": 82,
   "metadata": {
    "collapsed": true,
    "deletable": true,
    "editable": true
   },
   "outputs": [],
   "source": [
    "plotkw ={\n",
    "    \"figsize\": [9, 6], \n",
    "    # \"fontsize\": 14\n",
    "}"
   ]
  },
  {
   "cell_type": "code",
   "execution_count": 83,
   "metadata": {
    "collapsed": false,
    "deletable": true,
    "editable": true
   },
   "outputs": [
    {
     "name": "stdout",
     "output_type": "stream",
     "text": [
      "Index([u'datetime', u'length [mm]', u'volume [mm^3]', u'surface [mm^2]',\n",
      "       u'area volume [mm^3]', u'count []', u'numeric volume [mm^3]',\n",
      "       u'numeric surface [mm^2]', u'length d. [mm^-2]', u'volume d. []',\n",
      "       u'surface d. [mm^-1]', u'appearance noise_preview',\n",
      "       u'appearance show_aposteriori_surface',\n",
      "       u'appearance skip_volume_generation', u'areasampling areasize_mm',\n",
      "       u'areasampling areasize_px', u'areasampling voxelsize_mm',\n",
      "       u'filepattern', u'generator_id',\n",
      "       u'generators Continuous tubes element_number',\n",
      "       u'generators Continuous tubes fixed_radius_distribution',\n",
      "       u'generators Continuous tubes normal_radius_distribution',\n",
      "       u'generators Continuous tubes radius_distribution_maximum',\n",
      "       u'generators Continuous tubes radius_distribution_mean',\n",
      "       u'generators Continuous tubes radius_distribution_minimum',\n",
      "       u'generators Continuous tubes radius_distribution_standard_deviation',\n",
      "       u'generators Continuous tubes random_generator_seed',\n",
      "       u'generators Continuous tubes uniform_radius_distribution',\n",
      "       u'generators Gensei n_objects',\n",
      "       u'generators Unconnected tubes allow_overlap',\n",
      "       u'generators Unconnected tubes element_number',\n",
      "       u'generators Unconnected tubes fixed_radius_distribution',\n",
      "       u'generators Unconnected tubes last_element_can_be_smaller',\n",
      "       u'generators Unconnected tubes length_distribution_mean',\n",
      "       u'generators Unconnected tubes length_distribution_standard_deviation',\n",
      "       u'generators Unconnected tubes maximum_1000_iteration_number',\n",
      "       u'generators Unconnected tubes normal_radius_distribution',\n",
      "       u'generators Unconnected tubes orientation_alpha_rad',\n",
      "       u'generators Unconnected tubes orientation_anisotropic',\n",
      "       u'generators Unconnected tubes orientation_beta_rad',\n",
      "       u'generators Unconnected tubes orientation_variance_rad',\n",
      "       u'generators Unconnected tubes radius_distribution_maximum',\n",
      "       u'generators Unconnected tubes radius_distribution_mean',\n",
      "       u'generators Unconnected tubes radius_distribution_minimum',\n",
      "       u'generators Unconnected tubes radius_distribution_standard_deviation',\n",
      "       u'generators Unconnected tubes random_generator_seed',\n",
      "       u'generators Unconnected tubes uniform_radius_distribution',\n",
      "       u'generators Unconnected tubes volume_fraction',\n",
      "       u'generators Voronoi tubes element_number',\n",
      "       u'generators Voronoi tubes fixed_radius_distribution',\n",
      "       u'generators Voronoi tubes normal_radius_distribution',\n",
      "       u'generators Voronoi tubes radius_distribution_maximum',\n",
      "       u'generators Voronoi tubes radius_distribution_mean',\n",
      "       u'generators Voronoi tubes radius_distribution_minimum',\n",
      "       u'generators Voronoi tubes radius_distribution_standard_deviation',\n",
      "       u'generators Voronoi tubes random_generator_seed',\n",
      "       u'generators Voronoi tubes uniform_radius_distribution',\n",
      "       u'measurement polygon_radius_selection_method',\n",
      "       u'output aposteriori_measurement',\n",
      "       u'output aposteriori_measurement_multiplier', u'output note',\n",
      "       u'output one_row_filename', u'postprocessing add_noise',\n",
      "       u'postprocessing gaussian_blur',\n",
      "       u'postprocessing gaussian_filter_sigma_mm',\n",
      "       u'postprocessing intensity_profile_intensity',\n",
      "       u'postprocessing intensity_profile_radius',\n",
      "       u'postprocessing limit_negative_intensities',\n",
      "       u'postprocessing measurement_resolution', u'postprocessing negative',\n",
      "       u'postprocessing noise_amplitude', u'postprocessing noise_exponent',\n",
      "       u'postprocessing noise_lambda_start',\n",
      "       u'postprocessing noise_lambda_stop', u'postprocessing noise_mean',\n",
      "       u'postprocessing noise_rng_seed', u'postprocessing output_dtype'],\n",
      "      dtype='object')\n"
     ]
    }
   ],
   "source": [
    "df = pd.read_csv(op.expanduser(datapath))\n",
    "pp(df.keys())\n",
    "\n",
    "# df"
   ]
  },
  {
   "cell_type": "code",
   "execution_count": 84,
   "metadata": {
    "collapsed": false
   },
   "outputs": [
    {
     "data": {
      "text/html": [
       "<div>\n",
       "<style>\n",
       "    .dataframe thead tr:only-child th {\n",
       "        text-align: right;\n",
       "    }\n",
       "\n",
       "    .dataframe thead th {\n",
       "        text-align: left;\n",
       "    }\n",
       "\n",
       "    .dataframe tbody tr th {\n",
       "        vertical-align: top;\n",
       "    }\n",
       "</style>\n",
       "<table border=\"1\" class=\"dataframe\">\n",
       "  <thead>\n",
       "    <tr style=\"text-align: right;\">\n",
       "      <th></th>\n",
       "      <th>datetime</th>\n",
       "      <th>length [mm]</th>\n",
       "      <th>volume [mm^3]</th>\n",
       "      <th>surface [mm^2]</th>\n",
       "      <th>area volume [mm^3]</th>\n",
       "      <th>count []</th>\n",
       "      <th>numeric volume [mm^3]</th>\n",
       "      <th>numeric surface [mm^2]</th>\n",
       "      <th>length d. [mm^-2]</th>\n",
       "      <th>volume d. []</th>\n",
       "      <th>...</th>\n",
       "      <th>postprocessing limit_negative_intensities</th>\n",
       "      <th>postprocessing measurement_resolution</th>\n",
       "      <th>postprocessing negative</th>\n",
       "      <th>postprocessing noise_amplitude</th>\n",
       "      <th>postprocessing noise_exponent</th>\n",
       "      <th>postprocessing noise_lambda_start</th>\n",
       "      <th>postprocessing noise_lambda_stop</th>\n",
       "      <th>postprocessing noise_mean</th>\n",
       "      <th>postprocessing noise_rng_seed</th>\n",
       "      <th>postprocessing output_dtype</th>\n",
       "    </tr>\n",
       "  </thead>\n",
       "  <tbody>\n",
       "    <tr>\n",
       "      <th>0</th>\n",
       "      <td>2017-05-17T16:10:13.383914</td>\n",
       "      <td>174.746094</td>\n",
       "      <td>51314.923297</td>\n",
       "      <td>15169.470172</td>\n",
       "      <td>1100000.0</td>\n",
       "      <td>10.0</td>\n",
       "      <td>41119.575512</td>\n",
       "      <td>14162.654498</td>\n",
       "      <td>0.000159</td>\n",
       "      <td>0.04665</td>\n",
       "      <td>...</td>\n",
       "      <td>True</td>\n",
       "      <td>6</td>\n",
       "      <td>False</td>\n",
       "      <td>40.0</td>\n",
       "      <td>0.0001</td>\n",
       "      <td>0.1</td>\n",
       "      <td>3.0</td>\n",
       "      <td>30.0</td>\n",
       "      <td>0</td>\n",
       "      <td>uint8</td>\n",
       "    </tr>\n",
       "    <tr>\n",
       "      <th>1</th>\n",
       "      <td>2017-05-17T16:10:16.410858</td>\n",
       "      <td>174.746094</td>\n",
       "      <td>51314.923297</td>\n",
       "      <td>15169.470172</td>\n",
       "      <td>1100000.0</td>\n",
       "      <td>10.0</td>\n",
       "      <td>53720.070202</td>\n",
       "      <td>16805.670338</td>\n",
       "      <td>0.000159</td>\n",
       "      <td>0.04665</td>\n",
       "      <td>...</td>\n",
       "      <td>True</td>\n",
       "      <td>6</td>\n",
       "      <td>False</td>\n",
       "      <td>40.0</td>\n",
       "      <td>0.0001</td>\n",
       "      <td>0.1</td>\n",
       "      <td>3.0</td>\n",
       "      <td>30.0</td>\n",
       "      <td>0</td>\n",
       "      <td>uint8</td>\n",
       "    </tr>\n",
       "    <tr>\n",
       "      <th>2</th>\n",
       "      <td>2017-05-17T16:10:19.025207</td>\n",
       "      <td>174.746094</td>\n",
       "      <td>51314.923297</td>\n",
       "      <td>15169.470172</td>\n",
       "      <td>1100000.0</td>\n",
       "      <td>10.0</td>\n",
       "      <td>44652.780386</td>\n",
       "      <td>14904.779950</td>\n",
       "      <td>0.000159</td>\n",
       "      <td>0.04665</td>\n",
       "      <td>...</td>\n",
       "      <td>True</td>\n",
       "      <td>6</td>\n",
       "      <td>False</td>\n",
       "      <td>40.0</td>\n",
       "      <td>0.0001</td>\n",
       "      <td>0.1</td>\n",
       "      <td>3.0</td>\n",
       "      <td>30.0</td>\n",
       "      <td>0</td>\n",
       "      <td>uint8</td>\n",
       "    </tr>\n",
       "    <tr>\n",
       "      <th>3</th>\n",
       "      <td>2017-05-17T16:10:21.589362</td>\n",
       "      <td>174.746094</td>\n",
       "      <td>51314.923297</td>\n",
       "      <td>15169.470172</td>\n",
       "      <td>1100000.0</td>\n",
       "      <td>10.0</td>\n",
       "      <td>48910.073188</td>\n",
       "      <td>15801.267461</td>\n",
       "      <td>0.000159</td>\n",
       "      <td>0.04665</td>\n",
       "      <td>...</td>\n",
       "      <td>True</td>\n",
       "      <td>6</td>\n",
       "      <td>False</td>\n",
       "      <td>40.0</td>\n",
       "      <td>0.0001</td>\n",
       "      <td>0.1</td>\n",
       "      <td>3.0</td>\n",
       "      <td>30.0</td>\n",
       "      <td>0</td>\n",
       "      <td>uint8</td>\n",
       "    </tr>\n",
       "    <tr>\n",
       "      <th>4</th>\n",
       "      <td>2017-05-17T16:10:24.068960</td>\n",
       "      <td>174.746094</td>\n",
       "      <td>51314.923297</td>\n",
       "      <td>15169.470172</td>\n",
       "      <td>1100000.0</td>\n",
       "      <td>10.0</td>\n",
       "      <td>47059.210286</td>\n",
       "      <td>15411.214032</td>\n",
       "      <td>0.000159</td>\n",
       "      <td>0.04665</td>\n",
       "      <td>...</td>\n",
       "      <td>True</td>\n",
       "      <td>6</td>\n",
       "      <td>False</td>\n",
       "      <td>40.0</td>\n",
       "      <td>0.0001</td>\n",
       "      <td>0.1</td>\n",
       "      <td>3.0</td>\n",
       "      <td>30.0</td>\n",
       "      <td>0</td>\n",
       "      <td>uint8</td>\n",
       "    </tr>\n",
       "    <tr>\n",
       "      <th>5</th>\n",
       "      <td>2017-05-17T16:10:27.095086</td>\n",
       "      <td>174.746094</td>\n",
       "      <td>51314.923297</td>\n",
       "      <td>15169.470172</td>\n",
       "      <td>1100000.0</td>\n",
       "      <td>10.0</td>\n",
       "      <td>45400.532803</td>\n",
       "      <td>14525.978490</td>\n",
       "      <td>0.000159</td>\n",
       "      <td>0.04665</td>\n",
       "      <td>...</td>\n",
       "      <td>True</td>\n",
       "      <td>8</td>\n",
       "      <td>False</td>\n",
       "      <td>40.0</td>\n",
       "      <td>0.0001</td>\n",
       "      <td>0.1</td>\n",
       "      <td>3.0</td>\n",
       "      <td>30.0</td>\n",
       "      <td>0</td>\n",
       "      <td>uint8</td>\n",
       "    </tr>\n",
       "    <tr>\n",
       "      <th>6</th>\n",
       "      <td>2017-05-17T16:10:29.824832</td>\n",
       "      <td>174.746094</td>\n",
       "      <td>51314.923297</td>\n",
       "      <td>15169.470172</td>\n",
       "      <td>1100000.0</td>\n",
       "      <td>10.0</td>\n",
       "      <td>52488.034850</td>\n",
       "      <td>15979.590915</td>\n",
       "      <td>0.000159</td>\n",
       "      <td>0.04665</td>\n",
       "      <td>...</td>\n",
       "      <td>True</td>\n",
       "      <td>8</td>\n",
       "      <td>False</td>\n",
       "      <td>40.0</td>\n",
       "      <td>0.0001</td>\n",
       "      <td>0.1</td>\n",
       "      <td>3.0</td>\n",
       "      <td>30.0</td>\n",
       "      <td>0</td>\n",
       "      <td>uint8</td>\n",
       "    </tr>\n",
       "    <tr>\n",
       "      <th>7</th>\n",
       "      <td>2017-05-17T16:10:32.738553</td>\n",
       "      <td>174.746094</td>\n",
       "      <td>51314.923297</td>\n",
       "      <td>15169.470172</td>\n",
       "      <td>1100000.0</td>\n",
       "      <td>10.0</td>\n",
       "      <td>47550.177952</td>\n",
       "      <td>14963.954013</td>\n",
       "      <td>0.000159</td>\n",
       "      <td>0.04665</td>\n",
       "      <td>...</td>\n",
       "      <td>True</td>\n",
       "      <td>8</td>\n",
       "      <td>False</td>\n",
       "      <td>40.0</td>\n",
       "      <td>0.0001</td>\n",
       "      <td>0.1</td>\n",
       "      <td>3.0</td>\n",
       "      <td>30.0</td>\n",
       "      <td>0</td>\n",
       "      <td>uint8</td>\n",
       "    </tr>\n",
       "    <tr>\n",
       "      <th>8</th>\n",
       "      <td>2017-05-17T16:10:35.529418</td>\n",
       "      <td>174.746094</td>\n",
       "      <td>51314.923297</td>\n",
       "      <td>15169.470172</td>\n",
       "      <td>1100000.0</td>\n",
       "      <td>10.0</td>\n",
       "      <td>49936.406098</td>\n",
       "      <td>15454.899990</td>\n",
       "      <td>0.000159</td>\n",
       "      <td>0.04665</td>\n",
       "      <td>...</td>\n",
       "      <td>True</td>\n",
       "      <td>8</td>\n",
       "      <td>False</td>\n",
       "      <td>40.0</td>\n",
       "      <td>0.0001</td>\n",
       "      <td>0.1</td>\n",
       "      <td>3.0</td>\n",
       "      <td>30.0</td>\n",
       "      <td>0</td>\n",
       "      <td>uint8</td>\n",
       "    </tr>\n",
       "    <tr>\n",
       "      <th>9</th>\n",
       "      <td>2017-05-17T16:10:38.386064</td>\n",
       "      <td>174.746094</td>\n",
       "      <td>51314.923297</td>\n",
       "      <td>15169.470172</td>\n",
       "      <td>1100000.0</td>\n",
       "      <td>10.0</td>\n",
       "      <td>48829.729909</td>\n",
       "      <td>15226.945610</td>\n",
       "      <td>0.000159</td>\n",
       "      <td>0.04665</td>\n",
       "      <td>...</td>\n",
       "      <td>True</td>\n",
       "      <td>8</td>\n",
       "      <td>False</td>\n",
       "      <td>40.0</td>\n",
       "      <td>0.0001</td>\n",
       "      <td>0.1</td>\n",
       "      <td>3.0</td>\n",
       "      <td>30.0</td>\n",
       "      <td>0</td>\n",
       "      <td>uint8</td>\n",
       "    </tr>\n",
       "    <tr>\n",
       "      <th>10</th>\n",
       "      <td>2017-05-17T16:10:42.295168</td>\n",
       "      <td>174.746094</td>\n",
       "      <td>51314.923297</td>\n",
       "      <td>15169.470172</td>\n",
       "      <td>1100000.0</td>\n",
       "      <td>10.0</td>\n",
       "      <td>47518.695387</td>\n",
       "      <td>14800.744201</td>\n",
       "      <td>0.000159</td>\n",
       "      <td>0.04665</td>\n",
       "      <td>...</td>\n",
       "      <td>True</td>\n",
       "      <td>10</td>\n",
       "      <td>False</td>\n",
       "      <td>40.0</td>\n",
       "      <td>0.0001</td>\n",
       "      <td>0.1</td>\n",
       "      <td>3.0</td>\n",
       "      <td>30.0</td>\n",
       "      <td>0</td>\n",
       "      <td>uint8</td>\n",
       "    </tr>\n",
       "    <tr>\n",
       "      <th>11</th>\n",
       "      <td>2017-05-17T16:10:45.686847</td>\n",
       "      <td>174.746094</td>\n",
       "      <td>51314.923297</td>\n",
       "      <td>15169.470172</td>\n",
       "      <td>1100000.0</td>\n",
       "      <td>10.0</td>\n",
       "      <td>52046.257812</td>\n",
       "      <td>15699.848640</td>\n",
       "      <td>0.000159</td>\n",
       "      <td>0.04665</td>\n",
       "      <td>...</td>\n",
       "      <td>True</td>\n",
       "      <td>10</td>\n",
       "      <td>False</td>\n",
       "      <td>40.0</td>\n",
       "      <td>0.0001</td>\n",
       "      <td>0.1</td>\n",
       "      <td>3.0</td>\n",
       "      <td>30.0</td>\n",
       "      <td>0</td>\n",
       "      <td>uint8</td>\n",
       "    </tr>\n",
       "    <tr>\n",
       "      <th>12</th>\n",
       "      <td>2017-05-17T16:10:49.499617</td>\n",
       "      <td>174.746094</td>\n",
       "      <td>51314.923297</td>\n",
       "      <td>15169.470172</td>\n",
       "      <td>1100000.0</td>\n",
       "      <td>10.0</td>\n",
       "      <td>48932.887887</td>\n",
       "      <td>15073.517324</td>\n",
       "      <td>0.000159</td>\n",
       "      <td>0.04665</td>\n",
       "      <td>...</td>\n",
       "      <td>True</td>\n",
       "      <td>10</td>\n",
       "      <td>False</td>\n",
       "      <td>40.0</td>\n",
       "      <td>0.0001</td>\n",
       "      <td>0.1</td>\n",
       "      <td>3.0</td>\n",
       "      <td>30.0</td>\n",
       "      <td>0</td>\n",
       "      <td>uint8</td>\n",
       "    </tr>\n",
       "    <tr>\n",
       "      <th>13</th>\n",
       "      <td>2017-05-17T16:10:53.247350</td>\n",
       "      <td>174.746094</td>\n",
       "      <td>51314.923297</td>\n",
       "      <td>15169.470172</td>\n",
       "      <td>1100000.0</td>\n",
       "      <td>10.0</td>\n",
       "      <td>50453.745610</td>\n",
       "      <td>15374.901460</td>\n",
       "      <td>0.000159</td>\n",
       "      <td>0.04665</td>\n",
       "      <td>...</td>\n",
       "      <td>True</td>\n",
       "      <td>10</td>\n",
       "      <td>False</td>\n",
       "      <td>40.0</td>\n",
       "      <td>0.0001</td>\n",
       "      <td>0.1</td>\n",
       "      <td>3.0</td>\n",
       "      <td>30.0</td>\n",
       "      <td>0</td>\n",
       "      <td>uint8</td>\n",
       "    </tr>\n",
       "    <tr>\n",
       "      <th>14</th>\n",
       "      <td>2017-05-17T16:10:57.856416</td>\n",
       "      <td>174.746094</td>\n",
       "      <td>51314.923297</td>\n",
       "      <td>15169.470172</td>\n",
       "      <td>1100000.0</td>\n",
       "      <td>10.0</td>\n",
       "      <td>49727.317135</td>\n",
       "      <td>15229.544172</td>\n",
       "      <td>0.000159</td>\n",
       "      <td>0.04665</td>\n",
       "      <td>...</td>\n",
       "      <td>True</td>\n",
       "      <td>10</td>\n",
       "      <td>False</td>\n",
       "      <td>40.0</td>\n",
       "      <td>0.0001</td>\n",
       "      <td>0.1</td>\n",
       "      <td>3.0</td>\n",
       "      <td>30.0</td>\n",
       "      <td>0</td>\n",
       "      <td>uint8</td>\n",
       "    </tr>\n",
       "    <tr>\n",
       "      <th>15</th>\n",
       "      <td>2017-05-17T16:11:02.670812</td>\n",
       "      <td>174.746094</td>\n",
       "      <td>51314.923297</td>\n",
       "      <td>15169.470172</td>\n",
       "      <td>1100000.0</td>\n",
       "      <td>10.0</td>\n",
       "      <td>48645.715900</td>\n",
       "      <td>14886.698391</td>\n",
       "      <td>0.000159</td>\n",
       "      <td>0.04665</td>\n",
       "      <td>...</td>\n",
       "      <td>True</td>\n",
       "      <td>12</td>\n",
       "      <td>False</td>\n",
       "      <td>40.0</td>\n",
       "      <td>0.0001</td>\n",
       "      <td>0.1</td>\n",
       "      <td>3.0</td>\n",
       "      <td>30.0</td>\n",
       "      <td>0</td>\n",
       "      <td>uint8</td>\n",
       "    </tr>\n",
       "    <tr>\n",
       "      <th>16</th>\n",
       "      <td>2017-05-17T16:11:06.948759</td>\n",
       "      <td>174.746094</td>\n",
       "      <td>51314.923297</td>\n",
       "      <td>15169.470172</td>\n",
       "      <td>1100000.0</td>\n",
       "      <td>10.0</td>\n",
       "      <td>51799.652096</td>\n",
       "      <td>15520.009330</td>\n",
       "      <td>0.000159</td>\n",
       "      <td>0.04665</td>\n",
       "      <td>...</td>\n",
       "      <td>True</td>\n",
       "      <td>12</td>\n",
       "      <td>False</td>\n",
       "      <td>40.0</td>\n",
       "      <td>0.0001</td>\n",
       "      <td>0.1</td>\n",
       "      <td>3.0</td>\n",
       "      <td>30.0</td>\n",
       "      <td>0</td>\n",
       "      <td>uint8</td>\n",
       "    </tr>\n",
       "    <tr>\n",
       "      <th>17</th>\n",
       "      <td>2017-05-17T16:11:11.422306</td>\n",
       "      <td>174.746094</td>\n",
       "      <td>51314.923297</td>\n",
       "      <td>15169.470172</td>\n",
       "      <td>1100000.0</td>\n",
       "      <td>10.0</td>\n",
       "      <td>49652.127424</td>\n",
       "      <td>15084.741124</td>\n",
       "      <td>0.000159</td>\n",
       "      <td>0.04665</td>\n",
       "      <td>...</td>\n",
       "      <td>True</td>\n",
       "      <td>12</td>\n",
       "      <td>False</td>\n",
       "      <td>40.0</td>\n",
       "      <td>0.0001</td>\n",
       "      <td>0.1</td>\n",
       "      <td>3.0</td>\n",
       "      <td>30.0</td>\n",
       "      <td>0</td>\n",
       "      <td>uint8</td>\n",
       "    </tr>\n",
       "    <tr>\n",
       "      <th>18</th>\n",
       "      <td>2017-05-17T16:11:15.730129</td>\n",
       "      <td>174.746094</td>\n",
       "      <td>51314.923297</td>\n",
       "      <td>15169.470172</td>\n",
       "      <td>1100000.0</td>\n",
       "      <td>10.0</td>\n",
       "      <td>50711.058669</td>\n",
       "      <td>15297.647971</td>\n",
       "      <td>0.000159</td>\n",
       "      <td>0.04665</td>\n",
       "      <td>...</td>\n",
       "      <td>True</td>\n",
       "      <td>12</td>\n",
       "      <td>False</td>\n",
       "      <td>40.0</td>\n",
       "      <td>0.0001</td>\n",
       "      <td>0.1</td>\n",
       "      <td>3.0</td>\n",
       "      <td>30.0</td>\n",
       "      <td>0</td>\n",
       "      <td>uint8</td>\n",
       "    </tr>\n",
       "    <tr>\n",
       "      <th>19</th>\n",
       "      <td>2017-05-17T16:11:19.917564</td>\n",
       "      <td>174.746094</td>\n",
       "      <td>51314.923297</td>\n",
       "      <td>15169.470172</td>\n",
       "      <td>1100000.0</td>\n",
       "      <td>10.0</td>\n",
       "      <td>50197.193638</td>\n",
       "      <td>15194.000071</td>\n",
       "      <td>0.000159</td>\n",
       "      <td>0.04665</td>\n",
       "      <td>...</td>\n",
       "      <td>True</td>\n",
       "      <td>12</td>\n",
       "      <td>False</td>\n",
       "      <td>40.0</td>\n",
       "      <td>0.0001</td>\n",
       "      <td>0.1</td>\n",
       "      <td>3.0</td>\n",
       "      <td>30.0</td>\n",
       "      <td>0</td>\n",
       "      <td>uint8</td>\n",
       "    </tr>\n",
       "    <tr>\n",
       "      <th>20</th>\n",
       "      <td>2017-05-17T16:11:26.723314</td>\n",
       "      <td>174.746094</td>\n",
       "      <td>51314.923297</td>\n",
       "      <td>15169.470172</td>\n",
       "      <td>1100000.0</td>\n",
       "      <td>10.0</td>\n",
       "      <td>49811.810913</td>\n",
       "      <td>15011.019481</td>\n",
       "      <td>0.000159</td>\n",
       "      <td>0.04665</td>\n",
       "      <td>...</td>\n",
       "      <td>True</td>\n",
       "      <td>16</td>\n",
       "      <td>False</td>\n",
       "      <td>40.0</td>\n",
       "      <td>0.0001</td>\n",
       "      <td>0.1</td>\n",
       "      <td>3.0</td>\n",
       "      <td>30.0</td>\n",
       "      <td>0</td>\n",
       "      <td>uint8</td>\n",
       "    </tr>\n",
       "    <tr>\n",
       "      <th>21</th>\n",
       "      <td>2017-05-17T16:11:32.272769</td>\n",
       "      <td>174.746094</td>\n",
       "      <td>51314.923297</td>\n",
       "      <td>15169.470172</td>\n",
       "      <td>1100000.0</td>\n",
       "      <td>10.0</td>\n",
       "      <td>51582.139436</td>\n",
       "      <td>15366.184418</td>\n",
       "      <td>0.000159</td>\n",
       "      <td>0.04665</td>\n",
       "      <td>...</td>\n",
       "      <td>True</td>\n",
       "      <td>16</td>\n",
       "      <td>False</td>\n",
       "      <td>40.0</td>\n",
       "      <td>0.0001</td>\n",
       "      <td>0.1</td>\n",
       "      <td>3.0</td>\n",
       "      <td>30.0</td>\n",
       "      <td>0</td>\n",
       "      <td>uint8</td>\n",
       "    </tr>\n",
       "    <tr>\n",
       "      <th>22</th>\n",
       "      <td>2017-05-17T16:11:38.236276</td>\n",
       "      <td>174.746094</td>\n",
       "      <td>51314.923297</td>\n",
       "      <td>15169.470172</td>\n",
       "      <td>1100000.0</td>\n",
       "      <td>10.0</td>\n",
       "      <td>50382.943882</td>\n",
       "      <td>15124.183948</td>\n",
       "      <td>0.000159</td>\n",
       "      <td>0.04665</td>\n",
       "      <td>...</td>\n",
       "      <td>True</td>\n",
       "      <td>16</td>\n",
       "      <td>False</td>\n",
       "      <td>40.0</td>\n",
       "      <td>0.0001</td>\n",
       "      <td>0.1</td>\n",
       "      <td>3.0</td>\n",
       "      <td>30.0</td>\n",
       "      <td>0</td>\n",
       "      <td>uint8</td>\n",
       "    </tr>\n",
       "    <tr>\n",
       "      <th>23</th>\n",
       "      <td>2017-05-17T16:11:44.498728</td>\n",
       "      <td>174.746094</td>\n",
       "      <td>51314.923297</td>\n",
       "      <td>15169.470172</td>\n",
       "      <td>1100000.0</td>\n",
       "      <td>10.0</td>\n",
       "      <td>50973.514547</td>\n",
       "      <td>15242.991109</td>\n",
       "      <td>0.000159</td>\n",
       "      <td>0.04665</td>\n",
       "      <td>...</td>\n",
       "      <td>True</td>\n",
       "      <td>16</td>\n",
       "      <td>False</td>\n",
       "      <td>40.0</td>\n",
       "      <td>0.0001</td>\n",
       "      <td>0.1</td>\n",
       "      <td>3.0</td>\n",
       "      <td>30.0</td>\n",
       "      <td>0</td>\n",
       "      <td>uint8</td>\n",
       "    </tr>\n",
       "    <tr>\n",
       "      <th>24</th>\n",
       "      <td>2017-05-17T16:11:51.058323</td>\n",
       "      <td>174.746094</td>\n",
       "      <td>51314.923297</td>\n",
       "      <td>15169.470172</td>\n",
       "      <td>1100000.0</td>\n",
       "      <td>10.0</td>\n",
       "      <td>50685.108030</td>\n",
       "      <td>15184.436811</td>\n",
       "      <td>0.000159</td>\n",
       "      <td>0.04665</td>\n",
       "      <td>...</td>\n",
       "      <td>True</td>\n",
       "      <td>16</td>\n",
       "      <td>False</td>\n",
       "      <td>40.0</td>\n",
       "      <td>0.0001</td>\n",
       "      <td>0.1</td>\n",
       "      <td>3.0</td>\n",
       "      <td>30.0</td>\n",
       "      <td>0</td>\n",
       "      <td>uint8</td>\n",
       "    </tr>\n",
       "    <tr>\n",
       "      <th>25</th>\n",
       "      <td>2017-05-17T16:12:00.229881</td>\n",
       "      <td>174.746094</td>\n",
       "      <td>51314.923297</td>\n",
       "      <td>15169.470172</td>\n",
       "      <td>1100000.0</td>\n",
       "      <td>10.0</td>\n",
       "      <td>50342.169807</td>\n",
       "      <td>15066.531963</td>\n",
       "      <td>0.000159</td>\n",
       "      <td>0.04665</td>\n",
       "      <td>...</td>\n",
       "      <td>True</td>\n",
       "      <td>20</td>\n",
       "      <td>False</td>\n",
       "      <td>40.0</td>\n",
       "      <td>0.0001</td>\n",
       "      <td>0.1</td>\n",
       "      <td>3.0</td>\n",
       "      <td>30.0</td>\n",
       "      <td>0</td>\n",
       "      <td>uint8</td>\n",
       "    </tr>\n",
       "    <tr>\n",
       "      <th>26</th>\n",
       "      <td>2017-05-17T16:12:07.660467</td>\n",
       "      <td>174.746094</td>\n",
       "      <td>51314.923297</td>\n",
       "      <td>15169.470172</td>\n",
       "      <td>1100000.0</td>\n",
       "      <td>10.0</td>\n",
       "      <td>51485.243913</td>\n",
       "      <td>15292.562232</td>\n",
       "      <td>0.000159</td>\n",
       "      <td>0.04665</td>\n",
       "      <td>...</td>\n",
       "      <td>True</td>\n",
       "      <td>20</td>\n",
       "      <td>False</td>\n",
       "      <td>40.0</td>\n",
       "      <td>0.0001</td>\n",
       "      <td>0.1</td>\n",
       "      <td>3.0</td>\n",
       "      <td>30.0</td>\n",
       "      <td>0</td>\n",
       "      <td>uint8</td>\n",
       "    </tr>\n",
       "    <tr>\n",
       "      <th>27</th>\n",
       "      <td>2017-05-17T16:12:15.755577</td>\n",
       "      <td>174.746094</td>\n",
       "      <td>51314.923297</td>\n",
       "      <td>15169.470172</td>\n",
       "      <td>1100000.0</td>\n",
       "      <td>10.0</td>\n",
       "      <td>50720.212244</td>\n",
       "      <td>15138.849367</td>\n",
       "      <td>0.000159</td>\n",
       "      <td>0.04665</td>\n",
       "      <td>...</td>\n",
       "      <td>True</td>\n",
       "      <td>20</td>\n",
       "      <td>False</td>\n",
       "      <td>40.0</td>\n",
       "      <td>0.0001</td>\n",
       "      <td>0.1</td>\n",
       "      <td>3.0</td>\n",
       "      <td>30.0</td>\n",
       "      <td>0</td>\n",
       "      <td>uint8</td>\n",
       "    </tr>\n",
       "    <tr>\n",
       "      <th>28</th>\n",
       "      <td>2017-05-17T16:12:25.192324</td>\n",
       "      <td>174.746094</td>\n",
       "      <td>51314.923297</td>\n",
       "      <td>15169.470172</td>\n",
       "      <td>1100000.0</td>\n",
       "      <td>10.0</td>\n",
       "      <td>51100.423265</td>\n",
       "      <td>15214.390715</td>\n",
       "      <td>0.000159</td>\n",
       "      <td>0.04665</td>\n",
       "      <td>...</td>\n",
       "      <td>True</td>\n",
       "      <td>20</td>\n",
       "      <td>False</td>\n",
       "      <td>40.0</td>\n",
       "      <td>0.0001</td>\n",
       "      <td>0.1</td>\n",
       "      <td>3.0</td>\n",
       "      <td>30.0</td>\n",
       "      <td>0</td>\n",
       "      <td>uint8</td>\n",
       "    </tr>\n",
       "    <tr>\n",
       "      <th>29</th>\n",
       "      <td>2017-05-17T16:12:33.112385</td>\n",
       "      <td>174.746094</td>\n",
       "      <td>51314.923297</td>\n",
       "      <td>15169.470172</td>\n",
       "      <td>1100000.0</td>\n",
       "      <td>10.0</td>\n",
       "      <td>50912.350221</td>\n",
       "      <td>15176.779032</td>\n",
       "      <td>0.000159</td>\n",
       "      <td>0.04665</td>\n",
       "      <td>...</td>\n",
       "      <td>True</td>\n",
       "      <td>20</td>\n",
       "      <td>False</td>\n",
       "      <td>40.0</td>\n",
       "      <td>0.0001</td>\n",
       "      <td>0.1</td>\n",
       "      <td>3.0</td>\n",
       "      <td>30.0</td>\n",
       "      <td>0</td>\n",
       "      <td>uint8</td>\n",
       "    </tr>\n",
       "    <tr>\n",
       "      <th>30</th>\n",
       "      <td>2017-05-17T16:12:45.726953</td>\n",
       "      <td>174.746094</td>\n",
       "      <td>51314.923297</td>\n",
       "      <td>15169.470172</td>\n",
       "      <td>1100000.0</td>\n",
       "      <td>10.0</td>\n",
       "      <td>50696.958471</td>\n",
       "      <td>15106.720868</td>\n",
       "      <td>0.000159</td>\n",
       "      <td>0.04665</td>\n",
       "      <td>...</td>\n",
       "      <td>True</td>\n",
       "      <td>25</td>\n",
       "      <td>False</td>\n",
       "      <td>40.0</td>\n",
       "      <td>0.0001</td>\n",
       "      <td>0.1</td>\n",
       "      <td>3.0</td>\n",
       "      <td>30.0</td>\n",
       "      <td>0</td>\n",
       "      <td>uint8</td>\n",
       "    </tr>\n",
       "    <tr>\n",
       "      <th>31</th>\n",
       "      <td>2017-05-17T16:12:56.280553</td>\n",
       "      <td>174.746094</td>\n",
       "      <td>51314.923297</td>\n",
       "      <td>15169.470172</td>\n",
       "      <td>1100000.0</td>\n",
       "      <td>10.0</td>\n",
       "      <td>51424.404921</td>\n",
       "      <td>15249.932839</td>\n",
       "      <td>0.000159</td>\n",
       "      <td>0.04665</td>\n",
       "      <td>...</td>\n",
       "      <td>True</td>\n",
       "      <td>25</td>\n",
       "      <td>False</td>\n",
       "      <td>40.0</td>\n",
       "      <td>0.0001</td>\n",
       "      <td>0.1</td>\n",
       "      <td>3.0</td>\n",
       "      <td>30.0</td>\n",
       "      <td>0</td>\n",
       "      <td>uint8</td>\n",
       "    </tr>\n",
       "    <tr>\n",
       "      <th>32</th>\n",
       "      <td>2017-05-17T16:13:08.355220</td>\n",
       "      <td>174.746094</td>\n",
       "      <td>51314.923297</td>\n",
       "      <td>15169.470172</td>\n",
       "      <td>1100000.0</td>\n",
       "      <td>10.0</td>\n",
       "      <td>50936.369698</td>\n",
       "      <td>15152.039369</td>\n",
       "      <td>0.000159</td>\n",
       "      <td>0.04665</td>\n",
       "      <td>...</td>\n",
       "      <td>True</td>\n",
       "      <td>25</td>\n",
       "      <td>False</td>\n",
       "      <td>40.0</td>\n",
       "      <td>0.0001</td>\n",
       "      <td>0.1</td>\n",
       "      <td>3.0</td>\n",
       "      <td>30.0</td>\n",
       "      <td>0</td>\n",
       "      <td>uint8</td>\n",
       "    </tr>\n",
       "    <tr>\n",
       "      <th>33</th>\n",
       "      <td>2017-05-17T16:13:19.696499</td>\n",
       "      <td>174.746094</td>\n",
       "      <td>51314.923297</td>\n",
       "      <td>15169.470172</td>\n",
       "      <td>1100000.0</td>\n",
       "      <td>10.0</td>\n",
       "      <td>51174.350902</td>\n",
       "      <td>15199.974067</td>\n",
       "      <td>0.000159</td>\n",
       "      <td>0.04665</td>\n",
       "      <td>...</td>\n",
       "      <td>True</td>\n",
       "      <td>25</td>\n",
       "      <td>False</td>\n",
       "      <td>40.0</td>\n",
       "      <td>0.0001</td>\n",
       "      <td>0.1</td>\n",
       "      <td>3.0</td>\n",
       "      <td>30.0</td>\n",
       "      <td>0</td>\n",
       "      <td>uint8</td>\n",
       "    </tr>\n",
       "    <tr>\n",
       "      <th>34</th>\n",
       "      <td>2017-05-17T16:13:31.616901</td>\n",
       "      <td>174.746094</td>\n",
       "      <td>51314.923297</td>\n",
       "      <td>15169.470172</td>\n",
       "      <td>1100000.0</td>\n",
       "      <td>10.0</td>\n",
       "      <td>51059.612165</td>\n",
       "      <td>15176.013738</td>\n",
       "      <td>0.000159</td>\n",
       "      <td>0.04665</td>\n",
       "      <td>...</td>\n",
       "      <td>True</td>\n",
       "      <td>25</td>\n",
       "      <td>False</td>\n",
       "      <td>40.0</td>\n",
       "      <td>0.0001</td>\n",
       "      <td>0.1</td>\n",
       "      <td>3.0</td>\n",
       "      <td>30.0</td>\n",
       "      <td>0</td>\n",
       "      <td>uint8</td>\n",
       "    </tr>\n",
       "  </tbody>\n",
       "</table>\n",
       "<p>35 rows × 77 columns</p>\n",
       "</div>"
      ],
      "text/plain": [
       "                      datetime  length [mm]  volume [mm^3]  surface [mm^2]  \\\n",
       "0   2017-05-17T16:10:13.383914   174.746094   51314.923297    15169.470172   \n",
       "1   2017-05-17T16:10:16.410858   174.746094   51314.923297    15169.470172   \n",
       "2   2017-05-17T16:10:19.025207   174.746094   51314.923297    15169.470172   \n",
       "3   2017-05-17T16:10:21.589362   174.746094   51314.923297    15169.470172   \n",
       "4   2017-05-17T16:10:24.068960   174.746094   51314.923297    15169.470172   \n",
       "5   2017-05-17T16:10:27.095086   174.746094   51314.923297    15169.470172   \n",
       "6   2017-05-17T16:10:29.824832   174.746094   51314.923297    15169.470172   \n",
       "7   2017-05-17T16:10:32.738553   174.746094   51314.923297    15169.470172   \n",
       "8   2017-05-17T16:10:35.529418   174.746094   51314.923297    15169.470172   \n",
       "9   2017-05-17T16:10:38.386064   174.746094   51314.923297    15169.470172   \n",
       "10  2017-05-17T16:10:42.295168   174.746094   51314.923297    15169.470172   \n",
       "11  2017-05-17T16:10:45.686847   174.746094   51314.923297    15169.470172   \n",
       "12  2017-05-17T16:10:49.499617   174.746094   51314.923297    15169.470172   \n",
       "13  2017-05-17T16:10:53.247350   174.746094   51314.923297    15169.470172   \n",
       "14  2017-05-17T16:10:57.856416   174.746094   51314.923297    15169.470172   \n",
       "15  2017-05-17T16:11:02.670812   174.746094   51314.923297    15169.470172   \n",
       "16  2017-05-17T16:11:06.948759   174.746094   51314.923297    15169.470172   \n",
       "17  2017-05-17T16:11:11.422306   174.746094   51314.923297    15169.470172   \n",
       "18  2017-05-17T16:11:15.730129   174.746094   51314.923297    15169.470172   \n",
       "19  2017-05-17T16:11:19.917564   174.746094   51314.923297    15169.470172   \n",
       "20  2017-05-17T16:11:26.723314   174.746094   51314.923297    15169.470172   \n",
       "21  2017-05-17T16:11:32.272769   174.746094   51314.923297    15169.470172   \n",
       "22  2017-05-17T16:11:38.236276   174.746094   51314.923297    15169.470172   \n",
       "23  2017-05-17T16:11:44.498728   174.746094   51314.923297    15169.470172   \n",
       "24  2017-05-17T16:11:51.058323   174.746094   51314.923297    15169.470172   \n",
       "25  2017-05-17T16:12:00.229881   174.746094   51314.923297    15169.470172   \n",
       "26  2017-05-17T16:12:07.660467   174.746094   51314.923297    15169.470172   \n",
       "27  2017-05-17T16:12:15.755577   174.746094   51314.923297    15169.470172   \n",
       "28  2017-05-17T16:12:25.192324   174.746094   51314.923297    15169.470172   \n",
       "29  2017-05-17T16:12:33.112385   174.746094   51314.923297    15169.470172   \n",
       "30  2017-05-17T16:12:45.726953   174.746094   51314.923297    15169.470172   \n",
       "31  2017-05-17T16:12:56.280553   174.746094   51314.923297    15169.470172   \n",
       "32  2017-05-17T16:13:08.355220   174.746094   51314.923297    15169.470172   \n",
       "33  2017-05-17T16:13:19.696499   174.746094   51314.923297    15169.470172   \n",
       "34  2017-05-17T16:13:31.616901   174.746094   51314.923297    15169.470172   \n",
       "\n",
       "    area volume [mm^3]  count []  numeric volume [mm^3]  \\\n",
       "0            1100000.0      10.0           41119.575512   \n",
       "1            1100000.0      10.0           53720.070202   \n",
       "2            1100000.0      10.0           44652.780386   \n",
       "3            1100000.0      10.0           48910.073188   \n",
       "4            1100000.0      10.0           47059.210286   \n",
       "5            1100000.0      10.0           45400.532803   \n",
       "6            1100000.0      10.0           52488.034850   \n",
       "7            1100000.0      10.0           47550.177952   \n",
       "8            1100000.0      10.0           49936.406098   \n",
       "9            1100000.0      10.0           48829.729909   \n",
       "10           1100000.0      10.0           47518.695387   \n",
       "11           1100000.0      10.0           52046.257812   \n",
       "12           1100000.0      10.0           48932.887887   \n",
       "13           1100000.0      10.0           50453.745610   \n",
       "14           1100000.0      10.0           49727.317135   \n",
       "15           1100000.0      10.0           48645.715900   \n",
       "16           1100000.0      10.0           51799.652096   \n",
       "17           1100000.0      10.0           49652.127424   \n",
       "18           1100000.0      10.0           50711.058669   \n",
       "19           1100000.0      10.0           50197.193638   \n",
       "20           1100000.0      10.0           49811.810913   \n",
       "21           1100000.0      10.0           51582.139436   \n",
       "22           1100000.0      10.0           50382.943882   \n",
       "23           1100000.0      10.0           50973.514547   \n",
       "24           1100000.0      10.0           50685.108030   \n",
       "25           1100000.0      10.0           50342.169807   \n",
       "26           1100000.0      10.0           51485.243913   \n",
       "27           1100000.0      10.0           50720.212244   \n",
       "28           1100000.0      10.0           51100.423265   \n",
       "29           1100000.0      10.0           50912.350221   \n",
       "30           1100000.0      10.0           50696.958471   \n",
       "31           1100000.0      10.0           51424.404921   \n",
       "32           1100000.0      10.0           50936.369698   \n",
       "33           1100000.0      10.0           51174.350902   \n",
       "34           1100000.0      10.0           51059.612165   \n",
       "\n",
       "    numeric surface [mm^2]  length d. [mm^-2]  volume d. []  \\\n",
       "0             14162.654498           0.000159       0.04665   \n",
       "1             16805.670338           0.000159       0.04665   \n",
       "2             14904.779950           0.000159       0.04665   \n",
       "3             15801.267461           0.000159       0.04665   \n",
       "4             15411.214032           0.000159       0.04665   \n",
       "5             14525.978490           0.000159       0.04665   \n",
       "6             15979.590915           0.000159       0.04665   \n",
       "7             14963.954013           0.000159       0.04665   \n",
       "8             15454.899990           0.000159       0.04665   \n",
       "9             15226.945610           0.000159       0.04665   \n",
       "10            14800.744201           0.000159       0.04665   \n",
       "11            15699.848640           0.000159       0.04665   \n",
       "12            15073.517324           0.000159       0.04665   \n",
       "13            15374.901460           0.000159       0.04665   \n",
       "14            15229.544172           0.000159       0.04665   \n",
       "15            14886.698391           0.000159       0.04665   \n",
       "16            15520.009330           0.000159       0.04665   \n",
       "17            15084.741124           0.000159       0.04665   \n",
       "18            15297.647971           0.000159       0.04665   \n",
       "19            15194.000071           0.000159       0.04665   \n",
       "20            15011.019481           0.000159       0.04665   \n",
       "21            15366.184418           0.000159       0.04665   \n",
       "22            15124.183948           0.000159       0.04665   \n",
       "23            15242.991109           0.000159       0.04665   \n",
       "24            15184.436811           0.000159       0.04665   \n",
       "25            15066.531963           0.000159       0.04665   \n",
       "26            15292.562232           0.000159       0.04665   \n",
       "27            15138.849367           0.000159       0.04665   \n",
       "28            15214.390715           0.000159       0.04665   \n",
       "29            15176.779032           0.000159       0.04665   \n",
       "30            15106.720868           0.000159       0.04665   \n",
       "31            15249.932839           0.000159       0.04665   \n",
       "32            15152.039369           0.000159       0.04665   \n",
       "33            15199.974067           0.000159       0.04665   \n",
       "34            15176.013738           0.000159       0.04665   \n",
       "\n",
       "               ...               postprocessing limit_negative_intensities  \\\n",
       "0              ...                                                    True   \n",
       "1              ...                                                    True   \n",
       "2              ...                                                    True   \n",
       "3              ...                                                    True   \n",
       "4              ...                                                    True   \n",
       "5              ...                                                    True   \n",
       "6              ...                                                    True   \n",
       "7              ...                                                    True   \n",
       "8              ...                                                    True   \n",
       "9              ...                                                    True   \n",
       "10             ...                                                    True   \n",
       "11             ...                                                    True   \n",
       "12             ...                                                    True   \n",
       "13             ...                                                    True   \n",
       "14             ...                                                    True   \n",
       "15             ...                                                    True   \n",
       "16             ...                                                    True   \n",
       "17             ...                                                    True   \n",
       "18             ...                                                    True   \n",
       "19             ...                                                    True   \n",
       "20             ...                                                    True   \n",
       "21             ...                                                    True   \n",
       "22             ...                                                    True   \n",
       "23             ...                                                    True   \n",
       "24             ...                                                    True   \n",
       "25             ...                                                    True   \n",
       "26             ...                                                    True   \n",
       "27             ...                                                    True   \n",
       "28             ...                                                    True   \n",
       "29             ...                                                    True   \n",
       "30             ...                                                    True   \n",
       "31             ...                                                    True   \n",
       "32             ...                                                    True   \n",
       "33             ...                                                    True   \n",
       "34             ...                                                    True   \n",
       "\n",
       "    postprocessing measurement_resolution  postprocessing negative  \\\n",
       "0                                       6                    False   \n",
       "1                                       6                    False   \n",
       "2                                       6                    False   \n",
       "3                                       6                    False   \n",
       "4                                       6                    False   \n",
       "5                                       8                    False   \n",
       "6                                       8                    False   \n",
       "7                                       8                    False   \n",
       "8                                       8                    False   \n",
       "9                                       8                    False   \n",
       "10                                     10                    False   \n",
       "11                                     10                    False   \n",
       "12                                     10                    False   \n",
       "13                                     10                    False   \n",
       "14                                     10                    False   \n",
       "15                                     12                    False   \n",
       "16                                     12                    False   \n",
       "17                                     12                    False   \n",
       "18                                     12                    False   \n",
       "19                                     12                    False   \n",
       "20                                     16                    False   \n",
       "21                                     16                    False   \n",
       "22                                     16                    False   \n",
       "23                                     16                    False   \n",
       "24                                     16                    False   \n",
       "25                                     20                    False   \n",
       "26                                     20                    False   \n",
       "27                                     20                    False   \n",
       "28                                     20                    False   \n",
       "29                                     20                    False   \n",
       "30                                     25                    False   \n",
       "31                                     25                    False   \n",
       "32                                     25                    False   \n",
       "33                                     25                    False   \n",
       "34                                     25                    False   \n",
       "\n",
       "    postprocessing noise_amplitude postprocessing noise_exponent  \\\n",
       "0                             40.0                        0.0001   \n",
       "1                             40.0                        0.0001   \n",
       "2                             40.0                        0.0001   \n",
       "3                             40.0                        0.0001   \n",
       "4                             40.0                        0.0001   \n",
       "5                             40.0                        0.0001   \n",
       "6                             40.0                        0.0001   \n",
       "7                             40.0                        0.0001   \n",
       "8                             40.0                        0.0001   \n",
       "9                             40.0                        0.0001   \n",
       "10                            40.0                        0.0001   \n",
       "11                            40.0                        0.0001   \n",
       "12                            40.0                        0.0001   \n",
       "13                            40.0                        0.0001   \n",
       "14                            40.0                        0.0001   \n",
       "15                            40.0                        0.0001   \n",
       "16                            40.0                        0.0001   \n",
       "17                            40.0                        0.0001   \n",
       "18                            40.0                        0.0001   \n",
       "19                            40.0                        0.0001   \n",
       "20                            40.0                        0.0001   \n",
       "21                            40.0                        0.0001   \n",
       "22                            40.0                        0.0001   \n",
       "23                            40.0                        0.0001   \n",
       "24                            40.0                        0.0001   \n",
       "25                            40.0                        0.0001   \n",
       "26                            40.0                        0.0001   \n",
       "27                            40.0                        0.0001   \n",
       "28                            40.0                        0.0001   \n",
       "29                            40.0                        0.0001   \n",
       "30                            40.0                        0.0001   \n",
       "31                            40.0                        0.0001   \n",
       "32                            40.0                        0.0001   \n",
       "33                            40.0                        0.0001   \n",
       "34                            40.0                        0.0001   \n",
       "\n",
       "   postprocessing noise_lambda_start postprocessing noise_lambda_stop  \\\n",
       "0                                0.1                              3.0   \n",
       "1                                0.1                              3.0   \n",
       "2                                0.1                              3.0   \n",
       "3                                0.1                              3.0   \n",
       "4                                0.1                              3.0   \n",
       "5                                0.1                              3.0   \n",
       "6                                0.1                              3.0   \n",
       "7                                0.1                              3.0   \n",
       "8                                0.1                              3.0   \n",
       "9                                0.1                              3.0   \n",
       "10                               0.1                              3.0   \n",
       "11                               0.1                              3.0   \n",
       "12                               0.1                              3.0   \n",
       "13                               0.1                              3.0   \n",
       "14                               0.1                              3.0   \n",
       "15                               0.1                              3.0   \n",
       "16                               0.1                              3.0   \n",
       "17                               0.1                              3.0   \n",
       "18                               0.1                              3.0   \n",
       "19                               0.1                              3.0   \n",
       "20                               0.1                              3.0   \n",
       "21                               0.1                              3.0   \n",
       "22                               0.1                              3.0   \n",
       "23                               0.1                              3.0   \n",
       "24                               0.1                              3.0   \n",
       "25                               0.1                              3.0   \n",
       "26                               0.1                              3.0   \n",
       "27                               0.1                              3.0   \n",
       "28                               0.1                              3.0   \n",
       "29                               0.1                              3.0   \n",
       "30                               0.1                              3.0   \n",
       "31                               0.1                              3.0   \n",
       "32                               0.1                              3.0   \n",
       "33                               0.1                              3.0   \n",
       "34                               0.1                              3.0   \n",
       "\n",
       "   postprocessing noise_mean  postprocessing noise_rng_seed  \\\n",
       "0                       30.0                              0   \n",
       "1                       30.0                              0   \n",
       "2                       30.0                              0   \n",
       "3                       30.0                              0   \n",
       "4                       30.0                              0   \n",
       "5                       30.0                              0   \n",
       "6                       30.0                              0   \n",
       "7                       30.0                              0   \n",
       "8                       30.0                              0   \n",
       "9                       30.0                              0   \n",
       "10                      30.0                              0   \n",
       "11                      30.0                              0   \n",
       "12                      30.0                              0   \n",
       "13                      30.0                              0   \n",
       "14                      30.0                              0   \n",
       "15                      30.0                              0   \n",
       "16                      30.0                              0   \n",
       "17                      30.0                              0   \n",
       "18                      30.0                              0   \n",
       "19                      30.0                              0   \n",
       "20                      30.0                              0   \n",
       "21                      30.0                              0   \n",
       "22                      30.0                              0   \n",
       "23                      30.0                              0   \n",
       "24                      30.0                              0   \n",
       "25                      30.0                              0   \n",
       "26                      30.0                              0   \n",
       "27                      30.0                              0   \n",
       "28                      30.0                              0   \n",
       "29                      30.0                              0   \n",
       "30                      30.0                              0   \n",
       "31                      30.0                              0   \n",
       "32                      30.0                              0   \n",
       "33                      30.0                              0   \n",
       "34                      30.0                              0   \n",
       "\n",
       "    postprocessing output_dtype  \n",
       "0                         uint8  \n",
       "1                         uint8  \n",
       "2                         uint8  \n",
       "3                         uint8  \n",
       "4                         uint8  \n",
       "5                         uint8  \n",
       "6                         uint8  \n",
       "7                         uint8  \n",
       "8                         uint8  \n",
       "9                         uint8  \n",
       "10                        uint8  \n",
       "11                        uint8  \n",
       "12                        uint8  \n",
       "13                        uint8  \n",
       "14                        uint8  \n",
       "15                        uint8  \n",
       "16                        uint8  \n",
       "17                        uint8  \n",
       "18                        uint8  \n",
       "19                        uint8  \n",
       "20                        uint8  \n",
       "21                        uint8  \n",
       "22                        uint8  \n",
       "23                        uint8  \n",
       "24                        uint8  \n",
       "25                        uint8  \n",
       "26                        uint8  \n",
       "27                        uint8  \n",
       "28                        uint8  \n",
       "29                        uint8  \n",
       "30                        uint8  \n",
       "31                        uint8  \n",
       "32                        uint8  \n",
       "33                        uint8  \n",
       "34                        uint8  \n",
       "\n",
       "[35 rows x 77 columns]"
      ]
     },
     "execution_count": 84,
     "metadata": {},
     "output_type": "execute_result"
    }
   ],
   "source": [
    "df"
   ]
  },
  {
   "cell_type": "code",
   "execution_count": 154,
   "metadata": {
    "collapsed": true
   },
   "outputs": [],
   "source": [
    "\n",
    "df = pd.read_csv(op.expanduser(datapath))\n",
    "df[\"surface error [mm^2]\"] = df[\"numeric surface [mm^2]\"] - df[\"surface [mm^2]\"]\n",
    "df[\"surface error [%]\"] = df[\"surface error [mm^2]\"] / df[\"surface [mm^2]\"] * 100\n",
    "df[\"volume error [mm^3]\"] = df[\"numeric volume [mm^3]\"] - df[\"volume [mm^3]\"]\n",
    "df[\"volume error [%]\"] = df[\"volume error [mm^3]\"] / df[\"volume [mm^3]\"] * 100\n",
    "df[\"measurement_resolution\"] = df[\"postprocessing measurement_resolution\"]\n",
    "df[\"length_distribution_mean\"] = df[\"generators Unconnected tubes length_distribution_mean\"]\n"
   ]
  },
  {
   "cell_type": "markdown",
   "metadata": {
    "deletable": true,
    "editable": true
   },
   "source": [
    "# Numeric measurement precision (element_numer = 20, length_mean = 15)"
   ]
  },
  {
   "cell_type": "code",
   "execution_count": 86,
   "metadata": {
    "collapsed": false,
    "deletable": true,
    "editable": true
   },
   "outputs": [
    {
     "ename": "TypeError",
     "evalue": "Empty 'DataFrame': no numeric data to plot",
     "output_type": "error",
     "traceback": [
      "\u001b[0;31m---------------------------------------------------------------------------\u001b[0m",
      "\u001b[0;31mTypeError\u001b[0m                                 Traceback (most recent call last)",
      "\u001b[0;32m<ipython-input-86-65167c0ded92>\u001b[0m in \u001b[0;36m<module>\u001b[0;34m()\u001b[0m\n\u001b[1;32m     14\u001b[0m     \"measurement_resolution\")\n\u001b[1;32m     15\u001b[0m dfsp.plot(\n\u001b[0;32m---> 16\u001b[0;31m     x=\"measurement_resolution\", **plotkw)\n\u001b[0m\u001b[1;32m     17\u001b[0m \u001b[0mdfsp\u001b[0m\u001b[0;34m\u001b[0m\u001b[0m\n",
      "\u001b[0;32m/Users/mjirik/miniconda/lib/python2.7/site-packages/pandas/plotting/_core.pyc\u001b[0m in \u001b[0;36m__call__\u001b[0;34m(self, x, y, kind, ax, subplots, sharex, sharey, layout, figsize, use_index, title, grid, legend, style, logx, logy, loglog, xticks, yticks, xlim, ylim, rot, fontsize, colormap, table, yerr, xerr, secondary_y, sort_columns, **kwds)\u001b[0m\n\u001b[1;32m   2618\u001b[0m                           \u001b[0mfontsize\u001b[0m\u001b[0;34m=\u001b[0m\u001b[0mfontsize\u001b[0m\u001b[0;34m,\u001b[0m \u001b[0mcolormap\u001b[0m\u001b[0;34m=\u001b[0m\u001b[0mcolormap\u001b[0m\u001b[0;34m,\u001b[0m \u001b[0mtable\u001b[0m\u001b[0;34m=\u001b[0m\u001b[0mtable\u001b[0m\u001b[0;34m,\u001b[0m\u001b[0;34m\u001b[0m\u001b[0m\n\u001b[1;32m   2619\u001b[0m                           \u001b[0myerr\u001b[0m\u001b[0;34m=\u001b[0m\u001b[0myerr\u001b[0m\u001b[0;34m,\u001b[0m \u001b[0mxerr\u001b[0m\u001b[0;34m=\u001b[0m\u001b[0mxerr\u001b[0m\u001b[0;34m,\u001b[0m \u001b[0msecondary_y\u001b[0m\u001b[0;34m=\u001b[0m\u001b[0msecondary_y\u001b[0m\u001b[0;34m,\u001b[0m\u001b[0;34m\u001b[0m\u001b[0m\n\u001b[0;32m-> 2620\u001b[0;31m                           sort_columns=sort_columns, **kwds)\n\u001b[0m\u001b[1;32m   2621\u001b[0m     \u001b[0m__call__\u001b[0m\u001b[0;34m.\u001b[0m\u001b[0m__doc__\u001b[0m \u001b[0;34m=\u001b[0m \u001b[0mplot_frame\u001b[0m\u001b[0;34m.\u001b[0m\u001b[0m__doc__\u001b[0m\u001b[0;34m\u001b[0m\u001b[0m\n\u001b[1;32m   2622\u001b[0m \u001b[0;34m\u001b[0m\u001b[0m\n",
      "\u001b[0;32m/Users/mjirik/miniconda/lib/python2.7/site-packages/pandas/plotting/_core.pyc\u001b[0m in \u001b[0;36mplot_frame\u001b[0;34m(data, x, y, kind, ax, subplots, sharex, sharey, layout, figsize, use_index, title, grid, legend, style, logx, logy, loglog, xticks, yticks, xlim, ylim, rot, fontsize, colormap, table, yerr, xerr, secondary_y, sort_columns, **kwds)\u001b[0m\n\u001b[1;32m   1855\u001b[0m                  \u001b[0myerr\u001b[0m\u001b[0;34m=\u001b[0m\u001b[0myerr\u001b[0m\u001b[0;34m,\u001b[0m \u001b[0mxerr\u001b[0m\u001b[0;34m=\u001b[0m\u001b[0mxerr\u001b[0m\u001b[0;34m,\u001b[0m\u001b[0;34m\u001b[0m\u001b[0m\n\u001b[1;32m   1856\u001b[0m                  \u001b[0msecondary_y\u001b[0m\u001b[0;34m=\u001b[0m\u001b[0msecondary_y\u001b[0m\u001b[0;34m,\u001b[0m \u001b[0msort_columns\u001b[0m\u001b[0;34m=\u001b[0m\u001b[0msort_columns\u001b[0m\u001b[0;34m,\u001b[0m\u001b[0;34m\u001b[0m\u001b[0m\n\u001b[0;32m-> 1857\u001b[0;31m                  **kwds)\n\u001b[0m\u001b[1;32m   1858\u001b[0m \u001b[0;34m\u001b[0m\u001b[0m\n\u001b[1;32m   1859\u001b[0m \u001b[0;34m\u001b[0m\u001b[0m\n",
      "\u001b[0;32m/Users/mjirik/miniconda/lib/python2.7/site-packages/pandas/plotting/_core.pyc\u001b[0m in \u001b[0;36m_plot\u001b[0;34m(data, x, y, subplots, ax, kind, **kwds)\u001b[0m\n\u001b[1;32m   1680\u001b[0m         \u001b[0mplot_obj\u001b[0m \u001b[0;34m=\u001b[0m \u001b[0mklass\u001b[0m\u001b[0;34m(\u001b[0m\u001b[0mdata\u001b[0m\u001b[0;34m,\u001b[0m \u001b[0msubplots\u001b[0m\u001b[0;34m=\u001b[0m\u001b[0msubplots\u001b[0m\u001b[0;34m,\u001b[0m \u001b[0max\u001b[0m\u001b[0;34m=\u001b[0m\u001b[0max\u001b[0m\u001b[0;34m,\u001b[0m \u001b[0mkind\u001b[0m\u001b[0;34m=\u001b[0m\u001b[0mkind\u001b[0m\u001b[0;34m,\u001b[0m \u001b[0;34m**\u001b[0m\u001b[0mkwds\u001b[0m\u001b[0;34m)\u001b[0m\u001b[0;34m\u001b[0m\u001b[0m\n\u001b[1;32m   1681\u001b[0m \u001b[0;34m\u001b[0m\u001b[0m\n\u001b[0;32m-> 1682\u001b[0;31m     \u001b[0mplot_obj\u001b[0m\u001b[0;34m.\u001b[0m\u001b[0mgenerate\u001b[0m\u001b[0;34m(\u001b[0m\u001b[0;34m)\u001b[0m\u001b[0;34m\u001b[0m\u001b[0m\n\u001b[0m\u001b[1;32m   1683\u001b[0m     \u001b[0mplot_obj\u001b[0m\u001b[0;34m.\u001b[0m\u001b[0mdraw\u001b[0m\u001b[0;34m(\u001b[0m\u001b[0;34m)\u001b[0m\u001b[0;34m\u001b[0m\u001b[0m\n\u001b[1;32m   1684\u001b[0m     \u001b[0;32mreturn\u001b[0m \u001b[0mplot_obj\u001b[0m\u001b[0;34m.\u001b[0m\u001b[0mresult\u001b[0m\u001b[0;34m\u001b[0m\u001b[0m\n",
      "\u001b[0;32m/Users/mjirik/miniconda/lib/python2.7/site-packages/pandas/plotting/_core.pyc\u001b[0m in \u001b[0;36mgenerate\u001b[0;34m(self)\u001b[0m\n\u001b[1;32m    234\u001b[0m     \u001b[0;32mdef\u001b[0m \u001b[0mgenerate\u001b[0m\u001b[0;34m(\u001b[0m\u001b[0mself\u001b[0m\u001b[0;34m)\u001b[0m\u001b[0;34m:\u001b[0m\u001b[0;34m\u001b[0m\u001b[0m\n\u001b[1;32m    235\u001b[0m         \u001b[0mself\u001b[0m\u001b[0;34m.\u001b[0m\u001b[0m_args_adjust\u001b[0m\u001b[0;34m(\u001b[0m\u001b[0;34m)\u001b[0m\u001b[0;34m\u001b[0m\u001b[0m\n\u001b[0;32m--> 236\u001b[0;31m         \u001b[0mself\u001b[0m\u001b[0;34m.\u001b[0m\u001b[0m_compute_plot_data\u001b[0m\u001b[0;34m(\u001b[0m\u001b[0;34m)\u001b[0m\u001b[0;34m\u001b[0m\u001b[0m\n\u001b[0m\u001b[1;32m    237\u001b[0m         \u001b[0mself\u001b[0m\u001b[0;34m.\u001b[0m\u001b[0m_setup_subplots\u001b[0m\u001b[0;34m(\u001b[0m\u001b[0;34m)\u001b[0m\u001b[0;34m\u001b[0m\u001b[0m\n\u001b[1;32m    238\u001b[0m         \u001b[0mself\u001b[0m\u001b[0;34m.\u001b[0m\u001b[0m_make_plot\u001b[0m\u001b[0;34m(\u001b[0m\u001b[0;34m)\u001b[0m\u001b[0;34m\u001b[0m\u001b[0m\n",
      "\u001b[0;32m/Users/mjirik/miniconda/lib/python2.7/site-packages/pandas/plotting/_core.pyc\u001b[0m in \u001b[0;36m_compute_plot_data\u001b[0;34m(self)\u001b[0m\n\u001b[1;32m    343\u001b[0m         \u001b[0;32mif\u001b[0m \u001b[0mis_empty\u001b[0m\u001b[0;34m:\u001b[0m\u001b[0;34m\u001b[0m\u001b[0m\n\u001b[1;32m    344\u001b[0m             raise TypeError('Empty {0!r}: no numeric data to '\n\u001b[0;32m--> 345\u001b[0;31m                             'plot'.format(numeric_data.__class__.__name__))\n\u001b[0m\u001b[1;32m    346\u001b[0m \u001b[0;34m\u001b[0m\u001b[0m\n\u001b[1;32m    347\u001b[0m         \u001b[0mself\u001b[0m\u001b[0;34m.\u001b[0m\u001b[0mdata\u001b[0m \u001b[0;34m=\u001b[0m \u001b[0mnumeric_data\u001b[0m\u001b[0;34m\u001b[0m\u001b[0m\n",
      "\u001b[0;31mTypeError\u001b[0m: Empty 'DataFrame': no numeric data to plot"
     ]
    }
   ],
   "source": [
    "\n",
    "dfs = df[\n",
    "    df[\"output note\"] == \"resolution sphere\"\n",
    "    # df[\"generators Unconnected cylinders radius_distribution_mean\"] == 5 \n",
    "]\n",
    "dfsp = dfs[[\"surface error [%]\", \"volume error [%]\", \"measurement_resolution\"]].sort_values(\n",
    "    \"measurement_resolution\")\n",
    "dfsp.plot(\n",
    "    x=\"measurement_resolution\", **plotkw)\n",
    "dfsp"
   ]
  },
  {
   "cell_type": "code",
   "execution_count": null,
   "metadata": {
    "collapsed": false,
    "deletable": true,
    "editable": true
   },
   "outputs": [],
   "source": [
    "\n",
    "sns.factorplot(\"measurement_resolution\", \"surface error [%]\", data=dfs)#.set(ylim=(0, 1))"
   ]
  },
  {
   "cell_type": "code",
   "execution_count": null,
   "metadata": {
    "collapsed": false,
    "deletable": true,
    "editable": true
   },
   "outputs": [],
   "source": [
    "\n",
    "sns.lmplot(\"measurement_resolution\", \"surface error [%]\", data=dfs)#.set(ylim=(0, 1))"
   ]
  },
  {
   "cell_type": "code",
   "execution_count": 141,
   "metadata": {
    "collapsed": false,
    "deletable": true,
    "editable": true
   },
   "outputs": [
    {
     "data": {
      "text/plain": [
       "<matplotlib.axes._subplots.AxesSubplot at 0x10ca533d0>"
      ]
     },
     "execution_count": 141,
     "metadata": {},
     "output_type": "execute_result"
    },
    {
     "data": {
      "image/png": "[encoded data removed]",
      "text/plain": [
       "<matplotlib.figure.Figure at 0x10d232610>"
      ]
     },
     "metadata": {},
     "output_type": "display_data"
    }
   ],
   "source": [
    "dfs = df[\n",
    "    df[\"output note\"] == \"resolution tube\"\n",
    "    # df[\"generators Unconnected cylinders radius_distribution_mean\"] == 5 \n",
    "]\n",
    "dfsp = dfs[[\"surface error [%]\", \"volume error [%]\", \"measurement_resolution\"]].sort_values(\n",
    "    \"measurement_resolution\")\n",
    "dfsp.plot(\n",
    "    x=\"measurement_resolution\", **plotkw)\n",
    "# dfsp"
   ]
  },
  {
   "cell_type": "code",
   "execution_count": null,
   "metadata": {
    "collapsed": false,
    "deletable": true,
    "editable": true
   },
   "outputs": [],
   "source": [
    "# df = pd.read_csv(op.expanduser(datapath))\n",
    "# df[\"surface error [mm^2]\"] = np.abs(df[\"numeric surface [mm^2]\"] - df[\"surface [mm^2]\"])\n",
    "# df[\"surface error [%]\"] = df[\"surface error [mm^2]\"] / df[\"surface [mm^2]\"] * 100\n",
    "# df[\"volume error [mm^3]\"] = np.abs(df[\"numeric volume [mm^3]\"] - df[\"volume [mm^3]\"])\n",
    "# df[\"volume error [%]\"] = df[\"volume error [mm^3]\"] / df[\"volume [mm^3]\"] * 100\n",
    "# df[\"measurement_resolution\"] = df[\"postprocessing measurement_resolution\"]\n",
    "dfs = df[\n",
    "    df[\"output note\"] == \"tube length\"\n",
    "    # df[\"generators Unconnected cylinders radius_distribution_mean\"] == 5 \n",
    "]\n",
    "dfsp = dfs[[\"surface error [%]\", \"volume error [%]\", \"length_distribution_mean\"]].sort_values(\n",
    "    \"length_distribution_mean\")\n",
    "dfsp.plot(\n",
    "    x=\"length_distribution_mean\", **plotkw)\n",
    "dfsp"
   ]
  },
  {
   "cell_type": "code",
   "execution_count": null,
   "metadata": {
    "collapsed": true,
    "deletable": true,
    "editable": true
   },
   "outputs": [],
   "source": [
    "import seaborn as sns"
   ]
  },
  {
   "cell_type": "code",
   "execution_count": null,
   "metadata": {
    "collapsed": false,
    "deletable": true,
    "editable": true
   },
   "outputs": [],
   "source": [
    "pd.__path__"
   ]
  },
  {
   "cell_type": "code",
   "execution_count": null,
   "metadata": {
    "collapsed": false,
    "deletable": true,
    "editable": true
   },
   "outputs": [],
   "source": [
    "pd.__version__"
   ]
  },
  {
   "cell_type": "code",
   "execution_count": 134,
   "metadata": {
    "collapsed": false,
    "deletable": true,
    "editable": true
   },
   "outputs": [
    {
     "data": {
      "text/plain": [
       "0           compensation method 1 tube cylinder surface\n",
       "1            compensation method 1 tube cylinder volume\n",
       "2     compensation method 1 tube cylinder volume + s...\n",
       "3           compensation method 1 tube cylinder surface\n",
       "4            compensation method 1 tube cylinder volume\n",
       "5     compensation method 1 tube cylinder volume + s...\n",
       "6           compensation method 1 tube cylinder surface\n",
       "7            compensation method 1 tube cylinder volume\n",
       "8     compensation method 1 tube cylinder volume + s...\n",
       "9           compensation method 1 tube cylinder surface\n",
       "10           compensation method 1 tube cylinder volume\n",
       "11    compensation method 1 tube cylinder volume + s...\n",
       "12          compensation method 1 tube cylinder surface\n",
       "13           compensation method 1 tube cylinder volume\n",
       "14    compensation method 1 tube cylinder volume + s...\n",
       "15          compensation method 1 tube cylinder surface\n",
       "16           compensation method 1 tube cylinder volume\n",
       "17    compensation method 1 tube cylinder volume + s...\n",
       "18          compensation method 1 tube cylinder surface\n",
       "19           compensation method 1 tube cylinder volume\n",
       "20    compensation method 1 tube cylinder volume + s...\n",
       "21          compensation method 1 tube cylinder surface\n",
       "22           compensation method 1 tube cylinder volume\n",
       "23    compensation method 1 tube cylinder volume + s...\n",
       "24          compensation method 1 tube cylinder surface\n",
       "25           compensation method 1 tube cylinder volume\n",
       "26    compensation method 1 tube cylinder volume + s...\n",
       "27          compensation method 1 tube cylinder surface\n",
       "28           compensation method 1 tube cylinder volume\n",
       "29    compensation method 1 tube cylinder volume + s...\n",
       "30          compensation method 1 tube cylinder surface\n",
       "31           compensation method 1 tube cylinder volume\n",
       "32    compensation method 1 tube cylinder volume + s...\n",
       "Name: output note, dtype: object"
      ]
     },
     "execution_count": 134,
     "metadata": {},
     "output_type": "execute_result"
    }
   ],
   "source": [
    "## element_number = 10, \n",
    "df[\"output note\"]"
   ]
  },
  {
   "cell_type": "markdown",
   "metadata": {},
   "source": [
    "## Compensation methods"
   ]
  },
  {
   "cell_type": "markdown",
   "metadata": {},
   "source": [
    "### 1 sphere"
   ]
  },
  {
   "cell_type": "code",
   "execution_count": 123,
   "metadata": {
    "collapsed": false,
    "deletable": true,
    "editable": true,
    "scrolled": false
   },
   "outputs": [
    {
     "data": {
      "image/png": "[encoded data removed]",
      "text/plain": [
       "<matplotlib.figure.Figure at 0x10f153550>"
      ]
     },
     "metadata": {},
     "output_type": "display_data"
    },
    {
     "data": {
      "image/png": "[encoded data removed]",
      "text/plain": [
       "<matplotlib.figure.Figure at 0x10fe716d0>"
      ]
     },
     "metadata": {},
     "output_type": "display_data"
    },
    {
     "data": {
      "image/png": "[encoded data removed]",
      "text/plain": [
       "<matplotlib.figure.Figure at 0x10f891950>"
      ]
     },
     "metadata": {},
     "output_type": "display_data"
    },
    {
     "data": {
      "image/png": "[encoded data removed]",
      "text/plain": [
       "<matplotlib.figure.Figure at 0x10ea45690>"
      ]
     },
     "metadata": {},
     "output_type": "display_data"
    },
    {
     "data": {
      "image/png": "[encoded data removed]",
      "text/plain": [
       "<matplotlib.figure.Figure at 0x10c91dbd0>"
      ]
     },
     "metadata": {},
     "output_type": "display_data"
    },
    {
     "data": {
      "image/png": "[encoded data removed]",
      "text/plain": [
       "<matplotlib.figure.Figure at 0x10e616310>"
      ]
     },
     "metadata": {},
     "output_type": "display_data"
    }
   ],
   "source": [
    "for radius_method in [\"inscribed\", \"circumscribed\", \"cylinder surface\", \"cylinder volume\", \"average\", \"cylinder volume + sphere compensation\"]:\n",
    "        \n",
    "    dfs = df[\n",
    "        df[\"output note\"] == \"compensation method 1 sphere \" + radius_method\n",
    "        # df[\"generators Unconnected cylinders radius_distribution_mean\"] == 5 \n",
    "    ]\n",
    "    \n",
    "    dfsp = dfs[[\"surface error [%]\", \"volume error [%]\", \"measurement_resolution\"]].sort_values(\n",
    "        \"measurement_resolution\")\n",
    "    \n",
    "    fig = plt.figure(figsize=[25, 18])\n",
    "    ax = plt.subplot(121)\n",
    "    dfsp.plot(\n",
    "        ax=ax, x=\"measurement_resolution\", **plotkw)\n",
    "    ax = plt.subplot(122)\n",
    "    dfsp[[\"surface error [%]\", \"volume error [%]\"]].plot(\n",
    "        ax=ax, kind=\"box\", **plotkw)\n",
    "    plt.suptitle(radius_method)\n"
   ]
  },
  {
   "cell_type": "markdown",
   "metadata": {},
   "source": [
    "### 1 tube"
   ]
  },
  {
   "cell_type": "code",
   "execution_count": 140,
   "metadata": {
    "collapsed": false,
    "scrolled": false
   },
   "outputs": [
    {
     "data": {
      "image/png": "[encoded data removed]",
      "text/plain": [
       "<matplotlib.figure.Figure at 0x10e7ccf10>"
      ]
     },
     "metadata": {},
     "output_type": "display_data"
    }
   ],
   "source": [
    "for radius_method in [\"cylinder volume + sphere compensation\"]:\n",
    "        \n",
    "    dfs = df[\n",
    "        df[\"output note\"] == \"compensation method 1 tube \" + radius_method\n",
    "        # df[\"generators Unconnected cylinders radius_distribution_mean\"] == 5 \n",
    "    ]\n",
    "    \n",
    "    dfsp = dfs[[\"surface error [%]\", \"volume error [%]\", \"measurement_resolution\"]].sort_values(\n",
    "        \"measurement_resolution\")\n",
    "    \n",
    "    fig = plt.figure(figsize=[25, 18])\n",
    "    ax = plt.subplot(121)\n",
    "    dfsp.plot(\n",
    "        ax=ax, x=\"measurement_resolution\", **plotkw)\n",
    "    ax = plt.subplot(122)\n",
    "    dfsp[[\"surface error [%]\", \"volume error [%]\"]].plot(\n",
    "        ax=ax, kind=\"box\", **plotkw)\n",
    "    plt.suptitle(radius_method)\n"
   ]
  },
  {
   "cell_type": "markdown",
   "metadata": {},
   "source": [
    "## 5 tubes"
   ]
  },
  {
   "cell_type": "code",
   "execution_count": 145,
   "metadata": {
    "collapsed": false,
    "deletable": true,
    "editable": true,
    "scrolled": false
   },
   "outputs": [
    {
     "data": {
      "image/png": "[encoded data removed]",
      "text/plain": [
       "<matplotlib.figure.Figure at 0x10ee577d0>"
      ]
     },
     "metadata": {},
     "output_type": "display_data"
    },
    {
     "data": {
      "image/png": "[encoded data removed]",
      "text/plain": [
       "<matplotlib.figure.Figure at 0x10edfed10>"
      ]
     },
     "metadata": {},
     "output_type": "display_data"
    },
    {
     "data": {
      "image/png": "[encoded data removed]",
      "text/plain": [
       "<matplotlib.figure.Figure at 0x105adfcd0>"
      ]
     },
     "metadata": {},
     "output_type": "display_data"
    },
    {
     "data": {
      "image/png": "[encoded data removed]",
      "text/plain": [
       "<matplotlib.figure.Figure at 0x10c9c84d0>"
      ]
     },
     "metadata": {},
     "output_type": "display_data"
    }
   ],
   "source": [
    "# for radius_method in [\"cylinder volume + sphere compensation\"]:\n",
    "for radius_method in [\"cylinder surface\", \"cylinder volume\", \"cylinder volume + sphere compensation\", \"best\"]:\n",
    "\n",
    "        \n",
    "    dfs = df[\n",
    "        df[\"output note\"] == \"compensation method 5 tubes \" + radius_method\n",
    "    ]\n",
    "    \n",
    "    dfsp = dfs[[\"surface error [%]\", \"volume error [%]\", \"measurement_resolution\"]].sort_values(\n",
    "        \"measurement_resolution\")\n",
    "    \n",
    "    fig = plt.figure(figsize=[25, 18])\n",
    "    ax = plt.subplot(121)\n",
    "    dfsp.plot(\n",
    "        ax=ax, x=\"measurement_resolution\", **plotkw)\n",
    "    ax = plt.subplot(122)\n",
    "    dfsp[[\"surface error [%]\", \"volume error [%]\"]].plot(\n",
    "        ax=ax, kind=\"box\", **plotkw)\n",
    "    plt.suptitle(radius_method)\n"
   ]
  },
  {
   "cell_type": "code",
   "execution_count": 139,
   "metadata": {
    "collapsed": false,
    "deletable": true,
    "editable": true,
    "scrolled": false
   },
   "outputs": [
    {
     "ename": "TypeError",
     "evalue": "Empty 'DataFrame': no numeric data to plot",
     "output_type": "error",
     "traceback": [
      "\u001b[0;31m---------------------------------------------------------------------------\u001b[0m",
      "\u001b[0;31mTypeError\u001b[0m                                 Traceback (most recent call last)",
      "\u001b[0;32m<ipython-input-139-8450107b5e22>\u001b[0m in \u001b[0;36m<module>\u001b[0;34m()\u001b[0m\n\u001b[1;32m     13\u001b[0m     \u001b[0max\u001b[0m \u001b[0;34m=\u001b[0m \u001b[0mplt\u001b[0m\u001b[0;34m.\u001b[0m\u001b[0msubplot\u001b[0m\u001b[0;34m(\u001b[0m\u001b[0;36m121\u001b[0m\u001b[0;34m)\u001b[0m\u001b[0;34m\u001b[0m\u001b[0m\n\u001b[1;32m     14\u001b[0m     dfsp.plot(\n\u001b[0;32m---> 15\u001b[0;31m         ax=ax, x=\"measurement_resolution\", **plotkw)\n\u001b[0m\u001b[1;32m     16\u001b[0m     \u001b[0max\u001b[0m \u001b[0;34m=\u001b[0m \u001b[0mplt\u001b[0m\u001b[0;34m.\u001b[0m\u001b[0msubplot\u001b[0m\u001b[0;34m(\u001b[0m\u001b[0;36m122\u001b[0m\u001b[0;34m)\u001b[0m\u001b[0;34m\u001b[0m\u001b[0m\n\u001b[1;32m     17\u001b[0m     dfsp[[\"surface error [%]\", \"volume error [%]\"]].plot(\n",
      "\u001b[0;32m/Users/mjirik/miniconda/lib/python2.7/site-packages/pandas/plotting/_core.pyc\u001b[0m in \u001b[0;36m__call__\u001b[0;34m(self, x, y, kind, ax, subplots, sharex, sharey, layout, figsize, use_index, title, grid, legend, style, logx, logy, loglog, xticks, yticks, xlim, ylim, rot, fontsize, colormap, table, yerr, xerr, secondary_y, sort_columns, **kwds)\u001b[0m\n\u001b[1;32m   2618\u001b[0m                           \u001b[0mfontsize\u001b[0m\u001b[0;34m=\u001b[0m\u001b[0mfontsize\u001b[0m\u001b[0;34m,\u001b[0m \u001b[0mcolormap\u001b[0m\u001b[0;34m=\u001b[0m\u001b[0mcolormap\u001b[0m\u001b[0;34m,\u001b[0m \u001b[0mtable\u001b[0m\u001b[0;34m=\u001b[0m\u001b[0mtable\u001b[0m\u001b[0;34m,\u001b[0m\u001b[0;34m\u001b[0m\u001b[0m\n\u001b[1;32m   2619\u001b[0m                           \u001b[0myerr\u001b[0m\u001b[0;34m=\u001b[0m\u001b[0myerr\u001b[0m\u001b[0;34m,\u001b[0m \u001b[0mxerr\u001b[0m\u001b[0;34m=\u001b[0m\u001b[0mxerr\u001b[0m\u001b[0;34m,\u001b[0m \u001b[0msecondary_y\u001b[0m\u001b[0;34m=\u001b[0m\u001b[0msecondary_y\u001b[0m\u001b[0;34m,\u001b[0m\u001b[0;34m\u001b[0m\u001b[0m\n\u001b[0;32m-> 2620\u001b[0;31m                           sort_columns=sort_columns, **kwds)\n\u001b[0m\u001b[1;32m   2621\u001b[0m     \u001b[0m__call__\u001b[0m\u001b[0;34m.\u001b[0m\u001b[0m__doc__\u001b[0m \u001b[0;34m=\u001b[0m \u001b[0mplot_frame\u001b[0m\u001b[0;34m.\u001b[0m\u001b[0m__doc__\u001b[0m\u001b[0;34m\u001b[0m\u001b[0m\n\u001b[1;32m   2622\u001b[0m \u001b[0;34m\u001b[0m\u001b[0m\n",
      "\u001b[0;32m/Users/mjirik/miniconda/lib/python2.7/site-packages/pandas/plotting/_core.pyc\u001b[0m in \u001b[0;36mplot_frame\u001b[0;34m(data, x, y, kind, ax, subplots, sharex, sharey, layout, figsize, use_index, title, grid, legend, style, logx, logy, loglog, xticks, yticks, xlim, ylim, rot, fontsize, colormap, table, yerr, xerr, secondary_y, sort_columns, **kwds)\u001b[0m\n\u001b[1;32m   1855\u001b[0m                  \u001b[0myerr\u001b[0m\u001b[0;34m=\u001b[0m\u001b[0myerr\u001b[0m\u001b[0;34m,\u001b[0m \u001b[0mxerr\u001b[0m\u001b[0;34m=\u001b[0m\u001b[0mxerr\u001b[0m\u001b[0;34m,\u001b[0m\u001b[0;34m\u001b[0m\u001b[0m\n\u001b[1;32m   1856\u001b[0m                  \u001b[0msecondary_y\u001b[0m\u001b[0;34m=\u001b[0m\u001b[0msecondary_y\u001b[0m\u001b[0;34m,\u001b[0m \u001b[0msort_columns\u001b[0m\u001b[0;34m=\u001b[0m\u001b[0msort_columns\u001b[0m\u001b[0;34m,\u001b[0m\u001b[0;34m\u001b[0m\u001b[0m\n\u001b[0;32m-> 1857\u001b[0;31m                  **kwds)\n\u001b[0m\u001b[1;32m   1858\u001b[0m \u001b[0;34m\u001b[0m\u001b[0m\n\u001b[1;32m   1859\u001b[0m \u001b[0;34m\u001b[0m\u001b[0m\n",
      "\u001b[0;32m/Users/mjirik/miniconda/lib/python2.7/site-packages/pandas/plotting/_core.pyc\u001b[0m in \u001b[0;36m_plot\u001b[0;34m(data, x, y, subplots, ax, kind, **kwds)\u001b[0m\n\u001b[1;32m   1680\u001b[0m         \u001b[0mplot_obj\u001b[0m \u001b[0;34m=\u001b[0m \u001b[0mklass\u001b[0m\u001b[0;34m(\u001b[0m\u001b[0mdata\u001b[0m\u001b[0;34m,\u001b[0m \u001b[0msubplots\u001b[0m\u001b[0;34m=\u001b[0m\u001b[0msubplots\u001b[0m\u001b[0;34m,\u001b[0m \u001b[0max\u001b[0m\u001b[0;34m=\u001b[0m\u001b[0max\u001b[0m\u001b[0;34m,\u001b[0m \u001b[0mkind\u001b[0m\u001b[0;34m=\u001b[0m\u001b[0mkind\u001b[0m\u001b[0;34m,\u001b[0m \u001b[0;34m**\u001b[0m\u001b[0mkwds\u001b[0m\u001b[0;34m)\u001b[0m\u001b[0;34m\u001b[0m\u001b[0m\n\u001b[1;32m   1681\u001b[0m \u001b[0;34m\u001b[0m\u001b[0m\n\u001b[0;32m-> 1682\u001b[0;31m     \u001b[0mplot_obj\u001b[0m\u001b[0;34m.\u001b[0m\u001b[0mgenerate\u001b[0m\u001b[0;34m(\u001b[0m\u001b[0;34m)\u001b[0m\u001b[0;34m\u001b[0m\u001b[0m\n\u001b[0m\u001b[1;32m   1683\u001b[0m     \u001b[0mplot_obj\u001b[0m\u001b[0;34m.\u001b[0m\u001b[0mdraw\u001b[0m\u001b[0;34m(\u001b[0m\u001b[0;34m)\u001b[0m\u001b[0;34m\u001b[0m\u001b[0m\n\u001b[1;32m   1684\u001b[0m     \u001b[0;32mreturn\u001b[0m \u001b[0mplot_obj\u001b[0m\u001b[0;34m.\u001b[0m\u001b[0mresult\u001b[0m\u001b[0;34m\u001b[0m\u001b[0m\n",
      "\u001b[0;32m/Users/mjirik/miniconda/lib/python2.7/site-packages/pandas/plotting/_core.pyc\u001b[0m in \u001b[0;36mgenerate\u001b[0;34m(self)\u001b[0m\n\u001b[1;32m    234\u001b[0m     \u001b[0;32mdef\u001b[0m \u001b[0mgenerate\u001b[0m\u001b[0;34m(\u001b[0m\u001b[0mself\u001b[0m\u001b[0;34m)\u001b[0m\u001b[0;34m:\u001b[0m\u001b[0;34m\u001b[0m\u001b[0m\n\u001b[1;32m    235\u001b[0m         \u001b[0mself\u001b[0m\u001b[0;34m.\u001b[0m\u001b[0m_args_adjust\u001b[0m\u001b[0;34m(\u001b[0m\u001b[0;34m)\u001b[0m\u001b[0;34m\u001b[0m\u001b[0m\n\u001b[0;32m--> 236\u001b[0;31m         \u001b[0mself\u001b[0m\u001b[0;34m.\u001b[0m\u001b[0m_compute_plot_data\u001b[0m\u001b[0;34m(\u001b[0m\u001b[0;34m)\u001b[0m\u001b[0;34m\u001b[0m\u001b[0m\n\u001b[0m\u001b[1;32m    237\u001b[0m         \u001b[0mself\u001b[0m\u001b[0;34m.\u001b[0m\u001b[0m_setup_subplots\u001b[0m\u001b[0;34m(\u001b[0m\u001b[0;34m)\u001b[0m\u001b[0;34m\u001b[0m\u001b[0m\n\u001b[1;32m    238\u001b[0m         \u001b[0mself\u001b[0m\u001b[0;34m.\u001b[0m\u001b[0m_make_plot\u001b[0m\u001b[0;34m(\u001b[0m\u001b[0;34m)\u001b[0m\u001b[0;34m\u001b[0m\u001b[0m\n",
      "\u001b[0;32m/Users/mjirik/miniconda/lib/python2.7/site-packages/pandas/plotting/_core.pyc\u001b[0m in \u001b[0;36m_compute_plot_data\u001b[0;34m(self)\u001b[0m\n\u001b[1;32m    343\u001b[0m         \u001b[0;32mif\u001b[0m \u001b[0mis_empty\u001b[0m\u001b[0;34m:\u001b[0m\u001b[0;34m\u001b[0m\u001b[0m\n\u001b[1;32m    344\u001b[0m             raise TypeError('Empty {0!r}: no numeric data to '\n\u001b[0;32m--> 345\u001b[0;31m                             'plot'.format(numeric_data.__class__.__name__))\n\u001b[0m\u001b[1;32m    346\u001b[0m \u001b[0;34m\u001b[0m\u001b[0m\n\u001b[1;32m    347\u001b[0m         \u001b[0mself\u001b[0m\u001b[0;34m.\u001b[0m\u001b[0mdata\u001b[0m \u001b[0;34m=\u001b[0m \u001b[0mnumeric_data\u001b[0m\u001b[0;34m\u001b[0m\u001b[0m\n",
      "\u001b[0;31mTypeError\u001b[0m: Empty 'DataFrame': no numeric data to plot"
     ]
    },
    {
     "data": {
      "image/png": "[encoded data removed]",
      "text/plain": [
       "<matplotlib.figure.Figure at 0x10ffbad90>"
      ]
     },
     "metadata": {},
     "output_type": "display_data"
    }
   ],
   "source": [
    "for radius_method in [\"inscribed\", \"circumscribed\", \"cylinder surface\", \n",
    "                      \"cylinder volume\", \"average\", \"cylinder volume + sphere compensation\"]:\n",
    "        \n",
    "    dfs = df[\n",
    "        df[\"output note\"] == \"compensation method \" + radius_method\n",
    "        # df[\"generators Unconnected cylinders radius_distribution_mean\"] == 5 \n",
    "    ]\n",
    "    \n",
    "    dfsp = dfs[[\"surface error [%]\", \"volume error [%]\", \"measurement_resolution\"]].sort_values(\n",
    "        \"measurement_resolution\")\n",
    "    \n",
    "    fig = plt.figure(figsize=[25, 18])\n",
    "    ax = plt.subplot(121)\n",
    "    dfsp.plot(\n",
    "        ax=ax, x=\"measurement_resolution\", **plotkw)\n",
    "    ax = plt.subplot(122)\n",
    "    dfsp[[\"surface error [%]\", \"volume error [%]\"]].plot(\n",
    "        ax=ax, kind=\"box\", **plotkw)\n",
    "    plt.suptitle(radius_method)\n"
   ]
  },
  {
   "cell_type": "code",
   "execution_count": null,
   "metadata": {
    "collapsed": true
   },
   "outputs": [],
   "source": []
  },
  {
   "cell_type": "markdown",
   "metadata": {},
   "source": [
    "### Radius estimation"
   ]
  },
  {
   "cell_type": "code",
   "execution_count": 97,
   "metadata": {
    "collapsed": false
   },
   "outputs": [
    {
     "data": {
      "text/html": [
       "<div>\n",
       "<style>\n",
       "    .dataframe thead tr:only-child th {\n",
       "        text-align: right;\n",
       "    }\n",
       "\n",
       "    .dataframe thead th {\n",
       "        text-align: left;\n",
       "    }\n",
       "\n",
       "    .dataframe tbody tr th {\n",
       "        vertical-align: top;\n",
       "    }\n",
       "</style>\n",
       "<table border=\"1\" class=\"dataframe\">\n",
       "  <thead>\n",
       "    <tr style=\"text-align: right;\">\n",
       "      <th></th>\n",
       "      <th>volume [mm^3]</th>\n",
       "    </tr>\n",
       "  </thead>\n",
       "  <tbody>\n",
       "    <tr>\n",
       "      <th>4</th>\n",
       "      <td>36865.137621</td>\n",
       "    </tr>\n",
       "    <tr>\n",
       "      <th>9</th>\n",
       "      <td>36865.137621</td>\n",
       "    </tr>\n",
       "    <tr>\n",
       "      <th>14</th>\n",
       "      <td>36865.137621</td>\n",
       "    </tr>\n",
       "    <tr>\n",
       "      <th>19</th>\n",
       "      <td>36865.137621</td>\n",
       "    </tr>\n",
       "    <tr>\n",
       "      <th>24</th>\n",
       "      <td>36865.137621</td>\n",
       "    </tr>\n",
       "    <tr>\n",
       "      <th>29</th>\n",
       "      <td>36865.137621</td>\n",
       "    </tr>\n",
       "  </tbody>\n",
       "</table>\n",
       "</div>"
      ],
      "text/plain": [
       "    volume [mm^3]\n",
       "4    36865.137621\n",
       "9    36865.137621\n",
       "14   36865.137621\n",
       "19   36865.137621\n",
       "24   36865.137621\n",
       "29   36865.137621"
      ]
     },
     "execution_count": 97,
     "metadata": {},
     "output_type": "execute_result"
    }
   ],
   "source": [
    "dfs[[\"volume [mm^3]\"]]"
   ]
  },
  {
   "cell_type": "code",
   "execution_count": null,
   "metadata": {
    "collapsed": true
   },
   "outputs": [],
   "source": [
    "### Kontrolní výpočet objemu"
   ]
  },
  {
   "cell_type": "code",
   "execution_count": 102,
   "metadata": {
    "collapsed": false
   },
   "outputs": [
    {
     "data": {
      "text/plain": [
       "33510.32163829113"
      ]
     },
     "execution_count": 102,
     "metadata": {},
     "output_type": "execute_result"
    }
   ],
   "source": [
    "v_sphere = (4.0/3.0) * np.pi * 20.0**3\n",
    "v_sphere"
   ]
  },
  {
   "cell_type": "code",
   "execution_count": 105,
   "metadata": {
    "collapsed": false
   },
   "outputs": [
    {
     "data": {
      "text/plain": [
       "3354.815939908998"
      ]
     },
     "execution_count": 105,
     "metadata": {},
     "output_type": "execute_result"
    }
   ],
   "source": [
    "v_cylinder = np.pi*20.0**2 * 2.6696777\n",
    "v_cylinder"
   ]
  },
  {
   "cell_type": "code",
   "execution_count": 106,
   "metadata": {
    "collapsed": false
   },
   "outputs": [
    {
     "data": {
      "text/plain": [
       "36865.13757820013"
      ]
     },
     "execution_count": 106,
     "metadata": {},
     "output_type": "execute_result"
    }
   ],
   "source": [
    "v_cylinder + v_sphere"
   ]
  },
  {
   "cell_type": "markdown",
   "metadata": {
    "deletable": true,
    "editable": true
   },
   "source": [
    "\n",
    "# Numeric and analytic error"
   ]
  },
  {
   "cell_type": "markdown",
   "metadata": {
    "deletable": true,
    "editable": true
   },
   "source": [
    "## measurement_resolution = 25"
   ]
  },
  {
   "cell_type": "code",
   "execution_count": 155,
   "metadata": {
    "collapsed": false,
    "deletable": true,
    "editable": true
   },
   "outputs": [
    {
     "data": {
      "text/html": [
       "<div>\n",
       "<style>\n",
       "    .dataframe thead tr:only-child th {\n",
       "        text-align: right;\n",
       "    }\n",
       "\n",
       "    .dataframe thead th {\n",
       "        text-align: left;\n",
       "    }\n",
       "\n",
       "    .dataframe tbody tr th {\n",
       "        vertical-align: top;\n",
       "    }\n",
       "</style>\n",
       "<table border=\"1\" class=\"dataframe\">\n",
       "  <thead>\n",
       "    <tr style=\"text-align: right;\">\n",
       "      <th></th>\n",
       "      <th>volume [mm^3]</th>\n",
       "      <th>numeric volume [mm^3]</th>\n",
       "      <th>surface [mm^2]</th>\n",
       "      <th>numeric surface [mm^2]</th>\n",
       "      <th>surface error [%]</th>\n",
       "      <th>volume error [%]</th>\n",
       "    </tr>\n",
       "  </thead>\n",
       "  <tbody>\n",
       "    <tr>\n",
       "      <th>127</th>\n",
       "      <td>30309.520615</td>\n",
       "      <td>30309.523480</td>\n",
       "      <td>7569.695487</td>\n",
       "      <td>7569.695992</td>\n",
       "      <td>6.676887e-06</td>\n",
       "      <td>0.000009</td>\n",
       "    </tr>\n",
       "    <tr>\n",
       "      <th>131</th>\n",
       "      <td>30309.520615</td>\n",
       "      <td>30309.560864</td>\n",
       "      <td>7569.695487</td>\n",
       "      <td>7569.722316</td>\n",
       "      <td>3.544362e-04</td>\n",
       "      <td>0.000133</td>\n",
       "    </tr>\n",
       "    <tr>\n",
       "      <th>135</th>\n",
       "      <td>30309.520615</td>\n",
       "      <td>30309.317820</td>\n",
       "      <td>7569.695487</td>\n",
       "      <td>7569.506358</td>\n",
       "      <td>-2.498502e-03</td>\n",
       "      <td>-0.000669</td>\n",
       "    </tr>\n",
       "    <tr>\n",
       "      <th>139</th>\n",
       "      <td>30309.520615</td>\n",
       "      <td>30309.520274</td>\n",
       "      <td>7569.695487</td>\n",
       "      <td>7569.695373</td>\n",
       "      <td>-1.494512e-06</td>\n",
       "      <td>-0.000001</td>\n",
       "    </tr>\n",
       "    <tr>\n",
       "      <th>143</th>\n",
       "      <td>30309.520615</td>\n",
       "      <td>30309.519151</td>\n",
       "      <td>7569.695487</td>\n",
       "      <td>7569.695322</td>\n",
       "      <td>-2.171289e-06</td>\n",
       "      <td>-0.000005</td>\n",
       "    </tr>\n",
       "    <tr>\n",
       "      <th>147</th>\n",
       "      <td>30309.520615</td>\n",
       "      <td>30309.521567</td>\n",
       "      <td>7569.695487</td>\n",
       "      <td>7569.695490</td>\n",
       "      <td>4.438752e-08</td>\n",
       "      <td>0.000003</td>\n",
       "    </tr>\n",
       "    <tr>\n",
       "      <th>151</th>\n",
       "      <td>40791.294328</td>\n",
       "      <td>39231.110944</td>\n",
       "      <td>9976.234307</td>\n",
       "      <td>9978.163826</td>\n",
       "      <td>1.934115e-02</td>\n",
       "      <td>-3.824795</td>\n",
       "    </tr>\n",
       "    <tr>\n",
       "      <th>155</th>\n",
       "      <td>110408.431239</td>\n",
       "      <td>104677.434314</td>\n",
       "      <td>15010.654272</td>\n",
       "      <td>14903.688155</td>\n",
       "      <td>-7.126013e-01</td>\n",
       "      <td>-5.190724</td>\n",
       "    </tr>\n",
       "    <tr>\n",
       "      <th>159</th>\n",
       "      <td>40791.294328</td>\n",
       "      <td>39923.682348</td>\n",
       "      <td>9976.234307</td>\n",
       "      <td>9990.814603</td>\n",
       "      <td>1.461503e-01</td>\n",
       "      <td>-2.126954</td>\n",
       "    </tr>\n",
       "    <tr>\n",
       "      <th>163</th>\n",
       "      <td>110408.431239</td>\n",
       "      <td>107147.127461</td>\n",
       "      <td>15010.654272</td>\n",
       "      <td>14925.740379</td>\n",
       "      <td>-5.656908e-01</td>\n",
       "      <td>-2.953854</td>\n",
       "    </tr>\n",
       "    <tr>\n",
       "      <th>167</th>\n",
       "      <td>40791.294328</td>\n",
       "      <td>40085.506419</td>\n",
       "      <td>9976.234307</td>\n",
       "      <td>9983.731245</td>\n",
       "      <td>7.514797e-02</td>\n",
       "      <td>-1.730242</td>\n",
       "    </tr>\n",
       "    <tr>\n",
       "      <th>171</th>\n",
       "      <td>110408.431239</td>\n",
       "      <td>108017.403277</td>\n",
       "      <td>15010.654272</td>\n",
       "      <td>14946.557533</td>\n",
       "      <td>-4.270083e-01</td>\n",
       "      <td>-2.165621</td>\n",
       "    </tr>\n",
       "    <tr>\n",
       "      <th>175</th>\n",
       "      <td>40791.294328</td>\n",
       "      <td>40316.254093</td>\n",
       "      <td>9976.234307</td>\n",
       "      <td>9975.164826</td>\n",
       "      <td>-1.072029e-02</td>\n",
       "      <td>-1.164563</td>\n",
       "    </tr>\n",
       "    <tr>\n",
       "      <th>179</th>\n",
       "      <td>110408.431239</td>\n",
       "      <td>108801.933159</td>\n",
       "      <td>15010.654272</td>\n",
       "      <td>14972.733524</td>\n",
       "      <td>-2.526256e-01</td>\n",
       "      <td>-1.455050</td>\n",
       "    </tr>\n",
       "    <tr>\n",
       "      <th>183</th>\n",
       "      <td>40791.294328</td>\n",
       "      <td>40661.688794</td>\n",
       "      <td>9976.234307</td>\n",
       "      <td>9976.673301</td>\n",
       "      <td>4.400394e-03</td>\n",
       "      <td>-0.317728</td>\n",
       "    </tr>\n",
       "    <tr>\n",
       "      <th>187</th>\n",
       "      <td>110408.431239</td>\n",
       "      <td>109949.402945</td>\n",
       "      <td>15010.654272</td>\n",
       "      <td>14999.293961</td>\n",
       "      <td>-7.568165e-02</td>\n",
       "      <td>-0.415755</td>\n",
       "    </tr>\n",
       "  </tbody>\n",
       "</table>\n",
       "</div>"
      ],
      "text/plain": [
       "     volume [mm^3]  numeric volume [mm^3]  surface [mm^2]  \\\n",
       "127   30309.520615           30309.523480     7569.695487   \n",
       "131   30309.520615           30309.560864     7569.695487   \n",
       "135   30309.520615           30309.317820     7569.695487   \n",
       "139   30309.520615           30309.520274     7569.695487   \n",
       "143   30309.520615           30309.519151     7569.695487   \n",
       "147   30309.520615           30309.521567     7569.695487   \n",
       "151   40791.294328           39231.110944     9976.234307   \n",
       "155  110408.431239          104677.434314    15010.654272   \n",
       "159   40791.294328           39923.682348     9976.234307   \n",
       "163  110408.431239          107147.127461    15010.654272   \n",
       "167   40791.294328           40085.506419     9976.234307   \n",
       "171  110408.431239          108017.403277    15010.654272   \n",
       "175   40791.294328           40316.254093     9976.234307   \n",
       "179  110408.431239          108801.933159    15010.654272   \n",
       "183   40791.294328           40661.688794     9976.234307   \n",
       "187  110408.431239          109949.402945    15010.654272   \n",
       "\n",
       "     numeric surface [mm^2]  surface error [%]  volume error [%]  \n",
       "127             7569.695992       6.676887e-06          0.000009  \n",
       "131             7569.722316       3.544362e-04          0.000133  \n",
       "135             7569.506358      -2.498502e-03         -0.000669  \n",
       "139             7569.695373      -1.494512e-06         -0.000001  \n",
       "143             7569.695322      -2.171289e-06         -0.000005  \n",
       "147             7569.695490       4.438752e-08          0.000003  \n",
       "151             9978.163826       1.934115e-02         -3.824795  \n",
       "155            14903.688155      -7.126013e-01         -5.190724  \n",
       "159             9990.814603       1.461503e-01         -2.126954  \n",
       "163            14925.740379      -5.656908e-01         -2.953854  \n",
       "167             9983.731245       7.514797e-02         -1.730242  \n",
       "171            14946.557533      -4.270083e-01         -2.165621  \n",
       "175             9975.164826      -1.072029e-02         -1.164563  \n",
       "179            14972.733524      -2.526256e-01         -1.455050  \n",
       "183             9976.673301       4.400394e-03         -0.317728  \n",
       "187            14999.293961      -7.568165e-02         -0.415755  "
      ]
     },
     "execution_count": 155,
     "metadata": {},
     "output_type": "execute_result"
    }
   ],
   "source": [
    "# df = pd.read_csv(op.expanduser(datapath))\n",
    "# df[\"surface error [mm^2]\"] = df[\"numeric surface [mm^2]\"] - df[\"surface [mm^2]\"]\n",
    "# df[\"surface error [%]\"] = df[\"surface error [mm^2]\"] / df[\"surface [mm^2]\"] * 100\n",
    "# df[\"volume error [mm^3]\"] = df[\"numeric volume [mm^3]\"] - df[\"volume [mm^3]\"]\n",
    "# df[\"volume error [%]\"] = df[\"volume error [mm^3]\"] / df[\"volume [mm^3]\"] * 100\n",
    "# df[\"measurement_resolution\"] = df[\"postprocessing measurement_resolution\"]\n",
    "# df[\"element_number\"] = df[\"generators Unconnected tubes element_number\"]\n",
    "# df[\"length_distribution_mean\"] = df[\"generators Unconnected tubes radius_distribution_mean\"]\n",
    "# df[\"radius_distribution_mean\"] = df[\"generators Unconnected tubes length_distribution_mean\"]\n",
    "dfs = df[\n",
    "    df[\"output note\"] == \"compensation method 5 tubes \" + \"best\"\n",
    "]\n",
    "dfsp = dfs[[\"volume [mm^3]\", \"numeric volume [mm^3]\", \"surface [mm^2]\", \"numeric surface [mm^2]\", \"surface error [%]\", \"volume error [%]\"]]\n",
    "dfsp"
   ]
  },
  {
   "cell_type": "code",
   "execution_count": 158,
   "metadata": {
    "collapsed": false,
    "deletable": true,
    "editable": true
   },
   "outputs": [
    {
     "data": {
      "image/png": "[encoded data removed]",
      "text/plain": [
       "<matplotlib.figure.Figure at 0x10f413050>"
      ]
     },
     "metadata": {},
     "output_type": "display_data"
    }
   ],
   "source": [
    "\n",
    "axp = dfsp[[\"surface [mm^2]\", \"numeric surface [mm^2]\"]].plot(kind=\"box\", **plotkw)"
   ]
  },
  {
   "cell_type": "code",
   "execution_count": null,
   "metadata": {
    "collapsed": true,
    "deletable": true,
    "editable": true
   },
   "outputs": [],
   "source": []
  },
  {
   "cell_type": "code",
   "execution_count": 160,
   "metadata": {
    "collapsed": false,
    "deletable": true,
    "editable": true
   },
   "outputs": [
    {
     "data": {
      "image/png": "[encoded data removed]",
      "text/plain": [
       "<matplotlib.figure.Figure at 0x10d01f690>"
      ]
     },
     "metadata": {},
     "output_type": "display_data"
    }
   ],
   "source": [
    "axp = dfsp[[\"volume [mm^3]\", \"numeric volume [mm^3]\"]].plot(kind=\"box\", **plotkw)"
   ]
  },
  {
   "cell_type": "code",
   "execution_count": 159,
   "metadata": {
    "collapsed": false,
    "deletable": true,
    "editable": true
   },
   "outputs": [
    {
     "data": {
      "image/png": "[encoded data removed]",
      "text/plain": [
       "<matplotlib.figure.Figure at 0x10e797250>"
      ]
     },
     "metadata": {},
     "output_type": "display_data"
    }
   ],
   "source": [
    "axp = dfsp[[\"surface error [%]\", \"volume error [%]\"]].plot(kind=\"box\", **plotkw)"
   ]
  },
  {
   "cell_type": "code",
   "execution_count": null,
   "metadata": {
    "collapsed": false,
    "deletable": true,
    "editable": true
   },
   "outputs": [],
   "source": [
    "dfsp.describe()"
   ]
  },
  {
   "cell_type": "markdown",
   "metadata": {
    "deletable": true,
    "editable": true
   },
   "source": [
    "# Statistics"
   ]
  },
  {
   "cell_type": "markdown",
   "metadata": {
    "deletable": true,
    "editable": true
   },
   "source": [
    "## Surface"
   ]
  },
  {
   "cell_type": "code",
   "execution_count": 156,
   "metadata": {
    "collapsed": false,
    "deletable": true,
    "editable": true
   },
   "outputs": [
    {
     "data": {
      "text/plain": [
       "WilcoxonResult(statistic=48.0, pvalue=0.30105418162259878)"
      ]
     },
     "execution_count": 156,
     "metadata": {},
     "output_type": "execute_result"
    }
   ],
   "source": [
    "# wilcoxon - čím větší, tím lepší\n",
    "scipy.stats.wilcoxon(x=dfsp[\"surface [mm^2]\"], y=dfsp[\"numeric surface [mm^2]\"], correction=False, zero_method=\"pratt\")"
   ]
  },
  {
   "cell_type": "code",
   "execution_count": 150,
   "metadata": {
    "collapsed": false,
    "deletable": true,
    "editable": true
   },
   "outputs": [
    {
     "data": {
      "text/plain": [
       "WilcoxonResult(statistic=10.0, pvalue=0.91651190786389403)"
      ]
     },
     "execution_count": 150,
     "metadata": {},
     "output_type": "execute_result"
    }
   ],
   "source": [
    "scipy.stats.wilcoxon(dfsp[\"surface error [%]\"], correction=False, zero_method=\"pratt\")"
   ]
  },
  {
   "cell_type": "code",
   "execution_count": 157,
   "metadata": {
    "collapsed": false,
    "deletable": true,
    "editable": true
   },
   "outputs": [
    {
     "data": {
      "text/plain": [
       "SpearmanrResult(correlation=0.94324221828379862, pvalue=4.3758310535554329e-08)"
      ]
     },
     "execution_count": 157,
     "metadata": {},
     "output_type": "execute_result"
    }
   ],
   "source": [
    "# spearman čím menší, tím lepší\n",
    "scipy.stats.spearmanr(dfsp[\"surface [mm^2]\"], dfsp[\"numeric surface [mm^2]\"])"
   ]
  },
  {
   "cell_type": "markdown",
   "metadata": {
    "deletable": true,
    "editable": true
   },
   "source": [
    "## Volume"
   ]
  },
  {
   "cell_type": "code",
   "execution_count": 152,
   "metadata": {
    "collapsed": false,
    "deletable": true,
    "editable": true
   },
   "outputs": [
    {
     "data": {
      "text/plain": [
       "WilcoxonResult(statistic=10.0, pvalue=0.91651190786389403)"
      ]
     },
     "execution_count": 152,
     "metadata": {},
     "output_type": "execute_result"
    }
   ],
   "source": [
    "# wilcoxon - čím větší, tím lepší\n",
    "scipy.stats.wilcoxon(x=dfsp[\"volume [mm^3]\"], y=dfsp[\"numeric volume [mm^3]\"], correction=False, zero_method=\"pratt\")"
   ]
  },
  {
   "cell_type": "code",
   "execution_count": 153,
   "metadata": {
    "collapsed": false,
    "deletable": true,
    "editable": true
   },
   "outputs": [
    {
     "data": {
      "text/plain": [
       "SpearmanrResult(correlation=nan, pvalue=nan)"
      ]
     },
     "execution_count": 153,
     "metadata": {},
     "output_type": "execute_result"
    }
   ],
   "source": [
    "# spearman čím menší, tím lepší\n",
    "scipy.stats.spearmanr(dfsp[\"volume [mm^3]\"], dfsp[\"numeric volume [mm^3]\"])"
   ]
  },
  {
   "cell_type": "code",
   "execution_count": null,
   "metadata": {
    "collapsed": false,
    "deletable": true,
    "editable": true
   },
   "outputs": [],
   "source": [
    "resolution = 6\n",
    "radius = 10\n",
    "\n",
    "alpha = (2*np.pi) / (resolution)\n",
    "radius_out = radius / np.cos(alpha/2)\n",
    "\n",
    "radius_out\n"
   ]
  },
  {
   "cell_type": "code",
   "execution_count": null,
   "metadata": {
    "collapsed": false,
    "deletable": true,
    "editable": true
   },
   "outputs": [],
   "source": [
    "np.cos(np.pi/2)"
   ]
  }
 ],
 "metadata": {
  "anaconda-cloud": {},
  "kernelspec": {
   "display_name": "Python 2",
   "language": "python",
   "name": "python2"
  },
  "language_info": {
   "codemirror_mode": {
    "name": "ipython",
    "version": 2
   },
   "file_extension": ".py",
   "mimetype": "text/x-python",
   "name": "python",
   "nbconvert_exporter": "python",
   "pygments_lexer": "ipython2",
   "version": "2.7.11"
  }
 },
 "nbformat": 4,
 "nbformat_minor": 1
}
