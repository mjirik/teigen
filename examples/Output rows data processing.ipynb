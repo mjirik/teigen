{
 "cells": [
  {
   "cell_type": "markdown",
   "metadata": {
    "deletable": true,
    "editable": true
   },
   "source": [
    "# Multiple tube generation experiment processing\n",
    "\n",
    "![element_number=40, length_mean=40, radius_mean=5, measurement_resolution=20](id26en40lm40rm5mr20.png)\n",
    "element_number=40, length_mean=40, radius_mean=5, measurement_resolution=20\n",
    "![element_number=40, length_mean=40, radius_mean=5, measurement_resolution=10](id26en40lm40rm5mr10.png)\n",
    "element_number=40, length_mean=40, radius_mean=5, measurement_resolution=10"
   ]
  },
  {
   "cell_type": "code",
   "execution_count": 65,
   "metadata": {
    "collapsed": false,
    "deletable": true,
    "editable": true
   },
   "outputs": [
    {
     "name": "stdout",
     "output_type": "stream",
     "text": [
      "Populating the interactive namespace from numpy and matplotlib\n"
     ]
    },
    {
     "name": "stderr",
     "output_type": "stream",
     "text": [
      "WARNING: pylab import has clobbered these variables: ['copy']\n",
      "`%matplotlib` prevents importing * from pylab and numpy\n"
     ]
    }
   ],
   "source": [
    "%pylab inline"
   ]
  },
  {
   "cell_type": "code",
   "execution_count": 66,
   "metadata": {
    "collapsed": true,
    "deletable": true,
    "editable": true
   },
   "outputs": [],
   "source": [
    "import matplotlib.pyplot as plt\n",
    "import pandas as pd\n",
    "import numpy as np\n",
    "import os.path as op\n",
    "from pprint import pprint as pp\n",
    "import scipy.stats\n",
    "import seaborn as sns"
   ]
  },
  {
   "cell_type": "code",
   "execution_count": 67,
   "metadata": {
    "collapsed": true,
    "deletable": true,
    "editable": true
   },
   "outputs": [],
   "source": [
    "datapath = \"~/teigen_data/output_rows.csv\""
   ]
  },
  {
   "cell_type": "code",
   "execution_count": 68,
   "metadata": {
    "collapsed": false,
    "deletable": true,
    "editable": true
   },
   "outputs": [],
   "source": [
    "plotkw ={\n",
    "    \"figsize\": [9, 6], \n",
    "    \"fontsize\": 14, \n",
    "}\n",
    "plot_title_size = 40\n",
    "plot_linewidth = 3\n",
    "\n",
    "plot_boxprops = {\n",
    "    \"linewidth\": plot_linewidth\n",
    "}\n",
    "boxplotkw = {\n",
    "    \"figsize\": [9, 6], \n",
    "    \"fontsize\": 14, \n",
    "    \"boxprops\": plot_boxprops,\n",
    "    \"medianprops\": plot_boxprops,\n",
    "    \"whiskerprops\": plot_boxprops,\n",
    "    \"capprops\": plot_boxprops,\n",
    "    \n",
    "}"
   ]
  },
  {
   "cell_type": "code",
   "execution_count": 69,
   "metadata": {
    "collapsed": true,
    "deletable": true,
    "editable": true
   },
   "outputs": [],
   "source": [
    "available_radius_methods = [\n",
    "    \"inscribed\", \"circumscribed\", \n",
    "    \"average\",\n",
    "    \"cylinder volume\", \n",
    "    \"cylinder volume + sphere error\",\n",
    "    \"cylinder volume + sphere error + man\",\n",
    "    \"cylinder volume + sphere error + join error\",\n",
    "    \"cylinder surface\", \n",
    "    \"cylinder surface + sphere error\",\n",
    "    \"cylinder surface + sphere error + join error\",\n",
    "    \"cylinder surface + sphere error + join error man\",\n",
    "    \"best\",\n",
    "    \n",
    "]"
   ]
  },
  {
   "cell_type": "code",
   "execution_count": 70,
   "metadata": {
    "collapsed": false,
    "deletable": true,
    "editable": true
   },
   "outputs": [
    {
     "name": "stdout",
     "output_type": "stream",
     "text": [
      "Populating the interactive namespace from numpy and matplotlib\n"
     ]
    }
   ],
   "source": [
    "%run paramtools.ipynb"
   ]
  },
  {
   "cell_type": "code",
   "execution_count": 71,
   "metadata": {
    "collapsed": false,
    "deletable": true,
    "editable": true
   },
   "outputs": [
    {
     "name": "stdout",
     "output_type": "stream",
     "text": [
      "Index([u'appearance noise_preview', u'appearance show_aposteriori_surface',\n",
      "       u'appearance skip_volume_generation', u'area volume [mm^3]',\n",
      "       u'areasampling areasize_mm', u'areasampling areasize_px',\n",
      "       u'areasampling voxelsize_mm', u'count []', u'datetime', u'filepattern',\n",
      "       u'generator_id', u'generators Continuous tubes element_number',\n",
      "       u'generators Continuous tubes fixed_radius_distribution',\n",
      "       u'generators Continuous tubes normal_radius_distribution',\n",
      "       u'generators Continuous tubes radius_distribution_maximum',\n",
      "       u'generators Continuous tubes radius_distribution_mean',\n",
      "       u'generators Continuous tubes radius_distribution_minimum',\n",
      "       u'generators Continuous tubes radius_distribution_standard_deviation',\n",
      "       u'generators Continuous tubes random_generator_seed',\n",
      "       u'generators Continuous tubes uniform_radius_distribution',\n",
      "       u'generators Gensei n_objects',\n",
      "       u'generators Unconnected tubes allow_overlap',\n",
      "       u'generators Unconnected tubes element_number',\n",
      "       u'generators Unconnected tubes fixed_radius_distribution',\n",
      "       u'generators Unconnected tubes last_element_can_be_smaller',\n",
      "       u'generators Unconnected tubes length_distribution_mean',\n",
      "       u'generators Unconnected tubes length_distribution_standard_deviation',\n",
      "       u'generators Unconnected tubes maximum_1000_iteration_number',\n",
      "       u'generators Unconnected tubes normal_radius_distribution',\n",
      "       u'generators Unconnected tubes orientation_alpha_rad',\n",
      "       u'generators Unconnected tubes orientation_anisotropic',\n",
      "       u'generators Unconnected tubes orientation_beta_rad',\n",
      "       u'generators Unconnected tubes orientation_variance_rad',\n",
      "       u'generators Unconnected tubes radius_distribution_maximum',\n",
      "       u'generators Unconnected tubes radius_distribution_mean',\n",
      "       u'generators Unconnected tubes radius_distribution_minimum',\n",
      "       u'generators Unconnected tubes radius_distribution_standard_deviation',\n",
      "       u'generators Unconnected tubes random_generator_seed',\n",
      "       u'generators Unconnected tubes tube_shape',\n",
      "       u'generators Unconnected tubes uniform_radius_distribution',\n",
      "       u'generators Unconnected tubes volume_fraction',\n",
      "       u'generators Voronoi tubes element_number',\n",
      "       u'generators Voronoi tubes fixed_radius_distribution',\n",
      "       u'generators Voronoi tubes normal_radius_distribution',\n",
      "       u'generators Voronoi tubes radius_distribution_maximum',\n",
      "       u'generators Voronoi tubes radius_distribution_mean',\n",
      "       u'generators Voronoi tubes radius_distribution_minimum',\n",
      "       u'generators Voronoi tubes radius_distribution_standard_deviation',\n",
      "       u'generators Voronoi tubes random_generator_seed',\n",
      "       u'generators Voronoi tubes uniform_radius_distribution', u'length [mm]',\n",
      "       u'length d. [mm^-2]', u'measurement polygon_radius_selection_method',\n",
      "       u'measurement tube_shape', u'numeric surface [mm^2]',\n",
      "       u'numeric volume [mm^3]', u'output aposteriori_measurement',\n",
      "       u'output aposteriori_measurement_multiplier', u'output note',\n",
      "       u'output one_row_filename', u'postprocessing add_noise',\n",
      "       u'postprocessing gaussian_blur',\n",
      "       u'postprocessing gaussian_filter_sigma_mm',\n",
      "       u'postprocessing intensity_profile_intensity',\n",
      "       u'postprocessing intensity_profile_radius',\n",
      "       u'postprocessing limit_negative_intensities',\n",
      "       u'postprocessing measurement_resolution', u'postprocessing negative',\n",
      "       u'postprocessing noise_amplitude', u'postprocessing noise_exponent',\n",
      "       u'postprocessing noise_lambda_start',\n",
      "       u'postprocessing noise_lambda_stop', u'postprocessing noise_mean',\n",
      "       u'postprocessing noise_rng_seed', u'postprocessing output_dtype',\n",
      "       u'step1_generate_time_s', u'step1_generate_vtk_time_s',\n",
      "       u'step1_init_datetime', u'step1_total_time_s', u'step2_finish_datetime',\n",
      "       u'step2_generate_volume_time_s', u'step2_init_datetime',\n",
      "       u'step2_numeric_measurement_time_s', u'step2_save_volume_time_s',\n",
      "       u'step2_total_time_s', u'surface [mm^2]', u'surface d. [mm^-1]',\n",
      "       u'volume [mm^3]', u'volume d. []'],\n",
      "      dtype='object')\n"
     ]
    }
   ],
   "source": [
    "df = pd.read_csv(op.expanduser(datapath))\n",
    "pp(df.keys())\n",
    "\n",
    "# df"
   ]
  },
  {
   "cell_type": "code",
   "execution_count": 72,
   "metadata": {
    "collapsed": false,
    "deletable": true,
    "editable": true
   },
   "outputs": [],
   "source": [
    "#pd.to_datetime(str(datetime.datetime.now()))"
   ]
  },
  {
   "cell_type": "code",
   "execution_count": 73,
   "metadata": {
    "collapsed": false,
    "deletable": true,
    "editable": true
   },
   "outputs": [
    {
     "data": {
      "text/plain": [
       "0       False\n",
       "1        True\n",
       "2        True\n",
       "3       False\n",
       "4        True\n",
       "5        True\n",
       "6        True\n",
       "7        True\n",
       "8        True\n",
       "9        True\n",
       "10       True\n",
       "11       True\n",
       "12       True\n",
       "13       True\n",
       "14       True\n",
       "15       True\n",
       "16       True\n",
       "17       True\n",
       "18       True\n",
       "19       True\n",
       "20       True\n",
       "21       True\n",
       "22       True\n",
       "23       True\n",
       "24       True\n",
       "25       True\n",
       "26       True\n",
       "27       True\n",
       "28       True\n",
       "29       True\n",
       "        ...  \n",
       "1195     True\n",
       "1196     True\n",
       "1197     True\n",
       "1198     True\n",
       "1199     True\n",
       "1200     True\n",
       "1201     True\n",
       "1202     True\n",
       "1203     True\n",
       "1204     True\n",
       "1205     True\n",
       "1206     True\n",
       "1207     True\n",
       "1208     True\n",
       "1209     True\n",
       "1210     True\n",
       "1211     True\n",
       "1212     True\n",
       "1213     True\n",
       "1214     True\n",
       "1215     True\n",
       "1216     True\n",
       "1217     True\n",
       "1218     True\n",
       "1219     True\n",
       "1220     True\n",
       "1221     True\n",
       "1222     True\n",
       "1223     True\n",
       "1224     True\n",
       "Name: step2_finish_datetime, Length: 1225, dtype: bool"
      ]
     },
     "execution_count": 73,
     "metadata": {},
     "output_type": "execute_result"
    }
   ],
   "source": [
    "pd.to_datetime(df[\"step2_finish_datetime\"]) > pd.to_datetime(\"2017-07-05\")"
   ]
  },
  {
   "cell_type": "code",
   "execution_count": 74,
   "metadata": {
    "collapsed": false,
    "deletable": true,
    "editable": true
   },
   "outputs": [],
   "source": [
    "#pd.to_datetime(df[\"step1_init_datetime\"]) > pd.to_datetime(\"2017-07-05\")"
   ]
  },
  {
   "cell_type": "code",
   "execution_count": 75,
   "metadata": {
    "collapsed": true,
    "deletable": true,
    "editable": true
   },
   "outputs": [],
   "source": [
    "df = pd.read_csv(op.expanduser(datapath))\n",
    "df[\"surface error [mm^2]\"] = df[\"numeric surface [mm^2]\"] - df[\"surface [mm^2]\"]\n",
    "df[\"surface error [%]\"] = df[\"surface error [mm^2]\"] / df[\"surface [mm^2]\"] * 100\n",
    "df[\"volume error [mm^3]\"] = df[\"numeric volume [mm^3]\"] - df[\"volume [mm^3]\"]\n",
    "df[\"volume error [%]\"] = df[\"volume error [mm^3]\"] / df[\"volume [mm^3]\"] * 100\n",
    "df[\"measurement_resolution\"] = df[\"postprocessing measurement_resolution\"]\n",
    "df[\"length_distribution_mean\"] = df[\"generators Unconnected tubes length_distribution_mean\"]"
   ]
  },
  {
   "cell_type": "markdown",
   "metadata": {
    "deletable": true,
    "editable": true
   },
   "source": [
    "# Numeric measurement precision (element_numer = 20, length_mean = 15)"
   ]
  },
  {
   "cell_type": "code",
   "execution_count": 76,
   "metadata": {
    "collapsed": false,
    "deletable": true,
    "editable": true
   },
   "outputs": [
    {
     "data": {
      "text/html": [
       "<div>\n",
       "<style>\n",
       "    .dataframe thead tr:only-child th {\n",
       "        text-align: right;\n",
       "    }\n",
       "\n",
       "    .dataframe thead th {\n",
       "        text-align: left;\n",
       "    }\n",
       "\n",
       "    .dataframe tbody tr th {\n",
       "        vertical-align: top;\n",
       "    }\n",
       "</style>\n",
       "<table border=\"1\" class=\"dataframe\">\n",
       "  <thead>\n",
       "    <tr style=\"text-align: right;\">\n",
       "      <th></th>\n",
       "      <th>surface error [%]</th>\n",
       "      <th>volume error [%]</th>\n",
       "      <th>measurement_resolution</th>\n",
       "    </tr>\n",
       "  </thead>\n",
       "  <tbody>\n",
       "  </tbody>\n",
       "</table>\n",
       "</div>"
      ],
      "text/plain": [
       "Empty DataFrame\n",
       "Columns: [surface error [%], volume error [%], measurement_resolution]\n",
       "Index: []"
      ]
     },
     "execution_count": 76,
     "metadata": {},
     "output_type": "execute_result"
    }
   ],
   "source": [
    "dfs = df[\n",
    "    df[\"output note\"] == \"resolution sphere\"\n",
    "    # df[\"generators Unconnected cylinders radius_distribution_mean\"] == 5 \n",
    "]\n",
    "dfsp = dfs[[\"surface error [%]\", \"volume error [%]\", \"measurement_resolution\"]].sort_values(\n",
    "    \"measurement_resolution\")\n",
    "if len(dfsp) > 0:\n",
    "    dfsp.plot(x=\"measurement_resolution\", **plotkw)\n",
    "dfsp"
   ]
  },
  {
   "cell_type": "code",
   "execution_count": 77,
   "metadata": {
    "collapsed": false,
    "deletable": true,
    "editable": true
   },
   "outputs": [],
   "source": [
    "#sns.factorplot(\"measurement_resolution\", \"surface error [%]\", data=dfs)#.set(ylim=(0, 1))"
   ]
  },
  {
   "cell_type": "code",
   "execution_count": 78,
   "metadata": {
    "collapsed": false,
    "deletable": true,
    "editable": true
   },
   "outputs": [
    {
     "data": {
      "text/plain": [
       "<seaborn.axisgrid.FacetGrid at 0x10c8cab50>"
      ]
     },
     "execution_count": 78,
     "metadata": {},
     "output_type": "execute_result"
    },
    {
     "data": {
      "image/png": "[encoded data removed]",
      "text/plain": [
       "<matplotlib.figure.Figure at 0x10c846a90>"
      ]
     },
     "metadata": {},
     "output_type": "display_data"
    }
   ],
   "source": [
    "sns.lmplot(\"measurement_resolution\", \"surface error [%]\", data=dfs)#.set(ylim=(0, 1))"
   ]
  },
  {
   "cell_type": "code",
   "execution_count": 79,
   "metadata": {
    "collapsed": false,
    "deletable": true,
    "editable": true
   },
   "outputs": [],
   "source": [
    "dfs = df[\n",
    "    df[\"output note\"] == \"resolution tube\"\n",
    "    # df[\"generators Unconnected cylinders radius_distribution_mean\"] == 5 \n",
    "]\n",
    "dfsp = dfs[[\"surface error [%]\", \"volume error [%]\", \"measurement_resolution\"]].sort_values(\n",
    "    \"measurement_resolution\")\n",
    "if len(dfsp) > 0:\n",
    "    dfsp.plot( x=\"measurement_resolution\", **plotkw)\n",
    "# dfsp"
   ]
  },
  {
   "cell_type": "code",
   "execution_count": 80,
   "metadata": {
    "collapsed": false,
    "deletable": true,
    "editable": true
   },
   "outputs": [],
   "source": [
    "# df = pd.read_csv(op.expanduser(datapath))\n",
    "# df[\"surface error [mm^2]\"] = np.abs(df[\"numeric surface [mm^2]\"] - df[\"surface [mm^2]\"])\n",
    "# df[\"surface error [%]\"] = df[\"surface error [mm^2]\"] / df[\"surface [mm^2]\"] * 100\n",
    "# df[\"volume error [mm^3]\"] = np.abs(df[\"numeric volume [mm^3]\"] - df[\"volume [mm^3]\"])\n",
    "# df[\"volume error [%]\"] = df[\"volume error [mm^3]\"] / df[\"volume [mm^3]\"] * 100\n",
    "# df[\"measurement_resolution\"] = df[\"postprocessing measurement_resolution\"]\n",
    "dfs = df[\n",
    "    df[\"output note\"] == \"tube length\"\n",
    "    # df[\"generators Unconnected cylinders radius_distribution_mean\"] == 5 \n",
    "]\n",
    "dfsp = dfs[[\"surface error [%]\", \"volume error [%]\", \"length_distribution_mean\"]].sort_values(\n",
    "    \"length_distribution_mean\")\n",
    "if len(dfsp) > 0:\n",
    "    dfsp.plot( x=\"measurement_resolution\", **plotkw)"
   ]
  },
  {
   "cell_type": "code",
   "execution_count": 81,
   "metadata": {
    "collapsed": true,
    "deletable": true,
    "editable": true
   },
   "outputs": [],
   "source": [
    "import seaborn as sns"
   ]
  },
  {
   "cell_type": "code",
   "execution_count": 82,
   "metadata": {
    "collapsed": false,
    "deletable": true,
    "editable": true
   },
   "outputs": [
    {
     "data": {
      "text/plain": [
       "['/Users/mjirik/miniconda/lib/python2.7/site-packages/pandas']"
      ]
     },
     "execution_count": 82,
     "metadata": {},
     "output_type": "execute_result"
    }
   ],
   "source": [
    "pd.__path__"
   ]
  },
  {
   "cell_type": "code",
   "execution_count": 83,
   "metadata": {
    "collapsed": false,
    "deletable": true,
    "editable": true
   },
   "outputs": [
    {
     "data": {
      "text/plain": [
       "u'0.20.1'"
      ]
     },
     "execution_count": 83,
     "metadata": {},
     "output_type": "execute_result"
    }
   ],
   "source": [
    "pd.__version__"
   ]
  },
  {
   "cell_type": "code",
   "execution_count": 84,
   "metadata": {
    "collapsed": false,
    "deletable": true,
    "editable": true
   },
   "outputs": [
    {
     "data": {
      "text/plain": [
       "0                                                   short\n",
       "1                                                   short\n",
       "2                                                   short\n",
       "3                  compensation method 1 sphere inscribed\n",
       "4           compensation method 1 sphere cylinder surface\n",
       "5            compensation method 1 sphere cylinder volume\n",
       "6       compensation method 1 sphere cylinder volume +...\n",
       "7       compensation method 1 sphere cylinder surface ...\n",
       "8                  compensation method 1 sphere inscribed\n",
       "9           compensation method 1 sphere cylinder surface\n",
       "10           compensation method 1 sphere cylinder volume\n",
       "11      compensation method 1 sphere cylinder volume +...\n",
       "12      compensation method 1 sphere cylinder surface ...\n",
       "13                 compensation method 1 sphere inscribed\n",
       "14          compensation method 1 sphere cylinder surface\n",
       "15           compensation method 1 sphere cylinder volume\n",
       "16      compensation method 1 sphere cylinder volume +...\n",
       "17      compensation method 1 sphere cylinder surface ...\n",
       "18                 compensation method 1 sphere inscribed\n",
       "19          compensation method 1 sphere cylinder surface\n",
       "20           compensation method 1 sphere cylinder volume\n",
       "21      compensation method 1 sphere cylinder volume +...\n",
       "22      compensation method 1 sphere cylinder surface ...\n",
       "23                 compensation method 1 sphere inscribed\n",
       "24          compensation method 1 sphere cylinder surface\n",
       "25           compensation method 1 sphere cylinder volume\n",
       "26      compensation method 1 sphere cylinder volume +...\n",
       "27      compensation method 1 sphere cylinder surface ...\n",
       "28                 compensation method 1 sphere inscribed\n",
       "29          compensation method 1 sphere cylinder surface\n",
       "                              ...                        \n",
       "1195     compensation method measurement 1 tube inscribed\n",
       "1196    compensation method measurement 1 tube cylinde...\n",
       "1197    compensation method measurement 1 tube cylinde...\n",
       "1198     compensation method measurement 1 tube inscribed\n",
       "1199    compensation method measurement 1 tube cylinde...\n",
       "1200    compensation method measurement 1 tube cylinde...\n",
       "1201     compensation method measurement 1 tube inscribed\n",
       "1202    compensation method measurement 1 tube cylinde...\n",
       "1203    compensation method measurement 1 tube cylinde...\n",
       "1204     compensation method measurement 1 tube inscribed\n",
       "1205    compensation method measurement 1 tube cylinde...\n",
       "1206    compensation method measurement 1 tube cylinde...\n",
       "1207     compensation method measurement 1 tube inscribed\n",
       "1208    compensation method measurement 1 tube cylinde...\n",
       "1209    compensation method measurement 1 tube cylinde...\n",
       "1210     compensation method measurement 1 tube inscribed\n",
       "1211    compensation method measurement 1 tube cylinde...\n",
       "1212    compensation method measurement 1 tube cylinde...\n",
       "1213     compensation method measurement 1 tube inscribed\n",
       "1214    compensation method measurement 1 tube cylinde...\n",
       "1215    compensation method measurement 1 tube cylinde...\n",
       "1216     compensation method measurement 1 tube inscribed\n",
       "1217    compensation method measurement 1 tube cylinde...\n",
       "1218    compensation method measurement 1 tube cylinde...\n",
       "1219     compensation method measurement 1 tube inscribed\n",
       "1220    compensation method measurement 1 tube cylinde...\n",
       "1221    compensation method measurement 1 tube cylinde...\n",
       "1222     compensation method measurement 1 tube inscribed\n",
       "1223    compensation method measurement 1 tube cylinde...\n",
       "1224    compensation method measurement 1 tube cylinde...\n",
       "Name: output note, Length: 1225, dtype: object"
      ]
     },
     "execution_count": 84,
     "metadata": {},
     "output_type": "execute_result"
    }
   ],
   "source": [
    "## element_number = 10, \n",
    "df[\"output note\"]"
   ]
  },
  {
   "cell_type": "code",
   "execution_count": 85,
   "metadata": {
    "collapsed": false,
    "deletable": true,
    "editable": true
   },
   "outputs": [
    {
     "data": {
      "text/plain": [
       "'<b>ahoj<b>'"
      ]
     },
     "metadata": {},
     "output_type": "display_data"
    }
   ],
   "source": [
    "display(\"<b>ahoj<b>\")"
   ]
  },
  {
   "cell_type": "markdown",
   "metadata": {
    "deletable": true,
    "editable": true
   },
   "source": [
    "## Compensation methods"
   ]
  },
  {
   "cell_type": "markdown",
   "metadata": {
    "deletable": true,
    "editable": true
   },
   "source": [
    "### 1 sphere"
   ]
  },
  {
   "cell_type": "code",
   "execution_count": 86,
   "metadata": {
    "collapsed": false,
    "deletable": true,
    "editable": true,
    "scrolled": false
   },
   "outputs": [
    {
     "name": "stderr",
     "output_type": "stream",
     "text": [
      "/Users/mjirik/miniconda/lib/python2.7/site-packages/numpy/lib/function_base.py:2569: RuntimeWarning: invalid value encountered in true_divide\n",
      "  c /= stddev[:, None]\n",
      "/Users/mjirik/miniconda/lib/python2.7/site-packages/numpy/lib/function_base.py:2570: RuntimeWarning: invalid value encountered in true_divide\n",
      "  c /= stddev[None, :]\n",
      "/Users/mjirik/miniconda/lib/python2.7/site-packages/scipy/stats/_distn_infrastructure.py:875: RuntimeWarning: invalid value encountered in greater\n",
      "  return (self.a < x) & (x < self.b)\n"
     ]
    },
    {
     "name": "stdout",
     "output_type": "stream",
     "text": [
      "inscribed 170 :\n",
      "volume (w/s): \n",
      "WilcoxonResult(statistic=0.0, pvalue=1.1960577973779531e-29) \n",
      "SpearmanrResult(correlation=nan, pvalue=nan) \n",
      "surface (w/s): \n",
      "WilcoxonResult(statistic=0.0, pvalue=1.1960577973779531e-29) \n",
      "SpearmanrResult(correlation=nan, pvalue=nan) \n",
      "\n",
      "cylinder surface 170 :\n",
      "volume (w/s): \n",
      "WilcoxonResult(statistic=0.0, pvalue=1.1960577973779531e-29) \n",
      "SpearmanrResult(correlation=nan, pvalue=nan) \n",
      "surface (w/s): \n",
      "WilcoxonResult(statistic=0.0, pvalue=1.1960577973779531e-29) \n",
      "SpearmanrResult(correlation=nan, pvalue=nan) \n",
      "\n",
      "cylinder volume 170 :\n",
      "volume (w/s): \n",
      "WilcoxonResult(statistic=2020.0, pvalue=3.2132641785428004e-16) \n",
      "SpearmanrResult(correlation=nan, pvalue=nan) \n",
      "surface (w/s): \n",
      "WilcoxonResult(statistic=0.0, pvalue=1.1960577973779531e-29) \n",
      "SpearmanrResult(correlation=nan, pvalue=nan) \n",
      "\n"
     ]
    },
    {
     "name": "stderr",
     "output_type": "stream",
     "text": [
      "/Users/mjirik/miniconda/lib/python2.7/site-packages/scipy/stats/_distn_infrastructure.py:875: RuntimeWarning: invalid value encountered in less\n",
      "  return (self.a < x) & (x < self.b)\n",
      "/Users/mjirik/miniconda/lib/python2.7/site-packages/scipy/stats/_distn_infrastructure.py:1814: RuntimeWarning: invalid value encountered in less_equal\n",
      "  cond2 = cond0 & (x <= self.a)\n"
     ]
    },
    {
     "data": {
      "image/png": "[encoded data removed]",
      "text/plain": [
       "<matplotlib.figure.Figure at 0x10d4118d0>"
      ]
     },
     "metadata": {},
     "output_type": "display_data"
    },
    {
     "data": {
      "image/png": "[encoded data removed]",
      "text/plain": [
       "<matplotlib.figure.Figure at 0x10d66a550>"
      ]
     },
     "metadata": {},
     "output_type": "display_data"
    },
    {
     "data": {
      "image/png": "[encoded data removed]",
      "text/plain": [
       "<matplotlib.figure.Figure at 0x10d9f0990>"
      ]
     },
     "metadata": {},
     "output_type": "display_data"
    }
   ],
   "source": [
    "for radius_method in [\"inscribed\", \"circumscribed\", \"cylinder surface\", \"cylinder volume\", \"average\", \"cylinder volume + sphere compensation\"]:\n",
    "        \n",
    "    dfs = df[\n",
    "        df[\"output note\"] == \"compensation method 1 sphere \" + radius_method\n",
    "        # df[\"generators Unconnected cylinders radius_distribution_mean\"] == 5 \n",
    "    ]\n",
    "    #print dfs.keys()\n",
    "    #display(dfs[[\"surface [mm^2]\", \"numeric surface [mm^2]\"]])\n",
    "    show_error(dfs, radius_method=radius_method, plotkw=plotkw)"
   ]
  },
  {
   "cell_type": "markdown",
   "metadata": {
    "deletable": true,
    "editable": true
   },
   "source": [
    "### 1 tube"
   ]
  },
  {
   "cell_type": "code",
   "execution_count": 87,
   "metadata": {
    "collapsed": false,
    "deletable": true,
    "editable": true,
    "scrolled": false
   },
   "outputs": [],
   "source": [
    "for radius_method in available_radius_methods:\n",
    "        \n",
    "    dfs = df[\n",
    "        df[\"output note\"] == \"compensation method 1 tube \" + radius_method\n",
    "        # df[\"generators Unconnected cylinders radius_distribution_mean\"] == 5 \n",
    "    ]\n",
    "    \n",
    "    show_error(dfs, radius_method=radius_method)\n",
    "    # dfplot(dfs, plotkw, radius_method)"
   ]
  },
  {
   "cell_type": "markdown",
   "metadata": {
    "deletable": true,
    "editable": true
   },
   "source": [
    "## N tubes"
   ]
  },
  {
   "cell_type": "code",
   "execution_count": 88,
   "metadata": {
    "collapsed": false,
    "deletable": true,
    "editable": true,
    "scrolled": false
   },
   "outputs": [],
   "source": [
    "for radius_method in available_radius_methods:\n",
    "        \n",
    "    dfs = df[\n",
    "        df[\"output note\"] == \"compensation method N tube \" + radius_method\n",
    "        # df[\"generators Unconnected cylinders radius_distribution_mean\"] == 5 \n",
    "    ]\n",
    "    \n",
    "    dfsp = show_error(dfs, radius_method=radius_method)"
   ]
  },
  {
   "cell_type": "markdown",
   "metadata": {
    "deletable": true,
    "editable": true
   },
   "source": [
    "## 5 tubes"
   ]
  },
  {
   "cell_type": "code",
   "execution_count": 89,
   "metadata": {
    "collapsed": false,
    "deletable": true,
    "editable": true,
    "scrolled": false
   },
   "outputs": [],
   "source": [
    "# for radius_method in [\"cylinder volume + sphere compensation\"]:\n",
    "for radius_method in available_radius_methods:\n",
    "    dfs = df[\n",
    "        df[\"output note\"] ==  \"compensation method 5 tubes \" + radius_method\n",
    "    ]\n",
    "    dfsp = show_error(dfs)"
   ]
  },
  {
   "cell_type": "code",
   "execution_count": 90,
   "metadata": {
    "collapsed": false,
    "deletable": true,
    "editable": true,
    "scrolled": false
   },
   "outputs": [],
   "source": [
    "for radius_method in [\"inscribed\", \"circumscribed\", \"cylinder surface\", \n",
    "                      \"cylinder volume\", \"average\", \"cylinder volume + sphere compensation\"]:\n",
    "        \n",
    "    dfs = df[\n",
    "        df[\"output note\"] == \"compensation method \" + radius_method\n",
    "        # df[\"generators Unconnected cylinders radius_distribution_mean\"] == 5 \n",
    "    ]\n",
    "    \n",
    "    dfplot(dfs, plotkw, radius_method)"
   ]
  },
  {
   "cell_type": "markdown",
   "metadata": {
    "collapsed": true,
    "deletable": true,
    "editable": true
   },
   "source": [
    "### Mix "
   ]
  },
  {
   "cell_type": "code",
   "execution_count": 91,
   "metadata": {
    "collapsed": false,
    "deletable": true,
    "editable": true,
    "scrolled": false
   },
   "outputs": [],
   "source": [
    "# for radius_method in [\"cylinder volume + sphere compensation\"]:\n",
    "for radius_method in available_radius_methods:\n",
    "    dfs = df[\n",
    "        df[\"output note\"] ==  \"mix \" + radius_method\n",
    "    ]\n",
    "    dfsp = show_error(dfs, radius_method=radius_method)"
   ]
  },
  {
   "cell_type": "code",
   "execution_count": 92,
   "metadata": {
    "collapsed": false,
    "deletable": true,
    "editable": true,
    "scrolled": false
   },
   "outputs": [],
   "source": [
    "# for radius_method in [\"cylinder volume + sphere compensation\"]:\n",
    "for radius_method in available_radius_methods:\n",
    "    dfs = df[\n",
    "        df[\"output note\"] ==  \"mix 2 \" + radius_method\n",
    "    ]\n",
    "    dfsp = show_error(dfs, radius_method=radius_method, plotkw=plotkw)"
   ]
  },
  {
   "cell_type": "markdown",
   "metadata": {
    "deletable": true,
    "editable": true
   },
   "source": [
    "### Radius estimation"
   ]
  },
  {
   "cell_type": "code",
   "execution_count": 93,
   "metadata": {
    "collapsed": false,
    "deletable": true,
    "editable": true
   },
   "outputs": [
    {
     "data": {
      "text/html": [
       "<div>\n",
       "<style>\n",
       "    .dataframe thead tr:only-child th {\n",
       "        text-align: right;\n",
       "    }\n",
       "\n",
       "    .dataframe thead th {\n",
       "        text-align: left;\n",
       "    }\n",
       "\n",
       "    .dataframe tbody tr th {\n",
       "        vertical-align: top;\n",
       "    }\n",
       "</style>\n",
       "<table border=\"1\" class=\"dataframe\">\n",
       "  <thead>\n",
       "    <tr style=\"text-align: right;\">\n",
       "      <th></th>\n",
       "      <th>volume [mm^3]</th>\n",
       "    </tr>\n",
       "  </thead>\n",
       "  <tbody>\n",
       "  </tbody>\n",
       "</table>\n",
       "</div>"
      ],
      "text/plain": [
       "Empty DataFrame\n",
       "Columns: [volume [mm^3]]\n",
       "Index: []"
      ]
     },
     "execution_count": 93,
     "metadata": {},
     "output_type": "execute_result"
    }
   ],
   "source": [
    "dfs[[\"volume [mm^3]\"]]"
   ]
  },
  {
   "cell_type": "code",
   "execution_count": 94,
   "metadata": {
    "collapsed": true,
    "deletable": true,
    "editable": true
   },
   "outputs": [],
   "source": [
    "### Kontrolní výpočet objemu"
   ]
  },
  {
   "cell_type": "code",
   "execution_count": 95,
   "metadata": {
    "collapsed": false,
    "deletable": true,
    "editable": true
   },
   "outputs": [
    {
     "data": {
      "text/plain": [
       "33510.32163829113"
      ]
     },
     "execution_count": 95,
     "metadata": {},
     "output_type": "execute_result"
    }
   ],
   "source": [
    "v_sphere = (4.0/3.0) * np.pi * 20.0**3\n",
    "v_sphere"
   ]
  },
  {
   "cell_type": "code",
   "execution_count": 96,
   "metadata": {
    "collapsed": false,
    "deletable": true,
    "editable": true
   },
   "outputs": [
    {
     "data": {
      "text/plain": [
       "3354.815939908998"
      ]
     },
     "execution_count": 96,
     "metadata": {},
     "output_type": "execute_result"
    }
   ],
   "source": [
    "v_cylinder = np.pi*20.0**2 * 2.6696777\n",
    "v_cylinder"
   ]
  },
  {
   "cell_type": "code",
   "execution_count": 97,
   "metadata": {
    "collapsed": false,
    "deletable": true,
    "editable": true
   },
   "outputs": [
    {
     "data": {
      "text/plain": [
       "36865.13757820013"
      ]
     },
     "execution_count": 97,
     "metadata": {},
     "output_type": "execute_result"
    }
   ],
   "source": [
    "v_cylinder + v_sphere"
   ]
  },
  {
   "cell_type": "markdown",
   "metadata": {
    "deletable": true,
    "editable": true
   },
   "source": [
    "\n",
    "# Numeric and analytic error"
   ]
  },
  {
   "cell_type": "markdown",
   "metadata": {
    "deletable": true,
    "editable": true
   },
   "source": [
    "## measurement_resolution = 25"
   ]
  },
  {
   "cell_type": "code",
   "execution_count": 98,
   "metadata": {
    "collapsed": false,
    "deletable": true,
    "editable": true
   },
   "outputs": [
    {
     "data": {
      "text/html": [
       "<div>\n",
       "<style>\n",
       "    .dataframe thead tr:only-child th {\n",
       "        text-align: right;\n",
       "    }\n",
       "\n",
       "    .dataframe thead th {\n",
       "        text-align: left;\n",
       "    }\n",
       "\n",
       "    .dataframe tbody tr th {\n",
       "        vertical-align: top;\n",
       "    }\n",
       "</style>\n",
       "<table border=\"1\" class=\"dataframe\">\n",
       "  <thead>\n",
       "    <tr style=\"text-align: right;\">\n",
       "      <th></th>\n",
       "      <th>volume [mm^3]</th>\n",
       "      <th>numeric volume [mm^3]</th>\n",
       "      <th>surface [mm^2]</th>\n",
       "      <th>numeric surface [mm^2]</th>\n",
       "      <th>surface error [%]</th>\n",
       "      <th>volume error [%]</th>\n",
       "    </tr>\n",
       "  </thead>\n",
       "  <tbody>\n",
       "  </tbody>\n",
       "</table>\n",
       "</div>"
      ],
      "text/plain": [
       "Empty DataFrame\n",
       "Columns: [volume [mm^3], numeric volume [mm^3], surface [mm^2], numeric surface [mm^2], surface error [%], volume error [%]]\n",
       "Index: []"
      ]
     },
     "execution_count": 98,
     "metadata": {},
     "output_type": "execute_result"
    }
   ],
   "source": [
    "# df = pd.read_csv(op.expanduser(datapath))\n",
    "# df[\"surface error [mm^2]\"] = df[\"numeric surface [mm^2]\"] - df[\"surface [mm^2]\"]\n",
    "# df[\"surface error [%]\"] = df[\"surface error [mm^2]\"] / df[\"surface [mm^2]\"] * 100\n",
    "# df[\"volume error [mm^3]\"] = df[\"numeric volume [mm^3]\"] - df[\"volume [mm^3]\"]\n",
    "# df[\"volume error [%]\"] = df[\"volume error [mm^3]\"] / df[\"volume [mm^3]\"] * 100\n",
    "# df[\"measurement_resolution\"] = df[\"postprocessing measurement_resolution\"]\n",
    "# df[\"element_number\"] = df[\"generators Unconnected tubes element_number\"]\n",
    "# df[\"length_distribution_mean\"] = df[\"generators Unconnected tubes radius_distribution_mean\"]\n",
    "# df[\"radius_distribution_mean\"] = df[\"generators Unconnected tubes length_distribution_mean\"]\n",
    "dfs = df[\n",
    "    df[\"output note\"] == \"compensation method 5 tubes \" + \"best\"\n",
    "]\n",
    "dfsp = dfs[[\"volume [mm^3]\", \"numeric volume [mm^3]\", \"surface [mm^2]\", \"numeric surface [mm^2]\", \"surface error [%]\", \"volume error [%]\"]]\n",
    "dfsp"
   ]
  },
  {
   "cell_type": "code",
   "execution_count": 99,
   "metadata": {
    "collapsed": false,
    "deletable": true,
    "editable": true
   },
   "outputs": [],
   "source": [
    "if len(dfsp) > 0:\n",
    "    axp = dfsp[[\"surface [mm^2]\", \"numeric surface [mm^2]\"]].plot(kind=\"box\", **plotkw)"
   ]
  },
  {
   "cell_type": "code",
   "execution_count": null,
   "metadata": {
    "collapsed": true,
    "deletable": true,
    "editable": true
   },
   "outputs": [],
   "source": []
  },
  {
   "cell_type": "code",
   "execution_count": 100,
   "metadata": {
    "collapsed": false,
    "deletable": true,
    "editable": true
   },
   "outputs": [],
   "source": [
    "if len(dfsp) > 0:\n",
    "    axp = dfsp[[\"volume [mm^3]\", \"numeric volume [mm^3]\"]].plot(kind=\"box\", **plotkw)"
   ]
  },
  {
   "cell_type": "code",
   "execution_count": 101,
   "metadata": {
    "collapsed": false,
    "deletable": true,
    "editable": true
   },
   "outputs": [],
   "source": [
    "if len(dfsp) > 0:\n",
    "    axp = dfsp[[\"surface error [%]\", \"volume error [%]\"]].plot(kind=\"box\", **plotkw)"
   ]
  },
  {
   "cell_type": "code",
   "execution_count": null,
   "metadata": {
    "collapsed": true,
    "deletable": true,
    "editable": true
   },
   "outputs": [],
   "source": []
  },
  {
   "cell_type": "code",
   "execution_count": 102,
   "metadata": {
    "collapsed": false,
    "deletable": true,
    "editable": true,
    "scrolled": false
   },
   "outputs": [],
   "source": [
    "# for radius_method in [\"cylinder volume + sphere compensation\"]:\n",
    "for radius_method in [\"cylinder surface\", \"cylinder volume\", \"cylinder volume + sphere compensation\", \"best\"]:\n",
    "\n",
    "        \n",
    "    dfs = df[\n",
    "        df[\"output note\"] == \"compensation method 5 tubes \" + radius_method\n",
    "    ]\n",
    "    \n",
    "    dfplot(dfs, plotkw, radius_method)"
   ]
  },
  {
   "cell_type": "code",
   "execution_count": 103,
   "metadata": {
    "collapsed": false,
    "deletable": true,
    "editable": true
   },
   "outputs": [
    {
     "data": {
      "text/plain": [
       "[<matplotlib.lines.Line2D at 0x10d4f2110>]"
      ]
     },
     "execution_count": 103,
     "metadata": {},
     "output_type": "execute_result"
    },
    {
     "data": {
      "image/png": "[encoded data removed]",
      "text/plain": [
       "<matplotlib.figure.Figure at 0x10c8dd890>"
      ]
     },
     "metadata": {},
     "output_type": "display_data"
    }
   ],
   "source": [
    "nsu = dfsp[\"numeric surface [mm^2]\"]\n",
    "su = dfsp[\"surface [mm^2]\"]\n",
    "nsux = np.ones([len(nsu)])\n",
    "sux = np.zeros([len(su)])\n",
    "y = np.concatenate([nsu, su])\n",
    "x = np.concatenate([nsux,sux])\n",
    "#plot(, np.concatenate([nsux,sux]))\n",
    "plt.plot(x, y)"
   ]
  },
  {
   "cell_type": "code",
   "execution_count": 104,
   "metadata": {
    "collapsed": false,
    "deletable": true,
    "editable": true
   },
   "outputs": [
    {
     "data": {
      "text/plain": [
       "(0,)"
      ]
     },
     "execution_count": 104,
     "metadata": {},
     "output_type": "execute_result"
    }
   ],
   "source": [
    "y.shape"
   ]
  },
  {
   "cell_type": "code",
   "execution_count": 105,
   "metadata": {
    "collapsed": false,
    "deletable": true,
    "editable": true
   },
   "outputs": [
    {
     "data": {
      "text/plain": [
       "(0,)"
      ]
     },
     "execution_count": 105,
     "metadata": {},
     "output_type": "execute_result"
    }
   ],
   "source": [
    "x.shape"
   ]
  },
  {
   "cell_type": "code",
   "execution_count": 106,
   "metadata": {
    "collapsed": false,
    "deletable": true,
    "editable": true
   },
   "outputs": [
    {
     "data": {
      "text/html": [
       "<div>\n",
       "<style>\n",
       "    .dataframe thead tr:only-child th {\n",
       "        text-align: right;\n",
       "    }\n",
       "\n",
       "    .dataframe thead th {\n",
       "        text-align: left;\n",
       "    }\n",
       "\n",
       "    .dataframe tbody tr th {\n",
       "        vertical-align: top;\n",
       "    }\n",
       "</style>\n",
       "<table border=\"1\" class=\"dataframe\">\n",
       "  <thead>\n",
       "    <tr style=\"text-align: right;\">\n",
       "      <th></th>\n",
       "      <th>volume [mm^3]</th>\n",
       "      <th>numeric volume [mm^3]</th>\n",
       "      <th>surface [mm^2]</th>\n",
       "      <th>numeric surface [mm^2]</th>\n",
       "      <th>surface error [%]</th>\n",
       "      <th>volume error [%]</th>\n",
       "    </tr>\n",
       "  </thead>\n",
       "  <tbody>\n",
       "    <tr>\n",
       "      <th>count</th>\n",
       "      <td>0.0</td>\n",
       "      <td>0.0</td>\n",
       "      <td>0.0</td>\n",
       "      <td>0.0</td>\n",
       "      <td>0.0</td>\n",
       "      <td>0.0</td>\n",
       "    </tr>\n",
       "    <tr>\n",
       "      <th>mean</th>\n",
       "      <td>NaN</td>\n",
       "      <td>NaN</td>\n",
       "      <td>NaN</td>\n",
       "      <td>NaN</td>\n",
       "      <td>NaN</td>\n",
       "      <td>NaN</td>\n",
       "    </tr>\n",
       "    <tr>\n",
       "      <th>std</th>\n",
       "      <td>NaN</td>\n",
       "      <td>NaN</td>\n",
       "      <td>NaN</td>\n",
       "      <td>NaN</td>\n",
       "      <td>NaN</td>\n",
       "      <td>NaN</td>\n",
       "    </tr>\n",
       "    <tr>\n",
       "      <th>min</th>\n",
       "      <td>NaN</td>\n",
       "      <td>NaN</td>\n",
       "      <td>NaN</td>\n",
       "      <td>NaN</td>\n",
       "      <td>NaN</td>\n",
       "      <td>NaN</td>\n",
       "    </tr>\n",
       "    <tr>\n",
       "      <th>25%</th>\n",
       "      <td>NaN</td>\n",
       "      <td>NaN</td>\n",
       "      <td>NaN</td>\n",
       "      <td>NaN</td>\n",
       "      <td>NaN</td>\n",
       "      <td>NaN</td>\n",
       "    </tr>\n",
       "    <tr>\n",
       "      <th>50%</th>\n",
       "      <td>NaN</td>\n",
       "      <td>NaN</td>\n",
       "      <td>NaN</td>\n",
       "      <td>NaN</td>\n",
       "      <td>NaN</td>\n",
       "      <td>NaN</td>\n",
       "    </tr>\n",
       "    <tr>\n",
       "      <th>75%</th>\n",
       "      <td>NaN</td>\n",
       "      <td>NaN</td>\n",
       "      <td>NaN</td>\n",
       "      <td>NaN</td>\n",
       "      <td>NaN</td>\n",
       "      <td>NaN</td>\n",
       "    </tr>\n",
       "    <tr>\n",
       "      <th>max</th>\n",
       "      <td>NaN</td>\n",
       "      <td>NaN</td>\n",
       "      <td>NaN</td>\n",
       "      <td>NaN</td>\n",
       "      <td>NaN</td>\n",
       "      <td>NaN</td>\n",
       "    </tr>\n",
       "  </tbody>\n",
       "</table>\n",
       "</div>"
      ],
      "text/plain": [
       "       volume [mm^3]  numeric volume [mm^3]  surface [mm^2]  \\\n",
       "count            0.0                    0.0             0.0   \n",
       "mean             NaN                    NaN             NaN   \n",
       "std              NaN                    NaN             NaN   \n",
       "min              NaN                    NaN             NaN   \n",
       "25%              NaN                    NaN             NaN   \n",
       "50%              NaN                    NaN             NaN   \n",
       "75%              NaN                    NaN             NaN   \n",
       "max              NaN                    NaN             NaN   \n",
       "\n",
       "       numeric surface [mm^2]  surface error [%]  volume error [%]  \n",
       "count                     0.0                0.0               0.0  \n",
       "mean                      NaN                NaN               NaN  \n",
       "std                       NaN                NaN               NaN  \n",
       "min                       NaN                NaN               NaN  \n",
       "25%                       NaN                NaN               NaN  \n",
       "50%                       NaN                NaN               NaN  \n",
       "75%                       NaN                NaN               NaN  \n",
       "max                       NaN                NaN               NaN  "
      ]
     },
     "execution_count": 106,
     "metadata": {},
     "output_type": "execute_result"
    }
   ],
   "source": [
    "dfsp.describe()"
   ]
  },
  {
   "cell_type": "markdown",
   "metadata": {
    "deletable": true,
    "editable": true
   },
   "source": [
    "# Statistics"
   ]
  },
  {
   "cell_type": "code",
   "execution_count": 107,
   "metadata": {
    "collapsed": false,
    "deletable": true,
    "editable": true,
    "scrolled": false
   },
   "outputs": [],
   "source": [
    "# for radius_method in [\"cylinder volume + sphere compensation\"]:\n",
    "for radius_method in [\n",
    "    \"inscribed\", \n",
    "    # \"circumscribed\", \"cylinder surface\", \"cylinder volume\",\n",
    "    \"average\", \n",
    "    \"cylinder volume + sphere compensation\", \n",
    "    \n",
    "    \"best\"]:\n",
    "\n",
    "        \n",
    "    dfs = df[\n",
    "        df[\"output note\"] == \"fixed resolution \" + radius_method\n",
    "    ]\n",
    "    \n",
    "    dfsp = dfs[[\"surface error [%]\", \"volume error [%]\", \"measurement_resolution\"]].sort_values(\n",
    "        \"measurement_resolution\")\n",
    "    \n",
    "    dfplot(dfs, plotkw, radius_method)"
   ]
  },
  {
   "cell_type": "code",
   "execution_count": 108,
   "metadata": {
    "collapsed": false,
    "deletable": true,
    "editable": true
   },
   "outputs": [
    {
     "data": {
      "text/html": [
       "<div>\n",
       "<style>\n",
       "    .dataframe thead tr:only-child th {\n",
       "        text-align: right;\n",
       "    }\n",
       "\n",
       "    .dataframe thead th {\n",
       "        text-align: left;\n",
       "    }\n",
       "\n",
       "    .dataframe tbody tr th {\n",
       "        vertical-align: top;\n",
       "    }\n",
       "</style>\n",
       "<table border=\"1\" class=\"dataframe\">\n",
       "  <thead>\n",
       "    <tr style=\"text-align: right;\">\n",
       "      <th></th>\n",
       "      <th>appearance noise_preview</th>\n",
       "      <th>appearance show_aposteriori_surface</th>\n",
       "      <th>appearance skip_volume_generation</th>\n",
       "      <th>area volume [mm^3]</th>\n",
       "      <th>areasampling areasize_mm</th>\n",
       "      <th>areasampling areasize_px</th>\n",
       "      <th>areasampling voxelsize_mm</th>\n",
       "      <th>count []</th>\n",
       "      <th>datetime</th>\n",
       "      <th>filepattern</th>\n",
       "      <th>...</th>\n",
       "      <th>surface [mm^2]</th>\n",
       "      <th>surface d. [mm^-1]</th>\n",
       "      <th>volume [mm^3]</th>\n",
       "      <th>volume d. []</th>\n",
       "      <th>surface error [mm^2]</th>\n",
       "      <th>surface error [%]</th>\n",
       "      <th>volume error [mm^3]</th>\n",
       "      <th>volume error [%]</th>\n",
       "      <th>measurement_resolution</th>\n",
       "      <th>length_distribution_mean</th>\n",
       "    </tr>\n",
       "  </thead>\n",
       "  <tbody>\n",
       "  </tbody>\n",
       "</table>\n",
       "<p>0 rows × 95 columns</p>\n",
       "</div>"
      ],
      "text/plain": [
       "Empty DataFrame\n",
       "Columns: [appearance noise_preview, appearance show_aposteriori_surface, appearance skip_volume_generation, area volume [mm^3], areasampling areasize_mm, areasampling areasize_px, areasampling voxelsize_mm, count [], datetime, filepattern, generator_id, generators Continuous tubes element_number, generators Continuous tubes fixed_radius_distribution, generators Continuous tubes normal_radius_distribution, generators Continuous tubes radius_distribution_maximum, generators Continuous tubes radius_distribution_mean, generators Continuous tubes radius_distribution_minimum, generators Continuous tubes radius_distribution_standard_deviation, generators Continuous tubes random_generator_seed, generators Continuous tubes uniform_radius_distribution, generators Gensei n_objects, generators Unconnected tubes allow_overlap, generators Unconnected tubes element_number, generators Unconnected tubes fixed_radius_distribution, generators Unconnected tubes last_element_can_be_smaller, generators Unconnected tubes length_distribution_mean, generators Unconnected tubes length_distribution_standard_deviation, generators Unconnected tubes maximum_1000_iteration_number, generators Unconnected tubes normal_radius_distribution, generators Unconnected tubes orientation_alpha_rad, generators Unconnected tubes orientation_anisotropic, generators Unconnected tubes orientation_beta_rad, generators Unconnected tubes orientation_variance_rad, generators Unconnected tubes radius_distribution_maximum, generators Unconnected tubes radius_distribution_mean, generators Unconnected tubes radius_distribution_minimum, generators Unconnected tubes radius_distribution_standard_deviation, generators Unconnected tubes random_generator_seed, generators Unconnected tubes tube_shape, generators Unconnected tubes uniform_radius_distribution, generators Unconnected tubes volume_fraction, generators Voronoi tubes element_number, generators Voronoi tubes fixed_radius_distribution, generators Voronoi tubes normal_radius_distribution, generators Voronoi tubes radius_distribution_maximum, generators Voronoi tubes radius_distribution_mean, generators Voronoi tubes radius_distribution_minimum, generators Voronoi tubes radius_distribution_standard_deviation, generators Voronoi tubes random_generator_seed, generators Voronoi tubes uniform_radius_distribution, length [mm], length d. [mm^-2], measurement polygon_radius_selection_method, measurement tube_shape, numeric surface [mm^2], numeric volume [mm^3], output aposteriori_measurement, output aposteriori_measurement_multiplier, output note, output one_row_filename, postprocessing add_noise, postprocessing gaussian_blur, postprocessing gaussian_filter_sigma_mm, postprocessing intensity_profile_intensity, postprocessing intensity_profile_radius, postprocessing limit_negative_intensities, postprocessing measurement_resolution, postprocessing negative, postprocessing noise_std, postprocessing noise_exponent, postprocessing noise_lambda_start, postprocessing noise_lambda_stop, postprocessing noise_mean, postprocessing noise_rng_seed, postprocessing output_dtype, step1_generate_time_s, step1_generate_vtk_time_s, step1_init_datetime, step1_total_time_s, step2_finish_datetime, step2_generate_volume_time_s, step2_init_datetime, step2_numeric_measurement_time_s, step2_save_volume_time_s, step2_total_time_s, surface [mm^2], surface d. [mm^-1], volume [mm^3], volume d. [], surface error [mm^2], surface error [%], volume error [mm^3], volume error [%], measurement_resolution, length_distribution_mean]\n",
       "Index: []\n",
       "\n",
       "[0 rows x 95 columns]"
      ]
     },
     "execution_count": 108,
     "metadata": {},
     "output_type": "execute_result"
    }
   ],
   "source": [
    "dfs"
   ]
  },
  {
   "cell_type": "markdown",
   "metadata": {
    "deletable": true,
    "editable": true
   },
   "source": [
    "## Surface"
   ]
  },
  {
   "cell_type": "code",
   "execution_count": 109,
   "metadata": {
    "collapsed": false,
    "deletable": true,
    "editable": true
   },
   "outputs": [
    {
     "data": {
      "text/plain": [
       "WilcoxonResult(statistic=0.0, pvalue=nan)"
      ]
     },
     "execution_count": 109,
     "metadata": {},
     "output_type": "execute_result"
    }
   ],
   "source": [
    "# wilcoxon - čím větší, tím lepší\n",
    "scipy.stats.wilcoxon(x=dfs[\"surface [mm^2]\"], y=dfs[\"numeric surface [mm^2]\"], correction=False, zero_method=\"pratt\")"
   ]
  },
  {
   "cell_type": "code",
   "execution_count": 110,
   "metadata": {
    "collapsed": false,
    "deletable": true,
    "editable": true
   },
   "outputs": [
    {
     "data": {
      "text/plain": [
       "WilcoxonResult(statistic=0.0, pvalue=nan)"
      ]
     },
     "execution_count": 110,
     "metadata": {},
     "output_type": "execute_result"
    }
   ],
   "source": [
    "scipy.stats.wilcoxon(dfs[\"surface error [%]\"], correction=False, zero_method=\"pratt\")"
   ]
  },
  {
   "cell_type": "code",
   "execution_count": 111,
   "metadata": {
    "collapsed": false,
    "deletable": true,
    "editable": true
   },
   "outputs": [
    {
     "data": {
      "text/plain": [
       "SpearmanrResult(correlation=nan, pvalue=nan)"
      ]
     },
     "execution_count": 111,
     "metadata": {},
     "output_type": "execute_result"
    }
   ],
   "source": [
    "# spearman čím menší, tím lepší\n",
    "scipy.stats.spearmanr(dfs[\"surface [mm^2]\"], dfs[\"numeric surface [mm^2]\"])"
   ]
  },
  {
   "cell_type": "markdown",
   "metadata": {
    "deletable": true,
    "editable": true
   },
   "source": [
    "## Volume"
   ]
  },
  {
   "cell_type": "code",
   "execution_count": 112,
   "metadata": {
    "collapsed": false,
    "deletable": true,
    "editable": true
   },
   "outputs": [
    {
     "data": {
      "text/plain": [
       "WilcoxonResult(statistic=0.0, pvalue=nan)"
      ]
     },
     "execution_count": 112,
     "metadata": {},
     "output_type": "execute_result"
    }
   ],
   "source": [
    "# wilcoxon - čím větší, tím lepší\n",
    "scipy.stats.wilcoxon(x=dfs[\"volume [mm^3]\"], y=dfs[\"numeric volume [mm^3]\"], correction=False, zero_method=\"pratt\")"
   ]
  },
  {
   "cell_type": "code",
   "execution_count": 113,
   "metadata": {
    "collapsed": false,
    "deletable": true,
    "editable": true
   },
   "outputs": [
    {
     "data": {
      "text/plain": [
       "SpearmanrResult(correlation=nan, pvalue=nan)"
      ]
     },
     "execution_count": 113,
     "metadata": {},
     "output_type": "execute_result"
    }
   ],
   "source": [
    "# spearman čím menší, tím lepší\n",
    "scipy.stats.spearmanr(dfs[\"volume [mm^3]\"], dfs[\"numeric volume [mm^3]\"])"
   ]
  },
  {
   "cell_type": "markdown",
   "metadata": {
    "deletable": true,
    "editable": true
   },
   "source": [
    "# Inscribed to circum"
   ]
  },
  {
   "cell_type": "code",
   "execution_count": 114,
   "metadata": {
    "collapsed": false,
    "deletable": true,
    "editable": true
   },
   "outputs": [
    {
     "data": {
      "text/plain": [
       "11.547005383792515"
      ]
     },
     "execution_count": 114,
     "metadata": {},
     "output_type": "execute_result"
    }
   ],
   "source": [
    "resolution = 6\n",
    "radius = 10\n",
    "\n",
    "alpha = (2*np.pi) / (resolution)\n",
    "radius_out = radius / np.cos(alpha/2)\n",
    "\n",
    "radius_out"
   ]
  },
  {
   "cell_type": "code",
   "execution_count": 115,
   "metadata": {
    "collapsed": false,
    "deletable": true,
    "editable": true
   },
   "outputs": [
    {
     "data": {
      "text/plain": [
       "6.123233995736766e-17"
      ]
     },
     "execution_count": 115,
     "metadata": {},
     "output_type": "execute_result"
    }
   ],
   "source": [
    "np.cos(np.pi/2)"
   ]
  },
  {
   "cell_type": "code",
   "execution_count": 122,
   "metadata": {
    "collapsed": false,
    "deletable": true,
    "editable": true
   },
   "outputs": [
    {
     "data": {
      "text/plain": [
       "array([[ 115.45183503,    9.02286878,   77.75389717,   82.0815443 ,\n",
       "          75.21600456,   40.3087752 ,   11.88557038,  102.25947199,\n",
       "          21.66430123,   37.77982208],\n",
       "       [  63.27510309,   64.93747233,    9.58253225,   54.47685884,\n",
       "          45.11677043,   54.26291762,   60.36071533,   46.99069837,\n",
       "          71.87967928,   29.26535343],\n",
       "       [  88.22126161,   80.13780485,   83.86961767,    7.02793588,\n",
       "          39.680583  ,   57.20553809,   75.83026909,   41.40313385,\n",
       "          44.1908704 ,    4.25285611],\n",
       "       [  93.04213343,   26.17795461,   80.65786207,  108.47703303,\n",
       "          93.56867057,   33.63781911,    4.94374478,   81.01083338,\n",
       "           8.06618577,   31.21507647],\n",
       "       [ 108.08478968,  116.8738711 ,   67.42533721,   83.32584215,\n",
       "          91.45834093,   72.01921431,   59.65896776,   74.72762556,\n",
       "          28.0390461 ,   68.56837679],\n",
       "       [   7.87634363,   38.45301846,  118.42857782,   12.11275775,\n",
       "          26.7508999 ,   49.7106114 ,  116.69772496,   71.07122198,\n",
       "          15.24898989,  111.89549391],\n",
       "       [ 107.41894862,   95.47184783,  102.85454519,  111.42237935,\n",
       "          63.55546916,   17.77341523,   94.82001904,   76.80214359,\n",
       "         113.66302619,  109.11787807],\n",
       "       [ 114.30802617,  108.18158784,  111.23535562,   89.33023701,\n",
       "          28.59753076,   74.07334926,   89.40330102,  117.27957197,\n",
       "          33.27832427,   71.81591284],\n",
       "       [  35.43370953,   77.3511999 ,   85.00453941,   18.23665955,\n",
       "          84.95769815,   19.40989208,   52.43414561,  117.16690344,\n",
       "          20.45776376,   16.46005716],\n",
       "       [   7.28704384,    5.02404304,  105.13302116,   23.7532467 ,\n",
       "         118.0736563 ,   24.56420188,   85.69536091,   77.01069439,\n",
       "         114.2097512 ,   48.52184783],\n",
       "       [  99.        ,   99.        ,   99.        ,   99.        ,\n",
       "          99.        ,   99.        ,   99.        ,   99.        ,\n",
       "          99.        ,   99.        ],\n",
       "       [  99.        ,   99.        ,   99.        ,   99.        ,\n",
       "          99.        ,   99.        ,   99.        ,   99.        ,\n",
       "          99.        ,   99.        ],\n",
       "       [  99.        ,   99.        ,   99.        ,   99.        ,\n",
       "          99.        ,   99.        ,   99.        ,   99.        ,\n",
       "          99.        ,   99.        ],\n",
       "       [  99.        ,   99.        ,   99.        ,   99.        ,\n",
       "          99.        ,   99.        ,   99.        ,   99.        ,\n",
       "          99.        ,   99.        ],\n",
       "       [  99.        ,   99.        ,   99.        ,   99.        ,\n",
       "          99.        ,   99.        ,   99.        ,   99.        ,\n",
       "          99.        ,   99.        ],\n",
       "       [  99.        ,   99.        ,   99.        ,   99.        ,\n",
       "          99.        ,   99.        ,   99.        ,   99.        ,\n",
       "          99.        ,   99.        ],\n",
       "       [  99.        ,   99.        ,   99.        ,   99.        ,\n",
       "          99.        ,   99.        ,   99.        ,   99.        ,\n",
       "          99.        ,   99.        ],\n",
       "       [  99.        ,   99.        ,   99.        ,   99.        ,\n",
       "          99.        ,   99.        ,   99.        ,   99.        ,\n",
       "          99.        ,   99.        ],\n",
       "       [  99.        ,   99.        ,   99.        ,   99.        ,\n",
       "          99.        ,   99.        ,   99.        ,   99.        ,\n",
       "          99.        ,   99.        ],\n",
       "       [  99.        ,   99.        ,   99.        ,   99.        ,\n",
       "          99.        ,   99.        ,   99.        ,   99.        ,\n",
       "          99.        ,   99.        ]])"
      ]
     },
     "execution_count": 122,
     "metadata": {},
     "output_type": "execute_result"
    }
   ],
   "source": [
    "np.concatenate([np.random.rand(10,10) * 120, np.ones([10,10])*99])"
   ]
  }
 ],
 "metadata": {
  "anaconda-cloud": {},
  "kernelspec": {
   "display_name": "Python [default]",
   "language": "python",
   "name": "python2"
  },
  "language_info": {
   "codemirror_mode": {
    "name": "ipython",
    "version": 2
   },
   "file_extension": ".py",
   "mimetype": "text/x-python",
   "name": "python",
   "nbconvert_exporter": "python",
   "pygments_lexer": "ipython2",
   "version": "2.7.11"
  }
 },
 "nbformat": 4,
 "nbformat_minor": 0
}
