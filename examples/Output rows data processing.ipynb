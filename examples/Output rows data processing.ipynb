{
 "cells": [
  {
   "cell_type": "markdown",
   "metadata": {
    "deletable": true,
    "editable": true
   },
   "source": [
    "# Multiple tube generation experiment processing\n",
    "\n",
    "![element_number=40, length_mean=40, radius_mean=5, measurement_resolution=20](id26en40lm40rm5mr20.png)\n",
    "element_number=40, length_mean=40, radius_mean=5, measurement_resolution=20\n",
    "![element_number=40, length_mean=40, radius_mean=5, measurement_resolution=10](id26en40lm40rm5mr10.png)\n",
    "element_number=40, length_mean=40, radius_mean=5, measurement_resolution=10"
   ]
  },
  {
   "cell_type": "code",
   "execution_count": 264,
   "metadata": {
    "collapsed": false,
    "deletable": true,
    "editable": true
   },
   "outputs": [
    {
     "name": "stdout",
     "output_type": "stream",
     "text": [
      "Populating the interactive namespace from numpy and matplotlib\n"
     ]
    }
   ],
   "source": [
    "%pylab inline"
   ]
  },
  {
   "cell_type": "code",
   "execution_count": 265,
   "metadata": {
    "collapsed": true,
    "deletable": true,
    "editable": true
   },
   "outputs": [],
   "source": [
    "import matplotlib.pyplot as plt\n",
    "import pandas as pd\n",
    "import numpy as np\n",
    "import os.path as op\n",
    "from pprint import pprint as pp\n",
    "import scipy.stats\n",
    "import seaborn as sns\n"
   ]
  },
  {
   "cell_type": "code",
   "execution_count": 266,
   "metadata": {
    "collapsed": true,
    "deletable": true,
    "editable": true
   },
   "outputs": [],
   "source": [
    "datapath = \"~/teigen_data/output_rows.csv\""
   ]
  },
  {
   "cell_type": "code",
   "execution_count": 267,
   "metadata": {
    "collapsed": true,
    "deletable": true,
    "editable": true
   },
   "outputs": [],
   "source": [
    "plotkw ={\n",
    "    \"figsize\": [9, 6], \n",
    "    # \"fontsize\": 14\n",
    "}"
   ]
  },
  {
   "cell_type": "code",
   "execution_count": 268,
   "metadata": {
    "collapsed": false,
    "deletable": true,
    "editable": true
   },
   "outputs": [
    {
     "name": "stdout",
     "output_type": "stream",
     "text": [
      "Index([u'datetime', u'length [mm]', u'volume [mm^3]', u'surface [mm^2]',\n",
      "       u'area volume [mm^3]', u'count []', u'numeric volume [mm^3]',\n",
      "       u'numeric surface [mm^2]', u'length d. [mm^-2]', u'volume d. []',\n",
      "       u'surface d. [mm^-1]', u'appearance noise_preview',\n",
      "       u'appearance show_aposteriori_surface',\n",
      "       u'appearance skip_volume_generation', u'areasampling areasize_mm',\n",
      "       u'areasampling areasize_px', u'areasampling voxelsize_mm',\n",
      "       u'filepattern', u'generator_id',\n",
      "       u'generators Continuous tubes element_number',\n",
      "       u'generators Continuous tubes fixed_radius_distribution',\n",
      "       u'generators Continuous tubes normal_radius_distribution',\n",
      "       u'generators Continuous tubes radius_distribution_maximum',\n",
      "       u'generators Continuous tubes radius_distribution_mean',\n",
      "       u'generators Continuous tubes radius_distribution_minimum',\n",
      "       u'generators Continuous tubes radius_distribution_standard_deviation',\n",
      "       u'generators Continuous tubes random_generator_seed',\n",
      "       u'generators Continuous tubes uniform_radius_distribution',\n",
      "       u'generators Gensei n_objects',\n",
      "       u'generators Unconnected tubes allow_overlap',\n",
      "       u'generators Unconnected tubes element_number',\n",
      "       u'generators Unconnected tubes fixed_radius_distribution',\n",
      "       u'generators Unconnected tubes last_element_can_be_smaller',\n",
      "       u'generators Unconnected tubes length_distribution_mean',\n",
      "       u'generators Unconnected tubes length_distribution_standard_deviation',\n",
      "       u'generators Unconnected tubes maximum_1000_iteration_number',\n",
      "       u'generators Unconnected tubes normal_radius_distribution',\n",
      "       u'generators Unconnected tubes orientation_alpha_rad',\n",
      "       u'generators Unconnected tubes orientation_anisotropic',\n",
      "       u'generators Unconnected tubes orientation_beta_rad',\n",
      "       u'generators Unconnected tubes orientation_variance_rad',\n",
      "       u'generators Unconnected tubes radius_distribution_maximum',\n",
      "       u'generators Unconnected tubes radius_distribution_mean',\n",
      "       u'generators Unconnected tubes radius_distribution_minimum',\n",
      "       u'generators Unconnected tubes radius_distribution_standard_deviation',\n",
      "       u'generators Unconnected tubes random_generator_seed',\n",
      "       u'generators Unconnected tubes tube_shape',\n",
      "       u'generators Unconnected tubes uniform_radius_distribution',\n",
      "       u'generators Unconnected tubes volume_fraction',\n",
      "       u'generators Voronoi tubes element_number',\n",
      "       u'generators Voronoi tubes fixed_radius_distribution',\n",
      "       u'generators Voronoi tubes normal_radius_distribution',\n",
      "       u'generators Voronoi tubes radius_distribution_maximum',\n",
      "       u'generators Voronoi tubes radius_distribution_mean',\n",
      "       u'generators Voronoi tubes radius_distribution_minimum',\n",
      "       u'generators Voronoi tubes radius_distribution_standard_deviation',\n",
      "       u'generators Voronoi tubes random_generator_seed',\n",
      "       u'generators Voronoi tubes uniform_radius_distribution',\n",
      "       u'measurement polygon_radius_selection_method',\n",
      "       u'measurement tube_shape', u'output aposteriori_measurement',\n",
      "       u'output aposteriori_measurement_multiplier', u'output note',\n",
      "       u'output one_row_filename', u'postprocessing add_noise',\n",
      "       u'postprocessing gaussian_blur',\n",
      "       u'postprocessing gaussian_filter_sigma_mm',\n",
      "       u'postprocessing intensity_profile_intensity',\n",
      "       u'postprocessing intensity_profile_radius',\n",
      "       u'postprocessing limit_negative_intensities',\n",
      "       u'postprocessing measurement_resolution', u'postprocessing negative',\n",
      "       u'postprocessing noise_amplitude', u'postprocessing noise_exponent',\n",
      "       u'postprocessing noise_lambda_start',\n",
      "       u'postprocessing noise_lambda_stop', u'postprocessing noise_mean',\n",
      "       u'postprocessing noise_rng_seed', u'postprocessing output_dtype'],\n",
      "      dtype='object')\n"
     ]
    }
   ],
   "source": [
    "df = pd.read_csv(op.expanduser(datapath))\n",
    "pp(df.keys())\n",
    "\n",
    "# df"
   ]
  },
  {
   "cell_type": "code",
   "execution_count": 269,
   "metadata": {
    "collapsed": false,
    "deletable": true,
    "editable": true
   },
   "outputs": [
    {
     "data": {
      "text/html": [
       "<div>\n",
       "<style>\n",
       "    .dataframe thead tr:only-child th {\n",
       "        text-align: right;\n",
       "    }\n",
       "\n",
       "    .dataframe thead th {\n",
       "        text-align: left;\n",
       "    }\n",
       "\n",
       "    .dataframe tbody tr th {\n",
       "        vertical-align: top;\n",
       "    }\n",
       "</style>\n",
       "<table border=\"1\" class=\"dataframe\">\n",
       "  <thead>\n",
       "    <tr style=\"text-align: right;\">\n",
       "      <th></th>\n",
       "      <th>datetime</th>\n",
       "      <th>length [mm]</th>\n",
       "      <th>volume [mm^3]</th>\n",
       "      <th>surface [mm^2]</th>\n",
       "      <th>area volume [mm^3]</th>\n",
       "      <th>count []</th>\n",
       "      <th>numeric volume [mm^3]</th>\n",
       "      <th>numeric surface [mm^2]</th>\n",
       "      <th>length d. [mm^-2]</th>\n",
       "      <th>volume d. []</th>\n",
       "      <th>...</th>\n",
       "      <th>postprocessing limit_negative_intensities</th>\n",
       "      <th>postprocessing measurement_resolution</th>\n",
       "      <th>postprocessing negative</th>\n",
       "      <th>postprocessing noise_amplitude</th>\n",
       "      <th>postprocessing noise_exponent</th>\n",
       "      <th>postprocessing noise_lambda_start</th>\n",
       "      <th>postprocessing noise_lambda_stop</th>\n",
       "      <th>postprocessing noise_mean</th>\n",
       "      <th>postprocessing noise_rng_seed</th>\n",
       "      <th>postprocessing output_dtype</th>\n",
       "    </tr>\n",
       "  </thead>\n",
       "  <tbody>\n",
       "    <tr>\n",
       "      <th>0</th>\n",
       "      <td>2017-05-26T00:10:51.194786</td>\n",
       "      <td>86.48132</td>\n",
       "      <td>102803.532046</td>\n",
       "      <td>12931.022562</td>\n",
       "      <td>1100000.0</td>\n",
       "      <td>5.0</td>\n",
       "      <td>103142.713506</td>\n",
       "      <td>13057.748832</td>\n",
       "      <td>0.000079</td>\n",
       "      <td>0.093458</td>\n",
       "      <td>...</td>\n",
       "      <td>True</td>\n",
       "      <td>10</td>\n",
       "      <td>False</td>\n",
       "      <td>40.0</td>\n",
       "      <td>0.0001</td>\n",
       "      <td>0.1</td>\n",
       "      <td>3.0</td>\n",
       "      <td>30.0</td>\n",
       "      <td>0</td>\n",
       "      <td>uint8</td>\n",
       "    </tr>\n",
       "    <tr>\n",
       "      <th>1</th>\n",
       "      <td>2017-05-26T00:10:57.550823</td>\n",
       "      <td>86.48132</td>\n",
       "      <td>102803.532046</td>\n",
       "      <td>12931.022562</td>\n",
       "      <td>1100000.0</td>\n",
       "      <td>5.0</td>\n",
       "      <td>102933.413928</td>\n",
       "      <td>12997.859022</td>\n",
       "      <td>0.000079</td>\n",
       "      <td>0.093458</td>\n",
       "      <td>...</td>\n",
       "      <td>True</td>\n",
       "      <td>13</td>\n",
       "      <td>False</td>\n",
       "      <td>40.0</td>\n",
       "      <td>0.0001</td>\n",
       "      <td>0.1</td>\n",
       "      <td>3.0</td>\n",
       "      <td>30.0</td>\n",
       "      <td>0</td>\n",
       "      <td>uint8</td>\n",
       "    </tr>\n",
       "    <tr>\n",
       "      <th>2</th>\n",
       "      <td>2017-05-26T00:11:04.247046</td>\n",
       "      <td>86.48132</td>\n",
       "      <td>102803.532046</td>\n",
       "      <td>12931.022562</td>\n",
       "      <td>1100000.0</td>\n",
       "      <td>5.0</td>\n",
       "      <td>103889.858604</td>\n",
       "      <td>13006.564220</td>\n",
       "      <td>0.000079</td>\n",
       "      <td>0.093458</td>\n",
       "      <td>...</td>\n",
       "      <td>True</td>\n",
       "      <td>15</td>\n",
       "      <td>False</td>\n",
       "      <td>40.0</td>\n",
       "      <td>0.0001</td>\n",
       "      <td>0.1</td>\n",
       "      <td>3.0</td>\n",
       "      <td>30.0</td>\n",
       "      <td>0</td>\n",
       "      <td>uint8</td>\n",
       "    </tr>\n",
       "    <tr>\n",
       "      <th>3</th>\n",
       "      <td>2017-05-26T00:11:12.826362</td>\n",
       "      <td>86.48132</td>\n",
       "      <td>102803.532046</td>\n",
       "      <td>12931.022562</td>\n",
       "      <td>1100000.0</td>\n",
       "      <td>5.0</td>\n",
       "      <td>104139.382836</td>\n",
       "      <td>12981.461401</td>\n",
       "      <td>0.000079</td>\n",
       "      <td>0.093458</td>\n",
       "      <td>...</td>\n",
       "      <td>True</td>\n",
       "      <td>18</td>\n",
       "      <td>False</td>\n",
       "      <td>40.0</td>\n",
       "      <td>0.0001</td>\n",
       "      <td>0.1</td>\n",
       "      <td>3.0</td>\n",
       "      <td>30.0</td>\n",
       "      <td>0</td>\n",
       "      <td>uint8</td>\n",
       "    </tr>\n",
       "    <tr>\n",
       "      <th>4</th>\n",
       "      <td>2017-05-26T00:11:22.940957</td>\n",
       "      <td>86.48132</td>\n",
       "      <td>102803.532046</td>\n",
       "      <td>12931.022562</td>\n",
       "      <td>1100000.0</td>\n",
       "      <td>5.0</td>\n",
       "      <td>103250.014147</td>\n",
       "      <td>12975.590998</td>\n",
       "      <td>0.000079</td>\n",
       "      <td>0.093458</td>\n",
       "      <td>...</td>\n",
       "      <td>True</td>\n",
       "      <td>21</td>\n",
       "      <td>False</td>\n",
       "      <td>40.0</td>\n",
       "      <td>0.0001</td>\n",
       "      <td>0.1</td>\n",
       "      <td>3.0</td>\n",
       "      <td>30.0</td>\n",
       "      <td>0</td>\n",
       "      <td>uint8</td>\n",
       "    </tr>\n",
       "    <tr>\n",
       "      <th>5</th>\n",
       "      <td>2017-05-26T00:11:35.352634</td>\n",
       "      <td>86.48132</td>\n",
       "      <td>102803.532046</td>\n",
       "      <td>12931.022562</td>\n",
       "      <td>1100000.0</td>\n",
       "      <td>5.0</td>\n",
       "      <td>102821.930058</td>\n",
       "      <td>12946.422092</td>\n",
       "      <td>0.000079</td>\n",
       "      <td>0.093458</td>\n",
       "      <td>...</td>\n",
       "      <td>True</td>\n",
       "      <td>25</td>\n",
       "      <td>False</td>\n",
       "      <td>40.0</td>\n",
       "      <td>0.0001</td>\n",
       "      <td>0.1</td>\n",
       "      <td>3.0</td>\n",
       "      <td>30.0</td>\n",
       "      <td>0</td>\n",
       "      <td>uint8</td>\n",
       "    </tr>\n",
       "    <tr>\n",
       "      <th>6</th>\n",
       "      <td>2017-05-26T00:11:49.494064</td>\n",
       "      <td>86.48132</td>\n",
       "      <td>102803.532046</td>\n",
       "      <td>12931.022562</td>\n",
       "      <td>1100000.0</td>\n",
       "      <td>5.0</td>\n",
       "      <td>103129.141322</td>\n",
       "      <td>12962.641465</td>\n",
       "      <td>0.000079</td>\n",
       "      <td>0.093458</td>\n",
       "      <td>...</td>\n",
       "      <td>True</td>\n",
       "      <td>28</td>\n",
       "      <td>False</td>\n",
       "      <td>40.0</td>\n",
       "      <td>0.0001</td>\n",
       "      <td>0.1</td>\n",
       "      <td>3.0</td>\n",
       "      <td>30.0</td>\n",
       "      <td>0</td>\n",
       "      <td>uint8</td>\n",
       "    </tr>\n",
       "    <tr>\n",
       "      <th>7</th>\n",
       "      <td>2017-05-26T00:12:05.536758</td>\n",
       "      <td>86.48132</td>\n",
       "      <td>102803.532046</td>\n",
       "      <td>12931.022562</td>\n",
       "      <td>1100000.0</td>\n",
       "      <td>5.0</td>\n",
       "      <td>102986.086771</td>\n",
       "      <td>12945.193345</td>\n",
       "      <td>0.000079</td>\n",
       "      <td>0.093458</td>\n",
       "      <td>...</td>\n",
       "      <td>True</td>\n",
       "      <td>30</td>\n",
       "      <td>False</td>\n",
       "      <td>40.0</td>\n",
       "      <td>0.0001</td>\n",
       "      <td>0.1</td>\n",
       "      <td>3.0</td>\n",
       "      <td>30.0</td>\n",
       "      <td>0</td>\n",
       "      <td>uint8</td>\n",
       "    </tr>\n",
       "    <tr>\n",
       "      <th>8</th>\n",
       "      <td>2017-05-26T00:12:36.728166</td>\n",
       "      <td>86.48132</td>\n",
       "      <td>102803.532046</td>\n",
       "      <td>12931.022562</td>\n",
       "      <td>1100000.0</td>\n",
       "      <td>5.0</td>\n",
       "      <td>102946.178750</td>\n",
       "      <td>12944.364284</td>\n",
       "      <td>0.000079</td>\n",
       "      <td>0.093458</td>\n",
       "      <td>...</td>\n",
       "      <td>True</td>\n",
       "      <td>40</td>\n",
       "      <td>False</td>\n",
       "      <td>40.0</td>\n",
       "      <td>0.0001</td>\n",
       "      <td>0.1</td>\n",
       "      <td>3.0</td>\n",
       "      <td>30.0</td>\n",
       "      <td>0</td>\n",
       "      <td>uint8</td>\n",
       "    </tr>\n",
       "    <tr>\n",
       "      <th>9</th>\n",
       "      <td>2017-05-26T00:13:34.435095</td>\n",
       "      <td>86.48132</td>\n",
       "      <td>102803.532046</td>\n",
       "      <td>12931.022562</td>\n",
       "      <td>1100000.0</td>\n",
       "      <td>5.0</td>\n",
       "      <td>103061.164597</td>\n",
       "      <td>12946.133572</td>\n",
       "      <td>0.000079</td>\n",
       "      <td>0.093458</td>\n",
       "      <td>...</td>\n",
       "      <td>True</td>\n",
       "      <td>50</td>\n",
       "      <td>False</td>\n",
       "      <td>40.0</td>\n",
       "      <td>0.0001</td>\n",
       "      <td>0.1</td>\n",
       "      <td>3.0</td>\n",
       "      <td>30.0</td>\n",
       "      <td>0</td>\n",
       "      <td>uint8</td>\n",
       "    </tr>\n",
       "  </tbody>\n",
       "</table>\n",
       "<p>10 rows × 79 columns</p>\n",
       "</div>"
      ],
      "text/plain": [
       "                     datetime  length [mm]  volume [mm^3]  surface [mm^2]  \\\n",
       "0  2017-05-26T00:10:51.194786     86.48132  102803.532046    12931.022562   \n",
       "1  2017-05-26T00:10:57.550823     86.48132  102803.532046    12931.022562   \n",
       "2  2017-05-26T00:11:04.247046     86.48132  102803.532046    12931.022562   \n",
       "3  2017-05-26T00:11:12.826362     86.48132  102803.532046    12931.022562   \n",
       "4  2017-05-26T00:11:22.940957     86.48132  102803.532046    12931.022562   \n",
       "5  2017-05-26T00:11:35.352634     86.48132  102803.532046    12931.022562   \n",
       "6  2017-05-26T00:11:49.494064     86.48132  102803.532046    12931.022562   \n",
       "7  2017-05-26T00:12:05.536758     86.48132  102803.532046    12931.022562   \n",
       "8  2017-05-26T00:12:36.728166     86.48132  102803.532046    12931.022562   \n",
       "9  2017-05-26T00:13:34.435095     86.48132  102803.532046    12931.022562   \n",
       "\n",
       "   area volume [mm^3]  count []  numeric volume [mm^3]  \\\n",
       "0           1100000.0       5.0          103142.713506   \n",
       "1           1100000.0       5.0          102933.413928   \n",
       "2           1100000.0       5.0          103889.858604   \n",
       "3           1100000.0       5.0          104139.382836   \n",
       "4           1100000.0       5.0          103250.014147   \n",
       "5           1100000.0       5.0          102821.930058   \n",
       "6           1100000.0       5.0          103129.141322   \n",
       "7           1100000.0       5.0          102986.086771   \n",
       "8           1100000.0       5.0          102946.178750   \n",
       "9           1100000.0       5.0          103061.164597   \n",
       "\n",
       "   numeric surface [mm^2]  length d. [mm^-2]  volume d. []  \\\n",
       "0            13057.748832           0.000079      0.093458   \n",
       "1            12997.859022           0.000079      0.093458   \n",
       "2            13006.564220           0.000079      0.093458   \n",
       "3            12981.461401           0.000079      0.093458   \n",
       "4            12975.590998           0.000079      0.093458   \n",
       "5            12946.422092           0.000079      0.093458   \n",
       "6            12962.641465           0.000079      0.093458   \n",
       "7            12945.193345           0.000079      0.093458   \n",
       "8            12944.364284           0.000079      0.093458   \n",
       "9            12946.133572           0.000079      0.093458   \n",
       "\n",
       "              ...               postprocessing limit_negative_intensities  \\\n",
       "0             ...                                                    True   \n",
       "1             ...                                                    True   \n",
       "2             ...                                                    True   \n",
       "3             ...                                                    True   \n",
       "4             ...                                                    True   \n",
       "5             ...                                                    True   \n",
       "6             ...                                                    True   \n",
       "7             ...                                                    True   \n",
       "8             ...                                                    True   \n",
       "9             ...                                                    True   \n",
       "\n",
       "   postprocessing measurement_resolution  postprocessing negative  \\\n",
       "0                                     10                    False   \n",
       "1                                     13                    False   \n",
       "2                                     15                    False   \n",
       "3                                     18                    False   \n",
       "4                                     21                    False   \n",
       "5                                     25                    False   \n",
       "6                                     28                    False   \n",
       "7                                     30                    False   \n",
       "8                                     40                    False   \n",
       "9                                     50                    False   \n",
       "\n",
       "   postprocessing noise_amplitude postprocessing noise_exponent  \\\n",
       "0                            40.0                        0.0001   \n",
       "1                            40.0                        0.0001   \n",
       "2                            40.0                        0.0001   \n",
       "3                            40.0                        0.0001   \n",
       "4                            40.0                        0.0001   \n",
       "5                            40.0                        0.0001   \n",
       "6                            40.0                        0.0001   \n",
       "7                            40.0                        0.0001   \n",
       "8                            40.0                        0.0001   \n",
       "9                            40.0                        0.0001   \n",
       "\n",
       "  postprocessing noise_lambda_start postprocessing noise_lambda_stop  \\\n",
       "0                               0.1                              3.0   \n",
       "1                               0.1                              3.0   \n",
       "2                               0.1                              3.0   \n",
       "3                               0.1                              3.0   \n",
       "4                               0.1                              3.0   \n",
       "5                               0.1                              3.0   \n",
       "6                               0.1                              3.0   \n",
       "7                               0.1                              3.0   \n",
       "8                               0.1                              3.0   \n",
       "9                               0.1                              3.0   \n",
       "\n",
       "  postprocessing noise_mean  postprocessing noise_rng_seed  \\\n",
       "0                      30.0                              0   \n",
       "1                      30.0                              0   \n",
       "2                      30.0                              0   \n",
       "3                      30.0                              0   \n",
       "4                      30.0                              0   \n",
       "5                      30.0                              0   \n",
       "6                      30.0                              0   \n",
       "7                      30.0                              0   \n",
       "8                      30.0                              0   \n",
       "9                      30.0                              0   \n",
       "\n",
       "   postprocessing output_dtype  \n",
       "0                        uint8  \n",
       "1                        uint8  \n",
       "2                        uint8  \n",
       "3                        uint8  \n",
       "4                        uint8  \n",
       "5                        uint8  \n",
       "6                        uint8  \n",
       "7                        uint8  \n",
       "8                        uint8  \n",
       "9                        uint8  \n",
       "\n",
       "[10 rows x 79 columns]"
      ]
     },
     "execution_count": 269,
     "metadata": {},
     "output_type": "execute_result"
    }
   ],
   "source": [
    "df"
   ]
  },
  {
   "cell_type": "code",
   "execution_count": 270,
   "metadata": {
    "collapsed": true,
    "deletable": true,
    "editable": true
   },
   "outputs": [],
   "source": [
    "\n",
    "df = pd.read_csv(op.expanduser(datapath))\n",
    "df[\"surface error [mm^2]\"] = df[\"numeric surface [mm^2]\"] - df[\"surface [mm^2]\"]\n",
    "df[\"surface error [%]\"] = df[\"surface error [mm^2]\"] / df[\"surface [mm^2]\"] * 100\n",
    "df[\"volume error [mm^3]\"] = df[\"numeric volume [mm^3]\"] - df[\"volume [mm^3]\"]\n",
    "df[\"volume error [%]\"] = df[\"volume error [mm^3]\"] / df[\"volume [mm^3]\"] * 100\n",
    "df[\"measurement_resolution\"] = df[\"postprocessing measurement_resolution\"]\n",
    "df[\"length_distribution_mean\"] = df[\"generators Unconnected tubes length_distribution_mean\"]\n"
   ]
  },
  {
   "cell_type": "markdown",
   "metadata": {
    "deletable": true,
    "editable": true
   },
   "source": [
    "# Numeric measurement precision (element_numer = 20, length_mean = 15)"
   ]
  },
  {
   "cell_type": "code",
   "execution_count": 271,
   "metadata": {
    "collapsed": false,
    "deletable": true,
    "editable": true
   },
   "outputs": [
    {
     "data": {
      "text/html": [
       "<div>\n",
       "<style>\n",
       "    .dataframe thead tr:only-child th {\n",
       "        text-align: right;\n",
       "    }\n",
       "\n",
       "    .dataframe thead th {\n",
       "        text-align: left;\n",
       "    }\n",
       "\n",
       "    .dataframe tbody tr th {\n",
       "        vertical-align: top;\n",
       "    }\n",
       "</style>\n",
       "<table border=\"1\" class=\"dataframe\">\n",
       "  <thead>\n",
       "    <tr style=\"text-align: right;\">\n",
       "      <th></th>\n",
       "      <th>surface error [%]</th>\n",
       "      <th>volume error [%]</th>\n",
       "      <th>measurement_resolution</th>\n",
       "    </tr>\n",
       "  </thead>\n",
       "  <tbody>\n",
       "  </tbody>\n",
       "</table>\n",
       "</div>"
      ],
      "text/plain": [
       "Empty DataFrame\n",
       "Columns: [surface error [%], volume error [%], measurement_resolution]\n",
       "Index: []"
      ]
     },
     "execution_count": 271,
     "metadata": {},
     "output_type": "execute_result"
    }
   ],
   "source": [
    "\n",
    "dfs = df[\n",
    "    df[\"output note\"] == \"resolution sphere\"\n",
    "    # df[\"generators Unconnected cylinders radius_distribution_mean\"] == 5 \n",
    "]\n",
    "dfsp = dfs[[\"surface error [%]\", \"volume error [%]\", \"measurement_resolution\"]].sort_values(\n",
    "    \"measurement_resolution\")\n",
    "if len(dfsp) > 0:\n",
    "    dfsp.plot(x=\"measurement_resolution\", **plotkw)\n",
    "dfsp"
   ]
  },
  {
   "cell_type": "code",
   "execution_count": 272,
   "metadata": {
    "collapsed": false,
    "deletable": true,
    "editable": true
   },
   "outputs": [],
   "source": [
    "\n",
    "#sns.factorplot(\"measurement_resolution\", \"surface error [%]\", data=dfs)#.set(ylim=(0, 1))\n"
   ]
  },
  {
   "cell_type": "code",
   "execution_count": 273,
   "metadata": {
    "collapsed": false,
    "deletable": true,
    "editable": true
   },
   "outputs": [
    {
     "data": {
      "text/plain": [
       "<seaborn.axisgrid.FacetGrid at 0x10da6d150>"
      ]
     },
     "execution_count": 273,
     "metadata": {},
     "output_type": "execute_result"
    },
    {
     "data": {
      "image/png": "[encoded data removed]",
      "text/plain": [
       "<matplotlib.figure.Figure at 0x10b5cf0d0>"
      ]
     },
     "metadata": {},
     "output_type": "display_data"
    }
   ],
   "source": [
    "\n",
    "sns.lmplot(\"measurement_resolution\", \"surface error [%]\", data=dfs)#.set(ylim=(0, 1))"
   ]
  },
  {
   "cell_type": "code",
   "execution_count": 274,
   "metadata": {
    "collapsed": false,
    "deletable": true,
    "editable": true
   },
   "outputs": [],
   "source": [
    "dfs = df[\n",
    "    df[\"output note\"] == \"resolution tube\"\n",
    "    # df[\"generators Unconnected cylinders radius_distribution_mean\"] == 5 \n",
    "]\n",
    "dfsp = dfs[[\"surface error [%]\", \"volume error [%]\", \"measurement_resolution\"]].sort_values(\n",
    "    \"measurement_resolution\")\n",
    "if len(dfsp) > 0:\n",
    "    dfsp.plot( x=\"measurement_resolution\", **plotkw)\n",
    "# dfsp"
   ]
  },
  {
   "cell_type": "code",
   "execution_count": 275,
   "metadata": {
    "collapsed": false,
    "deletable": true,
    "editable": true
   },
   "outputs": [],
   "source": [
    "# df = pd.read_csv(op.expanduser(datapath))\n",
    "# df[\"surface error [mm^2]\"] = np.abs(df[\"numeric surface [mm^2]\"] - df[\"surface [mm^2]\"])\n",
    "# df[\"surface error [%]\"] = df[\"surface error [mm^2]\"] / df[\"surface [mm^2]\"] * 100\n",
    "# df[\"volume error [mm^3]\"] = np.abs(df[\"numeric volume [mm^3]\"] - df[\"volume [mm^3]\"])\n",
    "# df[\"volume error [%]\"] = df[\"volume error [mm^3]\"] / df[\"volume [mm^3]\"] * 100\n",
    "# df[\"measurement_resolution\"] = df[\"postprocessing measurement_resolution\"]\n",
    "dfs = df[\n",
    "    df[\"output note\"] == \"tube length\"\n",
    "    # df[\"generators Unconnected cylinders radius_distribution_mean\"] == 5 \n",
    "]\n",
    "dfsp = dfs[[\"surface error [%]\", \"volume error [%]\", \"length_distribution_mean\"]].sort_values(\n",
    "    \"length_distribution_mean\")\n",
    "if len(dfsp) > 0:\n",
    "    dfsp.plot( x=\"measurement_resolution\", **plotkw)\n"
   ]
  },
  {
   "cell_type": "code",
   "execution_count": 276,
   "metadata": {
    "collapsed": true,
    "deletable": true,
    "editable": true
   },
   "outputs": [],
   "source": [
    "import seaborn as sns"
   ]
  },
  {
   "cell_type": "code",
   "execution_count": 277,
   "metadata": {
    "collapsed": false,
    "deletable": true,
    "editable": true
   },
   "outputs": [
    {
     "data": {
      "text/plain": [
       "['/Users/mjirik/miniconda/lib/python2.7/site-packages/pandas']"
      ]
     },
     "execution_count": 277,
     "metadata": {},
     "output_type": "execute_result"
    }
   ],
   "source": [
    "pd.__path__"
   ]
  },
  {
   "cell_type": "code",
   "execution_count": 278,
   "metadata": {
    "collapsed": false,
    "deletable": true,
    "editable": true
   },
   "outputs": [
    {
     "data": {
      "text/plain": [
       "u'0.20.1'"
      ]
     },
     "execution_count": 278,
     "metadata": {},
     "output_type": "execute_result"
    }
   ],
   "source": [
    "pd.__version__"
   ]
  },
  {
   "cell_type": "code",
   "execution_count": 279,
   "metadata": {
    "collapsed": false,
    "deletable": true,
    "editable": true
   },
   "outputs": [
    {
     "data": {
      "text/plain": [
       "0    compensation method 5 tubes best\n",
       "1    compensation method 5 tubes best\n",
       "2    compensation method 5 tubes best\n",
       "3    compensation method 5 tubes best\n",
       "4    compensation method 5 tubes best\n",
       "5    compensation method 5 tubes best\n",
       "6    compensation method 5 tubes best\n",
       "7    compensation method 5 tubes best\n",
       "8    compensation method 5 tubes best\n",
       "9    compensation method 5 tubes best\n",
       "Name: output note, dtype: object"
      ]
     },
     "execution_count": 279,
     "metadata": {},
     "output_type": "execute_result"
    }
   ],
   "source": [
    "## element_number = 10, \n",
    "df[\"output note\"]"
   ]
  },
  {
   "cell_type": "markdown",
   "metadata": {
    "deletable": true,
    "editable": true
   },
   "source": [
    "## Compensation methods"
   ]
  },
  {
   "cell_type": "code",
   "execution_count": 280,
   "metadata": {
    "collapsed": false
   },
   "outputs": [],
   "source": [
    "def dfplot(dfs, plotkw, radius_method=\"\"):\n",
    "    \n",
    "    dfsp = dfs[[\"surface error [%]\", \"volume error [%]\", \"measurement_resolution\"]].sort_values(\n",
    "        \"measurement_resolution\")\n",
    "    \n",
    "    if len(dfsp) < 1:\n",
    "        return dfsp\n",
    "    # wilcoxon - čím větší, tím lepší, alespoň 0.05\n",
    "    surf_w = scipy.stats.wilcoxon(x=dfs[\"surface [mm^2]\"], y=dfs[\"numeric surface [mm^2]\"], correction=False, zero_method=\"pratt\")\n",
    "    # spearman čím menší, tím lepší\n",
    "    surf_s = scipy.stats.spearmanr(dfs[\"surface [mm^2]\"], dfs[\"numeric surface [mm^2]\"])\n",
    "    \n",
    "    # wilcoxon - čím větší, tím lepší\n",
    "    vol_w = scipy.stats.wilcoxon(x=dfs[\"volume [mm^3]\"], y=dfs[\"numeric volume [mm^3]\"], correction=False, zero_method=\"pratt\")\n",
    "    # spearman čím menší, tím lepší\n",
    "    vol_s = scipy.stats.spearmanr(dfs[\"volume [mm^3]\"], dfs[\"numeric volume [mm^3]\"])\n",
    "    \n",
    "    print radius_method, \": \\nsurface (w/s): \\n\" , surf_w,\"\\n\", surf_s, \"\\nvolume (w/s): \\n\", vol_w, \"\\n\",vol_s\n",
    "    fig = plt.figure(figsize=[25, 18])\n",
    "    ax = plt.subplot(121)\n",
    "    dfsp.plot(\n",
    "        ax=ax, x=\"measurement_resolution\", **plotkw)\n",
    "    ax = plt.subplot(122)\n",
    "    dfsp[[\"surface error [%]\", \"volume error [%]\"]].plot(\n",
    "        ax=ax, kind=\"box\", **plotkw)\n",
    "    plt.suptitle(radius_method)\n",
    "    return dfsp"
   ]
  },
  {
   "cell_type": "markdown",
   "metadata": {
    "deletable": true,
    "editable": true
   },
   "source": [
    "### 1 sphere"
   ]
  },
  {
   "cell_type": "code",
   "execution_count": 281,
   "metadata": {
    "collapsed": false,
    "deletable": true,
    "editable": true,
    "scrolled": false
   },
   "outputs": [],
   "source": [
    "for radius_method in [\"inscribed\", \"circumscribed\", \"cylinder surface\", \"cylinder volume\", \"average\", \"cylinder volume + sphere compensation\"]:\n",
    "        \n",
    "    dfs = df[\n",
    "        df[\"output note\"] == \"compensation method 1 sphere \" + radius_method\n",
    "        # df[\"generators Unconnected cylinders radius_distribution_mean\"] == 5 \n",
    "    ]\n",
    "    dfplot(dfs, plotkw, radius_method)\n",
    "    \n"
   ]
  },
  {
   "cell_type": "markdown",
   "metadata": {
    "deletable": true,
    "editable": true
   },
   "source": [
    "### 1 tube"
   ]
  },
  {
   "cell_type": "code",
   "execution_count": 282,
   "metadata": {
    "collapsed": false,
    "deletable": true,
    "editable": true,
    "scrolled": false
   },
   "outputs": [],
   "source": [
    "for radius_method in [\"cylinder volume + sphere compensation\"]:\n",
    "        \n",
    "    dfs = df[\n",
    "        df[\"output note\"] == \"compensation method 1 tube \" + radius_method\n",
    "        # df[\"generators Unconnected cylinders radius_distribution_mean\"] == 5 \n",
    "    ]\n",
    "    \n",
    "    dfplot(dfs, plotkw, radius_method)\n"
   ]
  },
  {
   "cell_type": "markdown",
   "metadata": {
    "deletable": true,
    "editable": true
   },
   "source": [
    "## 5 tubes"
   ]
  },
  {
   "cell_type": "code",
   "execution_count": 283,
   "metadata": {
    "collapsed": false,
    "deletable": true,
    "editable": true,
    "scrolled": false
   },
   "outputs": [
    {
     "name": "stderr",
     "output_type": "stream",
     "text": [
      "/Users/mjirik/miniconda/lib/python2.7/site-packages/numpy/lib/function_base.py:2569: RuntimeWarning: invalid value encountered in true_divide\n",
      "  c /= stddev[:, None]\n",
      "/Users/mjirik/miniconda/lib/python2.7/site-packages/numpy/lib/function_base.py:2570: RuntimeWarning: invalid value encountered in true_divide\n",
      "  c /= stddev[None, :]\n",
      "/Users/mjirik/miniconda/lib/python2.7/site-packages/scipy/stats/_distn_infrastructure.py:875: RuntimeWarning: invalid value encountered in greater\n",
      "  return (self.a < x) & (x < self.b)\n"
     ]
    },
    {
     "name": "stdout",
     "output_type": "stream",
     "text": [
      "best : \n",
      "surface (w/s): \n",
      "WilcoxonResult(statistic=0.0, pvalue=0.0050620321262678644) \n",
      "SpearmanrResult(correlation=nan, pvalue=nan) \n",
      "volume (w/s): \n",
      "WilcoxonResult(statistic=0.0, pvalue=0.0050620321262678644) \n",
      "SpearmanrResult(correlation=nan, pvalue=nan)\n"
     ]
    },
    {
     "name": "stderr",
     "output_type": "stream",
     "text": [
      "/Users/mjirik/miniconda/lib/python2.7/site-packages/scipy/stats/_distn_infrastructure.py:875: RuntimeWarning: invalid value encountered in less\n",
      "  return (self.a < x) & (x < self.b)\n",
      "/Users/mjirik/miniconda/lib/python2.7/site-packages/scipy/stats/_distn_infrastructure.py:1814: RuntimeWarning: invalid value encountered in less_equal\n",
      "  cond2 = cond0 & (x <= self.a)\n"
     ]
    },
    {
     "data": {
      "image/png": "[encoded data removed]",
      "text/plain": [
       "<matplotlib.figure.Figure at 0x10dc02710>"
      ]
     },
     "metadata": {},
     "output_type": "display_data"
    }
   ],
   "source": [
    "# for radius_method in [\"cylinder volume + sphere compensation\"]:\n",
    "for radius_method in [\"cylinder surface\", \"cylinder volume\", \"cylinder volume + sphere compensation\", \"best\"]:\n",
    "\n",
    "        \n",
    "    dfs = df[\n",
    "        df[\"output note\"] == \"compensation method 5 tubes \" + radius_method\n",
    "    ]\n",
    "    \n",
    "    dfplot(dfs, plotkw, radius_method)\n",
    "#     dfsp = dfs[[\"surface error [%]\", \"volume error [%]\", \"measurement_resolution\"]].sort_values(\n",
    "#         \"measurement_resolution\")\n",
    "#     \n",
    "#     fig = plt.figure(figsize=[25, 18])\n",
    "#     ax = plt.subplot(121)\n",
    "#     dfsp.plot(\n",
    "#         ax=ax, x=\"measurement_resolution\", **plotkw)\n",
    "#     ax = plt.subplot(122)\n",
    "#     dfsp[[\"surface error [%]\", \"volume error [%]\"]].plot(\n",
    "#         ax=ax, kind=\"box\", **plotkw)\n",
    "#     plt.suptitle(radius_method)\n",
    "# "
   ]
  },
  {
   "cell_type": "code",
   "execution_count": 284,
   "metadata": {
    "collapsed": false,
    "deletable": true,
    "editable": true,
    "scrolled": false
   },
   "outputs": [],
   "source": [
    "for radius_method in [\"inscribed\", \"circumscribed\", \"cylinder surface\", \n",
    "                      \"cylinder volume\", \"average\", \"cylinder volume + sphere compensation\"]:\n",
    "        \n",
    "    dfs = df[\n",
    "        df[\"output note\"] == \"compensation method \" + radius_method\n",
    "        # df[\"generators Unconnected cylinders radius_distribution_mean\"] == 5 \n",
    "    ]\n",
    "    \n",
    "    dfplot(dfs, plotkw, radius_method)\n"
   ]
  },
  {
   "cell_type": "code",
   "execution_count": null,
   "metadata": {
    "collapsed": true,
    "deletable": true,
    "editable": true
   },
   "outputs": [],
   "source": []
  },
  {
   "cell_type": "markdown",
   "metadata": {
    "deletable": true,
    "editable": true
   },
   "source": [
    "### Radius estimation"
   ]
  },
  {
   "cell_type": "code",
   "execution_count": 285,
   "metadata": {
    "collapsed": false,
    "deletable": true,
    "editable": true
   },
   "outputs": [
    {
     "data": {
      "text/html": [
       "<div>\n",
       "<style>\n",
       "    .dataframe thead tr:only-child th {\n",
       "        text-align: right;\n",
       "    }\n",
       "\n",
       "    .dataframe thead th {\n",
       "        text-align: left;\n",
       "    }\n",
       "\n",
       "    .dataframe tbody tr th {\n",
       "        vertical-align: top;\n",
       "    }\n",
       "</style>\n",
       "<table border=\"1\" class=\"dataframe\">\n",
       "  <thead>\n",
       "    <tr style=\"text-align: right;\">\n",
       "      <th></th>\n",
       "      <th>volume [mm^3]</th>\n",
       "    </tr>\n",
       "  </thead>\n",
       "  <tbody>\n",
       "  </tbody>\n",
       "</table>\n",
       "</div>"
      ],
      "text/plain": [
       "Empty DataFrame\n",
       "Columns: [volume [mm^3]]\n",
       "Index: []"
      ]
     },
     "execution_count": 285,
     "metadata": {},
     "output_type": "execute_result"
    }
   ],
   "source": [
    "dfs[[\"volume [mm^3]\"]]"
   ]
  },
  {
   "cell_type": "code",
   "execution_count": 286,
   "metadata": {
    "collapsed": true,
    "deletable": true,
    "editable": true
   },
   "outputs": [],
   "source": [
    "### Kontrolní výpočet objemu"
   ]
  },
  {
   "cell_type": "code",
   "execution_count": 287,
   "metadata": {
    "collapsed": false,
    "deletable": true,
    "editable": true
   },
   "outputs": [
    {
     "data": {
      "text/plain": [
       "33510.32163829113"
      ]
     },
     "execution_count": 287,
     "metadata": {},
     "output_type": "execute_result"
    }
   ],
   "source": [
    "v_sphere = (4.0/3.0) * np.pi * 20.0**3\n",
    "v_sphere"
   ]
  },
  {
   "cell_type": "code",
   "execution_count": 288,
   "metadata": {
    "collapsed": false,
    "deletable": true,
    "editable": true
   },
   "outputs": [
    {
     "data": {
      "text/plain": [
       "3354.815939908998"
      ]
     },
     "execution_count": 288,
     "metadata": {},
     "output_type": "execute_result"
    }
   ],
   "source": [
    "v_cylinder = np.pi*20.0**2 * 2.6696777\n",
    "v_cylinder"
   ]
  },
  {
   "cell_type": "code",
   "execution_count": 289,
   "metadata": {
    "collapsed": false,
    "deletable": true,
    "editable": true
   },
   "outputs": [
    {
     "data": {
      "text/plain": [
       "36865.13757820013"
      ]
     },
     "execution_count": 289,
     "metadata": {},
     "output_type": "execute_result"
    }
   ],
   "source": [
    "v_cylinder + v_sphere"
   ]
  },
  {
   "cell_type": "markdown",
   "metadata": {
    "deletable": true,
    "editable": true
   },
   "source": [
    "\n",
    "# Numeric and analytic error"
   ]
  },
  {
   "cell_type": "markdown",
   "metadata": {
    "deletable": true,
    "editable": true
   },
   "source": [
    "## measurement_resolution = 25"
   ]
  },
  {
   "cell_type": "code",
   "execution_count": 290,
   "metadata": {
    "collapsed": false,
    "deletable": true,
    "editable": true
   },
   "outputs": [
    {
     "data": {
      "text/html": [
       "<div>\n",
       "<style>\n",
       "    .dataframe thead tr:only-child th {\n",
       "        text-align: right;\n",
       "    }\n",
       "\n",
       "    .dataframe thead th {\n",
       "        text-align: left;\n",
       "    }\n",
       "\n",
       "    .dataframe tbody tr th {\n",
       "        vertical-align: top;\n",
       "    }\n",
       "</style>\n",
       "<table border=\"1\" class=\"dataframe\">\n",
       "  <thead>\n",
       "    <tr style=\"text-align: right;\">\n",
       "      <th></th>\n",
       "      <th>volume [mm^3]</th>\n",
       "      <th>numeric volume [mm^3]</th>\n",
       "      <th>surface [mm^2]</th>\n",
       "      <th>numeric surface [mm^2]</th>\n",
       "      <th>surface error [%]</th>\n",
       "      <th>volume error [%]</th>\n",
       "    </tr>\n",
       "  </thead>\n",
       "  <tbody>\n",
       "    <tr>\n",
       "      <th>0</th>\n",
       "      <td>102803.532046</td>\n",
       "      <td>103142.713506</td>\n",
       "      <td>12931.022562</td>\n",
       "      <td>13057.748832</td>\n",
       "      <td>0.980017</td>\n",
       "      <td>0.329932</td>\n",
       "    </tr>\n",
       "    <tr>\n",
       "      <th>1</th>\n",
       "      <td>102803.532046</td>\n",
       "      <td>102933.413928</td>\n",
       "      <td>12931.022562</td>\n",
       "      <td>12997.859022</td>\n",
       "      <td>0.516869</td>\n",
       "      <td>0.126340</td>\n",
       "    </tr>\n",
       "    <tr>\n",
       "      <th>2</th>\n",
       "      <td>102803.532046</td>\n",
       "      <td>103889.858604</td>\n",
       "      <td>12931.022562</td>\n",
       "      <td>13006.564220</td>\n",
       "      <td>0.584189</td>\n",
       "      <td>1.056702</td>\n",
       "    </tr>\n",
       "    <tr>\n",
       "      <th>3</th>\n",
       "      <td>102803.532046</td>\n",
       "      <td>104139.382836</td>\n",
       "      <td>12931.022562</td>\n",
       "      <td>12981.461401</td>\n",
       "      <td>0.390061</td>\n",
       "      <td>1.299421</td>\n",
       "    </tr>\n",
       "    <tr>\n",
       "      <th>4</th>\n",
       "      <td>102803.532046</td>\n",
       "      <td>103250.014147</td>\n",
       "      <td>12931.022562</td>\n",
       "      <td>12975.590998</td>\n",
       "      <td>0.344663</td>\n",
       "      <td>0.434306</td>\n",
       "    </tr>\n",
       "    <tr>\n",
       "      <th>5</th>\n",
       "      <td>102803.532046</td>\n",
       "      <td>102821.930058</td>\n",
       "      <td>12931.022562</td>\n",
       "      <td>12946.422092</td>\n",
       "      <td>0.119090</td>\n",
       "      <td>0.017896</td>\n",
       "    </tr>\n",
       "    <tr>\n",
       "      <th>6</th>\n",
       "      <td>102803.532046</td>\n",
       "      <td>103129.141322</td>\n",
       "      <td>12931.022562</td>\n",
       "      <td>12962.641465</td>\n",
       "      <td>0.244520</td>\n",
       "      <td>0.316730</td>\n",
       "    </tr>\n",
       "    <tr>\n",
       "      <th>7</th>\n",
       "      <td>102803.532046</td>\n",
       "      <td>102986.086771</td>\n",
       "      <td>12931.022562</td>\n",
       "      <td>12945.193345</td>\n",
       "      <td>0.109587</td>\n",
       "      <td>0.177576</td>\n",
       "    </tr>\n",
       "    <tr>\n",
       "      <th>8</th>\n",
       "      <td>102803.532046</td>\n",
       "      <td>102946.178750</td>\n",
       "      <td>12931.022562</td>\n",
       "      <td>12944.364284</td>\n",
       "      <td>0.103176</td>\n",
       "      <td>0.138757</td>\n",
       "    </tr>\n",
       "    <tr>\n",
       "      <th>9</th>\n",
       "      <td>102803.532046</td>\n",
       "      <td>103061.164597</td>\n",
       "      <td>12931.022562</td>\n",
       "      <td>12946.133572</td>\n",
       "      <td>0.116859</td>\n",
       "      <td>0.250607</td>\n",
       "    </tr>\n",
       "  </tbody>\n",
       "</table>\n",
       "</div>"
      ],
      "text/plain": [
       "   volume [mm^3]  numeric volume [mm^3]  surface [mm^2]  \\\n",
       "0  102803.532046          103142.713506    12931.022562   \n",
       "1  102803.532046          102933.413928    12931.022562   \n",
       "2  102803.532046          103889.858604    12931.022562   \n",
       "3  102803.532046          104139.382836    12931.022562   \n",
       "4  102803.532046          103250.014147    12931.022562   \n",
       "5  102803.532046          102821.930058    12931.022562   \n",
       "6  102803.532046          103129.141322    12931.022562   \n",
       "7  102803.532046          102986.086771    12931.022562   \n",
       "8  102803.532046          102946.178750    12931.022562   \n",
       "9  102803.532046          103061.164597    12931.022562   \n",
       "\n",
       "   numeric surface [mm^2]  surface error [%]  volume error [%]  \n",
       "0            13057.748832           0.980017          0.329932  \n",
       "1            12997.859022           0.516869          0.126340  \n",
       "2            13006.564220           0.584189          1.056702  \n",
       "3            12981.461401           0.390061          1.299421  \n",
       "4            12975.590998           0.344663          0.434306  \n",
       "5            12946.422092           0.119090          0.017896  \n",
       "6            12962.641465           0.244520          0.316730  \n",
       "7            12945.193345           0.109587          0.177576  \n",
       "8            12944.364284           0.103176          0.138757  \n",
       "9            12946.133572           0.116859          0.250607  "
      ]
     },
     "execution_count": 290,
     "metadata": {},
     "output_type": "execute_result"
    }
   ],
   "source": [
    "# df = pd.read_csv(op.expanduser(datapath))\n",
    "# df[\"surface error [mm^2]\"] = df[\"numeric surface [mm^2]\"] - df[\"surface [mm^2]\"]\n",
    "# df[\"surface error [%]\"] = df[\"surface error [mm^2]\"] / df[\"surface [mm^2]\"] * 100\n",
    "# df[\"volume error [mm^3]\"] = df[\"numeric volume [mm^3]\"] - df[\"volume [mm^3]\"]\n",
    "# df[\"volume error [%]\"] = df[\"volume error [mm^3]\"] / df[\"volume [mm^3]\"] * 100\n",
    "# df[\"measurement_resolution\"] = df[\"postprocessing measurement_resolution\"]\n",
    "# df[\"element_number\"] = df[\"generators Unconnected tubes element_number\"]\n",
    "# df[\"length_distribution_mean\"] = df[\"generators Unconnected tubes radius_distribution_mean\"]\n",
    "# df[\"radius_distribution_mean\"] = df[\"generators Unconnected tubes length_distribution_mean\"]\n",
    "dfs = df[\n",
    "    df[\"output note\"] == \"compensation method 5 tubes \" + \"best\"\n",
    "]\n",
    "dfsp = dfs[[\"volume [mm^3]\", \"numeric volume [mm^3]\", \"surface [mm^2]\", \"numeric surface [mm^2]\", \"surface error [%]\", \"volume error [%]\"]]\n",
    "dfsp"
   ]
  },
  {
   "cell_type": "code",
   "execution_count": 291,
   "metadata": {
    "collapsed": false,
    "deletable": true,
    "editable": true
   },
   "outputs": [
    {
     "data": {
      "image/png": "[encoded data removed]",
      "text/plain": [
       "<matplotlib.figure.Figure at 0x10b5cf190>"
      ]
     },
     "metadata": {},
     "output_type": "display_data"
    }
   ],
   "source": [
    "if len(dfsp) > 0:\n",
    "    axp = dfsp[[\"surface [mm^2]\", \"numeric surface [mm^2]\"]].plot(kind=\"box\", **plotkw)"
   ]
  },
  {
   "cell_type": "code",
   "execution_count": null,
   "metadata": {
    "collapsed": true,
    "deletable": true,
    "editable": true
   },
   "outputs": [],
   "source": []
  },
  {
   "cell_type": "code",
   "execution_count": 292,
   "metadata": {
    "collapsed": false,
    "deletable": true,
    "editable": true
   },
   "outputs": [
    {
     "data": {
      "image/png": "[encoded data removed]",
      "text/plain": [
       "<matplotlib.figure.Figure at 0x10f505a90>"
      ]
     },
     "metadata": {},
     "output_type": "display_data"
    }
   ],
   "source": [
    "if len(dfsp) > 0:\n",
    "    axp = dfsp[[\"volume [mm^3]\", \"numeric volume [mm^3]\"]].plot(kind=\"box\", **plotkw)"
   ]
  },
  {
   "cell_type": "code",
   "execution_count": 293,
   "metadata": {
    "collapsed": false,
    "deletable": true,
    "editable": true
   },
   "outputs": [
    {
     "data": {
      "image/png": "[encoded data removed]",
      "text/plain": [
       "<matplotlib.figure.Figure at 0x10dbd6490>"
      ]
     },
     "metadata": {},
     "output_type": "display_data"
    }
   ],
   "source": [
    "if len(dfsp) > 0:\n",
    "    axp = dfsp[[\"surface error [%]\", \"volume error [%]\"]].plot(kind=\"box\", **plotkw)"
   ]
  },
  {
   "cell_type": "code",
   "execution_count": null,
   "metadata": {
    "collapsed": true,
    "deletable": true,
    "editable": true
   },
   "outputs": [],
   "source": []
  },
  {
   "cell_type": "code",
   "execution_count": 294,
   "metadata": {
    "collapsed": false,
    "deletable": true,
    "editable": true,
    "scrolled": false
   },
   "outputs": [
    {
     "name": "stdout",
     "output_type": "stream",
     "text": [
      "best : \n",
      "surface (w/s): \n",
      "WilcoxonResult(statistic=0.0, pvalue=0.0050620321262678644) \n",
      "SpearmanrResult(correlation=nan, pvalue=nan) \n",
      "volume (w/s): \n",
      "WilcoxonResult(statistic=0.0, pvalue=0.0050620321262678644) \n",
      "SpearmanrResult(correlation=nan, pvalue=nan)\n"
     ]
    },
    {
     "data": {
      "image/png": "[encoded data removed]",
      "text/plain": [
       "<matplotlib.figure.Figure at 0x10cff8190>"
      ]
     },
     "metadata": {},
     "output_type": "display_data"
    }
   ],
   "source": [
    "# for radius_method in [\"cylinder volume + sphere compensation\"]:\n",
    "for radius_method in [\"cylinder surface\", \"cylinder volume\", \"cylinder volume + sphere compensation\", \"best\"]:\n",
    "\n",
    "        \n",
    "    dfs = df[\n",
    "        df[\"output note\"] == \"compensation method 5 tubes \" + radius_method\n",
    "    ]\n",
    "    \n",
    "    dfplot(dfs, plotkw, radius_method)\n"
   ]
  },
  {
   "cell_type": "code",
   "execution_count": 295,
   "metadata": {
    "collapsed": false,
    "deletable": true,
    "editable": true
   },
   "outputs": [
    {
     "data": {
      "text/plain": [
       "[<matplotlib.lines.Line2D at 0x10d2dced0>]"
      ]
     },
     "execution_count": 295,
     "metadata": {},
     "output_type": "execute_result"
    },
    {
     "data": {
      "image/png": "[encoded data removed]",
      "text/plain": [
       "<matplotlib.figure.Figure at 0x10b351610>"
      ]
     },
     "metadata": {},
     "output_type": "display_data"
    }
   ],
   "source": [
    "nsu = dfsp[\"numeric surface [mm^2]\"]\n",
    "su = dfsp[\"surface [mm^2]\"]\n",
    "nsux = np.ones([len(nsu)])\n",
    "sux = np.zeros([len(su)])\n",
    "y = np.concatenate([nsu, su])\n",
    "x = np.concatenate([nsux,sux])\n",
    "#plot(, np.concatenate([nsux,sux]))\n",
    "plt.plot(x, y)"
   ]
  },
  {
   "cell_type": "code",
   "execution_count": 296,
   "metadata": {
    "collapsed": false,
    "deletable": true,
    "editable": true
   },
   "outputs": [
    {
     "data": {
      "text/plain": [
       "(20,)"
      ]
     },
     "execution_count": 296,
     "metadata": {},
     "output_type": "execute_result"
    }
   ],
   "source": [
    "y.shape"
   ]
  },
  {
   "cell_type": "code",
   "execution_count": 297,
   "metadata": {
    "collapsed": false,
    "deletable": true,
    "editable": true
   },
   "outputs": [
    {
     "data": {
      "text/plain": [
       "(20,)"
      ]
     },
     "execution_count": 297,
     "metadata": {},
     "output_type": "execute_result"
    }
   ],
   "source": [
    "x.shape"
   ]
  },
  {
   "cell_type": "code",
   "execution_count": 298,
   "metadata": {
    "collapsed": false,
    "deletable": true,
    "editable": true
   },
   "outputs": [
    {
     "data": {
      "text/html": [
       "<div>\n",
       "<style>\n",
       "    .dataframe thead tr:only-child th {\n",
       "        text-align: right;\n",
       "    }\n",
       "\n",
       "    .dataframe thead th {\n",
       "        text-align: left;\n",
       "    }\n",
       "\n",
       "    .dataframe tbody tr th {\n",
       "        vertical-align: top;\n",
       "    }\n",
       "</style>\n",
       "<table border=\"1\" class=\"dataframe\">\n",
       "  <thead>\n",
       "    <tr style=\"text-align: right;\">\n",
       "      <th></th>\n",
       "      <th>volume [mm^3]</th>\n",
       "      <th>numeric volume [mm^3]</th>\n",
       "      <th>surface [mm^2]</th>\n",
       "      <th>numeric surface [mm^2]</th>\n",
       "      <th>surface error [%]</th>\n",
       "      <th>volume error [%]</th>\n",
       "    </tr>\n",
       "  </thead>\n",
       "  <tbody>\n",
       "    <tr>\n",
       "      <th>count</th>\n",
       "      <td>10.000000</td>\n",
       "      <td>10.000000</td>\n",
       "      <td>10.000000</td>\n",
       "      <td>10.000000</td>\n",
       "      <td>10.000000</td>\n",
       "      <td>10.000000</td>\n",
       "    </tr>\n",
       "    <tr>\n",
       "      <th>mean</th>\n",
       "      <td>102803.532046</td>\n",
       "      <td>103229.988452</td>\n",
       "      <td>12931.022562</td>\n",
       "      <td>12976.397923</td>\n",
       "      <td>0.350903</td>\n",
       "      <td>0.414827</td>\n",
       "    </tr>\n",
       "    <tr>\n",
       "      <th>std</th>\n",
       "      <td>0.000000</td>\n",
       "      <td>435.076037</td>\n",
       "      <td>0.000000</td>\n",
       "      <td>36.542891</td>\n",
       "      <td>0.282599</td>\n",
       "      <td>0.423211</td>\n",
       "    </tr>\n",
       "    <tr>\n",
       "      <th>min</th>\n",
       "      <td>102803.532046</td>\n",
       "      <td>102821.930058</td>\n",
       "      <td>12931.022562</td>\n",
       "      <td>12944.364284</td>\n",
       "      <td>0.103176</td>\n",
       "      <td>0.017896</td>\n",
       "    </tr>\n",
       "    <tr>\n",
       "      <th>25%</th>\n",
       "      <td>102803.532046</td>\n",
       "      <td>102956.155755</td>\n",
       "      <td>12931.022562</td>\n",
       "      <td>12946.205702</td>\n",
       "      <td>0.117416</td>\n",
       "      <td>0.148462</td>\n",
       "    </tr>\n",
       "    <tr>\n",
       "      <th>50%</th>\n",
       "      <td>102803.532046</td>\n",
       "      <td>103095.152960</td>\n",
       "      <td>12931.022562</td>\n",
       "      <td>12969.116232</td>\n",
       "      <td>0.294591</td>\n",
       "      <td>0.283668</td>\n",
       "    </tr>\n",
       "    <tr>\n",
       "      <th>75%</th>\n",
       "      <td>102803.532046</td>\n",
       "      <td>103223.188987</td>\n",
       "      <td>12931.022562</td>\n",
       "      <td>12993.759617</td>\n",
       "      <td>0.485167</td>\n",
       "      <td>0.408213</td>\n",
       "    </tr>\n",
       "    <tr>\n",
       "      <th>max</th>\n",
       "      <td>102803.532046</td>\n",
       "      <td>104139.382836</td>\n",
       "      <td>12931.022562</td>\n",
       "      <td>13057.748832</td>\n",
       "      <td>0.980017</td>\n",
       "      <td>1.299421</td>\n",
       "    </tr>\n",
       "  </tbody>\n",
       "</table>\n",
       "</div>"
      ],
      "text/plain": [
       "       volume [mm^3]  numeric volume [mm^3]  surface [mm^2]  \\\n",
       "count      10.000000              10.000000       10.000000   \n",
       "mean   102803.532046          103229.988452    12931.022562   \n",
       "std         0.000000             435.076037        0.000000   \n",
       "min    102803.532046          102821.930058    12931.022562   \n",
       "25%    102803.532046          102956.155755    12931.022562   \n",
       "50%    102803.532046          103095.152960    12931.022562   \n",
       "75%    102803.532046          103223.188987    12931.022562   \n",
       "max    102803.532046          104139.382836    12931.022562   \n",
       "\n",
       "       numeric surface [mm^2]  surface error [%]  volume error [%]  \n",
       "count               10.000000          10.000000         10.000000  \n",
       "mean             12976.397923           0.350903          0.414827  \n",
       "std                 36.542891           0.282599          0.423211  \n",
       "min              12944.364284           0.103176          0.017896  \n",
       "25%              12946.205702           0.117416          0.148462  \n",
       "50%              12969.116232           0.294591          0.283668  \n",
       "75%              12993.759617           0.485167          0.408213  \n",
       "max              13057.748832           0.980017          1.299421  "
      ]
     },
     "execution_count": 298,
     "metadata": {},
     "output_type": "execute_result"
    }
   ],
   "source": [
    "dfsp.describe()"
   ]
  },
  {
   "cell_type": "markdown",
   "metadata": {
    "deletable": true,
    "editable": true
   },
   "source": [
    "# Statistics"
   ]
  },
  {
   "cell_type": "code",
   "execution_count": 299,
   "metadata": {
    "collapsed": false,
    "deletable": true,
    "editable": true,
    "scrolled": false
   },
   "outputs": [],
   "source": [
    "# for radius_method in [\"cylinder volume + sphere compensation\"]:\n",
    "for radius_method in [\n",
    "    \"inscribed\", \n",
    "    # \"circumscribed\", \"cylinder surface\", \"cylinder volume\",\n",
    "    \"average\", \n",
    "    \"cylinder volume + sphere compensation\", \n",
    "    \"best\"]:\n",
    "\n",
    "        \n",
    "    dfs = df[\n",
    "        df[\"output note\"] == \"fixed resolution \" + radius_method\n",
    "    ]\n",
    "    \n",
    "    dfsp = dfs[[\"surface error [%]\", \"volume error [%]\", \"measurement_resolution\"]].sort_values(\n",
    "        \"measurement_resolution\")\n",
    "    \n",
    "    dfplot(dfs, plotkw, radius_method)\n"
   ]
  },
  {
   "cell_type": "code",
   "execution_count": 300,
   "metadata": {
    "collapsed": false,
    "deletable": true,
    "editable": true
   },
   "outputs": [
    {
     "data": {
      "text/html": [
       "<div>\n",
       "<style>\n",
       "    .dataframe thead tr:only-child th {\n",
       "        text-align: right;\n",
       "    }\n",
       "\n",
       "    .dataframe thead th {\n",
       "        text-align: left;\n",
       "    }\n",
       "\n",
       "    .dataframe tbody tr th {\n",
       "        vertical-align: top;\n",
       "    }\n",
       "</style>\n",
       "<table border=\"1\" class=\"dataframe\">\n",
       "  <thead>\n",
       "    <tr style=\"text-align: right;\">\n",
       "      <th></th>\n",
       "      <th>datetime</th>\n",
       "      <th>length [mm]</th>\n",
       "      <th>volume [mm^3]</th>\n",
       "      <th>surface [mm^2]</th>\n",
       "      <th>area volume [mm^3]</th>\n",
       "      <th>count []</th>\n",
       "      <th>numeric volume [mm^3]</th>\n",
       "      <th>numeric surface [mm^2]</th>\n",
       "      <th>length d. [mm^-2]</th>\n",
       "      <th>volume d. []</th>\n",
       "      <th>...</th>\n",
       "      <th>postprocessing noise_lambda_stop</th>\n",
       "      <th>postprocessing noise_mean</th>\n",
       "      <th>postprocessing noise_rng_seed</th>\n",
       "      <th>postprocessing output_dtype</th>\n",
       "      <th>surface error [mm^2]</th>\n",
       "      <th>surface error [%]</th>\n",
       "      <th>volume error [mm^3]</th>\n",
       "      <th>volume error [%]</th>\n",
       "      <th>measurement_resolution</th>\n",
       "      <th>length_distribution_mean</th>\n",
       "    </tr>\n",
       "  </thead>\n",
       "  <tbody>\n",
       "  </tbody>\n",
       "</table>\n",
       "<p>0 rows × 85 columns</p>\n",
       "</div>"
      ],
      "text/plain": [
       "Empty DataFrame\n",
       "Columns: [datetime, length [mm], volume [mm^3], surface [mm^2], area volume [mm^3], count [], numeric volume [mm^3], numeric surface [mm^2], length d. [mm^-2], volume d. [], surface d. [mm^-1], appearance noise_preview, appearance show_aposteriori_surface, appearance skip_volume_generation, areasampling areasize_mm, areasampling areasize_px, areasampling voxelsize_mm, filepattern, generator_id, generators Continuous tubes element_number, generators Continuous tubes fixed_radius_distribution, generators Continuous tubes normal_radius_distribution, generators Continuous tubes radius_distribution_maximum, generators Continuous tubes radius_distribution_mean, generators Continuous tubes radius_distribution_minimum, generators Continuous tubes radius_distribution_standard_deviation, generators Continuous tubes random_generator_seed, generators Continuous tubes uniform_radius_distribution, generators Gensei n_objects, generators Unconnected tubes allow_overlap, generators Unconnected tubes element_number, generators Unconnected tubes fixed_radius_distribution, generators Unconnected tubes last_element_can_be_smaller, generators Unconnected tubes length_distribution_mean, generators Unconnected tubes length_distribution_standard_deviation, generators Unconnected tubes maximum_1000_iteration_number, generators Unconnected tubes normal_radius_distribution, generators Unconnected tubes orientation_alpha_rad, generators Unconnected tubes orientation_anisotropic, generators Unconnected tubes orientation_beta_rad, generators Unconnected tubes orientation_variance_rad, generators Unconnected tubes radius_distribution_maximum, generators Unconnected tubes radius_distribution_mean, generators Unconnected tubes radius_distribution_minimum, generators Unconnected tubes radius_distribution_standard_deviation, generators Unconnected tubes random_generator_seed, generators Unconnected tubes tube_shape, generators Unconnected tubes uniform_radius_distribution, generators Unconnected tubes volume_fraction, generators Voronoi tubes element_number, generators Voronoi tubes fixed_radius_distribution, generators Voronoi tubes normal_radius_distribution, generators Voronoi tubes radius_distribution_maximum, generators Voronoi tubes radius_distribution_mean, generators Voronoi tubes radius_distribution_minimum, generators Voronoi tubes radius_distribution_standard_deviation, generators Voronoi tubes random_generator_seed, generators Voronoi tubes uniform_radius_distribution, measurement polygon_radius_selection_method, measurement tube_shape, output aposteriori_measurement, output aposteriori_measurement_multiplier, output note, output one_row_filename, postprocessing add_noise, postprocessing gaussian_blur, postprocessing gaussian_filter_sigma_mm, postprocessing intensity_profile_intensity, postprocessing intensity_profile_radius, postprocessing limit_negative_intensities, postprocessing measurement_resolution, postprocessing negative, postprocessing noise_amplitude, postprocessing noise_exponent, postprocessing noise_lambda_start, postprocessing noise_lambda_stop, postprocessing noise_mean, postprocessing noise_rng_seed, postprocessing output_dtype, surface error [mm^2], surface error [%], volume error [mm^3], volume error [%], measurement_resolution, length_distribution_mean]\n",
       "Index: []\n",
       "\n",
       "[0 rows x 85 columns]"
      ]
     },
     "execution_count": 300,
     "metadata": {},
     "output_type": "execute_result"
    }
   ],
   "source": [
    "dfs"
   ]
  },
  {
   "cell_type": "markdown",
   "metadata": {
    "deletable": true,
    "editable": true
   },
   "source": [
    "## Surface"
   ]
  },
  {
   "cell_type": "code",
   "execution_count": 301,
   "metadata": {
    "collapsed": false,
    "deletable": true,
    "editable": true
   },
   "outputs": [
    {
     "data": {
      "text/plain": [
       "WilcoxonResult(statistic=0.0, pvalue=nan)"
      ]
     },
     "execution_count": 301,
     "metadata": {},
     "output_type": "execute_result"
    }
   ],
   "source": [
    "# wilcoxon - čím větší, tím lepší\n",
    "scipy.stats.wilcoxon(x=dfs[\"surface [mm^2]\"], y=dfs[\"numeric surface [mm^2]\"], correction=False, zero_method=\"pratt\")"
   ]
  },
  {
   "cell_type": "code",
   "execution_count": 302,
   "metadata": {
    "collapsed": false,
    "deletable": true,
    "editable": true
   },
   "outputs": [
    {
     "data": {
      "text/plain": [
       "WilcoxonResult(statistic=0.0, pvalue=nan)"
      ]
     },
     "execution_count": 302,
     "metadata": {},
     "output_type": "execute_result"
    }
   ],
   "source": [
    "scipy.stats.wilcoxon(dfs[\"surface error [%]\"], correction=False, zero_method=\"pratt\")"
   ]
  },
  {
   "cell_type": "code",
   "execution_count": 303,
   "metadata": {
    "collapsed": false,
    "deletable": true,
    "editable": true
   },
   "outputs": [
    {
     "data": {
      "text/plain": [
       "SpearmanrResult(correlation=nan, pvalue=nan)"
      ]
     },
     "execution_count": 303,
     "metadata": {},
     "output_type": "execute_result"
    }
   ],
   "source": [
    "# spearman čím menší, tím lepší\n",
    "scipy.stats.spearmanr(dfs[\"surface [mm^2]\"], dfs[\"numeric surface [mm^2]\"])"
   ]
  },
  {
   "cell_type": "markdown",
   "metadata": {
    "deletable": true,
    "editable": true
   },
   "source": [
    "## Volume"
   ]
  },
  {
   "cell_type": "code",
   "execution_count": 304,
   "metadata": {
    "collapsed": false,
    "deletable": true,
    "editable": true
   },
   "outputs": [
    {
     "data": {
      "text/plain": [
       "WilcoxonResult(statistic=0.0, pvalue=nan)"
      ]
     },
     "execution_count": 304,
     "metadata": {},
     "output_type": "execute_result"
    }
   ],
   "source": [
    "# wilcoxon - čím větší, tím lepší\n",
    "scipy.stats.wilcoxon(x=dfs[\"volume [mm^3]\"], y=dfs[\"numeric volume [mm^3]\"], correction=False, zero_method=\"pratt\")"
   ]
  },
  {
   "cell_type": "code",
   "execution_count": 305,
   "metadata": {
    "collapsed": false,
    "deletable": true,
    "editable": true
   },
   "outputs": [
    {
     "data": {
      "text/plain": [
       "SpearmanrResult(correlation=nan, pvalue=nan)"
      ]
     },
     "execution_count": 305,
     "metadata": {},
     "output_type": "execute_result"
    }
   ],
   "source": [
    "# spearman čím menší, tím lepší\n",
    "scipy.stats.spearmanr(dfs[\"volume [mm^3]\"], dfs[\"numeric volume [mm^3]\"])"
   ]
  },
  {
   "cell_type": "markdown",
   "metadata": {},
   "source": [
    "# Inscribed to circum"
   ]
  },
  {
   "cell_type": "code",
   "execution_count": 306,
   "metadata": {
    "collapsed": false,
    "deletable": true,
    "editable": true
   },
   "outputs": [
    {
     "data": {
      "text/plain": [
       "11.547005383792515"
      ]
     },
     "execution_count": 306,
     "metadata": {},
     "output_type": "execute_result"
    }
   ],
   "source": [
    "resolution = 6\n",
    "radius = 10\n",
    "\n",
    "alpha = (2*np.pi) / (resolution)\n",
    "radius_out = radius / np.cos(alpha/2)\n",
    "\n",
    "radius_out\n"
   ]
  },
  {
   "cell_type": "code",
   "execution_count": 307,
   "metadata": {
    "collapsed": false,
    "deletable": true,
    "editable": true
   },
   "outputs": [
    {
     "data": {
      "text/plain": [
       "6.123233995736766e-17"
      ]
     },
     "execution_count": 307,
     "metadata": {},
     "output_type": "execute_result"
    }
   ],
   "source": [
    "np.cos(np.pi/2)"
   ]
  }
 ],
 "metadata": {
  "anaconda-cloud": {},
  "kernelspec": {
   "display_name": "Python 2",
   "language": "python",
   "name": "python2"
  },
  "language_info": {
   "codemirror_mode": {
    "name": "ipython",
    "version": 2
   },
   "file_extension": ".py",
   "mimetype": "text/x-python",
   "name": "python",
   "nbconvert_exporter": "python",
   "pygments_lexer": "ipython2",
   "version": "2.7.11"
  }
 },
 "nbformat": 4,
 "nbformat_minor": 1
}
