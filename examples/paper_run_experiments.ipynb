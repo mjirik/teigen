{
 "cells": [
  {
   "cell_type": "markdown",
   "metadata": {
    "deletable": true,
    "editable": true
   },
   "source": [
    "# Experiment runner for paper\n",
    "\n",
    "\n",
    "For callibration run uncomment `compensation method 1 sphere` and `compensation method measurement 1 tube`"
   ]
  },
  {
   "cell_type": "code",
   "execution_count": 1,
   "metadata": {
    "collapsed": false,
    "deletable": true,
    "editable": true
   },
   "outputs": [
    {
     "name": "stdout",
     "output_type": "stream",
     "text": [
      "Populating the interactive namespace from numpy and matplotlib\n"
     ]
    }
   ],
   "source": [
    "%pylab inline"
   ]
  },
  {
   "cell_type": "code",
   "execution_count": 2,
   "metadata": {
    "collapsed": false,
    "deletable": true,
    "editable": true
   },
   "outputs": [
    {
     "name": "stdout",
     "output_type": "stream",
     "text": [
      "Populating the interactive namespace from numpy and matplotlib\n"
     ]
    },
    {
     "data": {
      "image/png": "[encoded data removed]",
      "text/plain": [
       "<matplotlib.figure.Figure at 0x7fc72b3addd0>"
      ]
     },
     "metadata": {},
     "output_type": "display_data"
    },
    {
     "name": "stdout",
     "output_type": "stream",
     "text": [
      "0/1260\n",
      "Populating the interactive namespace from numpy and matplotlib\n",
      "/home/mjirik/projects/teigen\n"
     ]
    },
    {
     "name": "stderr",
     "output_type": "stream",
     "text": [
      "/home/mjirik/miniconda2/lib/python2.7/site-packages/IPython/core/magics/pylab.py:161: UserWarning: pylab import has clobbered these variables: ['copy']\n",
      "`%matplotlib` prevents importing * from pylab and numpy\n",
      "  \"\\n`%matplotlib` prevents importing * from pylab and numpy\"\n"
     ]
    },
    {
     "name": "stdout",
     "output_type": "stream",
     "text": [
      "Using QVariant and QString version 1\n",
      "['/home/mjirik/projects/teigen/teigen']\n",
      "Populating the interactive namespace from numpy and matplotlib\n",
      "Populating the interactive namespace from numpy and matplotlib\n"
     ]
    },
    {
     "data": {
      "image/png": "[encoded data removed]",
      "text/plain": [
       "<matplotlib.figure.Figure at 0x7fc6f2d9c1d0>"
      ]
     },
     "metadata": {},
     "output_type": "display_data"
    },
    {
     "name": "stdout",
     "output_type": "stream",
     "text": [
      "0/1260\n",
      "/home/mjirik/projects/teigen\n",
      "['/home/mjirik/projects/teigen/teigen']\n"
     ]
    },
    {
     "ename": "TypeError",
     "evalue": "list indices must be integers, not str",
     "output_type": "error",
     "traceback": [
      "\u001b[0;31m---------------------------------------------------------------------------\u001b[0m",
      "\u001b[0;31mTypeError\u001b[0m                                 Traceback (most recent call last)",
      "\u001b[0;32m<ipython-input-2-a0aa39e2f415>\u001b[0m in \u001b[0;36m<module>\u001b[0;34m()\u001b[0m\n\u001b[1;32m     45\u001b[0m             \u001b[0mconfig\u001b[0m\u001b[0;34m[\u001b[0m\u001b[0;34m'filepattern'\u001b[0m\u001b[0;34m]\u001b[0m \u001b[0;34m=\u001b[0m \u001b[0;34m\"~/teigen_data/teigen_element_number_\"\u001b[0m \u001b[0;34m+\u001b[0m \u001b[0mstr\u001b[0m\u001b[0;34m(\u001b[0m\u001b[0melement_number\u001b[0m\u001b[0;34m)\u001b[0m \u001b[0;34m+\u001b[0m \u001b[0;34m\"_{seriesn:03d}/data{:06d}.jpg\"\u001b[0m\u001b[0;34m\u001b[0m\u001b[0m\n\u001b[1;32m     46\u001b[0m             \u001b[0mconfig\u001b[0m\u001b[0;34m[\u001b[0m\u001b[0;34m\"output\"\u001b[0m\u001b[0;34m]\u001b[0m\u001b[0;34m[\u001b[0m\u001b[0mrun_label_key\u001b[0m\u001b[0;34m]\u001b[0m \u001b[0;34m=\u001b[0m \u001b[0mrun_label\u001b[0m\u001b[0;34m\u001b[0m\u001b[0m\n\u001b[0;32m---> 47\u001b[0;31m             \u001b[0mconfigs\u001b[0m\u001b[0;34m[\u001b[0m\u001b[0mrun_label\u001b[0m\u001b[0;34m]\u001b[0m \u001b[0;34m=\u001b[0m \u001b[0mconfig\u001b[0m\u001b[0;34m\u001b[0m\u001b[0m\n\u001b[0m\u001b[1;32m     48\u001b[0m             \u001b[0;31m# configs.append(config)\u001b[0m\u001b[0;34m\u001b[0m\u001b[0;34m\u001b[0m\u001b[0m\n",
      "\u001b[0;31mTypeError\u001b[0m: list indices must be integers, not str"
     ]
    }
   ],
   "source": [
    "%run evaltools.ipynb\n",
    "%run experiments_params.ipynb\n",
    "%run paper_experiments_params.ipynb"
   ]
  },
  {
   "cell_type": "code",
   "execution_count": 3,
   "metadata": {
    "collapsed": false,
    "deletable": true,
    "editable": true,
    "scrolled": true
   },
   "outputs": [
    {
     "name": "stdout",
     "output_type": "stream",
     "text": [
      "/home/mjirik/projects/teigen\n",
      "['/home/mjirik/projects/teigen/teigen']\n"
     ]
    },
    {
     "data": {
      "text/plain": [
       "<module 'teigen.tb_vtk' from '/home/mjirik/projects/teigen/teigen/tb_vtk.pyc'>"
      ]
     },
     "execution_count": 3,
     "metadata": {},
     "output_type": "execute_result"
    }
   ],
   "source": [
    "import matplotlib.pyplot as plt\n",
    "import pandas as pd\n",
    "import numpy as np\n",
    "import os.path as op\n",
    "from pprint import pprint as pp\n",
    "import scipy.stats\n",
    "import seaborn as sns\n",
    "import sys\n",
    "pth = op.abspath(\"../\")\n",
    "print pth\n",
    "sys.path.insert(0, pth)\n",
    "import teigen\n",
    "import itertools\n",
    "reload(teigen)\n",
    "print teigen.__path__\n",
    "import teigen.tb_vtk\n",
    "reload (teigen.tb_vtk)"
   ]
  },
  {
   "cell_type": "code",
   "execution_count": 4,
   "metadata": {
    "collapsed": true,
    "deletable": true,
    "editable": true
   },
   "outputs": [],
   "source": [
    "run_list = [\n",
    "    \"mix 2\", # test quality of compensation\n",
    "    # \"short\",\n",
    "#     \"element number\", # run in the morning\n",
    "    # \"compensation method 5 tubes\", # looks good\n",
    "    #\n",
    "    # == paper experiments\n",
    "#     \"generated volume resolution_mm\", # done\n",
    "#     \"generated volume isotropy\", # one half\n",
    "#     \"generated volume radius\", # ok\n",
    "#     \"generated volume length\",  # do pulky\n",
    "#     \"generated volume element_number anisotropic\", # asi ok\n",
    "#     \"generated volume noise\", \n",
    "]"
   ]
  },
  {
   "cell_type": "code",
   "execution_count": 5,
   "metadata": {
    "collapsed": false,
    "deletable": true,
    "editable": true
   },
   "outputs": [],
   "source": [
    "tg = teigen.tgmain.Teigen()\n",
    "config = tg.get_default_config()"
   ]
  },
  {
   "cell_type": "code",
   "execution_count": 6,
   "metadata": {
    "collapsed": false,
    "deletable": true,
    "editable": true
   },
   "outputs": [],
   "source": [
    "# pp(config)\n",
    "# config"
   ]
  },
  {
   "cell_type": "markdown",
   "metadata": {
    "deletable": true,
    "editable": true
   },
   "source": [
    "# Prepare multiple configs\n"
   ]
  },
  {
   "cell_type": "code",
   "execution_count": null,
   "metadata": {
    "collapsed": false,
    "deletable": true,
    "editable": true
   },
   "outputs": [],
   "source": [
    "tg = teigen.tgmain.Teigen()\n",
    "if not \"configs\" in dir():\n",
    "    configs = []"
   ]
  },
  {
   "cell_type": "code",
   "execution_count": null,
   "metadata": {
    "collapsed": true,
    "deletable": true,
    "editable": true
   },
   "outputs": [],
   "source": []
  },
  {
   "cell_type": "code",
   "execution_count": null,
   "metadata": {
    "collapsed": true,
    "deletable": true,
    "editable": true
   },
   "outputs": [],
   "source": []
  },
  {
   "cell_type": "code",
   "execution_count": null,
   "metadata": {
    "collapsed": false,
    "deletable": true,
    "editable": true,
    "scrolled": true
   },
   "outputs": [
    {
     "name": "stdout",
     "output_type": "stream",
     "text": [
      "0 / 1512\n",
      "mix 2 cylinder surface + sphere error\n",
      "rng 110, r 15.0, l 28, res 45\n",
      "{'collision': 9, 'radius_minimum': 0, 'radius_bigger_than_areasize': 0, 'length_bigger_than_areasize': 0, 'radius_maximum': 0}\n",
      "before vtk generation\n",
      "progess: 0.0\n",
      "progess: 0.333333333333\n",
      "progess: 0.666666666667\n",
      "generate vtk finished\n",
      "step1 finished\n",
      "step2 finished\n",
      "1 / 1512\n",
      "mix 2 cylinder surface + sphere error\n",
      "rng 110, r 15.0, l 30, res 45\n",
      "{'collision': 9, 'radius_minimum': 0, 'radius_bigger_than_areasize': 0, 'length_bigger_than_areasize': 0, 'radius_maximum': 0}\n",
      "before vtk generation\n",
      "progess: 0.0\n",
      "progess: 0.333333333333\n",
      "progess: 0.666666666667\n",
      "generate vtk finished\n",
      "step1 finished\n",
      "step2 finished\n",
      "2 / 1512\n",
      "mix 2 cylinder surface + sphere error\n",
      "rng 110, r 15.0, l 32, res 45\n",
      "{'collision': 9, 'radius_minimum': 0, 'radius_bigger_than_areasize': 0, 'length_bigger_than_areasize': 0, 'radius_maximum': 0}\n",
      "before vtk generation\n",
      "progess: 0.0\n",
      "progess: 0.333333333333\n",
      "progess: 0.666666666667\n",
      "generate vtk finished\n",
      "step1 finished\n",
      "step2 finished\n",
      "3 / 1512\n",
      "mix 2 cylinder volume + sphere error\n",
      "rng 110, r 15.0, l 28, res 45\n",
      "{'collision': 9, 'radius_minimum': 0, 'radius_bigger_than_areasize': 0, 'length_bigger_than_areasize': 0, 'radius_maximum': 0}\n",
      "before vtk generation\n",
      "progess: 0.0\n",
      "progess: 0.333333333333\n",
      "progess: 0.666666666667\n",
      "generate vtk finished\n",
      "step1 finished\n",
      "step2 finished\n",
      "4 / 1512\n",
      "mix 2 cylinder volume + sphere error\n",
      "rng 110, r 15.0, l 30, res 45\n",
      "{'collision': 9, 'radius_minimum': 0, 'radius_bigger_than_areasize': 0, 'length_bigger_than_areasize': 0, 'radius_maximum': 0}\n",
      "before vtk generation\n",
      "progess: 0.0\n",
      "progess: 0.333333333333\n",
      "progess: 0.666666666667\n",
      "generate vtk finished\n",
      "step1 finished\n",
      "step2 finished\n",
      "5 / 1512\n",
      "mix 2 cylinder volume + sphere error\n",
      "rng 110, r 15.0, l 32, res 45\n",
      "{'collision': 9, 'radius_minimum': 0, 'radius_bigger_than_areasize': 0, 'length_bigger_than_areasize': 0, 'radius_maximum': 0}\n",
      "before vtk generation\n",
      "progess: 0.0\n",
      "progess: 0.333333333333\n",
      "progess: 0.666666666667\n",
      "generate vtk finished\n",
      "step1 finished\n",
      "step2 finished\n",
      "6 / 1512\n",
      "mix 2 cylinder surface + sphere error + join error\n",
      "rng 110, r 15.0, l 28, res 45\n",
      "{'collision': 9, 'radius_minimum': 0, 'radius_bigger_than_areasize': 0, 'length_bigger_than_areasize': 0, 'radius_maximum': 0}\n",
      "before vtk generation\n",
      "progess: 0.0\n",
      "progess: 0.333333333333\n",
      "progess: 0.666666666667\n",
      "generate vtk finished\n",
      "step1 finished\n",
      "step2 finished\n",
      "7 / 1512\n",
      "mix 2 cylinder surface + sphere error + join error\n",
      "rng 110, r 15.0, l 30, res 45\n",
      "{'collision': 9, 'radius_minimum': 0, 'radius_bigger_than_areasize': 0, 'length_bigger_than_areasize': 0, 'radius_maximum': 0}\n",
      "before vtk generation\n",
      "progess: 0.0\n",
      "progess: 0.333333333333\n",
      "progess: 0.666666666667\n",
      "generate vtk finished\n",
      "step1 finished\n",
      "step2 finished\n",
      "8 / 1512\n",
      "mix 2 cylinder surface + sphere error + join error\n",
      "rng 110, r 15.0, l 32, res 45\n",
      "{'collision': 9, 'radius_minimum': 0, 'radius_bigger_than_areasize': 0, 'length_bigger_than_areasize': 0, 'radius_maximum': 0}\n",
      "before vtk generation\n",
      "progess: 0.0\n",
      "progess: 0.333333333333\n",
      "progess: 0.666666666667\n",
      "generate vtk finished\n",
      "step1 finished\n",
      "step2 finished\n",
      "9 / 1512\n",
      "mix 2 cylinder volume + sphere error + join error\n",
      "rng 110, r 15.0, l 28, res 45\n",
      "{'collision': 9, 'radius_minimum': 0, 'radius_bigger_than_areasize': 0, 'length_bigger_than_areasize': 0, 'radius_maximum': 0}\n",
      "before vtk generation\n",
      "progess: 0.0\n",
      "progess: 0.333333333333\n",
      "progess: 0.666666666667\n",
      "generate vtk finished\n",
      "step1 finished\n",
      "step2 finished\n",
      "10 / 1512\n",
      "mix 2 cylinder volume + sphere error + join error\n",
      "rng 110, r 15.0, l 30, res 45\n",
      "{'collision': 9, 'radius_minimum': 0, 'radius_bigger_than_areasize': 0, 'length_bigger_than_areasize': 0, 'radius_maximum': 0}\n",
      "before vtk generation\n",
      "progess: 0.0\n",
      "progess: 0.333333333333\n",
      "progess: 0.666666666667\n",
      "generate vtk finished\n",
      "step1 finished\n",
      "step2 finished\n",
      "11 / 1512\n",
      "mix 2 cylinder volume + sphere error + join error\n",
      "rng 110, r 15.0, l 32, res 45\n",
      "{'collision': 9, 'radius_minimum': 0, 'radius_bigger_than_areasize': 0, 'length_bigger_than_areasize': 0, 'radius_maximum': 0}\n",
      "before vtk generation\n",
      "progess: 0.0\n",
      "progess: 0.333333333333\n",
      "progess: 0.666666666667\n",
      "generate vtk finished\n",
      "step1 finished\n",
      "step2 finished\n",
      "12 / 1512\n",
      "mix 2 cylinder surface + sphere error\n",
      "rng 112, r 15.0, l 28, res 45\n",
      "{'collision': 109, 'radius_minimum': 0, 'radius_bigger_than_areasize': 0, 'length_bigger_than_areasize': 0, 'radius_maximum': 0}\n",
      "before vtk generation\n",
      "progess: 0.0\n",
      "progess: 0.2\n",
      "progess: 0.4\n",
      "progess: 0.6\n",
      "progess: 0.8\n",
      "generate vtk finished\n",
      "step1 finished\n",
      "step2 finished\n",
      "13 / 1512\n",
      "mix 2 cylinder surface + sphere error\n",
      "rng 112, r 15.0, l 30, res 45\n",
      "{'collision': 109, 'radius_minimum': 0, 'radius_bigger_than_areasize': 0, 'length_bigger_than_areasize': 0, 'radius_maximum': 0}\n",
      "before vtk generation\n",
      "progess: 0.0\n",
      "progess: 0.2\n",
      "progess: 0.4\n",
      "progess: 0.6\n",
      "progess: 0.8\n",
      "generate vtk finished\n",
      "step1 finished\n",
      "step2 finished\n",
      "14 / 1512\n",
      "mix 2 cylinder surface + sphere error\n",
      "rng 112, r 15.0, l 32, res 45\n",
      "{'collision': 109, 'radius_minimum': 0, 'radius_bigger_than_areasize': 0, 'length_bigger_than_areasize': 0, 'radius_maximum': 0}\n",
      "before vtk generation\n",
      "progess: 0.0\n",
      "progess: 0.2\n",
      "progess: 0.4\n",
      "progess: 0.6\n",
      "progess: 0.8\n",
      "generate vtk finished\n",
      "step1 finished\n",
      "step2 finished\n",
      "15 / 1512\n",
      "mix 2 cylinder volume + sphere error\n",
      "rng 112, r 15.0, l 28, res 45\n",
      "{'collision': 109, 'radius_minimum': 0, 'radius_bigger_than_areasize': 0, 'length_bigger_than_areasize': 0, 'radius_maximum': 0}\n",
      "before vtk generation\n",
      "progess: 0.0\n",
      "progess: 0.2\n",
      "progess: 0.4\n",
      "progess: 0.6\n",
      "progess: 0.8\n",
      "generate vtk finished\n",
      "step1 finished\n",
      "step2 finished\n",
      "16 / 1512\n",
      "mix 2 cylinder volume + sphere error\n",
      "rng 112, r 15.0, l 30, res 45\n",
      "{'collision': 109, 'radius_minimum': 0, 'radius_bigger_than_areasize': 0, 'length_bigger_than_areasize': 0, 'radius_maximum': 0}\n",
      "before vtk generation\n",
      "progess: 0.0\n",
      "progess: 0.2\n",
      "progess: 0.4\n",
      "progess: 0.6\n",
      "progess: 0.8\n",
      "generate vtk finished\n",
      "step1 finished\n",
      "step2 finished\n",
      "17 / 1512\n",
      "mix 2 cylinder volume + sphere error\n",
      "rng 112, r 15.0, l 32, res 45\n",
      "{'collision': 109, 'radius_minimum': 0, 'radius_bigger_than_areasize': 0, 'length_bigger_than_areasize': 0, 'radius_maximum': 0}\n",
      "before vtk generation\n",
      "progess: 0.0\n",
      "progess: 0.2\n",
      "progess: 0.4\n",
      "progess: 0.6\n",
      "progess: 0.8\n",
      "generate vtk finished\n",
      "step1 finished\n",
      "step2 finished\n",
      "18 / 1512\n",
      "mix 2 cylinder surface + sphere error + join error\n",
      "rng 112, r 15.0, l 28, res 45\n",
      "{'collision': 109, 'radius_minimum': 0, 'radius_bigger_than_areasize': 0, 'length_bigger_than_areasize': 0, 'radius_maximum': 0}\n",
      "before vtk generation\n",
      "progess: 0.0\n",
      "progess: 0.2\n",
      "progess: 0.4\n",
      "progess: 0.6\n",
      "progess: 0.8\n",
      "generate vtk finished\n",
      "step1 finished\n",
      "step2 finished\n",
      "19 / 1512\n",
      "mix 2 cylinder surface + sphere error + join error\n",
      "rng 112, r 15.0, l 30, res 45\n",
      "{'collision': 109, 'radius_minimum': 0, 'radius_bigger_than_areasize': 0, 'length_bigger_than_areasize': 0, 'radius_maximum': 0}\n",
      "before vtk generation\n",
      "progess: 0.0\n",
      "progess: 0.2\n",
      "progess: 0.4\n",
      "progess: 0.6\n",
      "progess: 0.8\n",
      "generate vtk finished\n",
      "step1 finished\n",
      "step2 finished\n",
      "20 / 1512\n",
      "mix 2 cylinder surface + sphere error + join error\n",
      "rng 112, r 15.0, l 32, res 45\n",
      "{'collision': 109, 'radius_minimum': 0, 'radius_bigger_than_areasize': 0, 'length_bigger_than_areasize': 0, 'radius_maximum': 0}\n",
      "before vtk generation\n",
      "progess: 0.0\n",
      "progess: 0.2\n",
      "progess: 0.4\n",
      "progess: 0.6\n",
      "progess: 0.8\n",
      "generate vtk finished\n",
      "step1 finished\n",
      "step2 finished\n",
      "21 / 1512\n",
      "mix 2 cylinder volume + sphere error + join error\n",
      "rng 112, r 15.0, l 28, res 45\n",
      "{'collision': 109, 'radius_minimum': 0, 'radius_bigger_than_areasize': 0, 'length_bigger_than_areasize': 0, 'radius_maximum': 0}\n",
      "before vtk generation\n",
      "progess: 0.0\n",
      "progess: 0.2\n",
      "progess: 0.4\n",
      "progess: 0.6\n",
      "progess: 0.8\n",
      "generate vtk finished\n",
      "step1 finished\n",
      "step2 finished\n",
      "22 / 1512\n",
      "mix 2 cylinder volume + sphere error + join error\n",
      "rng 112, r 15.0, l 30, res 45\n",
      "{'collision': 109, 'radius_minimum': 0, 'radius_bigger_than_areasize': 0, 'length_bigger_than_areasize': 0, 'radius_maximum': 0}\n",
      "before vtk generation\n",
      "progess: 0.0\n",
      "progess: 0.2\n",
      "progess: 0.4\n",
      "progess: 0.6\n",
      "progess: 0.8\n",
      "generate vtk finished\n",
      "step1 finished\n",
      "step2 finished\n",
      "23 / 1512\n",
      "mix 2 cylinder volume + sphere error + join error\n",
      "rng 112, r 15.0, l 32, res 45\n",
      "{'collision': 109, 'radius_minimum': 0, 'radius_bigger_than_areasize': 0, 'length_bigger_than_areasize': 0, 'radius_maximum': 0}\n",
      "before vtk generation\n",
      "progess: 0.0\n",
      "progess: 0.2\n",
      "progess: 0.4\n",
      "progess: 0.6\n",
      "progess: 0.8\n",
      "generate vtk finished\n",
      "step1 finished\n",
      "step2 finished\n",
      "24 / 1512\n",
      "mix 2 cylinder surface + sphere error\n",
      "rng 113, r 15.0, l 28, res 45\n"
     ]
    },
    {
     "name": "stderr",
     "output_type": "stream",
     "text": [
      "/home/mjirik/projects/teigen/teigen/geometry3d.py:15: RuntimeWarning: invalid value encountered in divide\n",
      "  vector = length * vector / np.linalg.norm(vector)\n",
      "/home/mjirik/projects/teigen/teigen/geometry3d.py:342: RuntimeWarning: invalid value encountered in greater\n",
      "  if np.all(node > (0 + radius)) and np.all(node < (areasize - radius)):\n"
     ]
    },
    {
     "name": "stdout",
     "output_type": "stream",
     "text": [
      "{'collision': 182, 'radius_minimum': 0, 'radius_bigger_than_areasize': 0, 'length_bigger_than_areasize': 0, 'radius_maximum': 0}\n",
      "before vtk generation\n",
      "progess: 0.0\n",
      "progess: 0.2\n",
      "progess: 0.4\n",
      "progess: 0.6\n",
      "progess: 0.8\n",
      "generate vtk finished\n",
      "step1 finished\n",
      "step2 finished\n",
      "25 / 1512\n",
      "mix 2 cylinder surface + sphere error\n",
      "rng 113, r 15.0, l 30, res 45\n"
     ]
    }
   ],
   "source": [
    "configs_list = select_configs(configs, run_list)\n",
    "# print(configs_list)\n",
    "run_configs(configs_list)"
   ]
  },
  {
   "cell_type": "code",
   "execution_count": null,
   "metadata": {
    "collapsed": false
   },
   "outputs": [],
   "source": [
    "\n",
    "configs"
   ]
  },
  {
   "cell_type": "code",
   "execution_count": null,
   "metadata": {
    "collapsed": false
   },
   "outputs": [],
   "source": [
    "run_list\n",
    "\n",
    "configs_list"
   ]
  },
  {
   "cell_type": "code",
   "execution_count": null,
   "metadata": {
    "collapsed": false
   },
   "outputs": [],
   "source": [
    "\n",
    "print len(configs)"
   ]
  }
 ],
 "metadata": {
  "anaconda-cloud": {},
  "kernelspec": {
   "display_name": "Python 2",
   "language": "python",
   "name": "python2"
  },
  "language_info": {
   "codemirror_mode": {
    "name": "ipython",
    "version": 2
   },
   "file_extension": ".py",
   "mimetype": "text/x-python",
   "name": "python",
   "nbconvert_exporter": "python",
   "pygments_lexer": "ipython2",
   "version": "2.7.9"
  }
 },
 "nbformat": 4,
 "nbformat_minor": 0
}
