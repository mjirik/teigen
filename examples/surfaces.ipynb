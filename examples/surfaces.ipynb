{
 "cells": [
  {
   "cell_type": "code",
   "execution_count": 1,
   "metadata": {
    "collapsed": true
   },
   "outputs": [],
   "source": [
    "import numpy as np\n",
    "import skimage.measure\n",
    "# plot cube with based on edge=scale\n",
    "\n",
    "scale = 500\n",
    "\n",
    "shape = (np.asarray([3, 3, 3]) * scale).astype(np.int)\n",
    "data = np.zeros(shape)\n",
    "data[(1*scale):(2*scale), (1*scale):(2*scale), (1*scale):(2*scale)] = 2\n",
    "# data[10:20, 10:20, 10:20] = 2\n",
    "\n",
    "out = skimage.measure.marching_cubes(\n",
    "    data, level=1)\n",
    "vertices, faces = out\n",
    "surface_area_numeric = skimage.measure.mesh_surface_area(vertices,faces)\n",
    "surface_area_analytic = 6. * scale**2\n",
    "\n",
    "print(\"S numeric : \", surface_area_numeric)\n",
    "print(\"S analytic: \", surface_area_analytic)\n",
    "print(\"Error: \", (surface_area_analytic-surface_area_numeric)/surface_area_analytic)"
   ]
  }
 ],
 "metadata": {
  "kernelspec": {
   "display_name": "Python 2",
   "language": "python",
   "name": "python2"
  },
  "language_info": {
   "codemirror_mode": {
    "name": "ipython",
    "version": 2.0
   },
   "file_extension": ".py",
   "mimetype": "text/x-python",
   "name": "python",
   "nbconvert_exporter": "python",
   "pygments_lexer": "ipython2",
   "version": "2.7.6"
  }
 },
 "nbformat": 4,
 "nbformat_minor": 0
}