{
 "cells": [
  {
   "cell_type": "code",
   "execution_count": 9,
   "metadata": {
    "collapsed": false,
    "deletable": true,
    "editable": true
   },
   "outputs": [
    {
     "name": "stdout",
     "output_type": "stream",
     "text": [
      "Populating the interactive namespace from numpy and matplotlib\n"
     ]
    }
   ],
   "source": [
    "%pylab inline"
   ]
  },
  {
   "cell_type": "code",
   "execution_count": 10,
   "metadata": {
    "collapsed": true,
    "deletable": true,
    "editable": true
   },
   "outputs": [],
   "source": [
    "import matplotlib.pyplot as plt\n",
    "import pandas as pd\n",
    "import numpy as np\n",
    "import os.path as op\n",
    "from pprint import pprint as pp\n",
    "import scipy.stats\n",
    "import seaborn as sns\n",
    "import copy\n"
   ]
  },
  {
   "cell_type": "code",
   "execution_count": 11,
   "metadata": {
    "collapsed": true,
    "deletable": true,
    "editable": true
   },
   "outputs": [],
   "source": [
    "datapath = \"~/teigen_data/output_rows.csv\""
   ]
  },
  {
   "cell_type": "code",
   "execution_count": 12,
   "metadata": {
    "collapsed": false,
    "deletable": true,
    "editable": true
   },
   "outputs": [],
   "source": [
    "plotkw ={\n",
    "    \"figsize\": [9, 6], \n",
    "    \"fontsize\": 14, \n",
    "}\n",
    "plot_title_size = 40\n",
    "plot_linewidth = 3\n",
    "\n",
    "plot_boxprops = {\n",
    "    \"linewidth\": plot_linewidth\n",
    "}\n",
    "boxplotkw = {\n",
    "    \"figsize\": [9, 6], \n",
    "    \"fontsize\": 14, \n",
    "    \"boxprops\": plot_boxprops,\n",
    "    \"medianprops\": plot_boxprops,\n",
    "    \"whiskerprops\": plot_boxprops,\n",
    "    \"capprops\": plot_boxprops,\n",
    "    \n",
    "}\n",
    "\n"
   ]
  },
  {
   "cell_type": "code",
   "execution_count": 13,
   "metadata": {
    "collapsed": true,
    "deletable": true,
    "editable": true
   },
   "outputs": [],
   "source": [
    "available_radius_methods = [\n",
    "    \"inscribed\", \"circumscribed\", \n",
    "    \"average\",\n",
    "    \"cylinder volume\", \n",
    "    \"cylinder volume + sphere error\",\n",
    "    \"cylinder volume + sphere error + man\",\n",
    "    \"cylinder volume + sphere error + join error\",\n",
    "    \"cylinder surface\", \n",
    "    \"cylinder surface + sphere error\",\n",
    "    \"cylinder surface + sphere error + join error\",\n",
    "    \"cylinder surface + sphere error + join error man\",\n",
    "    \"best\",\n",
    "    \n",
    "]"
   ]
  },
  {
   "cell_type": "code",
   "execution_count": 14,
   "metadata": {
    "collapsed": false,
    "deletable": true,
    "editable": true
   },
   "outputs": [],
   "source": [
    "\n",
    "def show_error(dfs, x_key=\"measurement_resolution\", radius_method=\"\", plotkw={}):\n",
    "    \n",
    "    # print \"show_error\"\n",
    "    # print dfs.keys()\n",
    "    dfsp = dfs[[\"surface error [%]\", \"volume error [%]\", \n",
    "                x_key]].sort_values(x_key)\n",
    "\n",
    "    if len(dfsp) < 1:\n",
    "        return dfsp\n",
    "    wxparams = {\n",
    "        # \"correction\": True,\n",
    "        \"correction\": False,\n",
    "        \"zero_method\": \"pratt\"\n",
    "        #\"zero_method\": \"wilcox\"\n",
    "    }\n",
    "    # wilcoxon - čím větší, tím lepší\n",
    "    vol_w = scipy.stats.wilcoxon(x=dfs[\"volume [mm^3]\"], y=dfs[\"numeric volume [mm^3]\"], **wxparams)\n",
    "    # spearman čím menší, tím lepší\n",
    "    vol_s = scipy.stats.spearmanr(dfs[\"volume [mm^3]\"], dfs[\"numeric volume [mm^3]\"])\n",
    "    \n",
    "    # print dfs.keys()\n",
    "    # wilcoxon - čím větší, tím lepší, alespoň 0.05\n",
    "    surf_w = scipy.stats.wilcoxon(x=dfs[\"surface [mm^2]\"], y=dfs[\"numeric surface [mm^2]\"], **wxparams)\n",
    "    # spearman čím menší, tím lepší\n",
    "    surf_s = scipy.stats.spearmanr(dfs[\"surface [mm^2]\"], dfs[\"numeric surface [mm^2]\"])\n",
    "    \n",
    "    print radius_method, len(dfsp), \":\\nvolume (w/s): \\n\", vol_w, \"\\n\",vol_s, \"\\n\", \"surface (w/s): \\n\" , surf_w,\"\\n\", surf_s, \"\\n\"\n",
    "\n",
    "    fig = plt.figure(figsize=[30, 18])\n",
    "    ax = plt.subplot(141)\n",
    "    dfsp[[\"volume error [%]\", x_key]].plot(\n",
    "        ax=ax, x=x_key, linewidth=plot_linewidth, **plotkw)\n",
    "    ax = plt.subplot(142)\n",
    "    dfsp[[\"surface error [%]\", x_key]].plot(\n",
    "        ax=ax, x=x_key, linewidth=plot_linewidth, **plotkw)\n",
    "    ax = plt.subplot(143)\n",
    "    dfsp[[\"volume error [%]\"]].plot(\n",
    "        ax=ax, kind=\"box\", **boxplotkw)\n",
    "    ax = plt.subplot(144)\n",
    "    dfsp[[\"surface error [%]\"]].plot(\n",
    "        ax=ax, kind=\"box\", **boxplotkw)\n",
    "    plt.suptitle(radius_method, size=plot_title_size)\n",
    "    return dfsp"
   ]
  },
  {
   "cell_type": "code",
   "execution_count": 15,
   "metadata": {
    "collapsed": false,
    "deletable": true,
    "editable": true
   },
   "outputs": [],
   "source": [
    "def dfplot(dfs, plotkw, radius_method=\"\"):\n",
    "    \n",
    "    dfsp = dfs[[\"surface error [%]\", \"volume error [%]\", \"measurement_resolution\"]].sort_values(\n",
    "        \"measurement_resolution\")\n",
    "    \n",
    "    return show_error(dfsp, radius_method=radius_method)\n",
    "    "
   ]
  },
  {
   "cell_type": "code",
   "execution_count": null,
   "metadata": {
    "collapsed": true
   },
   "outputs": [],
   "source": []
  },
  {
   "cell_type": "code",
   "execution_count": 16,
   "metadata": {
    "collapsed": true,
    "deletable": true,
    "editable": true
   },
   "outputs": [],
   "source": [
    "df = pd.read_csv(op.expanduser(datapath))"
   ]
  },
  {
   "cell_type": "code",
   "execution_count": 17,
   "metadata": {
    "collapsed": true,
    "deletable": true,
    "editable": true
   },
   "outputs": [],
   "source": [
    "# remove duplicates\n",
    "ks = copy.copy(list(df.keys()))\n",
    "ks.remove(\"datetime\")\n",
    "df = df.drop_duplicates(ks)\n",
    "\n",
    "df[\"surface error [mm^2]\"] = df[\"numeric surface [mm^2]\"] - df[\"surface [mm^2]\"]\n",
    "df[\"surface error [%]\"] = df[\"surface error [mm^2]\"] / df[\"surface [mm^2]\"] * 100\n",
    "df[\"volume error [mm^3]\"] = df[\"numeric volume [mm^3]\"] - df[\"volume [mm^3]\"]\n",
    "df[\"volume error [%]\"] = df[\"volume error [mm^3]\"] / df[\"volume [mm^3]\"] * 100\n",
    "df[\"measurement_resolution\"] = df[\"postprocessing measurement_resolution\"]\n",
    "df[\"length_distribution_mean\"] = df[\"generators Unconnected tubes length_distribution_mean\"]\n",
    "df[\"radius_distribution_mean\"] = df[\"generators Unconnected tubes radius_distribution_mean\"]\n",
    "df[\"element_number\"] = df[\"generators Unconnected tubes element_number\"]\n",
    "df[\"element number\"] = df[\"element_number\"]"
   ]
  }
 ],
 "metadata": {
  "anaconda-cloud": {},
  "kernelspec": {
   "display_name": "Python [default]",
   "language": "python",
   "name": "python2"
  },
  "language_info": {
   "codemirror_mode": {
    "name": "ipython",
    "version": 2
   },
   "file_extension": ".py",
   "mimetype": "text/x-python",
   "name": "python",
   "nbconvert_exporter": "python",
   "pygments_lexer": "ipython2",
   "version": "2.7.11"
  }
 },
 "nbformat": 4,
 "nbformat_minor": 1
}
