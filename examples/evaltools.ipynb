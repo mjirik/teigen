{
 "cells": [
  {
   "cell_type": "code",
   "execution_count": 45,
   "metadata": {
    "collapsed": false,
    "deletable": true,
    "editable": true
   },
   "outputs": [
    {
     "name": "stdout",
     "output_type": "stream",
     "text": [
      "Populating the interactive namespace from numpy and matplotlib\n"
     ]
    }
   ],
   "source": [
    "%pylab inline"
   ]
  },
  {
   "cell_type": "code",
   "execution_count": 46,
   "metadata": {
    "collapsed": true,
    "deletable": true,
    "editable": true
   },
   "outputs": [],
   "source": [
    "import matplotlib.pyplot as plt\n",
    "import pandas as pd\n",
    "import numpy as np\n",
    "import os.path as op\n",
    "from pprint import pprint as pp\n",
    "import scipy.stats\n",
    "import seaborn as sns\n",
    "import copy\n"
   ]
  },
  {
   "cell_type": "code",
   "execution_count": 47,
   "metadata": {
    "collapsed": true,
    "deletable": true,
    "editable": true
   },
   "outputs": [],
   "source": [
    "datapath = \"~/teigen_data/output_rows.csv\""
   ]
  },
  {
   "cell_type": "code",
   "execution_count": 48,
   "metadata": {
    "collapsed": false
   },
   "outputs": [
    {
     "data": {
      "text/plain": [
       "['aaron']"
      ]
     },
     "execution_count": 48,
     "metadata": {},
     "output_type": "execute_result"
    }
   ],
   "source": [
    "def list_filter(lst, startswith=None, notstartswith=None, contain=None, notcontain=None):\n",
    "    keeped = []\n",
    "    for item in lst:\n",
    "        keep = False\n",
    "        if startswith is not None:\n",
    "            if item.startswith(startswith):\n",
    "                keep = True\n",
    "        if notstartswith is not None:\n",
    "            if not item.startswith(notstartswith):\n",
    "                keep = True\n",
    "        if contain is not None:\n",
    "            if contain in item:\n",
    "                keep = True\n",
    "        if notcontain is not None:\n",
    "            if not notcontain in item:\n",
    "                keep = True\n",
    "                \n",
    "        if keep:\n",
    "            keeped.append(item)\n",
    "    return keeped\n",
    "            \n",
    "\n",
    "lst = [\"aa\" , \"sss\", \"aaron\", \"rew\"]\n",
    "output = list_filter(lst, notstartswith=\"aa\")\n",
    "assert([\"sss\", \"rew\"] == output)\n",
    "\n",
    "output = list_filter(lst, contain=\"ro\")\n",
    "# list_filter(lst, notstartswith=\"a\")\n",
    "output"
   ]
  },
  {
   "cell_type": "code",
   "execution_count": 49,
   "metadata": {
    "collapsed": false,
    "deletable": true,
    "editable": true
   },
   "outputs": [],
   "source": [
    "plotkw ={\n",
    "    \"figsize\": [9, 6], \n",
    "    \"fontsize\": 14, \n",
    "}\n",
    "plot_title_size = 40\n",
    "plot_linewidth = 3\n",
    "plot_title_size = None\n",
    "plot_linewidth = None\n",
    "\n",
    "plot_boxprops = {\n",
    "    \"linewidth\": plot_linewidth\n",
    "}\n",
    "boxplotkw = {\n",
    "    \"figsize\": [9, 6], \n",
    "    \"fontsize\": 14, \n",
    "    \"boxprops\": plot_boxprops,\n",
    "    \"medianprops\": plot_boxprops,\n",
    "    \"whiskerprops\": plot_boxprops,\n",
    "    \"capprops\": plot_boxprops,\n",
    "    \n",
    "}\n",
    "\n",
    "figurekw = {\n",
    "    \"figsize\": [9, 6]\n",
    "}\n",
    "\n",
    "plotkw = {}\n",
    "boxplotkw = {}\n",
    "figurekw = {}\n"
   ]
  },
  {
   "cell_type": "code",
   "execution_count": 50,
   "metadata": {
    "collapsed": true
   },
   "outputs": [],
   "source": [
    "\n",
    "run_label_key = \"run_label\""
   ]
  },
  {
   "cell_type": "code",
   "execution_count": 51,
   "metadata": {
    "collapsed": true,
    "deletable": true,
    "editable": true
   },
   "outputs": [],
   "source": [
    "available_radius_methods = [\n",
    "    \"inscribed\", \"circumscribed\", \n",
    "    \"average\",\n",
    "    \"cylinder volume\", \n",
    "    \"cylinder volume + sphere error\",\n",
    "    \"cylinder volume + sphere error + man\",\n",
    "    \"cylinder volume + sphere error + join error\",\n",
    "    \"cylinder surface\", \n",
    "    \"cylinder surface + sphere error\",\n",
    "    \"cylinder surface + sphere error + join error\",\n",
    "    \"cylinder surface + sphere error + join error man\",\n",
    "    \"best\",\n",
    "    \n",
    "]"
   ]
  },
  {
   "cell_type": "code",
   "execution_count": 52,
   "metadata": {
    "collapsed": false,
    "deletable": true,
    "editable": true
   },
   "outputs": [],
   "source": [
    "def dfplot(dfs, plotkw, radius_method=\"\"):\n",
    "    \n",
    "    dfsp = dfs[[\"surface error [%]\", \"volume error [%]\", \"measurement_resolution\"]].sort_values(\n",
    "        \"measurement_resolution\")\n",
    "    \n",
    "    return show_error(dfsp, radius_method=radius_method)\n",
    "    "
   ]
  },
  {
   "cell_type": "code",
   "execution_count": 53,
   "metadata": {
    "collapsed": true
   },
   "outputs": [],
   "source": [
    "def append_dataframe_to_csv(df, filename):\n",
    "    import pandas as pd \n",
    "    filename = op.expanduser(filename)\n",
    "    if op.exists(filename):\n",
    "        dfin = pd.read_csv(filename)\n",
    "        df = pd.concat([dfin, df])\n",
    "    df.to_csv(filename, index=False)\n",
    "\n",
    "def remove_rows_from_csv(filename, n=1):\n",
    "    filename = op.expanduser(filename)\n",
    "    if op.exists(filename):\n",
    "        dfin = pd.read_csv(filename)\n",
    "        df = dfin[:-n]\n",
    "        df.to_csv(filename, index=False)\n",
    "\n",
    "def run_configs(configs, loglevel=None):\n",
    "    teigen_ok_fail_list = \"~/teigen_ok_fail_list.csv\"\n",
    "    \n",
    "    if loglevel is None:\n",
    "        import logging\n",
    "        debuglevel = logging.WARNING\n",
    "    \n",
    "    tg = teigen.tgmain.Teigen()\n",
    "    tg.set_loglevel(loglevel)\n",
    "    for i, config in enumerate(configs):\n",
    "        # old failing\n",
    "        # tg = teigen.tgmain.Teigen()\n",
    "        # config = tg.get_default_config()\n",
    "        tg.use_default_config()\n",
    "        tg.update_config(**config)\n",
    "        gc = config[\"generators\"][\"Unconnected tubes\"]\n",
    "        print (str(i) + \" / \" + str(len(configs)))  \n",
    "        print (config[\"output\"][\"note\"])\n",
    "        print(\"rng {}, r {}, l {}, res {}\".format(\n",
    "            gc[\"random_generator_seed\"], \n",
    "            gc[\"radius_distribution_mean\"],\n",
    "            gc[\"length_distribution_mean\"],\n",
    "            config[\"postprocessing\"][\"measurement_resolution\"]\n",
    "        ))\n",
    "        rowcfg = tg.config_to_row_dataframe()\n",
    "        append_dataframe_to_csv(rowcfg, teigen_ok_fail_list)\n",
    "        tg.step1()\n",
    "        print(\"step1 finished\")\n",
    "        tg.step2()\n",
    "        remove_rows_from_csv(teigen_ok_fail_list)\n",
    "        print(\"step2 finished\")\n",
    "        # del(tg)\n",
    "\n",
    "def select_configs(all_configs, run_list):\n",
    "    configs = []\n",
    "    for config in all_configs:\n",
    "        if config[\"output\"][run_label_key] in run_list:\n",
    "            configs.append(config)\n",
    "    return configs"
   ]
  },
  {
   "cell_type": "code",
   "execution_count": 54,
   "metadata": {
    "collapsed": false
   },
   "outputs": [
    {
     "data": {
      "text/plain": [
       "['aaron']"
      ]
     },
     "execution_count": 54,
     "metadata": {},
     "output_type": "execute_result"
    }
   ],
   "source": [
    "def list_filter(lst, startswith=None, notstartswith=None, contain=None, notcontain=None):\n",
    "    keeped = []\n",
    "    for item in lst:\n",
    "        keep = False\n",
    "        if startswith is not None:\n",
    "            if item.startswith(startswith):\n",
    "                keep = True\n",
    "        if notstartswith is not None:\n",
    "            if not item.startswith(notstartswith):\n",
    "                keep = True\n",
    "        if contain is not None:\n",
    "            if contain in item:\n",
    "                keep = True\n",
    "        if notcontain is not None:\n",
    "            if not notcontain in item:\n",
    "                keep = True\n",
    "                \n",
    "        if keep:\n",
    "            keeped.append(item)\n",
    "    return keeped\n",
    "            \n",
    "\n",
    "lst = [\"aa\" , \"sss\", \"aaron\", \"rew\"]\n",
    "output = list_filter(lst, notstartswith=\"aa\")\n",
    "assert([\"sss\", \"rew\"] == output)\n",
    "\n",
    "output = list_filter(lst, contain=\"ro\")\n",
    "# list_filter(lst, notstartswith=\"a\")\n",
    "output"
   ]
  },
  {
   "cell_type": "code",
   "execution_count": 55,
   "metadata": {
    "collapsed": false
   },
   "outputs": [
    {
     "data": {
      "text/plain": [
       "True"
      ]
     },
     "execution_count": 55,
     "metadata": {},
     "output_type": "execute_result"
    }
   ],
   "source": [
    "\"au\" in \"plau\""
   ]
  },
  {
   "cell_type": "code",
   "execution_count": 56,
   "metadata": {
    "collapsed": false
   },
   "outputs": [
    {
     "data": {
      "text/plain": [
       "True"
      ]
     },
     "execution_count": 56,
     "metadata": {},
     "output_type": "execute_result"
    }
   ],
   "source": [
    "\"sadfa\".startswith(\"sa\")"
   ]
  },
  {
   "cell_type": "code",
   "execution_count": 57,
   "metadata": {
    "collapsed": false,
    "deletable": true,
    "editable": true
   },
   "outputs": [],
   "source": [
    "                \n",
    "\n",
    "def read_data(datapath):\n",
    "    df = pd.read_csv(op.expanduser(datapath))\n",
    "    # remove duplicates\n",
    "    ks = copy.copy(list(df.keys()))\n",
    "#     ks.remove(\"processing_info datetime\")\n",
    "    ks = list_filter(ks, notstartswith=\"processing_info\")\n",
    "    df = df.drop_duplicates(ks)\n",
    "    df[\"volume [mm^3]\"] = df[\"measurement volume [mm^3]\"]\n",
    "    df[\"numeric volume [mm^3]\"] = df[\"measurement numeric volume [mm^3]\"]\n",
    "    df[\"surface [mm^2]\"] = df[\"measurement surface [mm^2]\"]\n",
    "    df[\"numeric surface [mm^2]\"] = df[\"measurement numeric surface [mm^2]\"]\n",
    "    \n",
    "    df[\"surface difference [mm^2]\"] = df[\"numeric surface [mm^2]\"] - df[\"surface [mm^2]\"]\n",
    "    df[\"surface difference [-]\"] = df[\"surface difference [mm^2]\"] / df[\"surface [mm^2]\"]\n",
    "    df[\"surface difference [%]\"] = df[\"surface difference [mm^2]\"] / df[\"surface [mm^2]\"] * 100\n",
    "    df[\"volume difference [mm^3]\"] = df[\"numeric volume [mm^3]\"] - df[\"volume [mm^3]\"]\n",
    "    df[\"volume difference [-]\"] = df[\"volume difference [mm^3]\"] / df[\"volume [mm^3]\"]\n",
    "    df[\"volume difference [%]\"] = df[\"volume difference [mm^3]\"] / df[\"volume [mm^3]\"] * 100\n",
    "    df[\"surface error [mm^2]\"] = np.abs(df[\"surface difference [mm^2]\"])\n",
    "    df[\"surface error [-]\"] = np.abs(df[\"surface difference [-]\"])\n",
    "    df[\"surface error [%]\"] = np.abs(df[\"surface difference [%]\"])\n",
    "    df[\"volume error [mm^3]\"] = np.abs(df[\"volume difference [mm^3]\"])\n",
    "    df[\"volume error [-]\"] = np.abs(df[\"volume difference [-]\"])\n",
    "    df[\"volume error [%]\"] = np.abs(df[\"volume difference [%]\"])\n",
    "    \n",
    "    df[\"measurement_resolution\"] = df[\"config postprocessing measurement_resolution\"]\n",
    "    df[\"length_distribution_mean\"] = df[\"config generators Unconnected tubes length_distribution_mean\"]\n",
    "    df[\"radius_distribution_mean\"] = df[\"config generators Unconnected tubes radius_distribution_mean\"]\n",
    "    df[\"element_number\"] = df[\"config generators Unconnected tubes element_number\"]\n",
    "    df[\"element number\"] = df[\"element_number\"]\n",
    "    df[\"measurement resolution\"] = df[\"measurement_resolution\"]\n",
    "    df[\"step 1 time [s]\"] = df[\"processing_info step1_total_time_s\"]\n",
    "    df[\"step 2 time [s]\"] = df[\"processing_info step2_total_time_s\"]\n",
    "    df[\"total time [s]\"] = df[\"step 1 time [s]\"] + df[\"step 2 time [s]\"]\n",
    "    \n",
    "    \n",
    "    return df\n",
    "# read_data(datapath)"
   ]
  },
  {
   "cell_type": "code",
   "execution_count": 58,
   "metadata": {
    "collapsed": false
   },
   "outputs": [],
   "source": [
    "\n",
    "# df = pd.read_csv(op.expanduser(datapath))\n",
    "# # remove duplicates\n",
    "# ks = copy.copy(list(df.keys()))\n",
    "# #     ks.remove(\"processing_info datetime\")\n",
    "# ks = list_filter(ks, notstartswith=\"processing_info\")\n",
    "# df = df.drop_duplicates(ks)\n",
    "# df[\"volume [mm^3]\"] = df[\"measurement volume [mm^3]\"]\n",
    "# df[\"numeric volume [mm^3]\"] = df[\"measurement numeric volume [mm^3]\"]\n",
    "# df[\"surface [mm^2]\"] = df[\"measurement surface [mm^2]\"]\n",
    "# df[\"numeric surface [mm^2]\"] = df[\"measurement numeric surface [mm^2]\"]\n",
    "# df[\"surface [mm^2]\"][120]\n",
    "# df[\"numeric surface [mm^2]\"][120]\n",
    "# df[\"numeric surface [mm^2]\"] -  df[\"surface [mm^2]\"]\n",
    "\n",
    "# i = 1242\n",
    "# aa = df[\"numeric surface [mm^2]\"][i]\n",
    "# bb = df[\"surface [mm^2]\"][i]\n",
    "# print(\"pozor   \", i , aa, bb)\n",
    "# float(aa) -  float(bb)\n",
    "\n",
    "# pd.to_numeric(df[\"numeric surface [mm^2]\"][156:]) \n",
    "# k-  pd.to_numeric(df[\"surface [mm^2]\"])\n",
    "# df[\"numeric surface [mm^2]\"]\n",
    "# # df[\"numeric surface [mm^2]\"][1]\n",
    "# for i in range(0, len(df[\"numeric surface [mm^2]\"])):\n",
    "#     try:\n",
    "#         aa = df[\"numeric surface [mm^2]\"][i]\n",
    "#         bb = df[\"surface [mm^2]\"][i]\n",
    "#         print(\"pozor   \", i , aa, bb)\n",
    "#         float(aa) -  float(bb)\n",
    "#     except e:\n",
    "#         pass\n",
    "    "
   ]
  },
  {
   "cell_type": "code",
   "execution_count": 59,
   "metadata": {
    "collapsed": false
   },
   "outputs": [],
   "source": [
    "df = read_data(datapath)"
   ]
  },
  {
   "cell_type": "code",
   "execution_count": 60,
   "metadata": {
    "collapsed": false,
    "deletable": true,
    "editable": true
   },
   "outputs": [],
   "source": [
    "def statistic_tests(dfs, wxparams={}):\n",
    "    print (\"Deprecated. Use wilcoxon_from_df and spearman_from df. Check the output values order.\")\n",
    "\n",
    "    pass\n",
    "def wilcoxon_from_df(dfs, wxparams={}):\n",
    "    # wilcoxon - čím větší, tím lepší\n",
    "    vol_w = scipy.stats.wilcoxon(x=dfs[\"volume [mm^3]\"], y=dfs[\"numeric volume [mm^3]\"], **wxparams)\n",
    "    # wilcoxon - čím větší, tím lepší, alespoň 0.05\n",
    "    surf_w = scipy.stats.wilcoxon(x=dfs[\"surface [mm^2]\"], y=dfs[\"numeric surface [mm^2]\"], **wxparams)\n",
    "    \n",
    "    return surf_w, vol_w\n",
    "\n",
    "def spearman_from_df(dfs):\n",
    "    # print dfs.keys()\n",
    "    # spearman čím menší, tím lepší\n",
    "    surf_s = scipy.stats.spearmanr(dfs[\"surface [mm^2]\"], dfs[\"numeric surface [mm^2]\"])\n",
    "#     surf_sh = scipy.stats.shapiro(dfs[\"surface [mm^2]\"] - dfs[\"numeric surface [mm^2]\"])\n",
    "    # spearman čím menší, tím lepší\n",
    "    vol_s = scipy.stats.spearmanr(dfs[\"volume [mm^3]\"], dfs[\"numeric volume [mm^3]\"])\n",
    "    \n",
    "    return surf_s, vol_s\n",
    "\n",
    "def mannthitneyu_from_df(df):\n",
    "    if len(dfs) > 3:\n",
    "        serr = np.abs((dfs[\"surface [mm^2]\"] - dfs[\"numeric surface [mm^2]\"]) / dfs[\"surface [mm^2]\"] )\n",
    "        verr = np.abs((dfs[\"volume [mm^3]\"] - dfs[\"numeric volume [mm^3]\"]) / dfs[\"volume [mm^3]\"] )\n",
    "        serr = np.abs((dfs[\"surface [mm^2]\"] - dfs[\"numeric surface [mm^2]\"]) / dfs[\"surface [mm^2]\"] )\n",
    "        verr = np.abs((dfs[\"volume [mm^3]\"] - dfs[\"numeric volume [mm^3]\"]) / dfs[\"volume [mm^3]\"] )\n",
    "        serr = dfs[\"surface error [-]\"]\n",
    "        verr = dfs[\"volume error [-]\"]\n",
    "        surf_mann = scipy.stats.mannwhitneyu(serr, np.ones_like(serr)*maximal_error, alternative=\"less\")[1]\n",
    "        vol_mann = scipy.stats.mannwhitneyu(verr, np.ones_like(verr)*maximal_error, alternative=\"less\")[1]\n",
    "    else:\n",
    "        surf_mann = NaN\n",
    "        vol_mann = NaN\n",
    "        serr = NaN\n",
    "        verr = NaN\n",
    "        \n",
    "    return surf_mann, vol_mann\n",
    "\n",
    "def show_error(dfs, x_key=\"measurement_resolution\", radius_method=\"\", plotkw={}, boxplotkw={}, figurekw={}, \n",
    "               parameter=\"difference\"):\n",
    "    \n",
    "#     sns.set_style(\"whitegrid\")\n",
    "#     sns.set_context(\"talk\")\n",
    "#     sns.set_context(\"paper\")\n",
    "    # print \"show_error\"\n",
    "    # print dfs.keys()\n",
    "    dfsp = dfs[[\"surface {} [%]\".format(parameter), \"volume {} [%]\".format(parameter), \n",
    "                x_key]].sort_values(x_key)\n",
    "\n",
    "    if len(dfsp) < 1:\n",
    "        return dfsp\n",
    "    wxparams = {\n",
    "        # \"correction\": True,\n",
    "        \"correction\": False,\n",
    "        \"zero_method\": \"pratt\"\n",
    "        #\"zero_method\": \"wilcox\"\n",
    "    }\n",
    "#     vol_w, vol_s, surf_w, surf_s = statistic_tests(dfs, wxparams)\n",
    "    surf_w, vol_w = wilcoxon_from_df(dfs, wxparams)\n",
    "    surf_s, vol_s = spearman_from_df(dfs)\n",
    "#     # wilcoxon - čím větší, tím lepší\n",
    "#     vol_w = scipy.stats.wilcoxon(x=dfs[\"volume [mm^3]\"], y=dfs[\"numeric volume [mm^3]\"], **wxparams)\n",
    "#     # spearman čím menší, tím lepší\n",
    "#     vol_s = scipy.stats.spearmanr(dfs[\"volume [mm^3]\"], dfs[\"numeric volume [mm^3]\"])\n",
    "    \n",
    "#     # print dfs.keys()\n",
    "#     # wilcoxon - čím větší, tím lepší, alespoň 0.05\n",
    "#     surf_w = scipy.stats.wilcoxon(x=dfs[\"surface [mm^2]\"], y=dfs[\"numeric surface [mm^2]\"], **wxparams)\n",
    "#     # spearman čím menší, tím lepší\n",
    "#     surf_s = scipy.stats.spearmanr(dfs[\"surface [mm^2]\"], dfs[\"numeric surface [mm^2]\"])\n",
    "    \n",
    "#     print radius_method, len(dfsp), \":\\nvolume (w/s): \\n\", vol_w, \"\\n\",vol_s, \"\\n\", \"surface (w/s): \\n\" , surf_w,\"\\n\", surf_s, \"\\n\"\n",
    "\n",
    "    fig = plt.figure(**figurekw)\n",
    "    ax = plt.subplot(142)\n",
    "    dfsp[[\"volume {} [%]\".format(parameter), x_key]].plot(\n",
    "        ax=ax, x=x_key, \n",
    "#         linewidth=plot_linewidth,\n",
    "        **plotkw)\n",
    "    ax = plt.subplot(141)\n",
    "    dfsp[[\"surface {} [%]\".format(parameter), x_key]].plot(\n",
    "        ax=ax, x=x_key, \n",
    "#         linewidth=plot_linewidth, \n",
    "        **plotkw)\n",
    "    ax = plt.subplot(144)\n",
    "    \n",
    "#     sns.set_style(\"whitegrid\")\n",
    "#     sns.set_context(\"talk\")\n",
    "#     sns.boxplot(\n",
    "#         y=\"surface error [%]\",\n",
    "#     #     x=\"config output note\", \n",
    "#     #     x=\"surface\",\n",
    "#     #     data=df, \n",
    "#         data=df, \n",
    "#         palette=\"muted\"\n",
    "#     )\n",
    "    dfsp[[\"volume {} [%]\".format(parameter)]].plot(\n",
    "        ax=ax, kind=\"box\", **boxplotkw)\n",
    "    ax = plt.subplot(143)\n",
    "    dfsp[[\"surface {} [%]\".format(parameter)]].plot(\n",
    "        ax=ax, kind=\"box\", **boxplotkw)\n",
    "    plt.tight_layout()\n",
    "    plt.suptitle(\"{} \\nvolume wx {} sp {} \\nsurface wx {} sp {}\".format(\n",
    "        radius_method, \n",
    "        vol_w.pvalue, \n",
    "        vol_s.pvalue,\n",
    "        surf_w.pvalue, \n",
    "        surf_s.pvalue\n",
    "    )\n",
    "#                  size=plot_title_size\n",
    "                )\n",
    "    return dfsp\n",
    "# show_error(df)\n",
    "\n",
    "def show_box(dfs, x_key=\"measurement_resolution\", radius_method=\"\", plotkw={}, boxplotkw={}, figurekw={}, \n",
    "               parameter=\"difference\"):\n",
    "    \n",
    "#     sns.set_style(\"whitegrid\")\n",
    "#     sns.set_context(\"talk\")\n",
    "#     sns.set_context(\"paper\")\n",
    "    # print \"show_error\"\n",
    "    # print dfs.keys()\n",
    "    dfsp = dfs[[\"surface {} [%]\".format(parameter), \"volume {} [%]\".format(parameter), \n",
    "                x_key]].sort_values(x_key)\n",
    "\n",
    "    if len(dfsp) < 1:\n",
    "        return dfsp\n",
    "    wxparams = {\n",
    "        # \"correction\": True,\n",
    "        \"correction\": False,\n",
    "        \"zero_method\": \"pratt\"\n",
    "        #\"zero_method\": \"wilcox\"\n",
    "    }\n",
    "    surf_w, vol_w = wilcoxon_from_df(dfs, wxparams)\n",
    "    surf_s, vol_s = spearman_from_df(dfs)\n",
    "#     vol_w, vol_s, surf_w, surf_s = statistic_tests(dfs, wxparams)\n",
    "#     # wilcoxon - čím větší, tím lepší\n",
    "#     vol_w = scipy.stats.wilcoxon(x=dfs[\"volume [mm^3]\"], y=dfs[\"numeric volume [mm^3]\"], **wxparams)\n",
    "#     # spearman čím menší, tím lepší\n",
    "#     vol_s = scipy.stats.spearmanr(dfs[\"volume [mm^3]\"], dfs[\"numeric volume [mm^3]\"])\n",
    "    \n",
    "#     # print dfs.keys()\n",
    "#     # wilcoxon - čím větší, tím lepší, alespoň 0.05\n",
    "#     surf_w = scipy.stats.wilcoxon(x=dfs[\"surface [mm^2]\"], y=dfs[\"numeric surface [mm^2]\"], **wxparams)\n",
    "#     # spearman čím menší, tím lepší\n",
    "#     surf_s = scipy.stats.spearmanr(dfs[\"surface [mm^2]\"], dfs[\"numeric surface [mm^2]\"])\n",
    "    \n",
    "#     print radius_method, len(dfsp), \":\\nvolume (w/s): \\n\", vol_w, \"\\n\",vol_s, \"\\n\", \"surface (w/s): \\n\" , surf_w,\"\\n\", surf_s, \"\\n\"\n",
    "\n",
    "    fig = plt.figure(**figurekw)\n",
    "#     ax = plt.subplot(141)\n",
    "#     dfsp[[\"volume {} [%]\".format(parameter), x_key]].plot(\n",
    "#         ax=ax, x=x_key, \n",
    "# #         linewidth=plot_linewidth,\n",
    "#         **plotkw)\n",
    "#     ax = plt.subplot(142)\n",
    "#     dfsp[[\"surface {} [%]\".format(parameter), x_key]].plot(\n",
    "#         ax=ax, x=x_key, \n",
    "# #         linewidth=plot_linewidth, \n",
    "#         **plotkw)\n",
    "    ax = plt.subplot(122)\n",
    "    \n",
    "#     sns.set_style(\"whitegrid\")\n",
    "#     sns.set_context(\"talk\")\n",
    "#     sns.boxplot(\n",
    "#         y=\"surface error [%]\",\n",
    "#     #     x=\"config output note\", \n",
    "#     #     x=\"surface\",\n",
    "#     #     data=df, \n",
    "#         data=df, \n",
    "#         palette=\"muted\"\n",
    "#     )\n",
    "    dfsp[[\"volume {} [%]\".format(parameter)]].plot(\n",
    "        ax=ax, kind=\"box\", **boxplotkw)\n",
    "    ax = plt.subplot(121)\n",
    "    dfsp[[\"surface {} [%]\".format(parameter)]].plot(\n",
    "        ax=ax, kind=\"box\", **boxplotkw)\n",
    "    plt.tight_layout()\n",
    "    plt.suptitle(\"{} \".format(\n",
    "        radius_method, \n",
    "#         vol_w.pvalue, \n",
    "#         vol_s.pvalue,\n",
    "#         surf_w.pvalue, \n",
    "#         surf_s.pvalue\n",
    "    )\n",
    "#     plt.suptitle(\"{} \\nvolume wx {} sp {} \\nsurface wx {} sp {}\".format(\n",
    "#         radius_method, \n",
    "#         vol_w.pvalue, \n",
    "#         vol_s.pvalue,\n",
    "#         surf_w.pvalue, \n",
    "#         surf_s.pvalue\n",
    "#     )\n",
    "#                  size=plot_title_size\n",
    "                )\n",
    "    return dfsp"
   ]
  },
  {
   "cell_type": "code",
   "execution_count": 61,
   "metadata": {
    "collapsed": false
   },
   "outputs": [],
   "source": [
    "def show_violin(df, parameter=\"difference\"):\n",
    "    dfs =  df[[\"surface {} [%]\".format(parameter), \"volume {} [%]\".format(parameter), \"config output note\"]].rename(\n",
    "        columns={\n",
    "            \"surface {} [%]\".format(parameter): \"surface\",\n",
    "            \"volume {} [%]\".format(parameter): \"volume\"\n",
    "        })\n",
    "    df_long = pd.melt(\n",
    "        dfs,\n",
    "        \"config output note\",\n",
    "        var_name=\"measurement\", \n",
    "        value_name=\"{} [%]\".format(parameter)\n",
    "\n",
    "    )\n",
    "\n",
    "    # sns.set_style(\"whitegrid\")\n",
    "    # sns.set_context(\"talk\")\n",
    "    # sns.boxplot(\n",
    "    #     y=\"surface error [%]\",\n",
    "    # #     x=\"config output note\", \n",
    "    # #     x=\"surface\",\n",
    "    # #     data=df, \n",
    "    #     data=df, \n",
    "    #     palette=\"muted\"\n",
    "    # )\n",
    "    # # df_long = df_long.rename(columns={\"surface error [%]\": \"surface\"})\n",
    "\n",
    "\n",
    "\n",
    "    sns.violinplot(\n",
    "    # sns.boxplot(\n",
    "        y=\"{} [%]\".format(parameter),\n",
    "    #     x=\"config output note\", \n",
    "        x=\"measurement\",\n",
    "    #     data=df, \n",
    "    #     hue=\"config output note\",\n",
    "        data=df_long, \n",
    "    )\n",
    "    \n",
    "def show_violin_separated(df, parameter=\"difference\"):\n",
    "    plt.subplot(121)\n",
    "    sns.violinplot(y=\"surface {} [%]\".format(parameter), data=df)\n",
    "    plt.subplot(122)\n",
    "    sns.violinplot(y=\"volume {} [%]\".format(parameter), data=df)\n",
    "    plt.tight_layout()\n",
    "    \n",
    "# show_violin(df)\n",
    "# show_violin_separated(df)\n",
    "\n"
   ]
  },
  {
   "cell_type": "code",
   "execution_count": 62,
   "metadata": {
    "collapsed": false
   },
   "outputs": [],
   "source": [
    "# dfs.rename(columns={\"surface error [%]\":\"s\"})"
   ]
  },
  {
   "cell_type": "code",
   "execution_count": 63,
   "metadata": {
    "collapsed": false
   },
   "outputs": [
    {
     "data": {
      "text/plain": [
       "Timestamp('2017-10-08 00:00:00')"
      ]
     },
     "execution_count": 63,
     "metadata": {},
     "output_type": "execute_result"
    }
   ],
   "source": [
    "\n",
    "pd.to_datetime(\"today\")"
   ]
  },
  {
   "cell_type": "code",
   "execution_count": 64,
   "metadata": {
    "collapsed": false
   },
   "outputs": [],
   "source": [
    "note_key = list_filter(df.keys(), contain=\"note\")[0]\n",
    "step2_datetime_key = list_filter(df.keys(), contain=\"step2_finish_datetime\")[0]\n",
    "\n",
    "# print(step2_datetime_key)"
   ]
  },
  {
   "cell_type": "code",
   "execution_count": 65,
   "metadata": {
    "collapsed": false
   },
   "outputs": [
    {
     "name": "stdout",
     "output_type": "stream",
     "text": [
      "7/2402\n"
     ]
    }
   ],
   "source": [
    "def newer_data(df, timestamp_string=\"today\"):\n",
    "    \"\"\"\n",
    "    timestamp_string: f.e. 2017-07-05\n",
    "    \"\"\"\n",
    "    which_keep = pd.to_datetime(df[step2_datetime_key]) > pd.to_datetime(timestamp_string)\n",
    "    return df[which_keep]\n",
    "dfs = newer_data(df)\n",
    "print(\"{}/{}\".format(len(dfs), len(df)))"
   ]
  },
  {
   "cell_type": "code",
   "execution_count": 66,
   "metadata": {
    "collapsed": false
   },
   "outputs": [],
   "source": [
    "def select_df(df, note=None, note_contains=None, newer_than=None, older_than=None, remove=False, print_log=False):\n",
    "    \"\"\"\n",
    "    timestamp_string: f.e. 2017-07-05\n",
    "    \"\"\"\n",
    "    ldf = len(df)\n",
    "    which_keep = [True] * len(df)\n",
    "    if newer_than is not None:\n",
    "        which_keep_time = pd.to_datetime(df[step2_datetime_key]) > pd.to_datetime(newer_than)\n",
    "        which_keep = which_keep_time\n",
    "        \n",
    "    if older_than is not None:\n",
    "        which_keep_time = pd.to_datetime(df[step2_datetime_key]) < pd.to_datetime(older_than)\n",
    "        which_keep = which_keep & which_keep_time\n",
    "        \n",
    "    if note is not None:\n",
    "        which_keep_note = df[note_key] == note\n",
    "        which_keep = which_keep & which_keep_note\n",
    "        \n",
    "    if note_contains is not None:\n",
    "        which_keep_note = df[note_key].str.contains(note_contains)\n",
    "        which_keep = which_keep & which_keep_note\n",
    "        \n",
    "    if remove:\n",
    "        which_keep = np.logical_not( which_keep)\n",
    "        \n",
    "#     print(which_keep)\n",
    "\n",
    "    dfout = df[which_keep] \n",
    "    ldfo = len(dfout)\n",
    "    if print_log:\n",
    "        print(\"{}/{}\".format(ldfo, ldf))\n",
    "    return dfout\n",
    "dfs1 = select_df(df, newer_than=\"today\")\n",
    "dfs2 = select_df(df, \"mix 4 inscribed\", newer_than=\"today\")\n",
    "dfs3 = select_df(df, \"mix 4 inscribed\", newer_than=\"today\", remove=True)\n",
    "ldfs1 = len(dfs1)\n",
    "ldfs2 = len(dfs2)\n",
    "ldfs3 = len(dfs3)\n",
    "ldf = len(df)\n",
    "\n",
    "# print ldfs1, ldfs2, ldfs3\n",
    "assert(ldfs1 >= ldfs2)\n",
    "assert((ldfs2 + ldfs3) == ldf)\n",
    "\n",
    "# print(\"{}/{}\".format(len(dfs), len(df)))"
   ]
  },
  {
   "cell_type": "code",
   "execution_count": 67,
   "metadata": {
    "collapsed": false
   },
   "outputs": [],
   "source": [
    "# import pybloqs.block.table_formatters as tf"
   ]
  },
  {
   "cell_type": "code",
   "execution_count": 68,
   "metadata": {
    "collapsed": true
   },
   "outputs": [],
   "source": [
    "def evaluate_based_on_note(df, note):\n",
    "    # for radius_method in [\"cylinder volume + sphere compensation\"]:\n",
    "    for radius_method in available_radius_methods:\n",
    "        dfs = df[\n",
    "            df[note_key] ==  note + radius_method\n",
    "        ]\n",
    "        dfsp = show_error(dfs, radius_method=radius_method, plotkw=plotkw)"
   ]
  },
  {
   "cell_type": "code",
   "execution_count": 69,
   "metadata": {
    "collapsed": false
   },
   "outputs": [],
   "source": [
    "# import logging\n",
    "# logger = logging.getLogger()\n",
    "# logging.basicConfig()\n",
    "# for x in range(10):\n",
    "#     logger.warning('{0}\\r'.format(x))\n",
    "#     print 'uu{0}\\r'.format(x),\n",
    "# print"
   ]
  },
  {
   "cell_type": "code",
   "execution_count": null,
   "metadata": {
    "collapsed": true
   },
   "outputs": [],
   "source": [
    "paper_dpi = 600\n",
    "def savefig(fn, dpi=None):\n",
    "    if dpi is None:\n",
    "        dpi = paper_dpi\n",
    "    plt.savefig(fn + \".pdf\", bbox_inches='tight')\n",
    "    plt.savefig(fn + \".png\", bbox_inches='tight', dpi=dpi)"
   ]
  }
 ],
 "metadata": {
  "anaconda-cloud": {},
  "kernelspec": {
   "display_name": "Python 2",
   "language": "python",
   "name": "python2"
  },
  "language_info": {
   "codemirror_mode": {
    "name": "ipython",
    "version": 2
   },
   "file_extension": ".py",
   "mimetype": "text/x-python",
   "name": "python",
   "nbconvert_exporter": "python",
   "pygments_lexer": "ipython2",
   "version": "2.7.9"
  }
 },
 "nbformat": 4,
 "nbformat_minor": 1
}
