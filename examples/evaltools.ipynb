{
 "cells": [
  {
   "cell_type": "code",
   "execution_count": 1,
   "metadata": {
    "collapsed": false,
    "deletable": true,
    "editable": true
   },
   "outputs": [
    {
     "name": "stdout",
     "output_type": "stream",
     "text": [
      "Populating the interactive namespace from numpy and matplotlib\n"
     ]
    }
   ],
   "source": [
    "%pylab inline"
   ]
  },
  {
   "cell_type": "code",
   "execution_count": 2,
   "metadata": {
    "collapsed": true,
    "deletable": true,
    "editable": true
   },
   "outputs": [],
   "source": [
    "import matplotlib.pyplot as plt\n",
    "import pandas as pd\n",
    "import numpy as np\n",
    "import os.path as op\n",
    "from pprint import pprint as pp\n",
    "import scipy.stats\n",
    "import seaborn as sns\n",
    "import copy\n"
   ]
  },
  {
   "cell_type": "code",
   "execution_count": 3,
   "metadata": {
    "collapsed": true,
    "deletable": true,
    "editable": true
   },
   "outputs": [],
   "source": [
    "datapath = \"~/teigen_data/output_rows.csv\""
   ]
  },
  {
   "cell_type": "code",
   "execution_count": 4,
   "metadata": {
    "collapsed": false
   },
   "outputs": [
    {
     "data": {
      "text/plain": [
       "['aaron']"
      ]
     },
     "execution_count": 4,
     "metadata": {},
     "output_type": "execute_result"
    }
   ],
   "source": [
    "def list_filter(lst, startswith=None, notstartswith=None, contain=None, notcontain=None):\n",
    "    keeped = []\n",
    "    for item in lst:\n",
    "        keep = False\n",
    "        if startswith is not None:\n",
    "            if item.startswith(startswith):\n",
    "                keep = True\n",
    "        if notstartswith is not None:\n",
    "            if not item.startswith(notstartswith):\n",
    "                keep = True\n",
    "        if contain is not None:\n",
    "            if contain in item:\n",
    "                keep = True\n",
    "        if notcontain is not None:\n",
    "            if not notcontain in item:\n",
    "                keep = True\n",
    "                \n",
    "        if keep:\n",
    "            keeped.append(item)\n",
    "    return keeped\n",
    "            \n",
    "\n",
    "lst = [\"aa\" , \"sss\", \"aaron\", \"rew\"]\n",
    "output = list_filter(lst, notstartswith=\"aa\")\n",
    "assert([\"sss\", \"rew\"] == output)\n",
    "\n",
    "output = list_filter(lst, contain=\"ro\")\n",
    "# list_filter(lst, notstartswith=\"a\")\n",
    "output"
   ]
  },
  {
   "cell_type": "code",
   "execution_count": 5,
   "metadata": {
    "collapsed": false,
    "deletable": true,
    "editable": true
   },
   "outputs": [],
   "source": [
    "plotkw ={\n",
    "    \"figsize\": [9, 6], \n",
    "    \"fontsize\": 14, \n",
    "}\n",
    "plot_title_size = 40\n",
    "plot_linewidth = 3\n",
    "plot_title_size = None\n",
    "plot_linewidth = None\n",
    "\n",
    "plot_boxprops = {\n",
    "    \"linewidth\": plot_linewidth\n",
    "}\n",
    "boxplotkw = {\n",
    "    \"figsize\": [9, 6], \n",
    "    \"fontsize\": 14, \n",
    "    \"boxprops\": plot_boxprops,\n",
    "    \"medianprops\": plot_boxprops,\n",
    "    \"whiskerprops\": plot_boxprops,\n",
    "    \"capprops\": plot_boxprops,\n",
    "    \n",
    "}\n",
    "\n",
    "figurekw = {\n",
    "    \"figsize\": [9, 6]\n",
    "}\n",
    "\n",
    "plotkw = {}\n",
    "boxplotkw = {}\n",
    "figurekw = {}\n"
   ]
  },
  {
   "cell_type": "code",
   "execution_count": 6,
   "metadata": {
    "collapsed": true
   },
   "outputs": [],
   "source": [
    "\n",
    "run_label_key = \"run_label\""
   ]
  },
  {
   "cell_type": "code",
   "execution_count": 7,
   "metadata": {
    "collapsed": true,
    "deletable": true,
    "editable": true
   },
   "outputs": [],
   "source": [
    "available_radius_methods = [\n",
    "    \"inscribed\", \"circumscribed\", \n",
    "    \"average\",\n",
    "    \"cylinder volume\", \n",
    "    \"cylinder volume + sphere error\",\n",
    "    \"cylinder volume + sphere error + man\",\n",
    "    \"cylinder volume + sphere error + join error\",\n",
    "    \"cylinder surface\", \n",
    "    \"cylinder surface + sphere error\",\n",
    "    \"cylinder surface + sphere error + join error\",\n",
    "    \"cylinder surface + sphere error + join error man\",\n",
    "    \"best\",\n",
    "    \n",
    "]"
   ]
  },
  {
   "cell_type": "code",
   "execution_count": 8,
   "metadata": {
    "collapsed": false,
    "deletable": true,
    "editable": true
   },
   "outputs": [],
   "source": [
    "def dfplot(dfs, plotkw, radius_method=\"\"):\n",
    "    \n",
    "    dfsp = dfs[[\"surface error [%]\", \"volume error [%]\", \"measurement_resolution\"]].sort_values(\n",
    "        \"measurement_resolution\")\n",
    "    \n",
    "    return show_error(dfsp, radius_method=radius_method)\n",
    "    "
   ]
  },
  {
   "cell_type": "code",
   "execution_count": 9,
   "metadata": {
    "collapsed": true
   },
   "outputs": [],
   "source": [
    "def append_dataframe_to_csv(df, filename):\n",
    "    import pandas as pd \n",
    "    filename = op.expanduser(filename)\n",
    "    if op.exists(filename):\n",
    "        dfin = pd.read_csv(filename)\n",
    "        df = pd.concat([dfin, df])\n",
    "    df.to_csv(filename, index=False)\n",
    "\n",
    "def remove_rows_from_csv(filename, n=1):\n",
    "    filename = op.expanduser(filename)\n",
    "    if op.exists(filename):\n",
    "        dfin = pd.read_csv(filename)\n",
    "        df = dfin[:-n]\n",
    "        df.to_csv(filename, index=False)\n",
    "\n",
    "def run_configs(configs, loglevel=None):\n",
    "    teigen_ok_fail_list = \"~/teigen_ok_fail_list.csv\"\n",
    "    \n",
    "    if loglevel is None:\n",
    "        import logging\n",
    "        debuglevel = logging.WARNING\n",
    "    \n",
    "    tg = teigen.tgmain.Teigen()\n",
    "    tg.set_loglevel(loglevel)\n",
    "    for i, config in enumerate(configs):\n",
    "        # old failing\n",
    "        # tg = teigen.tgmain.Teigen()\n",
    "        # config = tg.get_default_config()\n",
    "        tg.use_default_config()\n",
    "        tg.update_config(**config)\n",
    "        gc = config[\"generators\"][\"Unconnected tubes\"]\n",
    "        print (str(i) + \" / \" + str(len(configs)))  \n",
    "        print (config[\"output\"][\"note\"])\n",
    "        print(\"rng {}, r {}, l {}, res {}\".format(\n",
    "            gc[\"random_generator_seed\"], \n",
    "            gc[\"radius_distribution_mean\"],\n",
    "            gc[\"length_distribution_mean\"],\n",
    "            config[\"postprocessing\"][\"measurement_resolution\"]\n",
    "        ))\n",
    "        rowcfg = tg.config_to_row_dataframe()\n",
    "        append_dataframe_to_csv(rowcfg, teigen_ok_fail_list)\n",
    "        tg.step1()\n",
    "        print(\"step1 finished\")\n",
    "        tg.step2()\n",
    "        remove_rows_from_csv(teigen_ok_fail_list)\n",
    "        print(\"step2 finished\")\n",
    "        # del(tg)\n",
    "\n",
    "def select_configs(all_configs, run_list):\n",
    "    configs = []\n",
    "    for config in all_configs:\n",
    "        if config[\"output\"][run_label_key] in run_list:\n",
    "            configs.append(config)\n",
    "    return configs"
   ]
  },
  {
   "cell_type": "code",
   "execution_count": 10,
   "metadata": {
    "collapsed": false
   },
   "outputs": [
    {
     "data": {
      "text/plain": [
       "['aaron']"
      ]
     },
     "execution_count": 10,
     "metadata": {},
     "output_type": "execute_result"
    }
   ],
   "source": [
    "def list_filter(lst, startswith=None, notstartswith=None, contain=None, notcontain=None):\n",
    "    keeped = []\n",
    "    for item in lst:\n",
    "        keep = False\n",
    "        if startswith is not None:\n",
    "            if item.startswith(startswith):\n",
    "                keep = True\n",
    "        if notstartswith is not None:\n",
    "            if not item.startswith(notstartswith):\n",
    "                keep = True\n",
    "        if contain is not None:\n",
    "            if contain in item:\n",
    "                keep = True\n",
    "        if notcontain is not None:\n",
    "            if not notcontain in item:\n",
    "                keep = True\n",
    "                \n",
    "        if keep:\n",
    "            keeped.append(item)\n",
    "    return keeped\n",
    "            \n",
    "\n",
    "lst = [\"aa\" , \"sss\", \"aaron\", \"rew\"]\n",
    "output = list_filter(lst, notstartswith=\"aa\")\n",
    "assert([\"sss\", \"rew\"] == output)\n",
    "\n",
    "output = list_filter(lst, contain=\"ro\")\n",
    "# list_filter(lst, notstartswith=\"a\")\n",
    "output"
   ]
  },
  {
   "cell_type": "code",
   "execution_count": 11,
   "metadata": {
    "collapsed": false
   },
   "outputs": [
    {
     "data": {
      "text/plain": [
       "True"
      ]
     },
     "execution_count": 11,
     "metadata": {},
     "output_type": "execute_result"
    }
   ],
   "source": [
    "\"au\" in \"plau\""
   ]
  },
  {
   "cell_type": "code",
   "execution_count": 12,
   "metadata": {
    "collapsed": false
   },
   "outputs": [
    {
     "data": {
      "text/plain": [
       "True"
      ]
     },
     "execution_count": 12,
     "metadata": {},
     "output_type": "execute_result"
    }
   ],
   "source": [
    "\"sadfa\".startswith(\"sa\")"
   ]
  },
  {
   "cell_type": "code",
   "execution_count": 2,
   "metadata": {
    "collapsed": false,
    "deletable": true,
    "editable": true
   },
   "outputs": [],
   "source": [
    "                \n",
    "\n",
    "def read_data(datapath):\n",
    "    df = pd.read_csv(op.expanduser(datapath))\n",
    "    # remove duplicates\n",
    "    ks = copy.copy(list(df.keys()))\n",
    "#     ks.remove(\"processing_info datetime\")\n",
    "    ks = list_filter(ks, notstartswith=\"processing_info\")\n",
    "    df = df.drop_duplicates(ks)\n",
    "    df[\"volume [mm^3]\"] = df[\"measurement volume [mm^3]\"]\n",
    "    df[\"numeric volume [mm^3]\"] = df[\"measurement numeric volume [mm^3]\"]\n",
    "    df[\"surface [mm^2]\"] = df[\"measurement surface [mm^2]\"]\n",
    "    df[\"numeric surface [mm^2]\"] = df[\"measurement numeric surface [mm^2]\"]\n",
    "    \n",
    "    df[\"surface error [mm^2]\"] = df[\"numeric surface [mm^2]\"] - df[\"surface [mm^2]\"]\n",
    "    df[\"surface error [%]\"] = df[\"surface error [mm^2]\"] / df[\"surface [mm^2]\"] * 100\n",
    "    df[\"volume error [mm^3]\"] = df[\"numeric volume [mm^3]\"] - df[\"volume [mm^3]\"]\n",
    "    df[\"volume error [%]\"] = df[\"volume error [mm^3]\"] / df[\"volume [mm^3]\"] * 100\n",
    "    df[\"measurement_resolution\"] = df[\"config postprocessing measurement_resolution\"]\n",
    "    df[\"length_distribution_mean\"] = df[\"config generators Unconnected tubes length_distribution_mean\"]\n",
    "    df[\"radius_distribution_mean\"] = df[\"config generators Unconnected tubes radius_distribution_mean\"]\n",
    "    df[\"element_number\"] = df[\"config generators Unconnected tubes element_number\"]\n",
    "    df[\"element number\"] = df[\"element_number\"]\n",
    "    df[\"measurement resolution\"] = df[\"measurement_resolution\"]\n",
    "    df[\"step 1 time [s]\"] = df[\"processing_info step1_total_time_s\"]\n",
    "    df[\"step 2 time [s]\"] = df[\"processing_info step2_total_time_s\"]\n",
    "    df[\"total time [s]\"] = df[\"step 1 time [s]\"] + df[\"step 2 time [s]\"]\n",
    "    \n",
    "    \n",
    "    return df\n",
    "# read_data(datapath)"
   ]
  },
  {
   "cell_type": "code",
   "execution_count": 74,
   "metadata": {
    "collapsed": false
   },
   "outputs": [
    {
     "data": {
      "text/plain": [
       "192    13660.957922\n",
       "194    13999.977805\n",
       "196    14002.209957\n",
       "198    13775.680734\n",
       "200    14088.140007\n",
       "202    14096.291812\n",
       "204    13763.766235\n",
       "206    14076.215964\n",
       "208    14084.360419\n",
       "210    13775.905053\n",
       "212    14088.363896\n",
       "214    14096.515283\n",
       "216    17261.984140\n",
       "218    18973.735899\n",
       "220    18568.458034\n",
       "222    17315.861298\n",
       "224    19311.204236\n",
       "226    18902.599341\n",
       "228    17298.022326\n",
       "230    19293.359544\n",
       "232    18884.759781\n",
       "234    17316.197371\n",
       "236    19311.539377\n",
       "238    18902.934627\n",
       "240    19949.350361\n",
       "242    13660.945903\n",
       "244    13656.524129\n",
       "246    20000.072617\n",
       "248    13695.622323\n",
       "250    13691.184854\n",
       "           ...     \n",
       "858    14084.360419\n",
       "860    13775.905053\n",
       "862    14088.363896\n",
       "864    14096.515283\n",
       "866    17261.984140\n",
       "868    18973.735899\n",
       "870    18568.458034\n",
       "872    17315.861298\n",
       "874    19311.204236\n",
       "876    18902.599341\n",
       "878    17298.022326\n",
       "880    19293.359544\n",
       "882    18884.759781\n",
       "884    17316.197371\n",
       "886    19311.539377\n",
       "888    18902.934627\n",
       "890    19949.350361\n",
       "892    13660.945903\n",
       "894    13656.524129\n",
       "896    20000.072617\n",
       "898    13695.622323\n",
       "900    13691.184854\n",
       "902    19982.281263\n",
       "904    13683.842005\n",
       "906    13679.401086\n",
       "908    20000.404045\n",
       "910    13695.843289\n",
       "912    13691.407060\n",
       "914    16451.437832\n",
       "916    17584.463046\n",
       "Name: numeric surface [mm^2], Length: 363, dtype: float64"
      ]
     },
     "execution_count": 74,
     "metadata": {},
     "output_type": "execute_result"
    }
   ],
   "source": [
    "\n",
    "# df = pd.read_csv(op.expanduser(datapath))\n",
    "# # remove duplicates\n",
    "# ks = copy.copy(list(df.keys()))\n",
    "# #     ks.remove(\"processing_info datetime\")\n",
    "# ks = list_filter(ks, notstartswith=\"processing_info\")\n",
    "# df = df.drop_duplicates(ks)\n",
    "# df[\"volume [mm^3]\"] = df[\"measurement volume [mm^3]\"]\n",
    "# df[\"numeric volume [mm^3]\"] = df[\"measurement numeric volume [mm^3]\"]\n",
    "# df[\"surface [mm^2]\"] = df[\"measurement surface [mm^2]\"]\n",
    "# df[\"numeric surface [mm^2]\"] = df[\"measurement numeric surface [mm^2]\"]\n",
    "# df[\"surface [mm^2]\"][120]\n",
    "# df[\"numeric surface [mm^2]\"][120]\n",
    "# df[\"numeric surface [mm^2]\"] -  df[\"surface [mm^2]\"]\n",
    "\n",
    "# i = 1242\n",
    "# aa = df[\"numeric surface [mm^2]\"][i]\n",
    "# bb = df[\"surface [mm^2]\"][i]\n",
    "# print(\"pozor   \", i , aa, bb)\n",
    "# float(aa) -  float(bb)\n",
    "\n",
    "# pd.to_numeric(df[\"numeric surface [mm^2]\"][156:]) \n",
    "# k-  pd.to_numeric(df[\"surface [mm^2]\"])\n",
    "# df[\"numeric surface [mm^2]\"]\n",
    "# # df[\"numeric surface [mm^2]\"][1]\n",
    "# for i in range(0, len(df[\"numeric surface [mm^2]\"])):\n",
    "#     try:\n",
    "#         aa = df[\"numeric surface [mm^2]\"][i]\n",
    "#         bb = df[\"surface [mm^2]\"][i]\n",
    "#         print(\"pozor   \", i , aa, bb)\n",
    "#         float(aa) -  float(bb)\n",
    "#     except e:\n",
    "#         pass\n",
    "    "
   ]
  },
  {
   "cell_type": "code",
   "execution_count": 19,
   "metadata": {
    "collapsed": false
   },
   "outputs": [
    {
     "ename": "TypeError",
     "evalue": "unsupported operand type(s) for -: 'str' and 'str'",
     "output_type": "error",
     "traceback": [
      "\u001b[0;31m---------------------------------------------------------------------------\u001b[0m",
      "\u001b[0;31mTypeError\u001b[0m                                 Traceback (most recent call last)",
      "\u001b[0;32m<ipython-input-19-62dacb72f516>\u001b[0m in \u001b[0;36m<module>\u001b[0;34m()\u001b[0m\n\u001b[0;32m----> 1\u001b[0;31m \u001b[0mdf\u001b[0m \u001b[0;34m=\u001b[0m \u001b[0mread_data\u001b[0m\u001b[0;34m(\u001b[0m\u001b[0mdatapath\u001b[0m\u001b[0;34m)\u001b[0m\u001b[0;34m\u001b[0m\u001b[0m\n\u001b[0m",
      "\u001b[0;32m<ipython-input-13-f5ead020e2db>\u001b[0m in \u001b[0;36mread_data\u001b[0;34m(datapath)\u001b[0m\n\u001b[1;32m     13\u001b[0m     \u001b[0mdf\u001b[0m\u001b[0;34m[\u001b[0m\u001b[0;34m\"numeric surface [mm^2]\"\u001b[0m\u001b[0;34m]\u001b[0m \u001b[0;34m=\u001b[0m \u001b[0mdf\u001b[0m\u001b[0;34m[\u001b[0m\u001b[0;34m\"measurement numeric surface [mm^2]\"\u001b[0m\u001b[0;34m]\u001b[0m\u001b[0;34m\u001b[0m\u001b[0m\n\u001b[1;32m     14\u001b[0m \u001b[0;34m\u001b[0m\u001b[0m\n\u001b[0;32m---> 15\u001b[0;31m     \u001b[0mdf\u001b[0m\u001b[0;34m[\u001b[0m\u001b[0;34m\"surface error [mm^2]\"\u001b[0m\u001b[0;34m]\u001b[0m \u001b[0;34m=\u001b[0m \u001b[0mdf\u001b[0m\u001b[0;34m[\u001b[0m\u001b[0;34m\"numeric surface [mm^2]\"\u001b[0m\u001b[0;34m]\u001b[0m \u001b[0;34m-\u001b[0m \u001b[0mdf\u001b[0m\u001b[0;34m[\u001b[0m\u001b[0;34m\"surface [mm^2]\"\u001b[0m\u001b[0;34m]\u001b[0m\u001b[0;34m\u001b[0m\u001b[0m\n\u001b[0m\u001b[1;32m     16\u001b[0m     \u001b[0mdf\u001b[0m\u001b[0;34m[\u001b[0m\u001b[0;34m\"surface error [%]\"\u001b[0m\u001b[0;34m]\u001b[0m \u001b[0;34m=\u001b[0m \u001b[0mdf\u001b[0m\u001b[0;34m[\u001b[0m\u001b[0;34m\"surface error [mm^2]\"\u001b[0m\u001b[0;34m]\u001b[0m \u001b[0;34m/\u001b[0m \u001b[0mdf\u001b[0m\u001b[0;34m[\u001b[0m\u001b[0;34m\"surface [mm^2]\"\u001b[0m\u001b[0;34m]\u001b[0m \u001b[0;34m*\u001b[0m \u001b[0;36m100\u001b[0m\u001b[0;34m\u001b[0m\u001b[0m\n\u001b[1;32m     17\u001b[0m     \u001b[0mdf\u001b[0m\u001b[0;34m[\u001b[0m\u001b[0;34m\"volume error [mm^3]\"\u001b[0m\u001b[0;34m]\u001b[0m \u001b[0;34m=\u001b[0m \u001b[0mdf\u001b[0m\u001b[0;34m[\u001b[0m\u001b[0;34m\"numeric volume [mm^3]\"\u001b[0m\u001b[0;34m]\u001b[0m \u001b[0;34m-\u001b[0m \u001b[0mdf\u001b[0m\u001b[0;34m[\u001b[0m\u001b[0;34m\"volume [mm^3]\"\u001b[0m\u001b[0;34m]\u001b[0m\u001b[0;34m\u001b[0m\u001b[0m\n",
      "\u001b[0;32m/home/mjirik/miniconda2/lib/python2.7/site-packages/pandas/core/ops.pyc\u001b[0m in \u001b[0;36mwrapper\u001b[0;34m(left, right, name, na_op)\u001b[0m\n\u001b[1;32m    719\u001b[0m                 \u001b[0mlvalues\u001b[0m \u001b[0;34m=\u001b[0m \u001b[0mlvalues\u001b[0m\u001b[0;34m.\u001b[0m\u001b[0mvalues\u001b[0m\u001b[0;34m\u001b[0m\u001b[0m\n\u001b[1;32m    720\u001b[0m \u001b[0;34m\u001b[0m\u001b[0m\n\u001b[0;32m--> 721\u001b[0;31m         \u001b[0mresult\u001b[0m \u001b[0;34m=\u001b[0m \u001b[0mwrap_results\u001b[0m\u001b[0;34m(\u001b[0m\u001b[0msafe_na_op\u001b[0m\u001b[0;34m(\u001b[0m\u001b[0mlvalues\u001b[0m\u001b[0;34m,\u001b[0m \u001b[0mrvalues\u001b[0m\u001b[0;34m)\u001b[0m\u001b[0;34m)\u001b[0m\u001b[0;34m\u001b[0m\u001b[0m\n\u001b[0m\u001b[1;32m    722\u001b[0m         return construct_result(\n\u001b[1;32m    723\u001b[0m             \u001b[0mleft\u001b[0m\u001b[0;34m,\u001b[0m\u001b[0;34m\u001b[0m\u001b[0m\n",
      "\u001b[0;32m/home/mjirik/miniconda2/lib/python2.7/site-packages/pandas/core/ops.pyc\u001b[0m in \u001b[0;36msafe_na_op\u001b[0;34m(lvalues, rvalues)\u001b[0m\n\u001b[1;32m    690\u001b[0m                 \u001b[0;32mif\u001b[0m \u001b[0mis_object_dtype\u001b[0m\u001b[0;34m(\u001b[0m\u001b[0mlvalues\u001b[0m\u001b[0;34m)\u001b[0m\u001b[0;34m:\u001b[0m\u001b[0;34m\u001b[0m\u001b[0m\n\u001b[1;32m    691\u001b[0m                     return libalgos.arrmap_object(lvalues,\n\u001b[0;32m--> 692\u001b[0;31m                                                   lambda x: op(x, rvalues))\n\u001b[0m\u001b[1;32m    693\u001b[0m             \u001b[0;32mraise\u001b[0m\u001b[0;34m\u001b[0m\u001b[0m\n\u001b[1;32m    694\u001b[0m \u001b[0;34m\u001b[0m\u001b[0m\n",
      "\u001b[0;32mpandas/_libs/algos_common_helper.pxi\u001b[0m in \u001b[0;36mpandas._libs.algos.arrmap_object (pandas/_libs/algos.c:31954)\u001b[0;34m()\u001b[0m\n",
      "\u001b[0;32m/home/mjirik/miniconda2/lib/python2.7/site-packages/pandas/core/ops.pyc\u001b[0m in \u001b[0;36m<lambda>\u001b[0;34m(x)\u001b[0m\n\u001b[1;32m    690\u001b[0m                 \u001b[0;32mif\u001b[0m \u001b[0mis_object_dtype\u001b[0m\u001b[0;34m(\u001b[0m\u001b[0mlvalues\u001b[0m\u001b[0;34m)\u001b[0m\u001b[0;34m:\u001b[0m\u001b[0;34m\u001b[0m\u001b[0m\n\u001b[1;32m    691\u001b[0m                     return libalgos.arrmap_object(lvalues,\n\u001b[0;32m--> 692\u001b[0;31m                                                   lambda x: op(x, rvalues))\n\u001b[0m\u001b[1;32m    693\u001b[0m             \u001b[0;32mraise\u001b[0m\u001b[0;34m\u001b[0m\u001b[0m\n\u001b[1;32m    694\u001b[0m \u001b[0;34m\u001b[0m\u001b[0m\n",
      "\u001b[0;31mTypeError\u001b[0m: unsupported operand type(s) for -: 'str' and 'str'"
     ]
    }
   ],
   "source": [
    "df = read_data(datapath)"
   ]
  },
  {
   "cell_type": "code",
   "execution_count": null,
   "metadata": {
    "collapsed": false,
    "deletable": true,
    "editable": true
   },
   "outputs": [],
   "source": [
    "def statistic_tests(dfs, wxparams={}):\n",
    "\n",
    "    # wilcoxon - čím větší, tím lepší\n",
    "    vol_w = scipy.stats.wilcoxon(x=dfs[\"volume [mm^3]\"], y=dfs[\"numeric volume [mm^3]\"], **wxparams)\n",
    "    # spearman čím menší, tím lepší\n",
    "    vol_s = scipy.stats.spearmanr(dfs[\"volume [mm^3]\"], dfs[\"numeric volume [mm^3]\"])\n",
    "    \n",
    "    # print dfs.keys()\n",
    "    # wilcoxon - čím větší, tím lepší, alespoň 0.05\n",
    "    surf_w = scipy.stats.wilcoxon(x=dfs[\"surface [mm^2]\"], y=dfs[\"numeric surface [mm^2]\"], **wxparams)\n",
    "    # spearman čím menší, tím lepší\n",
    "    surf_s = scipy.stats.spearmanr(dfs[\"surface [mm^2]\"], dfs[\"numeric surface [mm^2]\"])\n",
    "    \n",
    "    return vol_w, vol_s, surf_w, surf_s\n",
    "\n",
    "def show_error(dfs, x_key=\"measurement_resolution\", radius_method=\"\", plotkw={}, boxplotkw={}, figurekw={}):\n",
    "    \n",
    "    sns.set_style(\"whitegrid\")\n",
    "#     sns.set_context(\"talk\")\n",
    "    sns.set_context(\"paper\")\n",
    "    # print \"show_error\"\n",
    "    # print dfs.keys()\n",
    "    dfsp = dfs[[\"surface error [%]\", \"volume error [%]\", \n",
    "                x_key]].sort_values(x_key)\n",
    "\n",
    "    if len(dfsp) < 1:\n",
    "        return dfsp\n",
    "    wxparams = {\n",
    "        # \"correction\": True,\n",
    "        \"correction\": False,\n",
    "        \"zero_method\": \"pratt\"\n",
    "        #\"zero_method\": \"wilcox\"\n",
    "    }\n",
    "    vol_w, vol_s, surf_w, surf_s = statistic_tests(dfs, wxparams)\n",
    "#     # wilcoxon - čím větší, tím lepší\n",
    "#     vol_w = scipy.stats.wilcoxon(x=dfs[\"volume [mm^3]\"], y=dfs[\"numeric volume [mm^3]\"], **wxparams)\n",
    "#     # spearman čím menší, tím lepší\n",
    "#     vol_s = scipy.stats.spearmanr(dfs[\"volume [mm^3]\"], dfs[\"numeric volume [mm^3]\"])\n",
    "    \n",
    "#     # print dfs.keys()\n",
    "#     # wilcoxon - čím větší, tím lepší, alespoň 0.05\n",
    "#     surf_w = scipy.stats.wilcoxon(x=dfs[\"surface [mm^2]\"], y=dfs[\"numeric surface [mm^2]\"], **wxparams)\n",
    "#     # spearman čím menší, tím lepší\n",
    "#     surf_s = scipy.stats.spearmanr(dfs[\"surface [mm^2]\"], dfs[\"numeric surface [mm^2]\"])\n",
    "    \n",
    "#     print radius_method, len(dfsp), \":\\nvolume (w/s): \\n\", vol_w, \"\\n\",vol_s, \"\\n\", \"surface (w/s): \\n\" , surf_w,\"\\n\", surf_s, \"\\n\"\n",
    "\n",
    "    fig = plt.figure(**figurekw)\n",
    "    ax = plt.subplot(141)\n",
    "    dfsp[[\"volume error [%]\", x_key]].plot(\n",
    "        ax=ax, x=x_key, \n",
    "#         linewidth=plot_linewidth,\n",
    "        **plotkw)\n",
    "    ax = plt.subplot(142)\n",
    "    dfsp[[\"surface error [%]\", x_key]].plot(\n",
    "        ax=ax, x=x_key, \n",
    "#         linewidth=plot_linewidth, \n",
    "        **plotkw)\n",
    "    ax = plt.subplot(143)\n",
    "    \n",
    "#     sns.set_style(\"whitegrid\")\n",
    "#     sns.set_context(\"talk\")\n",
    "#     sns.boxplot(\n",
    "#         y=\"surface error [%]\",\n",
    "#     #     x=\"config output note\", \n",
    "#     #     x=\"surface\",\n",
    "#     #     data=df, \n",
    "#         data=df, \n",
    "#         palette=\"muted\"\n",
    "#     )\n",
    "    dfsp[[\"volume error [%]\"]].plot(\n",
    "        ax=ax, kind=\"box\", **boxplotkw)\n",
    "    ax = plt.subplot(144)\n",
    "    dfsp[[\"surface error [%]\"]].plot(\n",
    "        ax=ax, kind=\"box\", **boxplotkw)\n",
    "    plt.tight_layout()\n",
    "    plt.suptitle(\"{} \\nvolume wx {} sp {} \\nsurface wx {} sp {}\".format(\n",
    "        radius_method, \n",
    "        vol_w.pvalue, \n",
    "        vol_s.pvalue,\n",
    "        surf_w.pvalue, \n",
    "        surf_s.pvalue\n",
    "    )\n",
    "#                  size=plot_title_size\n",
    "                )\n",
    "    return dfsp\n",
    "# show_error(df)\n"
   ]
  },
  {
   "cell_type": "code",
   "execution_count": null,
   "metadata": {
    "collapsed": false
   },
   "outputs": [],
   "source": [
    "\n",
    "dfs =  df[[\"surface error [%]\", \"volume error [%]\", \"config output note\"]].rename(\n",
    "    columns={\n",
    "        \"surface error [%]\": \"surface\",\n",
    "        \"volume error [%]\": \"volume\"\n",
    "    })\n",
    "df_long = pd.melt(\n",
    "    dfs,\n",
    "    \"config output note\",\n",
    "    var_name=\"measurement\", \n",
    "    value_name=\"error [%]\"\n",
    "    \n",
    ")\n",
    "\n",
    "sns.set_style(\"whitegrid\")\n",
    "sns.set_context(\"talk\")\n",
    "sns.boxplot(\n",
    "    y=\"surface error [%]\",\n",
    "#     x=\"config output note\", \n",
    "#     x=\"surface\",\n",
    "#     data=df, \n",
    "    data=df, \n",
    "    palette=\"muted\"\n",
    ")\n",
    "# df_long = df_long.rename(columns={\"surface error [%]\": \"surface\"})\n",
    "\n",
    "\n",
    "\n",
    "# # sns.violinplot(\n",
    "# sns.boxplot(\n",
    "#     y=\"error [%]\",\n",
    "# #     x=\"config output note\", \n",
    "#     x=\"measurement\",\n",
    "# #     data=df, \n",
    "# #     hue=\"config output note\",\n",
    "#     data=df_long, \n",
    "# )\n",
    "\n"
   ]
  },
  {
   "cell_type": "code",
   "execution_count": null,
   "metadata": {
    "collapsed": false
   },
   "outputs": [],
   "source": [
    "dfs.rename(columns={\"surface error [%]\":\"s\"})"
   ]
  },
  {
   "cell_type": "code",
   "execution_count": null,
   "metadata": {
    "collapsed": false
   },
   "outputs": [],
   "source": [
    "\n",
    "pd.to_datetime(\"today\")"
   ]
  },
  {
   "cell_type": "code",
   "execution_count": null,
   "metadata": {
    "collapsed": false
   },
   "outputs": [],
   "source": [
    "note_key = list_filter(df.keys(), contain=\"note\")[0]\n",
    "step2_datetime_key = list_filter(df.keys(), contain=\"step2_finish_datetime\")[0]\n",
    "\n",
    "# print(step2_datetime_key)"
   ]
  },
  {
   "cell_type": "code",
   "execution_count": null,
   "metadata": {
    "collapsed": false
   },
   "outputs": [],
   "source": [
    "def newer_data(df, timestamp_string=\"today\"):\n",
    "    \"\"\"\n",
    "    timestamp_string: f.e. 2017-07-05\n",
    "    \"\"\"\n",
    "    which_keep = pd.to_datetime(df[step2_datetime_key]) > pd.to_datetime(timestamp_string)\n",
    "    return df[which_keep]\n",
    "dfs = newer_data(df)\n",
    "print(\"{}/{}\".format(len(dfs), len(df)))"
   ]
  },
  {
   "cell_type": "code",
   "execution_count": null,
   "metadata": {
    "collapsed": false
   },
   "outputs": [],
   "source": [
    "def select_df(df, note=None, note_contains=None, newer_than=None, older_than=None, remove=False, print_log=False):\n",
    "    \"\"\"\n",
    "    timestamp_string: f.e. 2017-07-05\n",
    "    \"\"\"\n",
    "    ldf = len(df)\n",
    "    which_keep = [True] * len(df)\n",
    "    if newer_than is not None:\n",
    "        which_keep_time = pd.to_datetime(df[step2_datetime_key]) > pd.to_datetime(newer_than)\n",
    "        which_keep = which_keep_time\n",
    "        \n",
    "    if older_than is not None:\n",
    "        which_keep_time = pd.to_datetime(df[step2_datetime_key]) < pd.to_datetime(older_than)\n",
    "        which_keep = which_keep & which_keep_time\n",
    "        \n",
    "    if note is not None:\n",
    "        which_keep_note = df[note_key] == note\n",
    "        which_keep = which_keep & which_keep_note\n",
    "        \n",
    "    if note_contains is not None:\n",
    "        which_keep_note = df[note_key].str.contains(note_contains)\n",
    "        which_keep = which_keep & which_keep_note\n",
    "        \n",
    "    if remove:\n",
    "        which_keep = np.logical_not( which_keep)\n",
    "        \n",
    "#     print(which_keep)\n",
    "\n",
    "    dfout = df[which_keep] \n",
    "    ldfo = len(dfout)\n",
    "    if print_log:\n",
    "        print(\"{}/{}\".format(ldfo, ldf))\n",
    "    return dfout\n",
    "dfs1 = select_df(df, newer_than=\"today\")\n",
    "dfs2 = select_df(df, \"mix 4 inscribed\", newer_than=\"today\")\n",
    "dfs3 = select_df(df, \"mix 4 inscribed\", newer_than=\"today\", remove=True)\n",
    "ldfs1 = len(dfs1)\n",
    "ldfs2 = len(dfs2)\n",
    "ldfs3 = len(dfs3)\n",
    "ldf = len(df)\n",
    "\n",
    "# print ldfs1, ldfs2, ldfs3\n",
    "assert(ldfs1 >= ldfs2)\n",
    "assert((ldfs2 + ldfs3) == ldf)\n",
    "\n",
    "# print(\"{}/{}\".format(len(dfs), len(df)))"
   ]
  },
  {
   "cell_type": "code",
   "execution_count": null,
   "metadata": {
    "collapsed": false
   },
   "outputs": [],
   "source": [
    "# import pybloqs.block.table_formatters as tf"
   ]
  },
  {
   "cell_type": "code",
   "execution_count": null,
   "metadata": {
    "collapsed": true
   },
   "outputs": [],
   "source": [
    "def evaluate_based_on_note(df, note):\n",
    "    # for radius_method in [\"cylinder volume + sphere compensation\"]:\n",
    "    for radius_method in available_radius_methods:\n",
    "        dfs = df[\n",
    "            df[note_key] ==  note + radius_method\n",
    "        ]\n",
    "        dfsp = show_error(dfs, radius_method=radius_method, plotkw=plotkw)"
   ]
  },
  {
   "cell_type": "code",
   "execution_count": null,
   "metadata": {
    "collapsed": false
   },
   "outputs": [],
   "source": [
    "# import logging\n",
    "# logger = logging.getLogger()\n",
    "# logging.basicConfig()\n",
    "# for x in range(10):\n",
    "#     logger.warning('{0}\\r'.format(x))\n",
    "#     print 'uu{0}\\r'.format(x),\n",
    "# print"
   ]
  }
 ],
 "metadata": {
  "anaconda-cloud": {},
  "kernelspec": {
   "display_name": "Python 2",
   "language": "python",
   "name": "python2"
  },
  "language_info": {
   "codemirror_mode": {
    "name": "ipython",
    "version": 2
   },
   "file_extension": ".py",
   "mimetype": "text/x-python",
   "name": "python",
   "nbconvert_exporter": "python",
   "pygments_lexer": "ipython2",
   "version": "2.7.9"
  }
 },
 "nbformat": 4,
 "nbformat_minor": 1
}
