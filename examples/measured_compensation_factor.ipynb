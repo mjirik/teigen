{
 "cells": [
  {
   "cell_type": "markdown",
   "metadata": {
    "deletable": true,
    "editable": true
   },
   "source": [
    "# Compensation factor measurement\n",
    "\n",
    "\n",
    "Kompenzace válce je analyticky vypočítaná. Jiná je pro povrch, jiná je pro objem.\n",
    "Kompenzace pro kulové plochy je vypočtena na základě měření. Pro oběm na základě inscribed, pro povrch na základě cylinder_surface\n",
    "\n",
    "Pro nulovou délku tube (pill) je \n",
    "určen korekční faktor. \n",
    "\n",
    "\n",
    "Pro nenulové délky tube se objevují ještě artefakty na přechodu proto bylo stanoveno měření chyby na těchto přechodech.\n",
    "\n",
    "\n",
    "Compensation is determined in two steps:\n",
    "\n",
    "1) \n",
    "For sphere compensation computation run `compensation method 1 sphere` in `run_experiments` script. Then use computed `x` and `y` in python scripts.\n",
    "\n",
    "2)\n",
    "restart ipython kernel\n",
    "\n",
    "3) \n",
    "For sphere-tube join compensation run `compensation method measurement 1 tube` \n",
    "Then use computed `x` and `y` in python scripts.\n",
    "\n",
    "4)\n",
    "restart ipython kernel"
   ]
  },
  {
   "cell_type": "code",
   "execution_count": 16,
   "metadata": {
    "collapsed": false,
    "deletable": true,
    "editable": true
   },
   "outputs": [
    {
     "name": "stdout",
     "output_type": "stream",
     "text": [
      "Populating the interactive namespace from numpy and matplotlib\n"
     ]
    }
   ],
   "source": [
    "%pylab inline"
   ]
  },
  {
   "cell_type": "code",
   "execution_count": 17,
   "metadata": {
    "collapsed": false
   },
   "outputs": [
    {
     "name": "stdout",
     "output_type": "stream",
     "text": [
      "Populating the interactive namespace from numpy and matplotlib\n",
      "269/2917\n"
     ]
    }
   ],
   "source": [
    "%run evaltools.ipynb"
   ]
  },
  {
   "cell_type": "code",
   "execution_count": 18,
   "metadata": {
    "collapsed": true,
    "deletable": true,
    "editable": true
   },
   "outputs": [],
   "source": [
    "import matplotlib.pyplot as plt\n",
    "import pandas as pd\n",
    "import numpy as np\n",
    "import os.path as op\n",
    "from pprint import pprint as pp\n",
    "import scipy.stats\n",
    "import seaborn as sns\n",
    "import copy"
   ]
  },
  {
   "cell_type": "code",
   "execution_count": 19,
   "metadata": {
    "collapsed": true,
    "deletable": true,
    "editable": true
   },
   "outputs": [],
   "source": [
    "# datapath = \"~/teigen_data/output_rows.csv\""
   ]
  },
  {
   "cell_type": "code",
   "execution_count": 20,
   "metadata": {
    "collapsed": true,
    "deletable": true,
    "editable": true
   },
   "outputs": [],
   "source": [
    "# plotkw ={\n",
    "#     \"figsize\": [15, 6], \n",
    "#     # \"fontsize\": 14\n",
    "#     # \"linestyle\": \"-\",\n",
    "#     # \"marker\": \"x\"\n",
    "# }"
   ]
  },
  {
   "cell_type": "code",
   "execution_count": 21,
   "metadata": {
    "collapsed": true,
    "deletable": true,
    "editable": true
   },
   "outputs": [],
   "source": [
    "# available_radius_methods = [\n",
    "#     \"inscribed\", \"circumscribed\", \n",
    "#     \"average\",\n",
    "#     \"cylinder volume\", \n",
    "#     \"cylinder surface\", \n",
    "#     \"cylinder volume + sphere error\",\n",
    "#     \"cylinder volume + sphere error + man\",\n",
    "#     \"cylinder surface + sphere error\",\n",
    "#     \"cylinder surface + sphere error + join error\",\n",
    "#     \"cylinder surface + sphere error + join error man\",\n",
    "#     \"best\",\n",
    "    \n",
    "# ]"
   ]
  },
  {
   "cell_type": "code",
   "execution_count": 22,
   "metadata": {
    "collapsed": false,
    "deletable": true,
    "editable": true
   },
   "outputs": [],
   "source": [
    "# scripts can be runned\n",
    "# %run run_experiments.ipynb"
   ]
  },
  {
   "cell_type": "code",
   "execution_count": 23,
   "metadata": {
    "collapsed": false,
    "deletable": true,
    "editable": true
   },
   "outputs": [],
   "source": [
    "df = pd.read_csv(op.expanduser(datapath))\n",
    "# # remove duplicates\n",
    "# ks = copy.copy(list(df.keys()))\n",
    "# ks.remove(\"datetime\")\n",
    "# df = df.drop_duplicates(ks)\n",
    "\n",
    "# df = df.drop_duplicates()\n",
    "# df[\"surface error [mm^2]\"] = df[\"numeric surface [mm^2]\"] - df[\"surface [mm^2]\"]\n",
    "# df[\"surface error [%]\"] = df[\"surface error [mm^2]\"] / df[\"surface [mm^2]\"] * 100\n",
    "# df[\"volume error [mm^3]\"] = df[\"numeric volume [mm^3]\"] - df[\"volume [mm^3]\"]\n",
    "# df[\"volume error [%]\"] = df[\"volume error [mm^3]\"] / df[\"volume [mm^3]\"] * 100\n",
    "\n",
    "read_data(datapath)\n",
    "df[\"measurement_resolution\"] = df[\"config postprocessing measurement_resolution\"]\n",
    "df[\"length_distribution_mean\"] = df[\"config generators Unconnected tubes length_distribution_mean\"]\n",
    "df[\"radius_distribution_mean\"] = df[\"config generators Unconnected tubes radius_distribution_mean\"]"
   ]
  },
  {
   "cell_type": "code",
   "execution_count": 24,
   "metadata": {
    "collapsed": false,
    "deletable": true,
    "editable": true
   },
   "outputs": [],
   "source": [
    "def show_radius(dfs, x_key=\"measurement resolution\"):\n",
    "    dfsp = dfs[[\"sphere_radius_volume_estimation_numeric\", \"sphere_radius_surface_estimation_numeric\", x_key]].sort_values(\n",
    "        x_key).sort_values(x_key)\n",
    "    \n",
    "    if len(dfsp) < 1:\n",
    "        return dfsp\n",
    "    # fig = plt.figure(figsize=[25, 18])\n",
    "    ax = plt.subplot(111)\n",
    "    dfsp.plot(\n",
    "        ax=ax, x=x_key, **plotkw)\n",
    "    # ax = plt.subplot(122)\n",
    "    # dfsp[[\"volume error [%]\"]].plot(\n",
    "    #     ax=ax, kind=\"box\", **plotkw)\n",
    "    plt.suptitle(radius_method + \" ({})\".format(len(dfs)))\n",
    "    return dfsp\n",
    "\n",
    "def show_error(dfs, x_key=\"measurement resolution\"):\n",
    "    \n",
    "    dfsp = dfs[[\"surface error [%]\", \"volume error [%]\", \n",
    "                x_key]].sort_values(x_key)\n",
    "\n",
    "    if len(dfsp) < 1:\n",
    "        return dfsp\n",
    "    # wilcoxon - čím větší, tím lepší, alespoň 0.05\n",
    "    surf_w = scipy.stats.wilcoxon(x=dfs[\"surface [mm^2]\"], y=dfs[\"numeric surface [mm^2]\"], correction=False, zero_method=\"pratt\")\n",
    "    # spearman čím menší, tím lepší\n",
    "    surf_s = scipy.stats.spearmanr(dfs[\"surface [mm^2]\"], dfs[\"numeric surface [mm^2]\"])\n",
    "    \n",
    "    # wilcoxon - čím větší, tím lepší\n",
    "    vol_w = scipy.stats.wilcoxon(x=dfs[\"volume [mm^3]\"], y=dfs[\"numeric volume [mm^3]\"], correction=False, zero_method=\"pratt\")\n",
    "    # spearman čím menší, tím lepší\n",
    "    vol_s = scipy.stats.spearmanr(dfs[\"volume [mm^3]\"], dfs[\"numeric volume [mm^3]\"])\n",
    "    \n",
    "    print radius_method, \": \\nsurface (w/s): \\n\" , surf_w,\"\\n\", surf_s, \"\\nvolume (w/s): \\n\", vol_w, \"\\n\",vol_s, \"\\n\", len(dfsp)\n",
    "\n",
    "    fig = plt.figure(figsize=[25, 18])\n",
    "    ax = plt.subplot(141)\n",
    "    dfsp.plot(\n",
    "        ax=ax, x=x_key, **plotkw)\n",
    "    ax = plt.subplot(142)\n",
    "    dfsp[[\"volume error [%]\"]].plot(\n",
    "        ax=ax, kind=\"box\", **plotkw)\n",
    "    ax = plt.subplot(143)\n",
    "    dfsp[[\"surface error [%]\"]].plot(\n",
    "        ax=ax, kind=\"box\", **plotkw)\n",
    "    \n",
    "    ax = plt.subplot(144)\n",
    "    dfsp[dfsp[\"measurement_resolution\"] > dfsp[\"measurement_resolution\"].mean()].plot(\n",
    "        ax=ax, x=x_key, **plotkw)\n",
    "    plt.suptitle(radius_method)\n",
    "    return dfsp"
   ]
  },
  {
   "cell_type": "markdown",
   "metadata": {
    "deletable": true,
    "editable": true
   },
   "source": [
    "# Cylinder surface and volume analytic compensation\n",
    "\n",
    "Regular polygon equivalent surface area $eqS$ is used for cylinder volume compensation \n",
    "\n",
    "$$ \n",
    "r_{eqS} = \\sqrt{\\frac{\\theta r^2}{\\sin{\\theta}}} \n",
    "\\qquad\n",
    "\\theta = \\frac{2 \\pi}{n}\n",
    "$$\n",
    "\n",
    "Regular polygon equivalent perimeter $eqP$ is used for cylinder surface compensation\n",
    "\n",
    "$$\n",
    "r_{eqP} = \\frac{\\theta r}{\n",
    "  2 \\sin{\\frac{\\theta}{2}}\n",
    "}\n",
    "\\qquad\n",
    "\\theta = \\frac{2 \\pi}{n}\n",
    "$$\n",
    "\n",
    "\n",
    "## 1 Cylinder - check"
   ]
  },
  {
   "cell_type": "code",
   "execution_count": 25,
   "metadata": {
    "collapsed": false,
    "deletable": true,
    "editable": true,
    "scrolled": false
   },
   "outputs": [
    {
     "ename": "KeyError",
     "evalue": "'output note'",
     "output_type": "error",
     "traceback": [
      "\u001b[0;31m---------------------------------------------------------------------------\u001b[0m",
      "\u001b[0;31mKeyError\u001b[0m                                  Traceback (most recent call last)",
      "\u001b[0;32m<ipython-input-25-eb76e4c02548>\u001b[0m in \u001b[0;36m<module>\u001b[0;34m()\u001b[0m\n\u001b[1;32m      1\u001b[0m \u001b[0;32mfor\u001b[0m \u001b[0mradius_method\u001b[0m \u001b[0;32min\u001b[0m \u001b[0mavailable_radius_methods\u001b[0m\u001b[0;34m:\u001b[0m\u001b[0;34m\u001b[0m\u001b[0m\n\u001b[1;32m      2\u001b[0m     dfs = df[\n\u001b[0;32m----> 3\u001b[0;31m         \u001b[0mdf\u001b[0m\u001b[0;34m[\u001b[0m\u001b[0;34m\"output note\"\u001b[0m\u001b[0;34m]\u001b[0m \u001b[0;34m==\u001b[0m \u001b[0;34m\"compensation method 1 cylinder \"\u001b[0m \u001b[0;34m+\u001b[0m \u001b[0mradius_method\u001b[0m\u001b[0;34m\u001b[0m\u001b[0m\n\u001b[0m\u001b[1;32m      4\u001b[0m     ]\n\u001b[1;32m      5\u001b[0m     \u001b[0mdfsp\u001b[0m \u001b[0;34m=\u001b[0m \u001b[0mshow_error\u001b[0m\u001b[0;34m(\u001b[0m\u001b[0mdfs\u001b[0m\u001b[0;34m)\u001b[0m \u001b[0;31m#, x_key=\"radius_distribution_mean\")\u001b[0m\u001b[0;34m\u001b[0m\u001b[0m\n",
      "\u001b[0;32m/home/mjirik/miniconda2/lib/python2.7/site-packages/pandas/core/frame.pyc\u001b[0m in \u001b[0;36m__getitem__\u001b[0;34m(self, key)\u001b[0m\n\u001b[1;32m   1962\u001b[0m             \u001b[0;32mreturn\u001b[0m \u001b[0mself\u001b[0m\u001b[0;34m.\u001b[0m\u001b[0m_getitem_multilevel\u001b[0m\u001b[0;34m(\u001b[0m\u001b[0mkey\u001b[0m\u001b[0;34m)\u001b[0m\u001b[0;34m\u001b[0m\u001b[0m\n\u001b[1;32m   1963\u001b[0m         \u001b[0;32melse\u001b[0m\u001b[0;34m:\u001b[0m\u001b[0;34m\u001b[0m\u001b[0m\n\u001b[0;32m-> 1964\u001b[0;31m             \u001b[0;32mreturn\u001b[0m \u001b[0mself\u001b[0m\u001b[0;34m.\u001b[0m\u001b[0m_getitem_column\u001b[0m\u001b[0;34m(\u001b[0m\u001b[0mkey\u001b[0m\u001b[0;34m)\u001b[0m\u001b[0;34m\u001b[0m\u001b[0m\n\u001b[0m\u001b[1;32m   1965\u001b[0m \u001b[0;34m\u001b[0m\u001b[0m\n\u001b[1;32m   1966\u001b[0m     \u001b[0;32mdef\u001b[0m \u001b[0m_getitem_column\u001b[0m\u001b[0;34m(\u001b[0m\u001b[0mself\u001b[0m\u001b[0;34m,\u001b[0m \u001b[0mkey\u001b[0m\u001b[0;34m)\u001b[0m\u001b[0;34m:\u001b[0m\u001b[0;34m\u001b[0m\u001b[0m\n",
      "\u001b[0;32m/home/mjirik/miniconda2/lib/python2.7/site-packages/pandas/core/frame.pyc\u001b[0m in \u001b[0;36m_getitem_column\u001b[0;34m(self, key)\u001b[0m\n\u001b[1;32m   1969\u001b[0m         \u001b[0;31m# get column\u001b[0m\u001b[0;34m\u001b[0m\u001b[0;34m\u001b[0m\u001b[0m\n\u001b[1;32m   1970\u001b[0m         \u001b[0;32mif\u001b[0m \u001b[0mself\u001b[0m\u001b[0;34m.\u001b[0m\u001b[0mcolumns\u001b[0m\u001b[0;34m.\u001b[0m\u001b[0mis_unique\u001b[0m\u001b[0;34m:\u001b[0m\u001b[0;34m\u001b[0m\u001b[0m\n\u001b[0;32m-> 1971\u001b[0;31m             \u001b[0;32mreturn\u001b[0m \u001b[0mself\u001b[0m\u001b[0;34m.\u001b[0m\u001b[0m_get_item_cache\u001b[0m\u001b[0;34m(\u001b[0m\u001b[0mkey\u001b[0m\u001b[0;34m)\u001b[0m\u001b[0;34m\u001b[0m\u001b[0m\n\u001b[0m\u001b[1;32m   1972\u001b[0m \u001b[0;34m\u001b[0m\u001b[0m\n\u001b[1;32m   1973\u001b[0m         \u001b[0;31m# duplicate columns & possible reduce dimensionality\u001b[0m\u001b[0;34m\u001b[0m\u001b[0;34m\u001b[0m\u001b[0m\n",
      "\u001b[0;32m/home/mjirik/miniconda2/lib/python2.7/site-packages/pandas/core/generic.pyc\u001b[0m in \u001b[0;36m_get_item_cache\u001b[0;34m(self, item)\u001b[0m\n\u001b[1;32m   1643\u001b[0m         \u001b[0mres\u001b[0m \u001b[0;34m=\u001b[0m \u001b[0mcache\u001b[0m\u001b[0;34m.\u001b[0m\u001b[0mget\u001b[0m\u001b[0;34m(\u001b[0m\u001b[0mitem\u001b[0m\u001b[0;34m)\u001b[0m\u001b[0;34m\u001b[0m\u001b[0m\n\u001b[1;32m   1644\u001b[0m         \u001b[0;32mif\u001b[0m \u001b[0mres\u001b[0m \u001b[0;32mis\u001b[0m \u001b[0mNone\u001b[0m\u001b[0;34m:\u001b[0m\u001b[0;34m\u001b[0m\u001b[0m\n\u001b[0;32m-> 1645\u001b[0;31m             \u001b[0mvalues\u001b[0m \u001b[0;34m=\u001b[0m \u001b[0mself\u001b[0m\u001b[0;34m.\u001b[0m\u001b[0m_data\u001b[0m\u001b[0;34m.\u001b[0m\u001b[0mget\u001b[0m\u001b[0;34m(\u001b[0m\u001b[0mitem\u001b[0m\u001b[0;34m)\u001b[0m\u001b[0;34m\u001b[0m\u001b[0m\n\u001b[0m\u001b[1;32m   1646\u001b[0m             \u001b[0mres\u001b[0m \u001b[0;34m=\u001b[0m \u001b[0mself\u001b[0m\u001b[0;34m.\u001b[0m\u001b[0m_box_item_values\u001b[0m\u001b[0;34m(\u001b[0m\u001b[0mitem\u001b[0m\u001b[0;34m,\u001b[0m \u001b[0mvalues\u001b[0m\u001b[0;34m)\u001b[0m\u001b[0;34m\u001b[0m\u001b[0m\n\u001b[1;32m   1647\u001b[0m             \u001b[0mcache\u001b[0m\u001b[0;34m[\u001b[0m\u001b[0mitem\u001b[0m\u001b[0;34m]\u001b[0m \u001b[0;34m=\u001b[0m \u001b[0mres\u001b[0m\u001b[0;34m\u001b[0m\u001b[0m\n",
      "\u001b[0;32m/home/mjirik/miniconda2/lib/python2.7/site-packages/pandas/core/internals.pyc\u001b[0m in \u001b[0;36mget\u001b[0;34m(self, item, fastpath)\u001b[0m\n\u001b[1;32m   3588\u001b[0m \u001b[0;34m\u001b[0m\u001b[0m\n\u001b[1;32m   3589\u001b[0m             \u001b[0;32mif\u001b[0m \u001b[0;32mnot\u001b[0m \u001b[0misnull\u001b[0m\u001b[0;34m(\u001b[0m\u001b[0mitem\u001b[0m\u001b[0;34m)\u001b[0m\u001b[0;34m:\u001b[0m\u001b[0;34m\u001b[0m\u001b[0m\n\u001b[0;32m-> 3590\u001b[0;31m                 \u001b[0mloc\u001b[0m \u001b[0;34m=\u001b[0m \u001b[0mself\u001b[0m\u001b[0;34m.\u001b[0m\u001b[0mitems\u001b[0m\u001b[0;34m.\u001b[0m\u001b[0mget_loc\u001b[0m\u001b[0;34m(\u001b[0m\u001b[0mitem\u001b[0m\u001b[0;34m)\u001b[0m\u001b[0;34m\u001b[0m\u001b[0m\n\u001b[0m\u001b[1;32m   3591\u001b[0m             \u001b[0;32melse\u001b[0m\u001b[0;34m:\u001b[0m\u001b[0;34m\u001b[0m\u001b[0m\n\u001b[1;32m   3592\u001b[0m                 \u001b[0mindexer\u001b[0m \u001b[0;34m=\u001b[0m \u001b[0mnp\u001b[0m\u001b[0;34m.\u001b[0m\u001b[0marange\u001b[0m\u001b[0;34m(\u001b[0m\u001b[0mlen\u001b[0m\u001b[0;34m(\u001b[0m\u001b[0mself\u001b[0m\u001b[0;34m.\u001b[0m\u001b[0mitems\u001b[0m\u001b[0;34m)\u001b[0m\u001b[0;34m)\u001b[0m\u001b[0;34m[\u001b[0m\u001b[0misnull\u001b[0m\u001b[0;34m(\u001b[0m\u001b[0mself\u001b[0m\u001b[0;34m.\u001b[0m\u001b[0mitems\u001b[0m\u001b[0;34m)\u001b[0m\u001b[0;34m]\u001b[0m\u001b[0;34m\u001b[0m\u001b[0m\n",
      "\u001b[0;32m/home/mjirik/miniconda2/lib/python2.7/site-packages/pandas/core/indexes/base.pyc\u001b[0m in \u001b[0;36mget_loc\u001b[0;34m(self, key, method, tolerance)\u001b[0m\n\u001b[1;32m   2442\u001b[0m                 \u001b[0;32mreturn\u001b[0m \u001b[0mself\u001b[0m\u001b[0;34m.\u001b[0m\u001b[0m_engine\u001b[0m\u001b[0;34m.\u001b[0m\u001b[0mget_loc\u001b[0m\u001b[0;34m(\u001b[0m\u001b[0mkey\u001b[0m\u001b[0;34m)\u001b[0m\u001b[0;34m\u001b[0m\u001b[0m\n\u001b[1;32m   2443\u001b[0m             \u001b[0;32mexcept\u001b[0m \u001b[0mKeyError\u001b[0m\u001b[0;34m:\u001b[0m\u001b[0;34m\u001b[0m\u001b[0m\n\u001b[0;32m-> 2444\u001b[0;31m                 \u001b[0;32mreturn\u001b[0m \u001b[0mself\u001b[0m\u001b[0;34m.\u001b[0m\u001b[0m_engine\u001b[0m\u001b[0;34m.\u001b[0m\u001b[0mget_loc\u001b[0m\u001b[0;34m(\u001b[0m\u001b[0mself\u001b[0m\u001b[0;34m.\u001b[0m\u001b[0m_maybe_cast_indexer\u001b[0m\u001b[0;34m(\u001b[0m\u001b[0mkey\u001b[0m\u001b[0;34m)\u001b[0m\u001b[0;34m)\u001b[0m\u001b[0;34m\u001b[0m\u001b[0m\n\u001b[0m\u001b[1;32m   2445\u001b[0m \u001b[0;34m\u001b[0m\u001b[0m\n\u001b[1;32m   2446\u001b[0m         \u001b[0mindexer\u001b[0m \u001b[0;34m=\u001b[0m \u001b[0mself\u001b[0m\u001b[0;34m.\u001b[0m\u001b[0mget_indexer\u001b[0m\u001b[0;34m(\u001b[0m\u001b[0;34m[\u001b[0m\u001b[0mkey\u001b[0m\u001b[0;34m]\u001b[0m\u001b[0;34m,\u001b[0m \u001b[0mmethod\u001b[0m\u001b[0;34m=\u001b[0m\u001b[0mmethod\u001b[0m\u001b[0;34m,\u001b[0m \u001b[0mtolerance\u001b[0m\u001b[0;34m=\u001b[0m\u001b[0mtolerance\u001b[0m\u001b[0;34m)\u001b[0m\u001b[0;34m\u001b[0m\u001b[0m\n",
      "\u001b[0;32mpandas/_libs/index.pyx\u001b[0m in \u001b[0;36mpandas._libs.index.IndexEngine.get_loc (pandas/_libs/index.c:5280)\u001b[0;34m()\u001b[0m\n",
      "\u001b[0;32mpandas/_libs/index.pyx\u001b[0m in \u001b[0;36mpandas._libs.index.IndexEngine.get_loc (pandas/_libs/index.c:5126)\u001b[0;34m()\u001b[0m\n",
      "\u001b[0;32mpandas/_libs/hashtable_class_helper.pxi\u001b[0m in \u001b[0;36mpandas._libs.hashtable.PyObjectHashTable.get_item (pandas/_libs/hashtable.c:20523)\u001b[0;34m()\u001b[0m\n",
      "\u001b[0;32mpandas/_libs/hashtable_class_helper.pxi\u001b[0m in \u001b[0;36mpandas._libs.hashtable.PyObjectHashTable.get_item (pandas/_libs/hashtable.c:20477)\u001b[0;34m()\u001b[0m\n",
      "\u001b[0;31mKeyError\u001b[0m: 'output note'"
     ]
    }
   ],
   "source": [
    "for radius_method in available_radius_methods:\n",
    "    dfs = df[\n",
    "        df[\"output note\"] == \"compensation method 1 cylinder \" + radius_method\n",
    "    ]\n",
    "    dfsp = show_error(dfs) #, x_key=\"radius_distribution_mean\")\n",
    "    print len(dfs)"
   ]
  },
  {
   "cell_type": "markdown",
   "metadata": {
    "deletable": true,
    "editable": true
   },
   "source": [
    "# Sphere radius from volume and surface estimation\n",
    "\n",
    "\n",
    "$$ r_0 r_c = \\frac{1}{2} \\sqrt{\\frac{S}{\\pi}}$$ \n",
    "$$ r_0 r_c = \\sqrt[3]{\\frac{3 V}{4 \\pi}}$$ "
   ]
  },
  {
   "cell_type": "code",
   "execution_count": null,
   "metadata": {
    "collapsed": false,
    "deletable": true,
    "editable": true,
    "scrolled": false
   },
   "outputs": [],
   "source": [
    "# 1 object in scene, 0 variances\n",
    "# for spheres this would be 0\n",
    "df[\"cylinder_volume\"] = np.pi * df[\"radius_distribution_mean\"]**2 * df[\"length_distribution_mean\"]\n",
    "df[\"cylinder_surface\"] = 2 * np.pi * df[\"radius_distribution_mean\"] * df[\"length_distribution_mean\"]\n",
    "\n",
    "df[\"sphere_numeric_volume\"] = (df[\"numeric volume [mm^3]\"] - df[\"cylinder_volume\"])\n",
    "df[\"sphere_volume\"] = (df[\"volume [mm^3]\"] - df[\"cylinder_volume\"])\n",
    "df[\"sphere_numeric_surface\"] = (df[\"numeric surface [mm^2]\"] - df[\"cylinder_surface\"])\n",
    "df[\"sphere_surface\"] = (df[\"surface [mm^2]\"] - df[\"cylinder_surface\"])\n",
    "\n",
    "df[\"sphere_radius_volume_estimation_numeric\"] = ((3 * df[\"sphere_numeric_volume\"] / (4* np.pi))**(1.0/3.0))\n",
    "df[\"sphere_radius_volume_estimation\"] = ((3 * df[\"sphere_volume\"] / (4* np.pi))**(1.0/3.0))\n",
    "df[\"sphere_radius_surface_estimation_numeric\"] = ((df[\"sphere_numeric_surface\"] / (4 * np.pi))**(.5))\n",
    "df[\"sphere_radius_surface_estimation\"] = ((df[\"sphere_surface\"] / (4* np.pi))**(.5))\n",
    "\n",
    "# for sphere and cylinder join compensation\n",
    "# this works only if sphere error is compensated to 0\n",
    "# join error is composed from two joins of spheres and cylinder\n",
    "df[\"join_surface_error\"] = df[\"sphere_numeric_surface\"] - df[\"sphere_surface\"]\n",
    "# surface of the sphere \n",
    "df[\"sphere_join_numeric_surface\"] = df[\"sphere_surface\"] + 0.5 * df[\"join_surface_error\"]\n",
    "df[\"sphere_radius_join_surface_estimation_numeric\"] = ((df[\"sphere_join_numeric_surface\"] / (4 * np.pi))**(.5))\n",
    "df[\"sphere_radius_join_surface_estimation\"] = ((df[\"sphere_surface\"] / (4* np.pi))**(.5))\n",
    "\n",
    "df[\"join_volume_error\"] = df[\"sphere_numeric_volume\"] - df[\"sphere_volume\"]\n",
    "# surface of the sphere \n",
    "df[\"sphere_join_numeric_volume\"] = df[\"sphere_volume\"] + 0.5 * df[\"join_volume_error\"]\n",
    "df[\"sphere_radius_join_surface_estimation_numeric\"] = ((df[\"sphere_join_numeric_volume\"] / (4 * np.pi))**(.5))\n",
    "df[\"sphere_radius_join_surface_estimation\"] = ((df[\"sphere_volume\"] / (4* np.pi))**(.5))\n",
    "\n",
    "\n",
    "available_radius_methods = [\n",
    "    \"inscribed\", \"circumscribed\", \n",
    "    \"average\",\n",
    "    \"cylinder volume\", \n",
    "    \"cylinder surface\", \n",
    "    \"cylinder volume + sphere error\",\n",
    "    \"cylinder surface + sphere error\",\n",
    "    \"cylinder surface + sphere error + join error\",\n",
    "    \"best\",\n",
    "    \n",
    "]\n",
    "for radius_method in [\"inscribed\"]:\n",
    "        \n",
    "    dfs = df[\n",
    "        df[\"output note\"] == \"compensation method 1 sphere \" + radius_method\n",
    "        # df[\"generators Unconnected cylinders radius_distribution_mean\"] == 5 \n",
    "    ]\n",
    "    # show_radius(dfs)"
   ]
  },
  {
   "cell_type": "markdown",
   "metadata": {
    "deletable": true,
    "editable": true
   },
   "source": [
    "## Sphere volume compensation factor interpolation\n",
    "\n",
    "It is usede in `\"cylinder volume + sphere error\"`\n",
    "Calculate `x` and `y` coefficients and copy it into `tb_vtk.py` file in\n",
    "\n",
    "    ...\n",
    "    def polygon_radius_compensation_factos(\n",
    "        ...\n",
    "    ):\n",
    "    ...\n",
    "    x_cvse = [ ... ]\n",
    "    y_cvse = [ ... ]\n"
   ]
  },
  {
   "cell_type": "code",
   "execution_count": null,
   "metadata": {
    "collapsed": false,
    "deletable": true,
    "editable": true
   },
   "outputs": [],
   "source": [
    "from scipy.interpolate import UnivariateSpline\n",
    "from scipy.interpolate import InterpolatedUnivariateSpline\n",
    "\n",
    "radius_method = \"inscribed\"\n",
    "dfs = df[\n",
    "    df[\"output note\"] == \"compensation method 1 sphere \" + radius_method\n",
    "]\n",
    "\n",
    "if len(dfs) > 1:\n",
    "    dfsm = dfs.groupby(\"measurement_resolution\").mean().reset_index()\n",
    "\n",
    "    x = list(dfsm[\"measurement_resolution\"])\n",
    "    y = list(dfsm[\"sphere_radius_volume_estimation_numeric\"] / dfsm[\"sphere_radius_volume_estimation\"])\n",
    "\n",
    "    # x.append(100)\n",
    "    # y.append(1.0)\n",
    "\n",
    "    x.append(200)\n",
    "    y.append(1.0)\n",
    "\n",
    "    x = np.asarray(x)\n",
    "    y = np.asarray(y)\n",
    "    spl1 = InterpolatedUnivariateSpline(x, y)\n",
    "    # spl1 = UnivariateSpline(x, y,k=5)\n",
    "    # spl1.set_smoothing_factor(0.1)\n",
    "    xs = np.linspace(6, 100, 100)\n",
    "\n",
    "    plt.plot(\n",
    "        xs[:], spl1(xs[:]), \"b\" , \n",
    "        x[:-2], y[:-2], \"ro\", \n",
    "    )\n",
    "    stx = \"x_cvse = [\"\n",
    "    for i in x:\n",
    "        stx = stx + str(i) + \", \"\n",
    "    stx += \"]\"\n",
    "    sty = \"y_cvse = [\"\n",
    "    for i in y:\n",
    "        sty = sty + str(i) + \", \"\n",
    "    sty += \"]\"\n",
    "    print stx\n",
    "    print sty"
   ]
  },
  {
   "cell_type": "code",
   "execution_count": null,
   "metadata": {
    "collapsed": false,
    "deletable": true,
    "editable": true
   },
   "outputs": [],
   "source": [
    "dfs"
   ]
  },
  {
   "cell_type": "code",
   "execution_count": null,
   "metadata": {
    "collapsed": false,
    "deletable": true,
    "editable": true
   },
   "outputs": [],
   "source": [
    "import scipy\n",
    "import copy\n",
    "if len(dfs) > 1:\n",
    "    # f = scipy.interpolate.interp1d(x,y, kind=\"quadratic\", fill_value=\"extrapolate\")\n",
    "    x = np.asarray(list(dfs[\"measurement_resolution\"]))\n",
    "    y = np.asarray(list(dfs[\"sphere_radius_volume_estimation\"]))\n",
    "\n",
    "    z = np.polyfit(x,y, 2)\n",
    "    f = np.poly1d(z)\n",
    "    plt.plot(x, y, \"ro\")\n",
    "    plt.plot(xs, f(xs), \"b\")\n",
    "    plt.show()"
   ]
  },
  {
   "cell_type": "code",
   "execution_count": null,
   "metadata": {
    "collapsed": false,
    "deletable": true,
    "editable": true
   },
   "outputs": [],
   "source": [
    "from scipy.optimize import curve_fit\n",
    "    \n",
    "def func(x, a, b, c, e, f, g):\n",
    "    return a*np.exp(-b * x) # + # c + np.sin(e*x + f) * np.exp(g*x)\n",
    "\n",
    "\n",
    "\n",
    "def func1(x, theta, omega0, K):\n",
    "    jmt = (1 - theta**2)**0.5\n",
    "    out = K * (1 - 1/jmt * np.exp(-1 * theta * omega0 * x))\n",
    "    # out = K * (1 - (1 / jmt * np.exp(-1 * theta * omega0 * x)) * np.sin(omega0 * jmt * x)) \n",
    "    #+ np.arccos(theta))\n",
    "    return out\n",
    "\n",
    "if len(dfs) > 1:\n",
    "    x = np.asarray(list(dfs[\"measurement_resolution\"]))\n",
    "    y = np.asarray(list(dfs[\"sphere_radius_volume_estimation\"]))\n",
    "\n",
    "    popt, pcov = curve_fit(func, x, y, bounds=(-np.inf, np.inf))\n",
    "    print popt\n",
    "\n",
    "    plt.plot(xs, func(xs, *popt), \"b\")\n",
    "    plt.plot(x, y, \"ro\")\n",
    "    plt.show()"
   ]
  },
  {
   "cell_type": "markdown",
   "metadata": {
    "deletable": true,
    "editable": true
   },
   "source": [
    "## Sphere surface compensation factor interpolation\n",
    "\n",
    "Calculate `x` and `y` coefficients for `cylinder surface + sphere compensation` and copy it into `tb_vtk.py` file in\n",
    "\n",
    "    ...\n",
    "    def polygon_radius_compensation_factos(\n",
    "        ...\n",
    "    ):\n",
    "        ...\n",
    "        x_csse = [ ... ]\n",
    "        y_csse = [ ... ]\n",
    "\n"
   ]
  },
  {
   "cell_type": "code",
   "execution_count": null,
   "metadata": {
    "collapsed": false,
    "deletable": true,
    "editable": true
   },
   "outputs": [],
   "source": [
    "radius_method = \"cylinder surface\"\n",
    "radius_method = \"inscribed\"\n",
    "dfs = df[\n",
    "    df[\"output note\"] == \"compensation method 1 sphere \" + radius_method\n",
    "]\n",
    "dfsm = dfs.groupby(\"measurement_resolution\").mean().reset_index()\n",
    "\n",
    "show_radius(dfsm)"
   ]
  },
  {
   "cell_type": "code",
   "execution_count": null,
   "metadata": {
    "collapsed": false,
    "deletable": true,
    "editable": true
   },
   "outputs": [],
   "source": [
    "from scipy.interpolate import UnivariateSpline\n",
    "from scipy.interpolate import InterpolatedUnivariateSpline\n",
    "if len(dfsm) > 0:\n",
    "    x = list(dfsm[\"measurement_resolution\"])\n",
    "    y = list(dfsm[\"sphere_radius_surface_estimation_numeric\"] / dfsm[\"sphere_radius_surface_estimation\"])\n",
    "\n",
    "    # x.append(100)\n",
    "    # y.append(1.0)\n",
    "\n",
    "    x.append(200)\n",
    "    y.append(1.0)\n",
    "\n",
    "    x = np.asarray(x)\n",
    "    y = np.asarray(y)\n",
    "    spl1 = InterpolatedUnivariateSpline(x, y)\n",
    "    # spl1.set_smoothing_factor(0.1)\n",
    "    xs = np.linspace(6, 200, 100)\n",
    "\n",
    "    plt.figure()\n",
    "    plt.plot(x[:], y[:], \"ro\")\n",
    "    plt.plot(xs[:], spl1(xs[:]), \"b\")\n",
    "    plt.show()\n",
    "    stx = \"x_csse = [\"\n",
    "    for i in x:\n",
    "        stx = stx + str(i) + \", \"\n",
    "    stx += \"]\"\n",
    "    sty = \"y_csse = [\"\n",
    "    for i in y:\n",
    "        sty = sty + str(i) + \", \"\n",
    "    sty += \"]\"\n",
    "    print stx\n",
    "    print sty"
   ]
  },
  {
   "cell_type": "markdown",
   "metadata": {
    "deletable": true,
    "editable": true
   },
   "source": [
    "# Evaluation on the same dataset\n",
    "\n",
    "After `x` and `y` is written in the `tb_vtk.py` and experiments are re-runned"
   ]
  },
  {
   "cell_type": "markdown",
   "metadata": {
    "deletable": true,
    "editable": true
   },
   "source": [
    "## Evaluation on 1 sphere"
   ]
  },
  {
   "cell_type": "code",
   "execution_count": null,
   "metadata": {
    "collapsed": false,
    "deletable": true,
    "editable": true,
    "scrolled": false
   },
   "outputs": [],
   "source": [
    "for radius_method in available_radius_methods:\n",
    "        \n",
    "    dfs = df[\n",
    "        df[\"output note\"] == \"compensation method 1 sphere \" + radius_method\n",
    "    ]\n",
    "    dfsp = show_error(dfs)"
   ]
  },
  {
   "cell_type": "markdown",
   "metadata": {
    "deletable": true,
    "editable": true
   },
   "source": [
    "# Tube - sphere join compensation\n",
    "\n",
    "komenzace artefaktů vzniklých na spoji koule a válce\n",
    "\n",
    "\n",
    "experiment `compensation method measurement 1 tube ` "
   ]
  },
  {
   "cell_type": "markdown",
   "metadata": {
    "deletable": true,
    "editable": true
   },
   "source": [
    "## 1 tube - surface\n"
   ]
  },
  {
   "cell_type": "code",
   "execution_count": null,
   "metadata": {
    "collapsed": false,
    "deletable": true,
    "editable": true,
    "scrolled": true
   },
   "outputs": [],
   "source": [
    "#  surface\n",
    "from scipy.interpolate import UnivariateSpline\n",
    "from scipy.interpolate import InterpolatedUnivariateSpline\n",
    "\n",
    "radius_method = \"cylinder surface + sphere error\"\n",
    "\n",
    "dfs = df[\n",
    "    # df[\"output note\"] == \"compensation method 1 tube\" + radius_method\n",
    "    df[\"output note\"] == \"compensation method measurement 1 tube \" + radius_method\n",
    "]\n",
    "if len(dfs) > 0:\n",
    "    dfsm = dfs.groupby(\"measurement_resolution\").mean().reset_index()\n",
    "\n",
    "    # x = list(dfsm[\"measurement_resolution\"])\n",
    "    # y = list(dfsm[\"radius_volume_estimation_numeric\"] / dfsm[\"radius_volume_estimation\"])\n",
    "    x = list(dfsm[\"measurement_resolution\"])\n",
    "    # y = list(dfsm[\"radius_surface_estimation_numeric\"] / dfsm[\"radius_surface_estimation\"])\n",
    "    y = list(dfsm[\"sphere_radius_join_surface_estimation_numeric\"] / dfsm[\"sphere_radius_join_surface_estimation\"])\n",
    "    # y = list(dfsm[\"sphere_radius_join_surface_estimation_numeric\"] / dfsm[\"radius_distribution_mean\"])\n",
    "    \n",
    "    x.append(100)\n",
    "    y.append(1.0)\n",
    "\n",
    "    x.append(200)\n",
    "    y.append(1.0)\n",
    "\n",
    "    x = np.asarray(x)\n",
    "    y = np.asarray(y)\n",
    "    spl1 = InterpolatedUnivariateSpline(x, y)\n",
    "    # spl1 = UnivariateSpline(x, y,k=6)\n",
    "    # spl1.set_smoothing_factor(10.01)\n",
    "    xs = np.linspace(5, 100, 100)\n",
    "\n",
    "    plt.plot(\n",
    "        xs[:], spl1(xs[:]), \"b\" , \n",
    "        x[:-2], y[:-2], \"ro\", \n",
    "        list(dfs[\"measurement_resolution\"])[:], \n",
    "        list(dfs[\"sphere_radius_join_surface_estimation_numeric\"]/dfs[\"sphere_radius_join_surface_estimation\"])[:],\n",
    "        \"g.\"\n",
    "    )\n",
    "    stx = \"x_csseje = [\"\n",
    "    for i in x:\n",
    "        stx = stx + str(i) + \", \"\n",
    "    stx += \"]\"\n",
    "    sty = \"y_csseje = [\"\n",
    "    for i in y:\n",
    "        sty = sty + str(i) + \", \"\n",
    "    sty += \"]\"\n",
    "    print stx\n",
    "    print sty"
   ]
  },
  {
   "cell_type": "code",
   "execution_count": null,
   "metadata": {
    "collapsed": false,
    "deletable": true,
    "editable": true
   },
   "outputs": [],
   "source": [
    "dfsp = show_error(dfs)"
   ]
  },
  {
   "cell_type": "code",
   "execution_count": null,
   "metadata": {
    "collapsed": false,
    "deletable": true,
    "editable": true
   },
   "outputs": [],
   "source": [
    "with pd.option_context('display.max_columns', None):\n",
    "    display(dfsm)\n",
    "    \n",
    "    display(dfsm[[\"measurement_resolution\", \"radius_distribution_mean\", \n",
    "                  \"surface [mm^2]\", \"numeric surface [mm^2]\",\n",
    "                  \"cylinder_surface\", \"sphere_surface\",\n",
    "                  \"surface error [mm^2]\", \"surface error [%]\", \n",
    "                  \"volume [mm^3]\", \"numeric volume [mm^3]\", \n",
    "                  \"cylinder_volume\",  \"sphere_volume\",\n",
    "                  \"volume error [mm^3]\", \"volume error [%]\", \n",
    "                 ]])"
   ]
  },
  {
   "cell_type": "markdown",
   "metadata": {
    "deletable": true,
    "editable": true
   },
   "source": [
    "## 1 tube volume measuerement"
   ]
  },
  {
   "cell_type": "code",
   "execution_count": null,
   "metadata": {
    "collapsed": false,
    "deletable": true,
    "editable": true
   },
   "outputs": [],
   "source": [
    "# volume \n",
    "from scipy.interpolate import UnivariateSpline\n",
    "from scipy.interpolate import InterpolatedUnivariateSpline\n",
    "\n",
    "radius_method = \"cylinder volume + sphere error\"\n",
    "# radius_method = \"cylinder surface + sphere error\"\n",
    "\n",
    "dfs = df[\n",
    "    df[\"output note\"] == \"compensation method measurement 1 tube \" + radius_method\n",
    "]\n",
    "if len(dfs) > 0:\n",
    "    dfsm = dfs.groupby(\"measurement_resolution\").mean().reset_index()\n",
    "\n",
    "    x = list(dfsm[\"measurement_resolution\"])\n",
    "    y = list(dfsm[\"sphere_radius_join_volume_estimation_numeric\"] / dfsm[\"sphere_radius_join_volume_estimation\"])\n",
    "\n",
    "    # x.append(100)\n",
    "    # y.append(1.0)\n",
    "\n",
    "    x.append(200)\n",
    "    y.append(1.0)\n",
    "\n",
    "    x = np.asarray(x)\n",
    "    y = np.asarray(y)\n",
    "    spl1 = InterpolatedUnivariateSpline(x, y)\n",
    "    spl1 = UnivariateSpline(x, y,k=2)\n",
    "    spl1.set_smoothing_factor(50.5)\n",
    "    xs = np.linspace(5, 100, 100)\n",
    "\n",
    "    plt.plot(\n",
    "        xs[:], spl1(xs[:]), \"b\" , \n",
    "        x[:-2], y[:-2], \"ro\", \n",
    "    )\n",
    "    stx = \"x_cvseje = [\"\n",
    "    for i in x:\n",
    "        stx = stx + str(i) + \", \"\n",
    "    stx += \"]\"\n",
    "    sty = \"y_cvseje = [\"\n",
    "    for i in y:\n",
    "        sty = sty + str(i) + \", \"\n",
    "    sty += \"]\"\n",
    "    print stx\n",
    "    print sty"
   ]
  },
  {
   "cell_type": "code",
   "execution_count": null,
   "metadata": {
    "collapsed": false,
    "deletable": true,
    "editable": true
   },
   "outputs": [],
   "source": [
    "dfsp = show_error(dfs)"
   ]
  },
  {
   "cell_type": "code",
   "execution_count": null,
   "metadata": {
    "collapsed": false,
    "deletable": true,
    "editable": true,
    "scrolled": false
   },
   "outputs": [],
   "source": [
    "for radius_method in available_radius_methods:\n",
    "    dfs = df[\n",
    "        df[\"output note\"] == \"compensation method measurement 1 tube \" + radius_method\n",
    "    ]\n",
    "    dfsp = show_error(dfs)"
   ]
  },
  {
   "cell_type": "code",
   "execution_count": null,
   "metadata": {
    "collapsed": false,
    "deletable": true,
    "editable": true,
    "scrolled": false
   },
   "outputs": [],
   "source": [
    "for radius_method in available_radius_methods:\n",
    "    dfs = df[\n",
    "        df[\"output note\"] == \"compensation method 1 tube \" + radius_method\n",
    "    ]\n",
    "    dfsp = show_error(dfs)"
   ]
  },
  {
   "cell_type": "markdown",
   "metadata": {
    "deletable": true,
    "editable": true
   },
   "source": [
    "## TODO - move this - 3 spheres various radius"
   ]
  },
  {
   "cell_type": "code",
   "execution_count": null,
   "metadata": {
    "collapsed": false,
    "deletable": true,
    "editable": true
   },
   "outputs": [],
   "source": [
    "run_label = \"compensation method 3 spheres various radius \"\n",
    "for radius_method in available_radius_methods:\n",
    "    dfs = df[\n",
    "        df[\"output note\"] == run_label + radius_method\n",
    "    ]\n",
    "    dfsp = show_error(dfs, x_key=\"radius_distribution_mean\")"
   ]
  },
  {
   "cell_type": "markdown",
   "metadata": {
    "deletable": true,
    "editable": true
   },
   "source": [
    "## tubes"
   ]
  },
  {
   "cell_type": "markdown",
   "metadata": {
    "deletable": true,
    "editable": true
   },
   "source": [
    "### 1 Tube evaluation"
   ]
  },
  {
   "cell_type": "code",
   "execution_count": null,
   "metadata": {
    "collapsed": false,
    "deletable": true,
    "editable": true
   },
   "outputs": [],
   "source": [
    "for radius_method in available_radius_methods:\n",
    "    dfs = df[\n",
    "        df[\"output note\"] == \"compensation method 1 tube \" + radius_method\n",
    "    ]\n",
    "    dfsp = show_error(dfs) #, x_key=\"radius_distribution_mean\")"
   ]
  },
  {
   "cell_type": "markdown",
   "metadata": {
    "deletable": true,
    "editable": true
   },
   "source": [
    "### 1 tube various radius"
   ]
  },
  {
   "cell_type": "code",
   "execution_count": null,
   "metadata": {
    "collapsed": false,
    "deletable": true,
    "editable": true,
    "scrolled": false
   },
   "outputs": [],
   "source": [
    "for radius_method in available_radius_methods:\n",
    "    dfs = df[\n",
    "        df[\"output note\"] == \"compensation method 1 tube various radius \" + radius_method\n",
    "    ]\n",
    "    dfsp = show_error(dfs, x_key=\"radius_distribution_mean\")\n",
    "    print len(dfs)"
   ]
  },
  {
   "cell_type": "code",
   "execution_count": null,
   "metadata": {
    "collapsed": false,
    "deletable": true,
    "editable": true,
    "scrolled": false
   },
   "outputs": [],
   "source": [
    "run_label = \"compensation method 1 tube various length \"\n",
    "for radius_method in available_radius_methods:\n",
    "    dfs = df[\n",
    "        df[\"output note\"] == run_label + radius_method\n",
    "    ]\n",
    "    dfsp = show_error(dfs, x_key=\"length_distribution_mean\")\n",
    "    # print len(dfs)"
   ]
  },
  {
   "cell_type": "code",
   "execution_count": null,
   "metadata": {
    "collapsed": false,
    "deletable": true,
    "editable": true,
    "scrolled": false
   },
   "outputs": [],
   "source": [
    "for radius_method in available_radius_methods:\n",
    "        \n",
    "    dfs = df[\n",
    "        df[\"output note\"] == \"compensation method 1 tube mix \" + radius_method\n",
    "    ]\n",
    "    dfsp = show_error(dfs)"
   ]
  },
  {
   "cell_type": "markdown",
   "metadata": {
    "deletable": true,
    "editable": true
   },
   "source": [
    "### 5 tubes"
   ]
  },
  {
   "cell_type": "code",
   "execution_count": null,
   "metadata": {
    "collapsed": false,
    "deletable": true,
    "editable": true,
    "scrolled": false
   },
   "outputs": [],
   "source": [
    "for radius_method in available_radius_methods:\n",
    "        \n",
    "    dfs = df[\n",
    "        df[\"output note\"] == \"compensation method 5 tubes \" + radius_method\n",
    "    ]\n",
    "    dfsp = show_error(dfs)"
   ]
  },
  {
   "cell_type": "markdown",
   "metadata": {
    "deletable": true,
    "editable": true
   },
   "source": [
    "## Fixed resolution"
   ]
  },
  {
   "cell_type": "code",
   "execution_count": null,
   "metadata": {
    "collapsed": false,
    "deletable": true,
    "editable": true
   },
   "outputs": [],
   "source": [
    "for radius_method in available_radius_methods:\n",
    "    dfs = df[\n",
    "        df[\"output note\"] == \"fixed resolution \" + radius_method\n",
    "    ]\n",
    "    dfsp = show_error(dfs)"
   ]
  },
  {
   "cell_type": "markdown",
   "metadata": {
    "deletable": true,
    "editable": true
   },
   "source": [
    "# Best test"
   ]
  },
  {
   "cell_type": "code",
   "execution_count": null,
   "metadata": {
    "collapsed": false,
    "deletable": true,
    "editable": true
   },
   "outputs": [],
   "source": [
    "for radius_method in available_radius_methods:\n",
    "    dfs = df[\n",
    "        df[\"output note\"] == \"best test \" + radius_method\n",
    "    ]\n",
    "    dfsp = show_error(dfs)"
   ]
  },
  {
   "cell_type": "markdown",
   "metadata": {
    "deletable": true,
    "editable": true
   },
   "source": [
    "# Simple check - this computes selected radius from data"
   ]
  },
  {
   "cell_type": "code",
   "execution_count": null,
   "metadata": {
    "collapsed": false,
    "deletable": true,
    "editable": true
   },
   "outputs": [],
   "source": [
    "# just for control - this should be exactly same as selected radius\n",
    "radius_method = \"inscribed\"\n",
    "dfs = df[\n",
    "    df[\"output note\"] == \"compensation method 1 sphere \" + radius_method\n",
    "    # df[\"generators Unconnected cylinders radius_distribution_mean\"] == 5 \n",
    "]\n",
    "\n",
    "if len(dfs) > 1:\n",
    "    dfs[\"radius_volume_compensation\"] = (3 * dfs[\"volume [mm^3]\"] / (4* np.pi))**(1.0/3.0)\n",
    "    dfsp = dfs[[\"radius_volume_compensation\", \"measurement_resolution\"]].sort_values(\n",
    "        \"measurement_resolution\")\n",
    "\n",
    "    fig = plt.figure(figsize=[25, 18])\n",
    "    ax = plt.subplot(111)\n",
    "    dfsp.plot(\n",
    "        ax=ax, x=\"measurement_resolution\", **plotkw)\n",
    "    plt.suptitle(radius_method)"
   ]
  }
 ],
 "metadata": {
  "anaconda-cloud": {},
  "kernelspec": {
   "display_name": "Python 2",
   "language": "python",
   "name": "python2"
  },
  "language_info": {
   "codemirror_mode": {
    "name": "ipython",
    "version": 2
   },
   "file_extension": ".py",
   "mimetype": "text/x-python",
   "name": "python",
   "nbconvert_exporter": "python",
   "pygments_lexer": "ipython2",
   "version": "2.7.9"
  }
 },
 "nbformat": 4,
 "nbformat_minor": 0
}
