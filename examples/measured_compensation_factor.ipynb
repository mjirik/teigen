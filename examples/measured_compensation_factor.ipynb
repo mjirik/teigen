{
 "cells": [
  {
   "cell_type": "markdown",
   "metadata": {
    "deletable": true,
    "editable": true
   },
   "source": [
    "# Compensation factor measurement\n",
    "\n",
    "\n",
    "Kompenzace válce je analyticky vypočítaná. Jiná je pro povrch, jiná je pro objem.\n",
    "Kompenzace pro kulové plochy je vypočtena na základě měření. Pro oběm na základě inscribed, pro povrch na základě cylinder_surface\n",
    "\n",
    "Pro nulovou délku tube (pill) je \n",
    "určen korekční faktor. \n",
    "\n",
    "\n",
    "Pro nenulové délky tube se objevují ještě artefakty na přechodu proto bylo stanoveno měření chyby na těchto přechodech.\n",
    "\n",
    "\n",
    "Compensation is determined in two steps:\n",
    "\n",
    "1) \n",
    "For sphere compensation computation run `compensation method 1 sphere` in `run_experiments` script. Then use computed `x` and `y` in python scripts.\n",
    "\n",
    "2)\n",
    "restart ipython kernel\n",
    "\n",
    "3) \n",
    "For sphere-tube join compensation run `compensation method measurement 1 tube` \n",
    "Then use computed `x` and `y` in python scripts.\n",
    "\n",
    "4)\n",
    "restart ipython kernel"
   ]
  },
  {
   "cell_type": "code",
   "execution_count": 110,
   "metadata": {
    "collapsed": false,
    "deletable": true,
    "editable": true
   },
   "outputs": [
    {
     "name": "stdout",
     "output_type": "stream",
     "text": [
      "Populating the interactive namespace from numpy and matplotlib\n"
     ]
    },
    {
     "name": "stderr",
     "output_type": "stream",
     "text": [
      "WARNING: pylab import has clobbered these variables: ['copy']\n",
      "`%matplotlib` prevents importing * from pylab and numpy\n"
     ]
    }
   ],
   "source": [
    "%pylab inline"
   ]
  },
  {
   "cell_type": "code",
   "execution_count": 111,
   "metadata": {
    "collapsed": true,
    "deletable": true,
    "editable": true
   },
   "outputs": [],
   "source": [
    "import matplotlib.pyplot as plt\n",
    "import pandas as pd\n",
    "import numpy as np\n",
    "import os.path as op\n",
    "from pprint import pprint as pp\n",
    "import scipy.stats\n",
    "import seaborn as sns\n",
    "import copy"
   ]
  },
  {
   "cell_type": "code",
   "execution_count": 112,
   "metadata": {
    "collapsed": true,
    "deletable": true,
    "editable": true
   },
   "outputs": [],
   "source": [
    "datapath = \"~/teigen_data/output_rows.csv\""
   ]
  },
  {
   "cell_type": "code",
   "execution_count": 113,
   "metadata": {
    "collapsed": true,
    "deletable": true,
    "editable": true
   },
   "outputs": [],
   "source": [
    "plotkw ={\n",
    "    \"figsize\": [15, 6], \n",
    "    # \"fontsize\": 14\n",
    "    # \"linestyle\": \"-\",\n",
    "    # \"marker\": \"x\"\n",
    "}"
   ]
  },
  {
   "cell_type": "code",
   "execution_count": 114,
   "metadata": {
    "collapsed": true,
    "deletable": true,
    "editable": true
   },
   "outputs": [],
   "source": [
    "available_radius_methods = [\n",
    "    \"inscribed\", \"circumscribed\", \n",
    "    \"average\",\n",
    "    \"cylinder volume\", \n",
    "    \"cylinder surface\", \n",
    "    \"cylinder volume + sphere error\",\n",
    "    \"cylinder volume + sphere error + man\",\n",
    "    \"cylinder surface + sphere error\",\n",
    "    \"cylinder surface + sphere error + join error\",\n",
    "    \"cylinder surface + sphere error + join error man\",\n",
    "    \"best\",\n",
    "    \n",
    "]"
   ]
  },
  {
   "cell_type": "code",
   "execution_count": 115,
   "metadata": {
    "collapsed": false,
    "deletable": true,
    "editable": true
   },
   "outputs": [],
   "source": [
    "# scripts can be runned\n",
    "# %run run_experiments.ipynb"
   ]
  },
  {
   "cell_type": "code",
   "execution_count": 116,
   "metadata": {
    "collapsed": false,
    "deletable": true,
    "editable": true
   },
   "outputs": [],
   "source": [
    "df = pd.read_csv(op.expanduser(datapath))\n",
    "# remove duplicates\n",
    "ks = copy.copy(list(df.keys()))\n",
    "ks.remove(\"datetime\")\n",
    "df = df.drop_duplicates(ks)\n",
    "\n",
    "df = df.drop_duplicates()\n",
    "df[\"surface error [mm^2]\"] = df[\"numeric surface [mm^2]\"] - df[\"surface [mm^2]\"]\n",
    "df[\"surface error [%]\"] = df[\"surface error [mm^2]\"] / df[\"surface [mm^2]\"] * 100\n",
    "df[\"volume error [mm^3]\"] = df[\"numeric volume [mm^3]\"] - df[\"volume [mm^3]\"]\n",
    "df[\"volume error [%]\"] = df[\"volume error [mm^3]\"] / df[\"volume [mm^3]\"] * 100\n",
    "df[\"measurement_resolution\"] = df[\"postprocessing measurement_resolution\"]\n",
    "df[\"length_distribution_mean\"] = df[\"generators Unconnected tubes length_distribution_mean\"]\n",
    "df[\"radius_distribution_mean\"] = df[\"generators Unconnected tubes radius_distribution_mean\"]"
   ]
  },
  {
   "cell_type": "code",
   "execution_count": 117,
   "metadata": {
    "collapsed": false,
    "deletable": true,
    "editable": true
   },
   "outputs": [],
   "source": [
    "def show_radius(dfs, x_key=\"measurement_resolution\"):\n",
    "    dfsp = dfs[[\"sphere_radius_volume_estimation_numeric\", \"sphere_radius_surface_estimation_numeric\", x_key]].sort_values(\n",
    "        x_key).sort_values(x_key)\n",
    "    \n",
    "    if len(dfsp) < 1:\n",
    "        return dfsp\n",
    "    # fig = plt.figure(figsize=[25, 18])\n",
    "    ax = plt.subplot(111)\n",
    "    dfsp.plot(\n",
    "        ax=ax, x=x_key, **plotkw)\n",
    "    # ax = plt.subplot(122)\n",
    "    # dfsp[[\"volume error [%]\"]].plot(\n",
    "    #     ax=ax, kind=\"box\", **plotkw)\n",
    "    plt.suptitle(radius_method + \" ({})\".format(len(dfs)))\n",
    "    return dfsp\n",
    "\n",
    "def show_error(dfs, x_key=\"measurement_resolution\"):\n",
    "    \n",
    "    dfsp = dfs[[\"surface error [%]\", \"volume error [%]\", \n",
    "                x_key]].sort_values(x_key)\n",
    "\n",
    "    if len(dfsp) < 1:\n",
    "        return dfsp\n",
    "    # wilcoxon - čím větší, tím lepší, alespoň 0.05\n",
    "    surf_w = scipy.stats.wilcoxon(x=dfs[\"surface [mm^2]\"], y=dfs[\"numeric surface [mm^2]\"], correction=False, zero_method=\"pratt\")\n",
    "    # spearman čím menší, tím lepší\n",
    "    surf_s = scipy.stats.spearmanr(dfs[\"surface [mm^2]\"], dfs[\"numeric surface [mm^2]\"])\n",
    "    \n",
    "    # wilcoxon - čím větší, tím lepší\n",
    "    vol_w = scipy.stats.wilcoxon(x=dfs[\"volume [mm^3]\"], y=dfs[\"numeric volume [mm^3]\"], correction=False, zero_method=\"pratt\")\n",
    "    # spearman čím menší, tím lepší\n",
    "    vol_s = scipy.stats.spearmanr(dfs[\"volume [mm^3]\"], dfs[\"numeric volume [mm^3]\"])\n",
    "    \n",
    "    print radius_method, \": \\nsurface (w/s): \\n\" , surf_w,\"\\n\", surf_s, \"\\nvolume (w/s): \\n\", vol_w, \"\\n\",vol_s, \"\\n\", len(dfsp)\n",
    "\n",
    "    fig = plt.figure(figsize=[25, 18])\n",
    "    ax = plt.subplot(141)\n",
    "    dfsp.plot(\n",
    "        ax=ax, x=x_key, **plotkw)\n",
    "    ax = plt.subplot(142)\n",
    "    dfsp[[\"volume error [%]\"]].plot(\n",
    "        ax=ax, kind=\"box\", **plotkw)\n",
    "    ax = plt.subplot(143)\n",
    "    dfsp[[\"surface error [%]\"]].plot(\n",
    "        ax=ax, kind=\"box\", **plotkw)\n",
    "    \n",
    "    ax = plt.subplot(144)\n",
    "    dfsp[dfsp[\"measurement_resolution\"] > dfsp[\"measurement_resolution\"].mean()].plot(\n",
    "        ax=ax, x=x_key, **plotkw)\n",
    "    plt.suptitle(radius_method)\n",
    "    return dfsp"
   ]
  },
  {
   "cell_type": "markdown",
   "metadata": {
    "deletable": true,
    "editable": true
   },
   "source": [
    "# Cylinder surface and volume analytic compensation\n",
    "\n",
    "Regular polygon equivalent surface area $eqS$ is used for cylinder volume compensation \n",
    "\n",
    "$$ \n",
    "r_{eqS} = \\sqrt{\\frac{\\theta r^2}{\\sin{\\theta}}} \n",
    "\\qquad\n",
    "\\theta = \\frac{2 \\pi}{n}\n",
    "$$\n",
    "\n",
    "Regular polygon equivalent perimeter $eqP$ is used for cylinder surface compensation\n",
    "\n",
    "$$\n",
    "r_{eqP} = \\frac{\\theta r}{\n",
    "  2 \\sin{\\frac{\\theta}{2}}\n",
    "}\n",
    "\\qquad\n",
    "\\theta = \\frac{2 \\pi}{n}\n",
    "$$\n",
    "\n",
    "\n",
    "## 1 Cylinder - check"
   ]
  },
  {
   "cell_type": "code",
   "execution_count": 118,
   "metadata": {
    "collapsed": false,
    "deletable": true,
    "editable": true,
    "scrolled": false
   },
   "outputs": [
    {
     "name": "stdout",
     "output_type": "stream",
     "text": [
      "0\n",
      "0\n",
      "0\n",
      "0\n",
      "0\n",
      "0\n",
      "0\n",
      "0\n",
      "0\n",
      "0\n",
      "0\n"
     ]
    }
   ],
   "source": [
    "for radius_method in available_radius_methods:\n",
    "    dfs = df[\n",
    "        df[\"output note\"] == \"compensation method 1 cylinder \" + radius_method\n",
    "    ]\n",
    "    dfsp = show_error(dfs) #, x_key=\"radius_distribution_mean\")\n",
    "    print len(dfs)"
   ]
  },
  {
   "cell_type": "markdown",
   "metadata": {
    "deletable": true,
    "editable": true
   },
   "source": [
    "# Sphere radius from volume and surface estimation\n",
    "\n",
    "\n",
    "$$ r_0 r_c = \\frac{1}{2} \\sqrt{\\frac{S}{\\pi}}$$ \n",
    "$$ r_0 r_c = \\sqrt[3]{\\frac{3 V}{4 \\pi}}$$ "
   ]
  },
  {
   "cell_type": "code",
   "execution_count": 119,
   "metadata": {
    "collapsed": false,
    "deletable": true,
    "editable": true,
    "scrolled": false
   },
   "outputs": [],
   "source": [
    "# 1 object in scene, 0 variances\n",
    "# for spheres this would be 0\n",
    "df[\"cylinder_volume\"] = np.pi * df[\"radius_distribution_mean\"]**2 * df[\"length_distribution_mean\"]\n",
    "df[\"cylinder_surface\"] = 2 * np.pi * df[\"radius_distribution_mean\"] * df[\"length_distribution_mean\"]\n",
    "\n",
    "df[\"sphere_numeric_volume\"] = (df[\"numeric volume [mm^3]\"] - df[\"cylinder_volume\"])\n",
    "df[\"sphere_volume\"] = (df[\"volume [mm^3]\"] - df[\"cylinder_volume\"])\n",
    "df[\"sphere_numeric_surface\"] = (df[\"numeric surface [mm^2]\"] - df[\"cylinder_surface\"])\n",
    "df[\"sphere_surface\"] = (df[\"surface [mm^2]\"] - df[\"cylinder_surface\"])\n",
    "\n",
    "df[\"sphere_radius_volume_estimation_numeric\"] = ((3 * df[\"sphere_numeric_volume\"] / (4* np.pi))**(1.0/3.0))\n",
    "df[\"sphere_radius_volume_estimation\"] = ((3 * df[\"sphere_volume\"] / (4* np.pi))**(1.0/3.0))\n",
    "df[\"sphere_radius_surface_estimation_numeric\"] = ((df[\"sphere_numeric_surface\"] / (4 * np.pi))**(.5))\n",
    "df[\"sphere_radius_surface_estimation\"] = ((df[\"sphere_surface\"] / (4* np.pi))**(.5))\n",
    "\n",
    "# for sphere and cylinder join compensation\n",
    "# this works only if sphere error is compensated to 0\n",
    "# join error is composed from two joins of spheres and cylinder\n",
    "df[\"join_surface_error\"] = df[\"sphere_numeric_surface\"] - df[\"sphere_surface\"]\n",
    "# surface of the sphere \n",
    "df[\"sphere_join_numeric_surface\"] = df[\"sphere_surface\"] + 0.5 * df[\"join_surface_error\"]\n",
    "df[\"sphere_radius_join_surface_estimation_numeric\"] = ((df[\"sphere_join_numeric_surface\"] / (4 * np.pi))**(.5))\n",
    "df[\"sphere_radius_join_surface_estimation\"] = ((df[\"sphere_surface\"] / (4* np.pi))**(.5))\n",
    "\n",
    "df[\"join_volume_error\"] = df[\"sphere_numeric_volume\"] - df[\"sphere_volume\"]\n",
    "# surface of the sphere \n",
    "df[\"sphere_join_numeric_volume\"] = df[\"sphere_volume\"] + 0.5 * df[\"join_volume_error\"]\n",
    "df[\"sphere_radius_join_surface_estimation_numeric\"] = ((df[\"sphere_join_numeric_volume\"] / (4 * np.pi))**(.5))\n",
    "df[\"sphere_radius_join_surface_estimation\"] = ((df[\"sphere_volume\"] / (4* np.pi))**(.5))\n",
    "\n",
    "\n",
    "available_radius_methods = [\n",
    "    \"inscribed\", \"circumscribed\", \n",
    "    \"average\",\n",
    "    \"cylinder volume\", \n",
    "    \"cylinder surface\", \n",
    "    \"cylinder volume + sphere error\",\n",
    "    \"cylinder surface + sphere error\",\n",
    "    \"cylinder surface + sphere error + join error\",\n",
    "    \"best\",\n",
    "    \n",
    "]\n",
    "for radius_method in [\"inscribed\"]:\n",
    "        \n",
    "    dfs = df[\n",
    "        df[\"output note\"] == \"compensation method 1 sphere \" + radius_method\n",
    "        # df[\"generators Unconnected cylinders radius_distribution_mean\"] == 5 \n",
    "    ]\n",
    "    # show_radius(dfs)"
   ]
  },
  {
   "cell_type": "markdown",
   "metadata": {
    "deletable": true,
    "editable": true
   },
   "source": [
    "## Sphere volume compensation factor interpolation\n",
    "\n",
    "It is usede in `\"cylinder volume + sphere error\"`\n",
    "Calculate `x` and `y` coefficients and copy it into `tb_vtk.py` file in\n",
    "\n",
    "    ...\n",
    "    def polygon_radius_compensation_factos(\n",
    "        ...\n",
    "    ):\n",
    "    ...\n",
    "    x_cvse = [ ... ]\n",
    "    y_cvse = [ ... ]\n"
   ]
  },
  {
   "cell_type": "code",
   "execution_count": 120,
   "metadata": {
    "collapsed": false,
    "deletable": true,
    "editable": true
   },
   "outputs": [],
   "source": [
    "from scipy.interpolate import UnivariateSpline\n",
    "from scipy.interpolate import InterpolatedUnivariateSpline\n",
    "\n",
    "radius_method = \"inscribed\"\n",
    "dfs = df[\n",
    "    df[\"output note\"] == \"compensation method 1 sphere \" + radius_method\n",
    "]\n",
    "\n",
    "if len(dfs) > 1:\n",
    "    dfsm = dfs.groupby(\"measurement_resolution\").mean().reset_index()\n",
    "\n",
    "    x = list(dfsm[\"measurement_resolution\"])\n",
    "    y = list(dfsm[\"sphere_radius_volume_estimation_numeric\"] / dfsm[\"sphere_radius_volume_estimation\"])\n",
    "\n",
    "    # x.append(100)\n",
    "    # y.append(1.0)\n",
    "\n",
    "    x.append(200)\n",
    "    y.append(1.0)\n",
    "\n",
    "    x = np.asarray(x)\n",
    "    y = np.asarray(y)\n",
    "    spl1 = InterpolatedUnivariateSpline(x, y)\n",
    "    # spl1 = UnivariateSpline(x, y,k=5)\n",
    "    # spl1.set_smoothing_factor(0.1)\n",
    "    xs = np.linspace(6, 100, 100)\n",
    "\n",
    "    plt.plot(\n",
    "        xs[:], spl1(xs[:]), \"b\" , \n",
    "        x[:-2], y[:-2], \"ro\", \n",
    "    )\n",
    "    stx = \"x_cvse = [\"\n",
    "    for i in x:\n",
    "        stx = stx + str(i) + \", \"\n",
    "    stx += \"]\"\n",
    "    sty = \"y_cvse = [\"\n",
    "    for i in y:\n",
    "        sty = sty + str(i) + \", \"\n",
    "    sty += \"]\"\n",
    "    print stx\n",
    "    print sty"
   ]
  },
  {
   "cell_type": "code",
   "execution_count": 121,
   "metadata": {
    "collapsed": false,
    "deletable": true,
    "editable": true
   },
   "outputs": [
    {
     "data": {
      "text/html": [
       "<div>\n",
       "<style>\n",
       "    .dataframe thead tr:only-child th {\n",
       "        text-align: right;\n",
       "    }\n",
       "\n",
       "    .dataframe thead th {\n",
       "        text-align: left;\n",
       "    }\n",
       "\n",
       "    .dataframe tbody tr th {\n",
       "        vertical-align: top;\n",
       "    }\n",
       "</style>\n",
       "<table border=\"1\" class=\"dataframe\">\n",
       "  <thead>\n",
       "    <tr style=\"text-align: right;\">\n",
       "      <th></th>\n",
       "      <th>appearance noise_preview</th>\n",
       "      <th>appearance show_aposteriori_surface</th>\n",
       "      <th>appearance skip_volume_generation</th>\n",
       "      <th>area volume [mm^3]</th>\n",
       "      <th>areasampling areasize_mm</th>\n",
       "      <th>areasampling areasize_px</th>\n",
       "      <th>areasampling voxelsize_mm</th>\n",
       "      <th>count []</th>\n",
       "      <th>datetime</th>\n",
       "      <th>filepattern</th>\n",
       "      <th>...</th>\n",
       "      <th>sphere_radius_volume_estimation_numeric</th>\n",
       "      <th>sphere_radius_volume_estimation</th>\n",
       "      <th>sphere_radius_surface_estimation_numeric</th>\n",
       "      <th>sphere_radius_surface_estimation</th>\n",
       "      <th>join_surface_error</th>\n",
       "      <th>sphere_join_numeric_surface</th>\n",
       "      <th>sphere_radius_join_surface_estimation_numeric</th>\n",
       "      <th>sphere_radius_join_surface_estimation</th>\n",
       "      <th>join_volume_error</th>\n",
       "      <th>sphere_join_numeric_volume</th>\n",
       "    </tr>\n",
       "  </thead>\n",
       "  <tbody>\n",
       "  </tbody>\n",
       "</table>\n",
       "<p>0 rows × 113 columns</p>\n",
       "</div>"
      ],
      "text/plain": [
       "Empty DataFrame\n",
       "Columns: [appearance noise_preview, appearance show_aposteriori_surface, appearance skip_volume_generation, area volume [mm^3], areasampling areasize_mm, areasampling areasize_px, areasampling voxelsize_mm, count [], datetime, filepattern, generator_id, generators Continuous tubes element_number, generators Continuous tubes radius_distribution_fixed, generators Continuous tubes radius_distribution_normal, generators Continuous tubes radius_distribution_maximum, generators Continuous tubes radius_distribution_mean, generators Continuous tubes radius_distribution_minimum, generators Continuous tubes radius_distribution_standard_deviation, generators Continuous tubes random_generator_seed, generators Continuous tubes radius_distribution_uniform, generators Gensei n_objects, generators Unconnected tubes allow_overlap, generators Unconnected tubes element_number, generators Unconnected tubes radius_distribution_fixed, generators Unconnected tubes last_element_can_be_smaller, generators Unconnected tubes length_distribution_mean, generators Unconnected tubes length_distribution_standard_deviation, generators Unconnected tubes maximum_1000_iteration_number, generators Unconnected tubes radius_distribution_normal, generators Unconnected tubes orientation_alpha_rad, generators Unconnected tubes orientation_anisotropic, generators Unconnected tubes orientation_beta_rad, generators Unconnected tubes orientation_variance_rad, generators Unconnected tubes radius_distribution_maximum, generators Unconnected tubes radius_distribution_mean, generators Unconnected tubes radius_distribution_minimum, generators Unconnected tubes radius_distribution_standard_deviation, generators Unconnected tubes random_generator_seed, generators Unconnected tubes tube_shape, generators Unconnected tubes radius_distribution_uniform, generators Unconnected tubes volume_fraction, generators Voronoi tubes element_number, generators Voronoi tubes radius_distribution_fixed, generators Voronoi tubes radius_distribution_normal, generators Voronoi tubes radius_distribution_maximum, generators Voronoi tubes radius_distribution_mean, generators Voronoi tubes radius_distribution_minimum, generators Voronoi tubes radius_distribution_standard_deviation, generators Voronoi tubes random_generator_seed, generators Voronoi tubes radius_distribution_uniform, length [mm], length d. [mm^-2], measurement polygon_radius_selection_method, measurement tube_shape, numeric surface [mm^2], numeric volume [mm^3], output aposteriori_measurement, output aposteriori_measurement_multiplier, output note, output one_row_filename, postprocessing add_noise, postprocessing gaussian_blur, postprocessing gaussian_filter_sigma_mm, postprocessing intensity_profile_intensity, postprocessing intensity_profile_radius, postprocessing limit_negative_intensities, postprocessing measurement_multiplier, postprocessing measurement_resolution, postprocessing negative, postprocessing noise_amplitude, postprocessing noise_exponent, postprocessing noise_lambda_start, postprocessing noise_lambda_stop, postprocessing noise_mean, postprocessing noise_rng_seed, postprocessing output_dtype, required_teigen_version, step1_generate_time_s, step1_generate_vtk_time_s, step1_init_datetime, step1_total_time_s, step2_generate_volume_time_s, step2_init_datetime, step2_numeric_measurement_time_s, step2_save_volume_time_s, step2_total_time_s, surface [mm^2], surface d. [mm^-1], volume [mm^3], volume d. [], surface error [mm^2], surface error [%], volume error [mm^3], volume error [%], measurement_resolution, length_distribution_mean, radius_distribution_mean, cylinder_volume, cylinder_surface, sphere_numeric_volume, ...]\n",
       "Index: []\n",
       "\n",
       "[0 rows x 113 columns]"
      ]
     },
     "execution_count": 121,
     "metadata": {},
     "output_type": "execute_result"
    }
   ],
   "source": [
    "dfs"
   ]
  },
  {
   "cell_type": "code",
   "execution_count": 122,
   "metadata": {
    "collapsed": false,
    "deletable": true,
    "editable": true
   },
   "outputs": [],
   "source": [
    "import scipy\n",
    "import copy\n",
    "if len(dfs) > 1:\n",
    "    # f = scipy.interpolate.interp1d(x,y, kind=\"quadratic\", fill_value=\"extrapolate\")\n",
    "    x = np.asarray(list(dfs[\"measurement_resolution\"]))\n",
    "    y = np.asarray(list(dfs[\"sphere_radius_volume_estimation\"]))\n",
    "\n",
    "    z = np.polyfit(x,y, 2)\n",
    "    f = np.poly1d(z)\n",
    "    plt.plot(x, y, \"ro\")\n",
    "    plt.plot(xs, f(xs), \"b\")\n",
    "    plt.show()"
   ]
  },
  {
   "cell_type": "code",
   "execution_count": 123,
   "metadata": {
    "collapsed": false,
    "deletable": true,
    "editable": true
   },
   "outputs": [],
   "source": [
    "from scipy.optimize import curve_fit\n",
    "    \n",
    "def func(x, a, b, c, e, f, g):\n",
    "    return a*np.exp(-b * x) # + # c + np.sin(e*x + f) * np.exp(g*x)\n",
    "\n",
    "\n",
    "\n",
    "def func1(x, theta, omega0, K):\n",
    "    jmt = (1 - theta**2)**0.5\n",
    "    out = K * (1 - 1/jmt * np.exp(-1 * theta * omega0 * x))\n",
    "    # out = K * (1 - (1 / jmt * np.exp(-1 * theta * omega0 * x)) * np.sin(omega0 * jmt * x)) \n",
    "    #+ np.arccos(theta))\n",
    "    return out\n",
    "\n",
    "if len(dfs) > 1:\n",
    "    x = np.asarray(list(dfs[\"measurement_resolution\"]))\n",
    "    y = np.asarray(list(dfs[\"sphere_radius_volume_estimation\"]))\n",
    "\n",
    "    popt, pcov = curve_fit(func, x, y, bounds=(-np.inf, np.inf))\n",
    "    print popt\n",
    "\n",
    "    plt.plot(xs, func(xs, *popt), \"b\")\n",
    "    plt.plot(x, y, \"ro\")\n",
    "    plt.show()"
   ]
  },
  {
   "cell_type": "markdown",
   "metadata": {
    "deletable": true,
    "editable": true
   },
   "source": [
    "## Sphere surface compensation factor interpolation\n",
    "\n",
    "Calculate `x` and `y` coefficients for `cylinder surface + sphere compensation` and copy it into `tb_vtk.py` file in\n",
    "\n",
    "    ...\n",
    "    def polygon_radius_compensation_factos(\n",
    "        ...\n",
    "    ):\n",
    "        ...\n",
    "        x_csse = [ ... ]\n",
    "        y_csse = [ ... ]\n",
    "\n"
   ]
  },
  {
   "cell_type": "code",
   "execution_count": 124,
   "metadata": {
    "collapsed": false,
    "deletable": true,
    "editable": true
   },
   "outputs": [
    {
     "data": {
      "text/html": [
       "<div>\n",
       "<style>\n",
       "    .dataframe thead tr:only-child th {\n",
       "        text-align: right;\n",
       "    }\n",
       "\n",
       "    .dataframe thead th {\n",
       "        text-align: left;\n",
       "    }\n",
       "\n",
       "    .dataframe tbody tr th {\n",
       "        vertical-align: top;\n",
       "    }\n",
       "</style>\n",
       "<table border=\"1\" class=\"dataframe\">\n",
       "  <thead>\n",
       "    <tr style=\"text-align: right;\">\n",
       "      <th></th>\n",
       "      <th>sphere_radius_volume_estimation_numeric</th>\n",
       "      <th>sphere_radius_surface_estimation_numeric</th>\n",
       "      <th>measurement_resolution</th>\n",
       "    </tr>\n",
       "  </thead>\n",
       "  <tbody>\n",
       "  </tbody>\n",
       "</table>\n",
       "</div>"
      ],
      "text/plain": [
       "Empty DataFrame\n",
       "Columns: [sphere_radius_volume_estimation_numeric, sphere_radius_surface_estimation_numeric, measurement_resolution]\n",
       "Index: []"
      ]
     },
     "execution_count": 124,
     "metadata": {},
     "output_type": "execute_result"
    }
   ],
   "source": [
    "radius_method = \"cylinder surface\"\n",
    "radius_method = \"inscribed\"\n",
    "dfs = df[\n",
    "    df[\"output note\"] == \"compensation method 1 sphere \" + radius_method\n",
    "]\n",
    "dfsm = dfs.groupby(\"measurement_resolution\").mean().reset_index()\n",
    "\n",
    "show_radius(dfsm)"
   ]
  },
  {
   "cell_type": "code",
   "execution_count": 125,
   "metadata": {
    "collapsed": false,
    "deletable": true,
    "editable": true
   },
   "outputs": [],
   "source": [
    "from scipy.interpolate import UnivariateSpline\n",
    "from scipy.interpolate import InterpolatedUnivariateSpline\n",
    "if len(dfsm) > 0:\n",
    "    x = list(dfsm[\"measurement_resolution\"])\n",
    "    y = list(dfsm[\"sphere_radius_surface_estimation_numeric\"] / dfsm[\"sphere_radius_surface_estimation\"])\n",
    "\n",
    "    # x.append(100)\n",
    "    # y.append(1.0)\n",
    "\n",
    "    x.append(200)\n",
    "    y.append(1.0)\n",
    "\n",
    "    x = np.asarray(x)\n",
    "    y = np.asarray(y)\n",
    "    spl1 = InterpolatedUnivariateSpline(x, y)\n",
    "    # spl1.set_smoothing_factor(0.1)\n",
    "    xs = np.linspace(6, 200, 100)\n",
    "\n",
    "    plt.figure()\n",
    "    plt.plot(x[:], y[:], \"ro\")\n",
    "    plt.plot(xs[:], spl1(xs[:]), \"b\")\n",
    "    plt.show()\n",
    "    stx = \"x_csse = [\"\n",
    "    for i in x:\n",
    "        stx = stx + str(i) + \", \"\n",
    "    stx += \"]\"\n",
    "    sty = \"y_csse = [\"\n",
    "    for i in y:\n",
    "        sty = sty + str(i) + \", \"\n",
    "    sty += \"]\"\n",
    "    print stx\n",
    "    print sty"
   ]
  },
  {
   "cell_type": "markdown",
   "metadata": {
    "deletable": true,
    "editable": true
   },
   "source": [
    "# Evaluation on the same dataset\n",
    "\n",
    "After `x` and `y` is written in the `tb_vtk.py` and experiments are re-runned"
   ]
  },
  {
   "cell_type": "markdown",
   "metadata": {
    "deletable": true,
    "editable": true
   },
   "source": [
    "## Evaluation on 1 sphere"
   ]
  },
  {
   "cell_type": "code",
   "execution_count": 126,
   "metadata": {
    "collapsed": false,
    "deletable": true,
    "editable": true,
    "scrolled": false
   },
   "outputs": [],
   "source": [
    "for radius_method in available_radius_methods:\n",
    "        \n",
    "    dfs = df[\n",
    "        df[\"output note\"] == \"compensation method 1 sphere \" + radius_method\n",
    "    ]\n",
    "    dfsp = show_error(dfs)"
   ]
  },
  {
   "cell_type": "markdown",
   "metadata": {
    "deletable": true,
    "editable": true
   },
   "source": [
    "# Tube - sphere join compensation\n",
    "\n",
    "komenzace artefaktů vzniklých na spoji koule a válce\n",
    "\n",
    "\n",
    "experiment `compensation method measurement 1 tube ` "
   ]
  },
  {
   "cell_type": "markdown",
   "metadata": {
    "deletable": true,
    "editable": true
   },
   "source": [
    "## 1 tube - surface\n"
   ]
  },
  {
   "cell_type": "code",
   "execution_count": 127,
   "metadata": {
    "collapsed": false,
    "deletable": true,
    "editable": true,
    "scrolled": true
   },
   "outputs": [],
   "source": [
    "#  surface\n",
    "from scipy.interpolate import UnivariateSpline\n",
    "from scipy.interpolate import InterpolatedUnivariateSpline\n",
    "\n",
    "radius_method = \"cylinder surface + sphere error\"\n",
    "\n",
    "dfs = df[\n",
    "    # df[\"output note\"] == \"compensation method 1 tube\" + radius_method\n",
    "    df[\"output note\"] == \"compensation method measurement 1 tube \" + radius_method\n",
    "]\n",
    "if len(dfs) > 0:\n",
    "    dfsm = dfs.groupby(\"measurement_resolution\").mean().reset_index()\n",
    "\n",
    "    # x = list(dfsm[\"measurement_resolution\"])\n",
    "    # y = list(dfsm[\"radius_volume_estimation_numeric\"] / dfsm[\"radius_volume_estimation\"])\n",
    "    x = list(dfsm[\"measurement_resolution\"])\n",
    "    # y = list(dfsm[\"radius_surface_estimation_numeric\"] / dfsm[\"radius_surface_estimation\"])\n",
    "    y = list(dfsm[\"sphere_radius_join_surface_estimation_numeric\"] / dfsm[\"sphere_radius_join_surface_estimation\"])\n",
    "    # y = list(dfsm[\"sphere_radius_join_surface_estimation_numeric\"] / dfsm[\"radius_distribution_mean\"])\n",
    "    \n",
    "    x.append(100)\n",
    "    y.append(1.0)\n",
    "\n",
    "    x.append(200)\n",
    "    y.append(1.0)\n",
    "\n",
    "    x = np.asarray(x)\n",
    "    y = np.asarray(y)\n",
    "    spl1 = InterpolatedUnivariateSpline(x, y)\n",
    "    # spl1 = UnivariateSpline(x, y,k=6)\n",
    "    # spl1.set_smoothing_factor(10.01)\n",
    "    xs = np.linspace(5, 100, 100)\n",
    "\n",
    "    plt.plot(\n",
    "        xs[:], spl1(xs[:]), \"b\" , \n",
    "        x[:-2], y[:-2], \"ro\", \n",
    "        list(dfs[\"measurement_resolution\"])[:], \n",
    "        list(dfs[\"sphere_radius_join_surface_estimation_numeric\"]/dfs[\"sphere_radius_join_surface_estimation\"])[:],\n",
    "        \"g.\"\n",
    "    )\n",
    "    stx = \"x_csseje = [\"\n",
    "    for i in x:\n",
    "        stx = stx + str(i) + \", \"\n",
    "    stx += \"]\"\n",
    "    sty = \"y_csseje = [\"\n",
    "    for i in y:\n",
    "        sty = sty + str(i) + \", \"\n",
    "    sty += \"]\"\n",
    "    print stx\n",
    "    print sty"
   ]
  },
  {
   "cell_type": "code",
   "execution_count": 128,
   "metadata": {
    "collapsed": false,
    "deletable": true,
    "editable": true
   },
   "outputs": [],
   "source": [
    "dfsp = show_error(dfs)"
   ]
  },
  {
   "cell_type": "code",
   "execution_count": 129,
   "metadata": {
    "collapsed": false,
    "deletable": true,
    "editable": true
   },
   "outputs": [
    {
     "data": {
      "text/html": [
       "<div>\n",
       "<style>\n",
       "    .dataframe thead tr:only-child th {\n",
       "        text-align: right;\n",
       "    }\n",
       "\n",
       "    .dataframe thead th {\n",
       "        text-align: left;\n",
       "    }\n",
       "\n",
       "    .dataframe tbody tr th {\n",
       "        vertical-align: top;\n",
       "    }\n",
       "</style>\n",
       "<table border=\"1\" class=\"dataframe\">\n",
       "  <thead>\n",
       "    <tr style=\"text-align: right;\">\n",
       "      <th></th>\n",
       "      <th>measurement_resolution</th>\n",
       "      <th>appearance noise_preview</th>\n",
       "      <th>appearance show_aposteriori_surface</th>\n",
       "      <th>appearance skip_volume_generation</th>\n",
       "      <th>area volume [mm^3]</th>\n",
       "      <th>count []</th>\n",
       "      <th>generator_id</th>\n",
       "      <th>generators Continuous tubes element_number</th>\n",
       "      <th>generators Continuous tubes radius_distribution_fixed</th>\n",
       "      <th>generators Continuous tubes radius_distribution_normal</th>\n",
       "      <th>generators Continuous tubes radius_distribution_maximum</th>\n",
       "      <th>generators Continuous tubes radius_distribution_mean</th>\n",
       "      <th>generators Continuous tubes radius_distribution_minimum</th>\n",
       "      <th>generators Continuous tubes radius_distribution_standard_deviation</th>\n",
       "      <th>generators Continuous tubes random_generator_seed</th>\n",
       "      <th>generators Continuous tubes radius_distribution_uniform</th>\n",
       "      <th>generators Gensei n_objects</th>\n",
       "      <th>generators Unconnected tubes allow_overlap</th>\n",
       "      <th>generators Unconnected tubes element_number</th>\n",
       "      <th>generators Unconnected tubes radius_distribution_fixed</th>\n",
       "      <th>generators Unconnected tubes last_element_can_be_smaller</th>\n",
       "      <th>generators Unconnected tubes length_distribution_mean</th>\n",
       "      <th>generators Unconnected tubes length_distribution_standard_deviation</th>\n",
       "      <th>generators Unconnected tubes maximum_1000_iteration_number</th>\n",
       "      <th>generators Unconnected tubes radius_distribution_normal</th>\n",
       "      <th>generators Unconnected tubes orientation_alpha_rad</th>\n",
       "      <th>generators Unconnected tubes orientation_anisotropic</th>\n",
       "      <th>generators Unconnected tubes orientation_beta_rad</th>\n",
       "      <th>generators Unconnected tubes orientation_variance_rad</th>\n",
       "      <th>generators Unconnected tubes radius_distribution_maximum</th>\n",
       "      <th>generators Unconnected tubes radius_distribution_mean</th>\n",
       "      <th>generators Unconnected tubes radius_distribution_minimum</th>\n",
       "      <th>generators Unconnected tubes radius_distribution_standard_deviation</th>\n",
       "      <th>generators Unconnected tubes random_generator_seed</th>\n",
       "      <th>generators Unconnected tubes tube_shape</th>\n",
       "      <th>generators Unconnected tubes radius_distribution_uniform</th>\n",
       "      <th>generators Unconnected tubes volume_fraction</th>\n",
       "      <th>generators Voronoi tubes element_number</th>\n",
       "      <th>generators Voronoi tubes radius_distribution_fixed</th>\n",
       "      <th>generators Voronoi tubes radius_distribution_normal</th>\n",
       "      <th>generators Voronoi tubes radius_distribution_maximum</th>\n",
       "      <th>generators Voronoi tubes radius_distribution_mean</th>\n",
       "      <th>generators Voronoi tubes radius_distribution_minimum</th>\n",
       "      <th>generators Voronoi tubes radius_distribution_standard_deviation</th>\n",
       "      <th>generators Voronoi tubes random_generator_seed</th>\n",
       "      <th>generators Voronoi tubes radius_distribution_uniform</th>\n",
       "      <th>length [mm]</th>\n",
       "      <th>length d. [mm^-2]</th>\n",
       "      <th>measurement tube_shape</th>\n",
       "      <th>numeric surface [mm^2]</th>\n",
       "      <th>numeric volume [mm^3]</th>\n",
       "      <th>output aposteriori_measurement</th>\n",
       "      <th>output aposteriori_measurement_multiplier</th>\n",
       "      <th>postprocessing add_noise</th>\n",
       "      <th>postprocessing gaussian_blur</th>\n",
       "      <th>postprocessing gaussian_filter_sigma_mm</th>\n",
       "      <th>postprocessing limit_negative_intensities</th>\n",
       "      <th>postprocessing measurement_multiplier</th>\n",
       "      <th>postprocessing measurement_resolution</th>\n",
       "      <th>postprocessing negative</th>\n",
       "      <th>postprocessing noise_exponent</th>\n",
       "      <th>postprocessing noise_lambda_start</th>\n",
       "      <th>postprocessing noise_lambda_stop</th>\n",
       "      <th>postprocessing noise_mean</th>\n",
       "      <th>postprocessing noise_rng_seed</th>\n",
       "      <th>surface [mm^2]</th>\n",
       "      <th>surface d. [mm^-1]</th>\n",
       "      <th>volume [mm^3]</th>\n",
       "      <th>volume d. []</th>\n",
       "      <th>surface error [mm^2]</th>\n",
       "      <th>surface error [%]</th>\n",
       "      <th>volume error [mm^3]</th>\n",
       "      <th>volume error [%]</th>\n",
       "      <th>length_distribution_mean</th>\n",
       "      <th>radius_distribution_mean</th>\n",
       "      <th>cylinder_volume</th>\n",
       "      <th>cylinder_surface</th>\n",
       "      <th>sphere_numeric_volume</th>\n",
       "      <th>sphere_volume</th>\n",
       "      <th>sphere_numeric_surface</th>\n",
       "      <th>sphere_surface</th>\n",
       "      <th>sphere_radius_volume_estimation_numeric</th>\n",
       "      <th>sphere_radius_volume_estimation</th>\n",
       "      <th>sphere_radius_surface_estimation_numeric</th>\n",
       "      <th>sphere_radius_surface_estimation</th>\n",
       "      <th>join_surface_error</th>\n",
       "      <th>sphere_join_numeric_surface</th>\n",
       "      <th>sphere_radius_join_surface_estimation_numeric</th>\n",
       "      <th>sphere_radius_join_surface_estimation</th>\n",
       "      <th>join_volume_error</th>\n",
       "      <th>sphere_join_numeric_volume</th>\n",
       "    </tr>\n",
       "  </thead>\n",
       "  <tbody>\n",
       "  </tbody>\n",
       "</table>\n",
       "</div>"
      ],
      "text/plain": [
       "Empty DataFrame\n",
       "Columns: [measurement_resolution, appearance noise_preview, appearance show_aposteriori_surface, appearance skip_volume_generation, area volume [mm^3], count [], generator_id, generators Continuous tubes element_number, generators Continuous tubes radius_distribution_fixed, generators Continuous tubes radius_distribution_normal, generators Continuous tubes radius_distribution_maximum, generators Continuous tubes radius_distribution_mean, generators Continuous tubes radius_distribution_minimum, generators Continuous tubes radius_distribution_standard_deviation, generators Continuous tubes random_generator_seed, generators Continuous tubes radius_distribution_uniform, generators Gensei n_objects, generators Unconnected tubes allow_overlap, generators Unconnected tubes element_number, generators Unconnected tubes radius_distribution_fixed, generators Unconnected tubes last_element_can_be_smaller, generators Unconnected tubes length_distribution_mean, generators Unconnected tubes length_distribution_standard_deviation, generators Unconnected tubes maximum_1000_iteration_number, generators Unconnected tubes radius_distribution_normal, generators Unconnected tubes orientation_alpha_rad, generators Unconnected tubes orientation_anisotropic, generators Unconnected tubes orientation_beta_rad, generators Unconnected tubes orientation_variance_rad, generators Unconnected tubes radius_distribution_maximum, generators Unconnected tubes radius_distribution_mean, generators Unconnected tubes radius_distribution_minimum, generators Unconnected tubes radius_distribution_standard_deviation, generators Unconnected tubes random_generator_seed, generators Unconnected tubes tube_shape, generators Unconnected tubes radius_distribution_uniform, generators Unconnected tubes volume_fraction, generators Voronoi tubes element_number, generators Voronoi tubes radius_distribution_fixed, generators Voronoi tubes radius_distribution_normal, generators Voronoi tubes radius_distribution_maximum, generators Voronoi tubes radius_distribution_mean, generators Voronoi tubes radius_distribution_minimum, generators Voronoi tubes radius_distribution_standard_deviation, generators Voronoi tubes random_generator_seed, generators Voronoi tubes radius_distribution_uniform, length [mm], length d. [mm^-2], measurement tube_shape, numeric surface [mm^2], numeric volume [mm^3], output aposteriori_measurement, output aposteriori_measurement_multiplier, postprocessing add_noise, postprocessing gaussian_blur, postprocessing gaussian_filter_sigma_mm, postprocessing limit_negative_intensities, postprocessing measurement_multiplier, postprocessing measurement_resolution, postprocessing negative, postprocessing noise_exponent, postprocessing noise_lambda_start, postprocessing noise_lambda_stop, postprocessing noise_mean, postprocessing noise_rng_seed, surface [mm^2], surface d. [mm^-1], volume [mm^3], volume d. [], surface error [mm^2], surface error [%], volume error [mm^3], volume error [%], length_distribution_mean, radius_distribution_mean, cylinder_volume, cylinder_surface, sphere_numeric_volume, sphere_volume, sphere_numeric_surface, sphere_surface, sphere_radius_volume_estimation_numeric, sphere_radius_volume_estimation, sphere_radius_surface_estimation_numeric, sphere_radius_surface_estimation, join_surface_error, sphere_join_numeric_surface, sphere_radius_join_surface_estimation_numeric, sphere_radius_join_surface_estimation, join_volume_error, sphere_join_numeric_volume]\n",
       "Index: []"
      ]
     },
     "metadata": {},
     "output_type": "execute_result"
    },
    {
     "data": {
      "text/html": [
       "<div>\n",
       "<style>\n",
       "    .dataframe thead tr:only-child th {\n",
       "        text-align: right;\n",
       "    }\n",
       "\n",
       "    .dataframe thead th {\n",
       "        text-align: left;\n",
       "    }\n",
       "\n",
       "    .dataframe tbody tr th {\n",
       "        vertical-align: top;\n",
       "    }\n",
       "</style>\n",
       "<table border=\"1\" class=\"dataframe\">\n",
       "  <thead>\n",
       "    <tr style=\"text-align: right;\">\n",
       "      <th></th>\n",
       "      <th>measurement_resolution</th>\n",
       "      <th>radius_distribution_mean</th>\n",
       "      <th>surface [mm^2]</th>\n",
       "      <th>numeric surface [mm^2]</th>\n",
       "      <th>cylinder_surface</th>\n",
       "      <th>sphere_surface</th>\n",
       "      <th>surface error [mm^2]</th>\n",
       "      <th>surface error [%]</th>\n",
       "      <th>volume [mm^3]</th>\n",
       "      <th>numeric volume [mm^3]</th>\n",
       "      <th>cylinder_volume</th>\n",
       "      <th>sphere_volume</th>\n",
       "      <th>volume error [mm^3]</th>\n",
       "      <th>volume error [%]</th>\n",
       "    </tr>\n",
       "  </thead>\n",
       "  <tbody>\n",
       "  </tbody>\n",
       "</table>\n",
       "</div>"
      ],
      "text/plain": [
       "Empty DataFrame\n",
       "Columns: [measurement_resolution, radius_distribution_mean, surface [mm^2], numeric surface [mm^2], cylinder_surface, sphere_surface, surface error [mm^2], surface error [%], volume [mm^3], numeric volume [mm^3], cylinder_volume, sphere_volume, volume error [mm^3], volume error [%]]\n",
       "Index: []"
      ]
     },
     "metadata": {},
     "output_type": "execute_result"
    }
   ],
   "source": [
    "with pd.option_context('display.max_columns', None):\n",
    "    display(dfsm)\n",
    "    \n",
    "    display(dfsm[[\"measurement_resolution\", \"radius_distribution_mean\", \n",
    "                  \"surface [mm^2]\", \"numeric surface [mm^2]\",\n",
    "                  \"cylinder_surface\", \"sphere_surface\",\n",
    "                  \"surface error [mm^2]\", \"surface error [%]\", \n",
    "                  \"volume [mm^3]\", \"numeric volume [mm^3]\", \n",
    "                  \"cylinder_volume\",  \"sphere_volume\",\n",
    "                  \"volume error [mm^3]\", \"volume error [%]\", \n",
    "                 ]])"
   ]
  },
  {
   "cell_type": "markdown",
   "metadata": {
    "deletable": true,
    "editable": true
   },
   "source": [
    "## 1 tube volume measuerement"
   ]
  },
  {
   "cell_type": "code",
   "execution_count": 130,
   "metadata": {
    "collapsed": false,
    "deletable": true,
    "editable": true
   },
   "outputs": [],
   "source": [
    "# volume \n",
    "from scipy.interpolate import UnivariateSpline\n",
    "from scipy.interpolate import InterpolatedUnivariateSpline\n",
    "\n",
    "radius_method = \"cylinder volume + sphere error\"\n",
    "# radius_method = \"cylinder surface + sphere error\"\n",
    "\n",
    "dfs = df[\n",
    "    df[\"output note\"] == \"compensation method measurement 1 tube \" + radius_method\n",
    "]\n",
    "if len(dfs) > 0:\n",
    "    dfsm = dfs.groupby(\"measurement_resolution\").mean().reset_index()\n",
    "\n",
    "    x = list(dfsm[\"measurement_resolution\"])\n",
    "    y = list(dfsm[\"sphere_radius_join_volume_estimation_numeric\"] / dfsm[\"sphere_radius_join_volume_estimation\"])\n",
    "\n",
    "    # x.append(100)\n",
    "    # y.append(1.0)\n",
    "\n",
    "    x.append(200)\n",
    "    y.append(1.0)\n",
    "\n",
    "    x = np.asarray(x)\n",
    "    y = np.asarray(y)\n",
    "    spl1 = InterpolatedUnivariateSpline(x, y)\n",
    "    spl1 = UnivariateSpline(x, y,k=2)\n",
    "    spl1.set_smoothing_factor(50.5)\n",
    "    xs = np.linspace(5, 100, 100)\n",
    "\n",
    "    plt.plot(\n",
    "        xs[:], spl1(xs[:]), \"b\" , \n",
    "        x[:-2], y[:-2], \"ro\", \n",
    "    )\n",
    "    stx = \"x_cvseje = [\"\n",
    "    for i in x:\n",
    "        stx = stx + str(i) + \", \"\n",
    "    stx += \"]\"\n",
    "    sty = \"y_cvseje = [\"\n",
    "    for i in y:\n",
    "        sty = sty + str(i) + \", \"\n",
    "    sty += \"]\"\n",
    "    print stx\n",
    "    print sty"
   ]
  },
  {
   "cell_type": "code",
   "execution_count": 131,
   "metadata": {
    "collapsed": false,
    "deletable": true,
    "editable": true
   },
   "outputs": [],
   "source": [
    "dfsp = show_error(dfs)"
   ]
  },
  {
   "cell_type": "code",
   "execution_count": 132,
   "metadata": {
    "collapsed": false,
    "deletable": true,
    "editable": true,
    "scrolled": false
   },
   "outputs": [],
   "source": [
    "for radius_method in available_radius_methods:\n",
    "    dfs = df[\n",
    "        df[\"output note\"] == \"compensation method measurement 1 tube \" + radius_method\n",
    "    ]\n",
    "    dfsp = show_error(dfs)"
   ]
  },
  {
   "cell_type": "code",
   "execution_count": 133,
   "metadata": {
    "collapsed": false,
    "deletable": true,
    "editable": true,
    "scrolled": false
   },
   "outputs": [],
   "source": [
    "for radius_method in available_radius_methods:\n",
    "    dfs = df[\n",
    "        df[\"output note\"] == \"compensation method 1 tube \" + radius_method\n",
    "    ]\n",
    "    dfsp = show_error(dfs)"
   ]
  },
  {
   "cell_type": "markdown",
   "metadata": {
    "deletable": true,
    "editable": true
   },
   "source": [
    "## TODO - move this - 3 spheres various radius"
   ]
  },
  {
   "cell_type": "code",
   "execution_count": 134,
   "metadata": {
    "collapsed": false,
    "deletable": true,
    "editable": true
   },
   "outputs": [],
   "source": [
    "run_label = \"compensation method 3 spheres various radius \"\n",
    "for radius_method in available_radius_methods:\n",
    "    dfs = df[\n",
    "        df[\"output note\"] == run_label + radius_method\n",
    "    ]\n",
    "    dfsp = show_error(dfs, x_key=\"radius_distribution_mean\")"
   ]
  },
  {
   "cell_type": "markdown",
   "metadata": {
    "deletable": true,
    "editable": true
   },
   "source": [
    "## tubes"
   ]
  },
  {
   "cell_type": "markdown",
   "metadata": {
    "deletable": true,
    "editable": true
   },
   "source": [
    "### 1 Tube evaluation"
   ]
  },
  {
   "cell_type": "code",
   "execution_count": 135,
   "metadata": {
    "collapsed": false,
    "deletable": true,
    "editable": true
   },
   "outputs": [],
   "source": [
    "for radius_method in available_radius_methods:\n",
    "    dfs = df[\n",
    "        df[\"output note\"] == \"compensation method 1 tube \" + radius_method\n",
    "    ]\n",
    "    dfsp = show_error(dfs) #, x_key=\"radius_distribution_mean\")"
   ]
  },
  {
   "cell_type": "markdown",
   "metadata": {
    "deletable": true,
    "editable": true
   },
   "source": [
    "### 1 tube various radius"
   ]
  },
  {
   "cell_type": "code",
   "execution_count": 136,
   "metadata": {
    "collapsed": false,
    "deletable": true,
    "editable": true,
    "scrolled": false
   },
   "outputs": [
    {
     "name": "stdout",
     "output_type": "stream",
     "text": [
      "0\n",
      "0\n",
      "0\n",
      "0\n",
      "0\n",
      "0\n",
      "0\n",
      "0\n",
      "0\n"
     ]
    }
   ],
   "source": [
    "for radius_method in available_radius_methods:\n",
    "    dfs = df[\n",
    "        df[\"output note\"] == \"compensation method 1 tube various radius \" + radius_method\n",
    "    ]\n",
    "    dfsp = show_error(dfs, x_key=\"radius_distribution_mean\")\n",
    "    print len(dfs)"
   ]
  },
  {
   "cell_type": "code",
   "execution_count": 137,
   "metadata": {
    "collapsed": false,
    "deletable": true,
    "editable": true,
    "scrolled": false
   },
   "outputs": [],
   "source": [
    "run_label = \"compensation method 1 tube various length \"\n",
    "for radius_method in available_radius_methods:\n",
    "    dfs = df[\n",
    "        df[\"output note\"] == run_label + radius_method\n",
    "    ]\n",
    "    dfsp = show_error(dfs, x_key=\"length_distribution_mean\")\n",
    "    # print len(dfs)"
   ]
  },
  {
   "cell_type": "code",
   "execution_count": 138,
   "metadata": {
    "collapsed": false,
    "deletable": true,
    "editable": true,
    "scrolled": false
   },
   "outputs": [],
   "source": [
    "for radius_method in available_radius_methods:\n",
    "        \n",
    "    dfs = df[\n",
    "        df[\"output note\"] == \"compensation method 1 tube mix \" + radius_method\n",
    "    ]\n",
    "    dfsp = show_error(dfs)"
   ]
  },
  {
   "cell_type": "markdown",
   "metadata": {
    "deletable": true,
    "editable": true
   },
   "source": [
    "### 5 tubes"
   ]
  },
  {
   "cell_type": "code",
   "execution_count": 139,
   "metadata": {
    "collapsed": false,
    "deletable": true,
    "editable": true,
    "scrolled": false
   },
   "outputs": [],
   "source": [
    "for radius_method in available_radius_methods:\n",
    "        \n",
    "    dfs = df[\n",
    "        df[\"output note\"] == \"compensation method 5 tubes \" + radius_method\n",
    "    ]\n",
    "    dfsp = show_error(dfs)"
   ]
  },
  {
   "cell_type": "markdown",
   "metadata": {
    "deletable": true,
    "editable": true
   },
   "source": [
    "## Fixed resolution"
   ]
  },
  {
   "cell_type": "code",
   "execution_count": 140,
   "metadata": {
    "collapsed": false,
    "deletable": true,
    "editable": true
   },
   "outputs": [],
   "source": [
    "for radius_method in available_radius_methods:\n",
    "    dfs = df[\n",
    "        df[\"output note\"] == \"fixed resolution \" + radius_method\n",
    "    ]\n",
    "    dfsp = show_error(dfs)"
   ]
  },
  {
   "cell_type": "markdown",
   "metadata": {
    "deletable": true,
    "editable": true
   },
   "source": [
    "# Best test"
   ]
  },
  {
   "cell_type": "code",
   "execution_count": 141,
   "metadata": {
    "collapsed": false,
    "deletable": true,
    "editable": true
   },
   "outputs": [],
   "source": [
    "for radius_method in available_radius_methods:\n",
    "    dfs = df[\n",
    "        df[\"output note\"] == \"best test \" + radius_method\n",
    "    ]\n",
    "    dfsp = show_error(dfs)"
   ]
  },
  {
   "cell_type": "markdown",
   "metadata": {
    "deletable": true,
    "editable": true
   },
   "source": [
    "# Simple check - this computes selected radius from data"
   ]
  },
  {
   "cell_type": "code",
   "execution_count": 142,
   "metadata": {
    "collapsed": false,
    "deletable": true,
    "editable": true
   },
   "outputs": [],
   "source": [
    "# just for control - this should be exactly same as selected radius\n",
    "radius_method = \"inscribed\"\n",
    "dfs = df[\n",
    "    df[\"output note\"] == \"compensation method 1 sphere \" + radius_method\n",
    "    # df[\"generators Unconnected cylinders radius_distribution_mean\"] == 5 \n",
    "]\n",
    "\n",
    "if len(dfs) > 1:\n",
    "    dfs[\"radius_volume_compensation\"] = (3 * dfs[\"volume [mm^3]\"] / (4* np.pi))**(1.0/3.0)\n",
    "    dfsp = dfs[[\"radius_volume_compensation\", \"measurement_resolution\"]].sort_values(\n",
    "        \"measurement_resolution\")\n",
    "\n",
    "    fig = plt.figure(figsize=[25, 18])\n",
    "    ax = plt.subplot(111)\n",
    "    dfsp.plot(\n",
    "        ax=ax, x=\"measurement_resolution\", **plotkw)\n",
    "    plt.suptitle(radius_method)"
   ]
  }
 ],
 "metadata": {
  "anaconda-cloud": {},
  "kernelspec": {
   "display_name": "Python 2",
   "language": "python",
   "name": "python2"
  },
  "language_info": {
   "codemirror_mode": {
    "name": "ipython",
    "version": 2
   },
   "file_extension": ".py",
   "mimetype": "text/x-python",
   "name": "python",
   "nbconvert_exporter": "python",
   "pygments_lexer": "ipython2",
   "version": "2.7.9"
  }
 },
 "nbformat": 4,
 "nbformat_minor": 0
}
