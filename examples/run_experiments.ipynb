{
 "cells": [
  {
   "cell_type": "code",
   "execution_count": 1,
   "metadata": {
    "collapsed": false,
    "deletable": true,
    "editable": true
   },
   "outputs": [
    {
     "name": "stdout",
     "output_type": "stream",
     "text": [
      "Populating the interactive namespace from numpy and matplotlib\n"
     ]
    }
   ],
   "source": [
    "%pylab inline"
   ]
  },
  {
   "cell_type": "code",
   "execution_count": 2,
   "metadata": {
    "collapsed": false,
    "deletable": true,
    "editable": true
   },
   "outputs": [
    {
     "name": "stdout",
     "output_type": "stream",
     "text": [
      "/Users/mjirik/projects/teigen\n",
      "Using QVariant and QString version 1\n",
      "['/Users/mjirik/projects/teigen/teigen']\n"
     ]
    }
   ],
   "source": [
    "import matplotlib.pyplot as plt\n",
    "import pandas as pd\n",
    "import numpy as np\n",
    "import os.path as op\n",
    "from pprint import pprint as pp\n",
    "import scipy.stats\n",
    "import seaborn as sns\n",
    "import sys\n",
    "pth = op.abspath(\"../\")\n",
    "print pth\n",
    "sys.path.append(pth)\n",
    "sys.path.insert(0, pth)\n",
    "import teigen\n",
    "print teigen.__path__"
   ]
  },
  {
   "cell_type": "code",
   "execution_count": 3,
   "metadata": {
    "collapsed": false,
    "deletable": true,
    "editable": true
   },
   "outputs": [],
   "source": [
    "tg = teigen.tgmain.Teigen()\n",
    "config = tg.get_default_config()"
   ]
  },
  {
   "cell_type": "code",
   "execution_count": 7,
   "metadata": {
    "collapsed": false,
    "deletable": true,
    "editable": true
   },
   "outputs": [
    {
     "data": {
      "text/plain": [
       "{'appearance': {'noise_preview': False,\n",
       "  'show_aposteriori_surface': True,\n",
       "  'skip_volume_generation': False},\n",
       " 'areasampling': {'areasize_mm': [110.0, 100.0, 100.0],\n",
       "  'areasize_px': [110, 100, 100],\n",
       "  'voxelsize_mm': [1.0, 1.0, 1.0]},\n",
       " 'filepattern': '~/teigen_data/{seriesn:03d}/data{:06d}.jpg',\n",
       " 'generator_id': 0,\n",
       " 'generators': OrderedDict([('Voronoi tubes',\n",
       "               OrderedDict([('element_number', 30),\n",
       "                            ('uniform_radius_distribution', True),\n",
       "                            ('normal_radius_distribution', False),\n",
       "                            ('fixed_radius_distribution', False),\n",
       "                            ('radius_distribution_minimum', 2.0),\n",
       "                            ('radius_distribution_maximum', 10.0),\n",
       "                            ('radius_distribution_mean', 5.0),\n",
       "                            ('radius_distribution_standard_deviation', 5.0),\n",
       "                            ('random_generator_seed', 0)])),\n",
       "              ('Gensei', OrderedDict([('n_objects', 10)])),\n",
       "              ('Continuous tubes',\n",
       "               OrderedDict([('element_number', 30),\n",
       "                            ('uniform_radius_distribution', True),\n",
       "                            ('normal_radius_distribution', False),\n",
       "                            ('fixed_radius_distribution', False),\n",
       "                            ('radius_distribution_minimum', 2.0),\n",
       "                            ('radius_distribution_maximum', 10.0),\n",
       "                            ('radius_distribution_mean', 5.0),\n",
       "                            ('radius_distribution_standard_deviation', 5.0),\n",
       "                            ('random_generator_seed', 0)])),\n",
       "              ('Unconnected tubes',\n",
       "               OrderedDict([('element_number', -1),\n",
       "                            ('uniform_radius_distribution', True),\n",
       "                            ('normal_radius_distribution', False),\n",
       "                            ('fixed_radius_distribution', False),\n",
       "                            ('radius_distribution_minimum', 2.0),\n",
       "                            ('radius_distribution_maximum', 10.0),\n",
       "                            ('radius_distribution_mean', 5.0),\n",
       "                            ('radius_distribution_standard_deviation', 5.0),\n",
       "                            ('length_distribution_mean', 10.0),\n",
       "                            ('length_distribution_standard_deviation', 3.0),\n",
       "                            ('orientation_anisotropic', True),\n",
       "                            ('orientation_alpha_rad', 0.0),\n",
       "                            ('orientation_beta_rad', 0.0),\n",
       "                            ('orientation_variance_rad', 0.1),\n",
       "                            ('allow_overlap', False),\n",
       "                            ('volume_fraction', 0.1),\n",
       "                            ('maximum_1000_iteration_number', 10),\n",
       "                            ('random_generator_seed', 0),\n",
       "                            ('last_element_can_be_smaller', False)]))]),\n",
       " 'output': {'aposteriori_measurement': False,\n",
       "  'aposteriori_measurement_multiplier': 1.0,\n",
       "  'one_row_filename': '~/teigen_data/output_rows.csv'},\n",
       " 'postprocessing': OrderedDict([('gaussian_blur', True),\n",
       "              ('gaussian_filter_sigma_mm', 1.0),\n",
       "              ('add_noise', True),\n",
       "              ('limit_negative_intensities', True),\n",
       "              ('noise_rng_seed', 0),\n",
       "              ('noise_exponent', 0.0001),\n",
       "              ('noise_lambda_start', 0.1),\n",
       "              ('noise_lambda_stop', 3.0),\n",
       "              ('noise_amplitude', 40.0),\n",
       "              ('noise_mean', 30.0),\n",
       "              ('measurement_resolution', 20),\n",
       "              ('output_dtype', 'uint8'),\n",
       "              ('intensity_profile_radius', [0.4, 0.7, 1.0, 1.3]),\n",
       "              ('intensity_profile_intensity', [195, 190, 200, 30]),\n",
       "              ('negative', False)])}"
      ]
     },
     "execution_count": 7,
     "metadata": {},
     "output_type": "execute_result"
    }
   ],
   "source": [
    "# pp(config)\n",
    "config"
   ]
  },
  {
   "cell_type": "code",
   "execution_count": 11,
   "metadata": {
    "collapsed": false,
    "deletable": true,
    "editable": true
   },
   "outputs": [
    {
     "data": {
      "text/plain": [
       "OrderedDict([('element_number', -1),\n",
       "             ('uniform_radius_distribution', True),\n",
       "             ('normal_radius_distribution', False),\n",
       "             ('fixed_radius_distribution', False),\n",
       "             ('radius_distribution_minimum', 2.0),\n",
       "             ('radius_distribution_maximum', 10.0),\n",
       "             ('radius_distribution_mean', 5.0),\n",
       "             ('radius_distribution_standard_deviation', 5.0),\n",
       "             ('length_distribution_mean', 10.0),\n",
       "             ('length_distribution_standard_deviation', 3.0),\n",
       "             ('orientation_anisotropic', True),\n",
       "             ('orientation_alpha_rad', 0.0),\n",
       "             ('orientation_beta_rad', 0.0),\n",
       "             ('orientation_variance_rad', 0.1),\n",
       "             ('allow_overlap', False),\n",
       "             ('volume_fraction', 0.1),\n",
       "             ('maximum_1000_iteration_number', 10),\n",
       "             ('random_generator_seed', 0),\n",
       "             ('last_element_can_be_smaller', False)])"
      ]
     },
     "execution_count": 11,
     "metadata": {},
     "output_type": "execute_result"
    }
   ],
   "source": []
  },
  {
   "cell_type": "markdown",
   "metadata": {
    "deletable": true,
    "editable": true
   },
   "source": [
    "# Prepare multiple configs\n",
    "gc[\"orientation_anisotropic\"] = False\n",
    "gc[\"length_distribution_mean\"] = 30.0"
   ]
  },
  {
   "cell_type": "code",
   "execution_count": null,
   "metadata": {
    "collapsed": true,
    "deletable": true,
    "editable": true
   },
   "outputs": [],
   "source": [
    "configs = []\n",
    "\n",
    "for i in range[]\n",
    "    tg = teigen.tgmain.Teigen()\n",
    "    config = tg.get_default_config()\n",
    "    gc = config[\"generators\"][\"Unconnected tubes\"]\n",
    "    gc[\"element_number\"] = 10\n",
    "    gc[\"orientation_anisotropic\"] = False\n",
    "    gc[\"length_distribution_mean\"] = 30.0\n",
    "    gc[\"length_distribution_standard_deviation\"] = 5.0\n",
    "\n"
   ]
  }
 ],
 "metadata": {
  "anaconda-cloud": {},
  "kernelspec": {
   "display_name": "Python 2",
   "language": "python",
   "name": "python2"
  },
  "language_info": {
   "codemirror_mode": {
    "name": "ipython",
    "version": 2
   },
   "file_extension": ".py",
   "mimetype": "text/x-python",
   "name": "python",
   "nbconvert_exporter": "python",
   "pygments_lexer": "ipython2",
   "version": "2.7.11"
  }
 },
 "nbformat": 4,
 "nbformat_minor": 2
}
