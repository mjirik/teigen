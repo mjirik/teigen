{
 "cells": [
  {
   "cell_type": "markdown",
   "metadata": {},
   "source": [
    "# Experiment runner\n",
    "\n",
    "\n",
    "For callibration run uncomment `compensation method 1 sphere` and `compensation method measurement 1 tube`"
   ]
  },
  {
   "cell_type": "code",
   "execution_count": null,
   "metadata": {
    "collapsed": false,
    "deletable": true,
    "editable": true
   },
   "outputs": [],
   "source": [
    "%pylab inline"
   ]
  },
  {
   "cell_type": "code",
   "execution_count": null,
   "metadata": {
    "collapsed": false,
    "deletable": true,
    "editable": true
   },
   "outputs": [],
   "source": [
    "import matplotlib.pyplot as plt\n",
    "import pandas as pd\n",
    "import numpy as np\n",
    "import os.path as op\n",
    "from pprint import pprint as pp\n",
    "import scipy.stats\n",
    "import seaborn as sns\n",
    "import sys\n",
    "pth = op.abspath(\"../\")\n",
    "print pth\n",
    "sys.path.insert(0, pth)\n",
    "import teigen\n",
    "import itertools\n",
    "reload(teigen)\n",
    "print teigen.__path__\n",
    "import teigen.tb_vtk\n",
    "reload (teigen.tb_vtk)"
   ]
  },
  {
   "cell_type": "code",
   "execution_count": null,
   "metadata": {
    "collapsed": true,
    "deletable": true,
    "editable": true
   },
   "outputs": [],
   "source": [
    "run_list = [\n",
    "    # \"compensation method 1 sphere\", # callibration \n",
    "    \"compensation method measurement 1 tube\",  # callibration\n",
    "    \n",
    "    ### --- evaluation ----\n",
    "    # \"compensation method\",\n",
    "    # \"compensation method 10 spheres\",\n",
    "    # \"compensation method 3 spheres various radius\",\n",
    "    # \"compensation method 1 tube\",  # looks good\n",
    "    # \"compensation method N tube\",  # looks good\n",
    "    # \"compensation method 1 tube various radius\", # fine\n",
    "    # \"compensation method 1 tube various length\",# ok\n",
    "    # \"compensation method 1 tube mix\", # works\n",
    "    # \"compensation method 1 cylinder\",\n",
    "    # \"resolution tube\"\n",
    "    # \"compensation method 5 tubes\", # looks good\n",
    "    # \"mix\"\n",
    "    # \"mix 2\"\n",
    "    # \"best test\", \n",
    "    # \"fixed resolution\"\n",
    "]"
   ]
  },
  {
   "cell_type": "code",
   "execution_count": null,
   "metadata": {
    "collapsed": false,
    "deletable": true,
    "editable": true
   },
   "outputs": [],
   "source": [
    "tg = teigen.tgmain.Teigen()\n",
    "config = tg.get_default_config()"
   ]
  },
  {
   "cell_type": "code",
   "execution_count": null,
   "metadata": {
    "collapsed": false,
    "deletable": true,
    "editable": true
   },
   "outputs": [],
   "source": [
    "# pp(config)\n",
    "config"
   ]
  },
  {
   "cell_type": "code",
   "execution_count": null,
   "metadata": {
    "collapsed": false,
    "deletable": true,
    "editable": true
   },
   "outputs": [],
   "source": [
    "np.arange(0, 10)"
   ]
  },
  {
   "cell_type": "markdown",
   "metadata": {
    "deletable": true,
    "editable": true
   },
   "source": [
    "# Prepare multiple configs\n"
   ]
  },
  {
   "cell_type": "code",
   "execution_count": null,
   "metadata": {
    "collapsed": false,
    "deletable": true,
    "editable": true
   },
   "outputs": [],
   "source": [
    "configs = []\n",
    "tg = teigen.tgmain.Teigen()"
   ]
  },
  {
   "cell_type": "code",
   "execution_count": null,
   "metadata": {
    "collapsed": true,
    "deletable": true,
    "editable": true
   },
   "outputs": [],
   "source": []
  },
  {
   "cell_type": "code",
   "execution_count": null,
   "metadata": {
    "collapsed": false,
    "deletable": true,
    "editable": true
   },
   "outputs": [],
   "source": [
    "run_label = \"tube length\"\n",
    "if run_label in run_list:\n",
    "    for length in [5, 6, 7, 8, 10, 12, 14, 16, 20, 24, 28, 32, 40, 48]:\n",
    "        for rnd in [101, 102, 103]:\n",
    "            config = tg.get_default_config()\n",
    "            config[\"generator_id\"] = 3\n",
    "            config[\"output\"][\"note\"] = run_label\n",
    "            gc = config[\"generators\"][\"Unconnected tubes\"]\n",
    "            gc[\"element_number\"] = 10\n",
    "            gc[\"orientation_anisotropic\"] = False\n",
    "            gc[\"length_distribution_mean\"] = length\n",
    "            gc[\"length_distribution_standard_deviation\"] = 0.0\n",
    "            gc[\"random_generator_seed\"] = rnd\n",
    "            config[\"postprocessing\"][\"measurement_resolution\"] = 20\n",
    "            config[\"appearance\"][\"skip_volume_generation\"] = True\n",
    "            configs.append(config)"
   ]
  },
  {
   "cell_type": "code",
   "execution_count": null,
   "metadata": {
    "collapsed": false,
    "deletable": true,
    "editable": true
   },
   "outputs": [],
   "source": [
    "run_label = \"tube length 2\"\n",
    "if run_label in run_list:\n",
    "    for length in [5, 10, 15, 20, 25, 30, 35, 40, 45]:\n",
    "        for rnd in [101, 102, 103]:\n",
    "            config = tg.get_default_config()\n",
    "            config[\"generator_id\"] = 3\n",
    "            config[\"output\"][\"note\"] = run_label\n",
    "            gc = config[\"generators\"][\"Unconnected tubes\"]\n",
    "            gc[\"element_number\"] = 10\n",
    "            gc[\"orientation_anisotropic\"] = False\n",
    "            gc[\"length_distribution_mean\"] = length\n",
    "            gc[\"length_distribution_standard_deviation\"] = 0.0\n",
    "            gc[\"random_generator_seed\"] = rnd\n",
    "            config[\"postprocessing\"][\"measurement_resolution\"] = 20\n",
    "            config[\"appearance\"][\"skip_volume_generation\"] = True\n",
    "            configs.append(config)"
   ]
  },
  {
   "cell_type": "markdown",
   "metadata": {
    "deletable": true,
    "editable": true
   },
   "source": [
    "# Vepsaná, opsaná, "
   ]
  },
  {
   "cell_type": "code",
   "execution_count": null,
   "metadata": {
    "collapsed": false,
    "deletable": true,
    "editable": true
   },
   "outputs": [],
   "source": [
    "run_label = \"compensation method\"\n",
    "if run_label in run_list:\n",
    "    for resolution in [6, 7, 8, 10, 12, 16, 20, 25, 30, 40, 50]:\n",
    "        for rnd in [101]:\n",
    "            for radius_method in [\"inscribed\", \"circumscribed\", \"cylinder surface\", \"cylinder volume\", \"average\"]:\n",
    "                config = tg.get_default_config()\n",
    "                config[\"generator_id\"] = 3\n",
    "                config[\"output\"][\"note\"] = run_label + \" \" + radius_method\n",
    "                gc = config[\"generators\"][\"Unconnected tubes\"]\n",
    "                gc[\"element_number\"] = 10\n",
    "                gc[\"orientation_anisotropic\"] = False\n",
    "                gc[\"uniform_radius_distribution\"] = False\n",
    "                gc[\"fixed_radius_distribution\"] = True\n",
    "                gc[\"radius_distribution_mean\"] = 20\n",
    "                gc[\"radius_distribution_standard_deviation\"] = 0.0\n",
    "                gc[\"radius_distribution_maximum\"] = 30.0\n",
    "                gc[\"radius_distribution_minimum\"] = 3.0\n",
    "                gc[\"length_distribution_mean\"] = 20\n",
    "                gc[\"length_distribution_standard_deviation\"] = 0.0\n",
    "                gc[\"random_generator_seed\"] = rnd\n",
    "                config[\"postprocessing\"][\"measurement_resolution\"] = resolution\n",
    "                config[\"appearance\"][\"skip_volume_generation\"] = True\n",
    "                config[\"measurement\"][\"polygon_radius_selection_method\"] = radius_method\n",
    "                configs.append(config)"
   ]
  },
  {
   "cell_type": "markdown",
   "metadata": {
    "deletable": true,
    "editable": true
   },
   "source": [
    "### 1 sphere"
   ]
  },
  {
   "cell_type": "code",
   "execution_count": null,
   "metadata": {
    "collapsed": false,
    "deletable": true,
    "editable": true
   },
   "outputs": [],
   "source": [
    "run_label = \"compensation method 1 sphere\"\n",
    "if run_label in run_list:\n",
    "    resolutions = [\n",
    "        5,\n",
    "        6,\n",
    "        7,\n",
    "        8, \n",
    "        10, \n",
    "        12, 14,\n",
    "        17,\n",
    "        19,\n",
    "        21, 23, 29, \n",
    "        31,\n",
    "        34, 36,\n",
    "        39,\n",
    "        42, 44,\n",
    "        46,\n",
    "        48,\n",
    "        50, 53, 58, 60,\n",
    "        63, 67,\n",
    "        70,\n",
    "        73, 78,\n",
    "        80, 84, 87, \n",
    "        90,\n",
    "        95\n",
    "        #100, 150\n",
    "    ]\n",
    "    radiuses = [20.]\n",
    "    rnds = [101, 102, 103, 104, 105]\n",
    "    radius_methods = [\n",
    "                \"inscribed\", \n",
    "                #\"circumscribed\", \n",
    "                \"cylinder surface\", \n",
    "                \"cylinder volume\", \n",
    "                #\"average\", \n",
    "                \"cylinder volume + sphere error\",\n",
    "                \"cylinder surface + sphere error\",\n",
    "        \n",
    "    ]\n",
    "    for resolution, radius, rnd, radius_method in itertools.product(\n",
    "        resolutions, radiuses, rnds, radius_methods):\n",
    "        \n",
    "    # for resolution in [6, 7, 8, 10, 12, 16, 18, 20, 22, 24, 26, 28, 30, 34, 38, 42, 46, 50]:\n",
    "    #for resolution in \n",
    "    #    for rnd in [101, 102]:\n",
    "    #        for radius_method in [\n",
    "    #        ]:\n",
    "    \n",
    "        print(\"{} {} {} {}\".format(resolution, radius, rnd, radius_method))\n",
    "        config = tg.get_default_config()\n",
    "        config[\"generator_id\"] = 3\n",
    "        config[\"output\"][\"note\"] = run_label + \" \" + radius_method\n",
    "        gc = config[\"generators\"][\"Unconnected tubes\"]\n",
    "        gc[\"element_number\"] = 1\n",
    "        gc[\"orientation_anisotropic\"] = False\n",
    "        gc[\"uniform_radius_distribution\"] = False\n",
    "        gc[\"fixed_radius_distribution\"] = True\n",
    "        gc[\"radius_distribution_mean\"] = radius\n",
    "        gc[\"radius_distribution_standard_deviation\"] = 0.0\n",
    "        gc[\"radius_distribution_maximum\"] = 30.0\n",
    "        gc[\"radius_distribution_minimum\"] = 3.0\n",
    "        gc[\"length_distribution_mean\"] = 0.0\n",
    "        gc[\"length_distribution_standard_deviation\"] = 0.0\n",
    "        gc[\"random_generator_seed\"] = rnd\n",
    "        config[\"postprocessing\"][\"measurement_resolution\"] = resolution\n",
    "        config[\"appearance\"][\"skip_volume_generation\"] = True\n",
    "        config[\"measurement\"][\"polygon_radius_selection_method\"] = radius_method\n",
    "        configs.append(config)"
   ]
  },
  {
   "cell_type": "markdown",
   "metadata": {
    "deletable": true,
    "editable": true
   },
   "source": [
    "### 10 spheres"
   ]
  },
  {
   "cell_type": "code",
   "execution_count": null,
   "metadata": {
    "collapsed": false,
    "deletable": true,
    "editable": true
   },
   "outputs": [],
   "source": [
    "run_label = \"compensation method 10 spheres\"\n",
    "if run_label in run_list:\n",
    "    for resolution in [6, 10, 17, 25, 35, 50]:\n",
    "        for rnd in [101]:\n",
    "            for radius_method in [\"inscribed\", \"circumscribed\", \"cylinder surface\", \"cylinder volume\", \"average\"]:\n",
    "                config = tg.get_default_config()\n",
    "                config[\"generator_id\"] = 3\n",
    "                config[\"output\"][\"note\"] = run_label + \" \" + radius_method\n",
    "                gc = config[\"generators\"][\"Unconnected tubes\"]\n",
    "                gc[\"element_number\"] = 10\n",
    "                gc[\"uniform_radius_distribution\"] = False\n",
    "                gc[\"fixed_radius_distribution\"] = True\n",
    "                gc[\"orientation_anisotropic\"] = False\n",
    "                gc[\"radius_distribution_mean\"] = 20\n",
    "                gc[\"radius_distribution_standard_deviation\"] = 0.0\n",
    "                gc[\"radius_distribution_maximum\"] = 30.0\n",
    "                gc[\"radius_distribution_minimum\"] = 3.0\n",
    "                gc[\"length_distribution_mean\"] = 0.0\n",
    "                gc[\"length_distribution_standard_deviation\"] = 0.0\n",
    "                gc[\"random_generator_seed\"] = rnd\n",
    "                config[\"postprocessing\"][\"measurement_resolution\"] = resolution\n",
    "                config[\"appearance\"][\"skip_volume_generation\"] = True\n",
    "                config[\"measurement\"][\"polygon_radius_selection_method\"] = radius_method\n",
    "                configs.append(config)"
   ]
  },
  {
   "cell_type": "markdown",
   "metadata": {
    "deletable": true,
    "editable": true
   },
   "source": [
    "### 3 spheres various radius"
   ]
  },
  {
   "cell_type": "code",
   "execution_count": null,
   "metadata": {
    "collapsed": false,
    "deletable": true,
    "editable": true
   },
   "outputs": [],
   "source": [
    "run_label = \"compensation method 3 spheres various radius\"\n",
    "import itertools\n",
    "if run_label in run_list:\n",
    "    resolutions = [25]\n",
    "    for resolution, radius, rnd, radius_method in itertools.product(\n",
    "        [25],\n",
    "        [6, 7, 8, 10, 12, 16, 20, 25, 30, 40, 50],\n",
    "        [102, 103],\n",
    "        [\"inscribed\", \"cylinder surface\", \"cylinder volume\", \"cylinder volume + sphere error\"]\n",
    "    ):\n",
    "    # for resolution in [25]:\n",
    "    #     for radius in [6, 7, 8, 10, 12, 16, 20, 25, 30, 40, 50]:\n",
    "    #         for rnd in [102, 103]:\n",
    "    #             for radius_method in [\"inscribed\", \"circumscribed\", \"cylinder surface\", \"cylinder volume\", \"average\"]:\n",
    "        config = tg.get_default_config()\n",
    "        config[\"generator_id\"] = 3\n",
    "        config[\"output\"][\"note\"] = run_label + \" \" + radius_method\n",
    "        gc = config[\"generators\"][\"Unconnected tubes\"]\n",
    "        gc[\"element_number\"] = 3\n",
    "        gc[\"uniform_radius_distribution\"] = False\n",
    "        gc[\"fixed_radius_distribution\"] = True\n",
    "        gc[\"orientation_anisotropic\"] = False\n",
    "        gc[\"radius_distribution_mean\"] = radius\n",
    "        gc[\"radius_distribution_standard_deviation\"] = 0.0\n",
    "        gc[\"radius_distribution_maximum\"] = 30.0\n",
    "        gc[\"radius_distribution_minimum\"] = 3.0\n",
    "        gc[\"length_distribution_mean\"] = 0.0\n",
    "        gc[\"length_distribution_standard_deviation\"] = 0.0\n",
    "        gc[\"random_generator_seed\"] = rnd\n",
    "        config[\"postprocessing\"][\"measurement_resolution\"] = resolution\n",
    "        config[\"appearance\"][\"skip_volume_generation\"] = True\n",
    "        config[\"measurement\"][\"polygon_radius_selection_method\"] = radius_method\n",
    "        configs.append(config)"
   ]
  },
  {
   "cell_type": "markdown",
   "metadata": {
    "deletable": true,
    "editable": true
   },
   "source": [
    "## 1 cylinder"
   ]
  },
  {
   "cell_type": "code",
   "execution_count": null,
   "metadata": {
    "collapsed": false,
    "deletable": true,
    "editable": true
   },
   "outputs": [],
   "source": [
    "run_label = \"compensation method 1 cylinder\"\n",
    "import itertools\n",
    "if run_label in run_list:\n",
    "    resolutions = [25]\n",
    "    for resolution, radius, rnd, radius_method in itertools.product(\n",
    "        [10, 15, 20, 25, 35, 50],\n",
    "        [10, 15],\n",
    "        [102, 103],\n",
    "        [\"inscribed\", \"cylinder volume\", \"cylinder surface\" , \n",
    "         \"cylinder volume + sphere error\", \"cylinder surface + sphere error\"]\n",
    "    ):\n",
    "    # for resolution in [25]:\n",
    "    #     for radius in [6, 7, 8, 10, 12, 16, 20, 25, 30, 40, 50]:\n",
    "    #         for rnd in [102, 103]:\n",
    "    #             for radius_method in [\"inscribed\", \"circumscribed\", \"cylinder surface\", \"cylinder volume\", \"average\"]:\n",
    "        config = tg.get_default_config()\n",
    "        config[\"generator_id\"] = 3\n",
    "        config[\"output\"][\"note\"] = run_label + \" \" + radius_method\n",
    "        gc = config[\"generators\"][\"Unconnected tubes\"]\n",
    "        gc[\"element_number\"] = 3\n",
    "        gc[\"uniform_radius_distribution\"] = False\n",
    "        gc[\"fixed_radius_distribution\"] = True\n",
    "        gc[\"orientation_anisotropic\"] = False\n",
    "        gc[\"radius_distribution_mean\"] = radius\n",
    "        gc[\"radius_distribution_standard_deviation\"] = 0.0\n",
    "        gc[\"radius_distribution_maximum\"] = 30.0\n",
    "        gc[\"radius_distribution_minimum\"] = 3.0\n",
    "        gc[\"length_distribution_mean\"] = 20.0\n",
    "        gc[\"length_distribution_standard_deviation\"] = 0.0\n",
    "        gc[\"random_generator_seed\"] = rnd\n",
    "        config[\"postprocessing\"][\"measurement_resolution\"] = resolution\n",
    "        config[\"appearance\"][\"skip_volume_generation\"] = True\n",
    "        config[\"measurement\"][\"polygon_radius_selection_method\"] = radius_method\n",
    "        config[\"measurement\"][\"tube_shape\"] = False\n",
    "        configs.append(config)"
   ]
  },
  {
   "cell_type": "markdown",
   "metadata": {
    "deletable": true,
    "editable": true
   },
   "source": [
    "## 1 tube - measurement"
   ]
  },
  {
   "cell_type": "code",
   "execution_count": null,
   "metadata": {
    "collapsed": false,
    "deletable": true,
    "editable": true
   },
   "outputs": [],
   "source": [
    "run_label = \"compensation method measurement 1 tube\"\n",
    "import itertools\n",
    "if run_label in run_list:\n",
    "    # resolutions = [6, 10, 16, 22, 26, 30, 38, 46, 50]\n",
    "    resolutions = [\n",
    "        5,  7, 9, 11, 13, \n",
    "        # 6,  8, 10, 12, 16, 20, # even numbers \n",
    "        15, 19, 23, \n",
    "        25, 27, 29, 33, 35, 37, 41, 43, 45, 51,\n",
    "        55, 57, 61, 65, 67, \n",
    "        69, 73, 77, 81, 85, 87, \n",
    "        91, 95\n",
    "    ]\n",
    "    radiuses = [20.]\n",
    "    rnds = [111, 112, 113, 114]\n",
    "    lengths = [30.]\n",
    "    radius_methods = [\n",
    "                \"inscribed\", \n",
    "                # \"cylinder volume + sphere compensation\",\n",
    "                \"cylinder surface + sphere error\",\n",
    "                \"cylinder surface + sphere error + join error\"\n",
    "        \n",
    "    ]\n",
    "    for resolution, radius, rnd, radius_method, length in itertools.product(\n",
    "        resolutions, radiuses, rnds, radius_methods, lengths):\n",
    "    # for resolution in [25]:\n",
    "    #     for radius in [6, 7, 8, 10, 12, 16, 20, 25, 30, 40, 50]:\n",
    "    #         for rnd in [102, 103]:\n",
    "    #             for radius_method in [\"inscribed\", \"circumscribed\", \"cylinder surface\", \"cylinder volume\", \"average\"]:\n",
    "    \n",
    "        config = tg.get_default_config()\n",
    "        config[\"generator_id\"] = 3\n",
    "        config[\"output\"][\"note\"] = run_label + \" \" + radius_method\n",
    "        gc = config[\"generators\"][\"Unconnected tubes\"]\n",
    "        gc[\"element_number\"] = 1\n",
    "        gc[\"uniform_radius_distribution\"] = False\n",
    "        gc[\"fixed_radius_distribution\"] = True\n",
    "        gc[\"orientation_anisotropic\"] = False\n",
    "        gc[\"radius_distribution_mean\"] = radius\n",
    "        gc[\"radius_distribution_standard_deviation\"] = 0.0\n",
    "        gc[\"radius_distribution_maximum\"] = 30.0\n",
    "        gc[\"radius_distribution_minimum\"] = 3.0\n",
    "        gc[\"length_distribution_mean\"] = length\n",
    "        gc[\"length_distribution_standard_deviation\"] = 0.0\n",
    "        gc[\"random_generator_seed\"] = rnd\n",
    "        config[\"postprocessing\"][\"measurement_resolution\"] = resolution\n",
    "        config[\"appearance\"][\"skip_volume_generation\"] = True\n",
    "        config[\"measurement\"][\"polygon_radius_selection_method\"] = radius_method\n",
    "        config[\"measurement\"][\"tube_shape\"] = True\n",
    "        configs.append(config)"
   ]
  },
  {
   "cell_type": "markdown",
   "metadata": {
    "deletable": true,
    "editable": true
   },
   "source": [
    "## 1 Tube evaluation"
   ]
  },
  {
   "cell_type": "code",
   "execution_count": null,
   "metadata": {
    "collapsed": false,
    "deletable": true,
    "editable": true
   },
   "outputs": [],
   "source": [
    "run_label = \"compensation method 1 tube\"\n",
    "import itertools\n",
    "if run_label in run_list:\n",
    "    # resolutions = [6, 10, 16, 22, 26, 30, 38, 46, 50]\n",
    "    resolutions = [\n",
    "        #21, 22, 25, 27, 33, 35, 37, \n",
    "        39, 41, 47, 51, 55, 59, 65]\n",
    "    radiuses = [20.]\n",
    "    rnds = [\n",
    "        # 111, # work fine\n",
    "        11, 12]\n",
    "    lengths = [25., 30., 35.]\n",
    "    radius_methods = [\n",
    "                # \"inscribed\", \n",
    "                #\"circumscribed\", \n",
    "                # \"cylinder surface\", \n",
    "                #\"cylinder volume\", \n",
    "                #\"average\", \n",
    "                \"cylinder volume + sphere error\",\n",
    "                \"cylinder surface + sphere error\",\n",
    "                \"cylinder surface + sphere error + join error\"\n",
    "        \n",
    "    ]\n",
    "    for resolution, radius, rnd, radius_method, length in itertools.product(\n",
    "        resolutions, radiuses, rnds, radius_methods, lengths):\n",
    "    # for resolution in [25]:\n",
    "    #     for radius in [6, 7, 8, 10, 12, 16, 20, 25, 30, 40, 50]:\n",
    "    #         for rnd in [102, 103]:\n",
    "    #             for radius_method in [\"inscribed\", \"circumscribed\", \"cylinder surface\", \"cylinder volume\", \"average\"]:\n",
    "    \n",
    "        config = tg.get_default_config()\n",
    "        config[\"generator_id\"] = 3\n",
    "        config[\"output\"][\"note\"] = run_label + \" \" + radius_method\n",
    "        gc = config[\"generators\"][\"Unconnected tubes\"]\n",
    "        gc[\"element_number\"] = 1\n",
    "        gc[\"uniform_radius_distribution\"] = False\n",
    "        gc[\"fixed_radius_distribution\"] = True\n",
    "        gc[\"orientation_anisotropic\"] = False\n",
    "        gc[\"radius_distribution_mean\"] = radius\n",
    "        gc[\"radius_distribution_standard_deviation\"] = 0.0\n",
    "        gc[\"radius_distribution_maximum\"] = 30.0\n",
    "        gc[\"radius_distribution_minimum\"] = 3.0\n",
    "        gc[\"length_distribution_mean\"] = length\n",
    "        gc[\"length_distribution_standard_deviation\"] = 0.0\n",
    "        gc[\"random_generator_seed\"] = rnd\n",
    "        config[\"postprocessing\"][\"measurement_resolution\"] = resolution\n",
    "        config[\"appearance\"][\"skip_volume_generation\"] = True\n",
    "        config[\"measurement\"][\"polygon_radius_selection_method\"] = radius_method\n",
    "        config[\"measurement\"][\"tube_shape\"] = True\n",
    "        configs.append(config)"
   ]
  },
  {
   "cell_type": "code",
   "execution_count": null,
   "metadata": {
    "collapsed": false,
    "deletable": true,
    "editable": true
   },
   "outputs": [],
   "source": [
    "run_label = \"compensation method N tube\"\n",
    "import itertools\n",
    "if run_label in run_list:\n",
    "    # resolutions = [6, 10, 16, 22, 26, 30, 38, 46, 50]\n",
    "    resolutions = [\n",
    "        #21, 22, 25, 27, 33, 35, 37, \n",
    "        39, 41, 45, 51, 55, 59, 65]\n",
    "    radiuses = [20.]\n",
    "    rnds = [\n",
    "        # 111, # work fine\n",
    "        11, 12]\n",
    "    element_numbers = [2, 5]\n",
    "    lengths = [10., 30., 50.]\n",
    "    radius_methods = [\n",
    "                # \"inscribed\", \n",
    "                #\"circumscribed\", \n",
    "                # \"cylinder surface\", \n",
    "                #\"cylinder volume\", \n",
    "                #\"average\", \n",
    "                \"cylinder volume + sphere error\",\n",
    "                \"cylinder surface + sphere error\",\n",
    "                \"cylinder surface + sphere error + join error\"\n",
    "        \n",
    "    ]\n",
    "    for resolution, radius, rnd, radius_method, length, element_number in itertools.product(\n",
    "        resolutions, radiuses, rnds, radius_methods, lengths, element_numbers):\n",
    "    # for resolution in [25]:\n",
    "    #     for radius in [6, 7, 8, 10, 12, 16, 20, 25, 30, 40, 50]:\n",
    "    #         for rnd in [102, 103]:\n",
    "    #             for radius_method in [\"inscribed\", \"circumscribed\", \"cylinder surface\", \"cylinder volume\", \"average\"]:\n",
    "    \n",
    "        config = tg.get_default_config()\n",
    "        config[\"generator_id\"] = 3\n",
    "        config[\"output\"][\"note\"] = run_label + \" \" + radius_method\n",
    "        gc = config[\"generators\"][\"Unconnected tubes\"]\n",
    "        gc[\"element_number\"] = element_number\n",
    "        gc[\"uniform_radius_distribution\"] = False\n",
    "        gc[\"fixed_radius_distribution\"] = True\n",
    "        gc[\"orientation_anisotropic\"] = False\n",
    "        gc[\"radius_distribution_mean\"] = radius\n",
    "        gc[\"radius_distribution_standard_deviation\"] = 0.0\n",
    "        gc[\"radius_distribution_maximum\"] = 40.0\n",
    "        gc[\"radius_distribution_minimum\"] = 3.0\n",
    "        gc[\"length_distribution_mean\"] = length\n",
    "        gc[\"length_distribution_standard_deviation\"] = 0.0\n",
    "        gc[\"random_generator_seed\"] = rnd\n",
    "        config[\"postprocessing\"][\"measurement_resolution\"] = resolution\n",
    "        config[\"appearance\"][\"skip_volume_generation\"] = True\n",
    "        config[\"measurement\"][\"polygon_radius_selection_method\"] = radius_method\n",
    "        config[\"measurement\"][\"tube_shape\"] = True\n",
    "        configs.append(config)"
   ]
  },
  {
   "cell_type": "code",
   "execution_count": null,
   "metadata": {
    "collapsed": false,
    "deletable": true,
    "editable": true
   },
   "outputs": [],
   "source": [
    "run_label = \"compensation method 1 tube problem\"\n",
    "if run_label in run_list:\n",
    "    for resolution in [6, 7, 8, 10, 12, 16, 20, 25, 30, 35, 40, 45, 50]:\n",
    "        for rnd in [101]:\n",
    "            for radius_method in [\n",
    "                #\"cylinder surface\", \n",
    "                #\"cylinder volume\", \n",
    "                \"cylinder volume + sphere error\"\n",
    "            ]:\n",
    "                config = tg.get_default_config()\n",
    "                config[\"generator_id\"] = 3\n",
    "                config[\"output\"][\"note\"] = run_label + \" \" + radius_method\n",
    "                gc = config[\"generators\"][\"Unconnected tubes\"]\n",
    "                gc[\"element_number\"] = 1\n",
    "                gc[\"uniform_radius_distribution\"] = False\n",
    "                gc[\"fixed_radius_distribution\"] = True\n",
    "                gc[\"orientation_anisotropic\"] = False\n",
    "                gc[\"radius_distribution_mean\"] = 20\n",
    "                gc[\"radius_distribution_standard_deviation\"] = 0.0\n",
    "                gc[\"radius_distribution_maximum\"] = 30.0\n",
    "                gc[\"radius_distribution_minimum\"] = 3.0\n",
    "                gc[\"length_distribution_mean\"] = 20.0\n",
    "                gc[\"length_distribution_standard_deviation\"] = 0.0\n",
    "                gc[\"random_generator_seed\"] = rnd\n",
    "                config[\"postprocessing\"][\"measurement_resolution\"] = resolution\n",
    "                config[\"appearance\"][\"skip_volume_generation\"] = True\n",
    "                config[\"measurement\"][\"polygon_radius_selection_method\"] = radius_method\n",
    "                configs.append(config)"
   ]
  },
  {
   "cell_type": "markdown",
   "metadata": {
    "deletable": true,
    "editable": true
   },
   "source": [
    "## 1 tube various radius"
   ]
  },
  {
   "cell_type": "code",
   "execution_count": null,
   "metadata": {
    "collapsed": false,
    "deletable": true,
    "editable": true
   },
   "outputs": [],
   "source": [
    "run_label = \"compensation method 1 tube various radius\"\n",
    "if run_label in run_list:\n",
    "    # for resolution in [6, 7, 8, 10, 12, 16, 20, 25, 30, 40, 50]:\n",
    "    for resolution in [25]:\n",
    "        for radius in [6, 7, 8, 10, 12, 16, 20, 25, 30, 40, 50]:\n",
    "            for rnd in [101, 102]:\n",
    "                for radius_method in [\n",
    "                    \"inscribed\",\n",
    "                    \"cylinder surface\", \n",
    "                    \"cylinder volume\", \n",
    "                    \"cylinder volume + sphere error\"\n",
    "                ]:\n",
    "                    config = tg.get_default_config()\n",
    "                    config[\"generator_id\"] = 3\n",
    "                    config[\"output\"][\"note\"] = run_label + \" \" + radius_method\n",
    "                    gc = config[\"generators\"][\"Unconnected tubes\"]\n",
    "                    gc[\"element_number\"] = 1\n",
    "                    gc[\"uniform_radius_distribution\"] = False\n",
    "                    gc[\"fixed_radius_distribution\"] = True\n",
    "                    gc[\"orientation_anisotropic\"] = False\n",
    "                    gc[\"radius_distribution_mean\"] = radius\n",
    "                    gc[\"radius_distribution_standard_deviation\"] = 0.0\n",
    "                    gc[\"radius_distribution_maximum\"] = 60.0\n",
    "                    gc[\"radius_distribution_minimum\"] = 3.0\n",
    "                    gc[\"length_distribution_mean\"] = 20.0\n",
    "                    gc[\"length_distribution_standard_deviation\"] = 0.0\n",
    "                    gc[\"random_generator_seed\"] = rnd\n",
    "                    config[\"postprocessing\"][\"measurement_resolution\"] = resolution\n",
    "                    config[\"appearance\"][\"skip_volume_generation\"] = True\n",
    "                    config[\"measurement\"][\"polygon_radius_selection_method\"] = radius_method\n",
    "                    configs.append(config)"
   ]
  },
  {
   "cell_type": "markdown",
   "metadata": {
    "deletable": true,
    "editable": true
   },
   "source": [
    "## 1 tube various length"
   ]
  },
  {
   "cell_type": "code",
   "execution_count": null,
   "metadata": {
    "collapsed": false,
    "deletable": true,
    "editable": true
   },
   "outputs": [],
   "source": [
    "run_label = \"compensation method 1 tube various length\"\n",
    "if run_label in run_list:\n",
    "    # for resolution in [6, 7, 8, 10, 12, 16, 20, 25, 30, 40, 50]:\n",
    "    for resolution in [25]:\n",
    "        for length in [20, 30, 40, 45, 50, 55, 60]:\n",
    "            for rnd in [101, 102]:\n",
    "                for radius_method in [\n",
    "                    #\"cylinder surface\", \"cylinder volume\", \n",
    "                    #\"cylinder volume + sphere error\",\n",
    "                    \"best\"\n",
    "                ]:\n",
    "                    config = tg.get_default_config()\n",
    "                    config[\"generator_id\"] = 3\n",
    "                    config[\"output\"][\"note\"] = run_label + \" \" + radius_method\n",
    "                    gc = config[\"generators\"][\"Unconnected tubes\"]\n",
    "                    gc[\"element_number\"] = 1\n",
    "                    gc[\"uniform_radius_distribution\"] = False\n",
    "                    gc[\"fixed_radius_distribution\"] = True\n",
    "                    gc[\"orientation_anisotropic\"] = False\n",
    "                    gc[\"radius_distribution_mean\"] = 10.0\n",
    "                    gc[\"radius_distribution_standard_deviation\"] = 0.0\n",
    "                    gc[\"radius_distribution_maximum\"] = 60.0\n",
    "                    gc[\"radius_distribution_minimum\"] = 3.0\n",
    "                    gc[\"length_distribution_mean\"] = length\n",
    "                    gc[\"length_distribution_standard_deviation\"] = 0.0\n",
    "                    gc[\"random_generator_seed\"] = rnd\n",
    "                    config[\"postprocessing\"][\"measurement_resolution\"] = resolution\n",
    "                    config[\"appearance\"][\"skip_volume_generation\"] = True\n",
    "                    config[\"measurement\"][\"polygon_radius_selection_method\"] = radius_method\n",
    "                    configs.append(config)"
   ]
  },
  {
   "cell_type": "code",
   "execution_count": null,
   "metadata": {
    "collapsed": true,
    "deletable": true,
    "editable": true
   },
   "outputs": [],
   "source": [
    "# 1 tube mix"
   ]
  },
  {
   "cell_type": "code",
   "execution_count": null,
   "metadata": {
    "collapsed": false,
    "deletable": true,
    "editable": true
   },
   "outputs": [],
   "source": [
    "run_label = \"compensation method 1 tube mix\"\n",
    "import itertools\n",
    "if run_label in run_list:\n",
    "    resolutions = [25]\n",
    "    for resolution, radius, length, rnd, radius_method in itertools.product(\n",
    "        [25, 35],\n",
    "        [10, 15],\n",
    "        [30, 40, 50],\n",
    "        [102, 103, 104, 105],\n",
    "        [\n",
    "            #\"inscribed\", \"cylinder volume\", \"cylinder surface\" , \n",
    "         \"cylinder volume + sphere error\", \"cylinder surface + sphere error\", \"best\"]\n",
    "    ):\n",
    "    # for resolution in [25]:\n",
    "    #     for radius in [6, 7, 8, 10, 12, 16, 20, 25, 30, 40, 50]:\n",
    "    #         for rnd in [102, 103]:\n",
    "    #             for radius_method in [\"inscribed\", \"circumscribed\", \"cylinder surface\", \"cylinder volume\", \"average\"]:\n",
    "        config = tg.get_default_config()\n",
    "        config[\"generator_id\"] = 3\n",
    "        config[\"output\"][\"note\"] = run_label + \" \" + radius_method\n",
    "        gc = config[\"generators\"][\"Unconnected tubes\"]\n",
    "        gc[\"element_number\"] = 1\n",
    "        gc[\"uniform_radius_distribution\"] = False\n",
    "        gc[\"fixed_radius_distribution\"] = True\n",
    "        gc[\"orientation_anisotropic\"] = False\n",
    "        gc[\"radius_distribution_mean\"] = radius\n",
    "        gc[\"radius_distribution_standard_deviation\"] = 0.0\n",
    "        gc[\"radius_distribution_maximum\"] = 30.0\n",
    "        gc[\"radius_distribution_minimum\"] = 3.0\n",
    "        gc[\"length_distribution_mean\"] = length\n",
    "        gc[\"length_distribution_standard_deviation\"] = 1.0\n",
    "        gc[\"random_generator_seed\"] = rnd\n",
    "        config[\"postprocessing\"][\"measurement_resolution\"] = resolution\n",
    "        config[\"appearance\"][\"skip_volume_generation\"] = True\n",
    "        config[\"measurement\"][\"polygon_radius_selection_method\"] = radius_method\n",
    "        config[\"measurement\"][\"tube_shape\"] = True\n",
    "        configs.append(config)"
   ]
  },
  {
   "cell_type": "markdown",
   "metadata": {
    "deletable": true,
    "editable": true
   },
   "source": [
    "# Všehochuť"
   ]
  },
  {
   "cell_type": "markdown",
   "metadata": {
    "deletable": true,
    "editable": true
   },
   "source": [
    "## 5 tubes"
   ]
  },
  {
   "cell_type": "code",
   "execution_count": null,
   "metadata": {
    "collapsed": false,
    "deletable": true,
    "editable": true
   },
   "outputs": [],
   "source": [
    "run_label = \"compensation method 5 tubes\"\n",
    "if run_label in run_list:\n",
    "    resolutions = [\n",
    "        # 26, 31, 33, 39, \n",
    "        41, 45, 59]\n",
    "    radiuses = [20., 30.]\n",
    "    rnds = [110]\n",
    "    lengths = [10, 30, 50]\n",
    "    radius_methods = [\n",
    "                # \"inscribed\", \n",
    "                #\"circumscribed\", \n",
    "                #\"cylinder surface\", \n",
    "                #\"cylinder volume\", \n",
    "                #\"average\", \n",
    "                \"cylinder volume + sphere error\",\n",
    "                \"cylinder surface + sphere error\",\n",
    "                \"cylinder surface + sphere error + join error\"\n",
    "        \n",
    "    ]\n",
    "    for resolution, radius, rnd, radius_method, length in itertools.product(\n",
    "        resolutions, radiuses, rnds, radius_methods, lengths):\n",
    "                config = tg.get_default_config()\n",
    "                config[\"generator_id\"] = 3\n",
    "                config[\"output\"][\"note\"] = run_label + \" \" + radius_method\n",
    "                gc = config[\"generators\"][\"Unconnected tubes\"]\n",
    "                gc[\"element_number\"] = 5\n",
    "                gc[\"uniform_radius_distribution\"] = True\n",
    "                gc[\"fixed_radius_distribution\"] = False\n",
    "                gc[\"orientation_anisotropic\"] = False\n",
    "                gc[\"radius_distribution_mean\"] = radius\n",
    "                gc[\"radius_distribution_standard_deviation\"] = 2.0\n",
    "                gc[\"radius_distribution_maximum\"] = 40.0\n",
    "                gc[\"radius_distribution_minimum\"] = 3.0\n",
    "                gc[\"length_distribution_mean\"] = length\n",
    "                gc[\"length_distribution_standard_deviation\"] = 2.0\n",
    "                gc[\"random_generator_seed\"] = rnd\n",
    "                config[\"postprocessing\"][\"measurement_resolution\"] = resolution\n",
    "                config[\"appearance\"][\"skip_volume_generation\"] = True\n",
    "                config[\"measurement\"][\"polygon_radius_selection_method\"] = radius_method\n",
    "                configs.append(config)"
   ]
  },
  {
   "cell_type": "code",
   "execution_count": null,
   "metadata": {
    "collapsed": false,
    "deletable": true,
    "editable": true
   },
   "outputs": [],
   "source": [
    "# run_label = \"resolution shape\"\n",
    "# if run_label in run_list:\n",
    "#     for resolution in [5, 6, 7, 8, 10, 12, 14, 16, 20, 24, 28, 32, 40, 48]:\n",
    "#         for rnd in [101, 102, 103, 104, 105]:\n",
    "#             config = tg.get_default_config()\n",
    "#             config[\"generator_id\"] = 3\n",
    "#             config[\"output\"][\"note\"] = run_label\n",
    "#             gc = config[\"generators\"][\"Unconnected tubes\"]\n",
    "#             gc[\"element_number\"] = 10\n",
    "#             gc[\"orientation_anisotropic\"] = False\n",
    "#             gc[\"length_distribution_mean\"] = 0.0\n",
    "#             gc[\"length_distribution_standard_deviation\"] = 0.0\n",
    "#             gc[\"random_generator_seed\"] = rnd\n",
    "#             config[\"postprocessing\"][\"measurement_resolution\"] = resolution\n",
    "#             config[\"appearance\"][\"skip_volume_generation\"] = True\n",
    "#             configs.append(config)\n",
    "\n",
    "run_label = \"resolution tube\"\n",
    "if run_label in run_list:\n",
    "    for resolution in [6, 7, 9, 11, 13, 15, 19, 23, 28, 33, 39, 50]:\n",
    "        for rnd in [102, 103]:\n",
    "            config = tg.get_default_config()\n",
    "            config[\"generator_id\"] = 3\n",
    "            config[\"output\"][\"note\"] = run_label\n",
    "            gc = config[\"generators\"][\"Unconnected tubes\"]\n",
    "            gc[\"element_number\"] = 10\n",
    "            gc[\"orientation_anisotropic\"] = False\n",
    "            gc[\"length_distribution_mean\"] = 40.0\n",
    "            gc[\"length_distribution_standard_deviation\"] = 2.0\n",
    "            gc[\"random_generator_seed\"] = rnd\n",
    "            config[\"postprocessing\"][\"measurement_resolution\"] = resolution\n",
    "            config[\"appearance\"][\"skip_volume_generation\"] = True\n",
    "            config[\"measurement\"][\"polygon_radius_selection_method\"] = \"cylinder volume + sphere error\"\n",
    "            configs.append(config)\n"
   ]
  },
  {
   "cell_type": "code",
   "execution_count": null,
   "metadata": {
    "collapsed": false,
    "deletable": true,
    "editable": true
   },
   "outputs": [],
   "source": [
    "run_label = \"mix\"\n",
    "if run_label in run_list:\n",
    "    # if run_label in run_list:\n",
    "    # for resolution in [25, 30, 35]:\n",
    "    #    for rnd in [106, 107, 108, 109, 110]:\n",
    "    #        for radius_method in [\"best\"]:\n",
    "    resolutions = [\n",
    "        # 26, 31, 33, 39, \n",
    "        # 41, 45, 59, \n",
    "        # 47, \n",
    "        45, 53, 57]\n",
    "    element_numbers = [10, 15]\n",
    "    radiuses = [15., 20.]\n",
    "    rnds = [#110,\n",
    "            112]\n",
    "    lengths = [28, 30, 32]\n",
    "    radius_methods = [\n",
    "                #\"cylinder surface + sphere error\",\n",
    "                \"cylinder volume + sphere error\",\n",
    "                # \"cylinder volume + sphere error + man\", # fine\n",
    "                # \"cylinder surface + sphere error + join error\", # fine\n",
    "                # \"cylinder surface + sphere error + join error man\" # fine\n",
    "        \n",
    "    ]\n",
    "    for resolution, radius, rnd, radius_method, length, element_number in itertools.product(\n",
    "        resolutions, radiuses, rnds, radius_methods, lengths, element_numbers):\n",
    "                config = tg.get_default_config()\n",
    "                config[\"generator_id\"] = 3\n",
    "                config[\"output\"][\"note\"] = run_label + \" \" + radius_method\n",
    "                gc = config[\"generators\"][\"Unconnected tubes\"]\n",
    "                gc[\"element_number\"] = element_number\n",
    "                gc[\"uniform_radius_distribution\"] = True\n",
    "                gc[\"fixed_radius_distribution\"] = False\n",
    "                gc[\"orientation_anisotropic\"] = False\n",
    "                gc[\"radius_distribution_mean\"] = radius\n",
    "                gc[\"radius_distribution_standard_deviation\"] = 0.0\n",
    "                gc[\"radius_distribution_maximum\"] = 30.0\n",
    "                gc[\"radius_distribution_minimum\"] = 3.0\n",
    "                gc[\"length_distribution_mean\"] = length\n",
    "                gc[\"length_distribution_standard_deviation\"] = 10.0\n",
    "                gc[\"random_generator_seed\"] = rnd\n",
    "                config[\"postprocessing\"][\"measurement_resolution\"] = resolution\n",
    "                config[\"appearance\"][\"skip_volume_generation\"] = True\n",
    "                config[\"measurement\"][\"polygon_radius_selection_method\"] = radius_method\n",
    "                configs.append(config)"
   ]
  },
  {
   "cell_type": "code",
   "execution_count": null,
   "metadata": {
    "collapsed": false,
    "deletable": true,
    "editable": true
   },
   "outputs": [],
   "source": [
    "run_label = \"mix 2\"\n",
    "if run_label in run_list:\n",
    "    # if run_label in run_list:\n",
    "    # for resolution in [25, 30, 35]:\n",
    "    #    for rnd in [106, 107, 108, 109, 110]:\n",
    "    #        for radius_method in [\"best\"]:\n",
    "    resolutions = [\n",
    "        # 26, 31, 33, 39, \n",
    "        # 41, 45, 59, \n",
    "        # 47,\n",
    "        \n",
    "        45,\n",
    "        51,\n",
    "        #53, \n",
    "        57]\n",
    "    element_numbers = [10]\n",
    "    radiuses = [15., 20.]\n",
    "    rnds = [110,\n",
    "            \n",
    "            112,\n",
    "            113,\n",
    "           ]\n",
    "    lengths = [28, 30, 32]\n",
    "    radius_methods = [\n",
    "                #\"cylinder surface + sphere error\",\n",
    "                # \"cylinder volume + sphere error\",\n",
    "                # \"cylinder volume + sphere error + man\", # fine\n",
    "                \"cylinder surface + sphere error + join error\", # fine\n",
    "                # \"cylinder surface + sphere error + join error man\" # fine\n",
    "        \n",
    "    ]\n",
    "    for resolution, radius, rnd, radius_method, length, element_number in itertools.product(\n",
    "        resolutions, radiuses, rnds, radius_methods, lengths, element_numbers):\n",
    "                config = tg.get_default_config()\n",
    "                config[\"generator_id\"] = 3\n",
    "                config[\"output\"][\"note\"] = run_label + \" \" + radius_method\n",
    "                gc = config[\"generators\"][\"Unconnected tubes\"]\n",
    "                gc[\"element_number\"] = element_number\n",
    "                gc[\"uniform_radius_distribution\"] = True\n",
    "                gc[\"fixed_radius_distribution\"] = False\n",
    "                gc[\"orientation_anisotropic\"] = False\n",
    "                gc[\"radius_distribution_mean\"] = radius\n",
    "                gc[\"radius_distribution_standard_deviation\"] = 0.0\n",
    "                gc[\"radius_distribution_maximum\"] = 30.0\n",
    "                gc[\"radius_distribution_minimum\"] = 3.0\n",
    "                gc[\"length_distribution_mean\"] = length\n",
    "                gc[\"length_distribution_standard_deviation\"] = 10.0\n",
    "                gc[\"random_generator_seed\"] = rnd\n",
    "                config[\"postprocessing\"][\"measurement_resolution\"] = resolution\n",
    "                config[\"appearance\"][\"skip_volume_generation\"] = True\n",
    "                config[\"measurement\"][\"polygon_radius_selection_method\"] = radius_method\n",
    "                configs.append(config)"
   ]
  },
  {
   "cell_type": "markdown",
   "metadata": {
    "deletable": true,
    "editable": true
   },
   "source": [
    "## Best"
   ]
  },
  {
   "cell_type": "code",
   "execution_count": null,
   "metadata": {
    "collapsed": false,
    "deletable": true,
    "editable": true
   },
   "outputs": [],
   "source": [
    "run_label = \"best test\"\n",
    "if run_label in run_list:\n",
    "    for resolution in [25, 30, 35]:\n",
    "        for rnd in [106, 107, 108, 109, 110]:\n",
    "            for radius_method in [\"best\"]:\n",
    "                config = tg.get_default_config()\n",
    "                config[\"generator_id\"] = 3\n",
    "                config[\"output\"][\"note\"] = run_label + \" \" + radius_method\n",
    "                gc = config[\"generators\"][\"Unconnected tubes\"]\n",
    "                gc[\"element_number\"] = 1\n",
    "                gc[\"uniform_radius_distribution\"] = True\n",
    "                gc[\"fixed_radius_distribution\"] = False\n",
    "                gc[\"orientation_anisotropic\"] = False\n",
    "                gc[\"radius_distribution_mean\"] = 10\n",
    "                gc[\"radius_distribution_standard_deviation\"] = 2.0\n",
    "                gc[\"radius_distribution_maximum\"] = 30.0\n",
    "                gc[\"radius_distribution_minimum\"] = 3.0\n",
    "                gc[\"length_distribution_mean\"] = 30.0\n",
    "                gc[\"length_distribution_standard_deviation\"] = 10.0\n",
    "                gc[\"random_generator_seed\"] = rnd\n",
    "                config[\"postprocessing\"][\"measurement_resolution\"] = resolution\n",
    "                config[\"appearance\"][\"skip_volume_generation\"] = True\n",
    "                config[\"measurement\"][\"polygon_radius_selection_method\"] = radius_method\n",
    "                configs.append(config)"
   ]
  },
  {
   "cell_type": "code",
   "execution_count": null,
   "metadata": {
    "collapsed": false,
    "deletable": true,
    "editable": true
   },
   "outputs": [],
   "source": [
    "run_label = \"fixed resolution\"\n",
    "if run_label in run_list:\n",
    "    for resolution in [25]:\n",
    "        for rnd in [106, 107, 108, 109, 110, 111, 112, 115, 116, 117, 118, 119]:\n",
    "            for radius_method in [\n",
    "                # \"inscribed\", \n",
    "                # \"average\",\n",
    "                #\"cylinder volume + sphere error\", \n",
    "                #\"cylinder surface + sphere error\", \n",
    "                \"best\", \n",
    "            ]:\n",
    "                config = tg.get_default_config()\n",
    "                config[\"generator_id\"] = 3\n",
    "                config[\"output\"][\"note\"] = run_label + \" \" + radius_method\n",
    "                gc = config[\"generators\"][\"Unconnected tubes\"]\n",
    "                gc[\"element_number\"] = 5\n",
    "                gc[\"uniform_radius_distribution\"] = True\n",
    "                gc[\"fixed_radius_distribution\"] = False\n",
    "                gc[\"orientation_anisotropic\"] = False\n",
    "                gc[\"radius_distribution_mean\"] = 10\n",
    "                gc[\"radius_distribution_standard_deviation\"] = 2.0\n",
    "                gc[\"radius_distribution_maximum\"] = 30.0\n",
    "                gc[\"radius_distribution_minimum\"] = 3.0\n",
    "                gc[\"length_distribution_mean\"] = 30.0\n",
    "                gc[\"length_distribution_standard_deviation\"] = 2.0\n",
    "                gc[\"random_generator_seed\"] = rnd\n",
    "                config[\"postprocessing\"][\"measurement_resolution\"] = resolution\n",
    "                config[\"appearance\"][\"skip_volume_generation\"] = True\n",
    "                config[\"measurement\"][\"polygon_radius_selection_method\"] = radius_method\n",
    "                configs.append(config)"
   ]
  },
  {
   "cell_type": "markdown",
   "metadata": {
    "deletable": true,
    "editable": true
   },
   "source": [
    "# Run multiple configs"
   ]
  },
  {
   "cell_type": "code",
   "execution_count": null,
   "metadata": {
    "collapsed": false,
    "deletable": true,
    "editable": true
   },
   "outputs": [],
   "source": [
    "#import psutil\n",
    "\n",
    "#def print_number_of_opened_files():\n",
    "#    for proc in psutil.process_iter():\n",
    "#        print proc.open_files()"
   ]
  },
  {
   "cell_type": "code",
   "execution_count": null,
   "metadata": {
    "collapsed": false,
    "deletable": true,
    "editable": true
   },
   "outputs": [],
   "source": [
    "def append_dataframe_to_csv(df, filename):\n",
    "    import pandas as pd \n",
    "    filename = op.expanduser(filename)\n",
    "    if op.exists(filename):\n",
    "        dfin = pd.read_csv(filename)\n",
    "        df = pd.concat([dfin, df])\n",
    "    df.to_csv(filename, index=False)\n",
    "\n",
    "def remove_rows_from_csv(filename, n=1):\n",
    "    filename = op.expanduser(filename)\n",
    "    if op.exists(filename):\n",
    "        dfin = pd.read_csv(filename)\n",
    "        df = dfin[:-n]\n",
    "        df.to_csv(filename, index=False)\n",
    "    \n",
    "    \n",
    "    "
   ]
  },
  {
   "cell_type": "code",
   "execution_count": null,
   "metadata": {
    "collapsed": false,
    "deletable": true,
    "editable": true
   },
   "outputs": [],
   "source": [
    "teigen_ok_fail_list = \"~/teigen_ok_fail_list.csv\"\n",
    "tg = teigen.tgmain.Teigen()\n",
    "for i, config in enumerate(configs):\n",
    "    # old failing\n",
    "    # tg = teigen.tgmain.Teigen()\n",
    "    # config = tg.get_default_config()\n",
    "    tg.use_default_config()\n",
    "    tg.update_config(**config)\n",
    "    gc = config[\"generators\"][\"Unconnected tubes\"]\n",
    "    print (str(i) + \" / \" + str(len(configs)))  \n",
    "    print (config[\"output\"][\"note\"])\n",
    "    print(\"{} {} {} {}\".format(\n",
    "        gc[\"random_generator_seed\"], \n",
    "        gc[\"radius_distribution_mean\"],\n",
    "        gc[\"length_distribution_mean\"],\n",
    "        config[\"postprocessing\"][\"measurement_resolution\"]\n",
    "    ))\n",
    "    rowcfg = tg.config_to_row_dataframe()\n",
    "    append_dataframe_to_csv(rowcfg, teigen_ok_fail_list)\n",
    "    tg.step1()\n",
    "    print(\"run finished\")\n",
    "    tg.step2()\n",
    "    remove_rows_from_csv(teigen_ok_fail_list)\n",
    "    print(\"step2 finished\")\n",
    "    # del(tg)\n",
    "    "
   ]
  }
 ],
 "metadata": {
  "anaconda-cloud": {},
  "kernelspec": {
   "display_name": "Python 2",
   "language": "python",
   "name": "python2"
  },
  "language_info": {
   "codemirror_mode": {
    "name": "ipython",
    "version": 2
   },
   "file_extension": ".py",
   "mimetype": "text/x-python",
   "name": "python",
   "nbconvert_exporter": "python",
   "pygments_lexer": "ipython2",
   "version": "2.7.11"
  }
 },
 "nbformat": 4,
 "nbformat_minor": 2
}
