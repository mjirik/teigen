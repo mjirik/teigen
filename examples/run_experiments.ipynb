{
 "cells": [
  {
   "cell_type": "code",
   "execution_count": 1,
   "metadata": {
    "collapsed": false,
    "deletable": true,
    "editable": true
   },
   "outputs": [
    {
     "name": "stdout",
     "output_type": "stream",
     "text": [
      "Populating the interactive namespace from numpy and matplotlib\n"
     ]
    }
   ],
   "source": [
    "%pylab inline"
   ]
  },
  {
   "cell_type": "code",
   "execution_count": 2,
   "metadata": {
    "collapsed": false,
    "deletable": true,
    "editable": true
   },
   "outputs": [
    {
     "name": "stdout",
     "output_type": "stream",
     "text": [
      "/Users/mjirik/projects/teigen\n",
      "Using QVariant and QString version 1\n",
      "['/Users/mjirik/projects/teigen/teigen']\n"
     ]
    }
   ],
   "source": [
    "import matplotlib.pyplot as plt\n",
    "import pandas as pd\n",
    "import numpy as np\n",
    "import os.path as op\n",
    "from pprint import pprint as pp\n",
    "import scipy.stats\n",
    "import seaborn as sns\n",
    "import sys\n",
    "pth = op.abspath(\"../\")\n",
    "print pth\n",
    "sys.path.insert(0, pth)\n",
    "import teigen\n",
    "reload(teigen)\n",
    "print teigen.__path__"
   ]
  },
  {
   "cell_type": "code",
   "execution_count": 3,
   "metadata": {
    "collapsed": true,
    "deletable": true,
    "editable": true
   },
   "outputs": [],
   "source": [
    "run_list = [\n",
    "    # \"compensation method\",\n",
    "    # \"compensation method 1 sphere\",\n",
    "    # \"compensation method 10 spheres\",\n",
    "    # \"compensation method 3 spheres various radius\",\n",
    "    # \"compensation method 1 tube\",\n",
    "    # \"compensation method 1 tube various radius\",\n",
    "    # \"compensation method 1 tube various length\",\n",
    "    #\"compensation method 1 tube mix\",\n",
    "    # \"compensation method 1 cylinder\",\n",
    "    # \"resolution tube\"\n",
    "    # \"compensation method 5 tubes\",\n",
    "    \"best test\", \n",
    "    # \"fixed resolution\"\n",
    "]"
   ]
  },
  {
   "cell_type": "code",
   "execution_count": 4,
   "metadata": {
    "collapsed": false,
    "deletable": true,
    "editable": true
   },
   "outputs": [],
   "source": [
    "tg = teigen.tgmain.Teigen()\n",
    "config = tg.get_default_config()"
   ]
  },
  {
   "cell_type": "code",
   "execution_count": 5,
   "metadata": {
    "collapsed": false,
    "deletable": true,
    "editable": true
   },
   "outputs": [
    {
     "data": {
      "text/plain": [
       "OrderedDict([('generators',\n",
       "              OrderedDict([('Voronoi tubes',\n",
       "                            OrderedDict([('element_number', 30),\n",
       "                                         ('uniform_radius_distribution', True),\n",
       "                                         ('normal_radius_distribution', False),\n",
       "                                         ('fixed_radius_distribution', False),\n",
       "                                         ('radius_distribution_minimum', 2.0),\n",
       "                                         ('radius_distribution_maximum', 10.0),\n",
       "                                         ('radius_distribution_mean', 5.0),\n",
       "                                         ('radius_distribution_standard_deviation',\n",
       "                                          5.0),\n",
       "                                         ('random_generator_seed', 0)])),\n",
       "                           ('Gensei', OrderedDict([('n_objects', 10)])),\n",
       "                           ('Continuous tubes',\n",
       "                            OrderedDict([('element_number', 30),\n",
       "                                         ('uniform_radius_distribution', True),\n",
       "                                         ('normal_radius_distribution', False),\n",
       "                                         ('fixed_radius_distribution', False),\n",
       "                                         ('radius_distribution_minimum', 2.0),\n",
       "                                         ('radius_distribution_maximum', 10.0),\n",
       "                                         ('radius_distribution_mean', 5.0),\n",
       "                                         ('radius_distribution_standard_deviation',\n",
       "                                          5.0),\n",
       "                                         ('random_generator_seed', 0)])),\n",
       "                           ('Unconnected tubes',\n",
       "                            OrderedDict([('element_number', -1),\n",
       "                                         ('uniform_radius_distribution', True),\n",
       "                                         ('normal_radius_distribution', False),\n",
       "                                         ('fixed_radius_distribution', False),\n",
       "                                         ('radius_distribution_minimum', 2.0),\n",
       "                                         ('radius_distribution_maximum', 10.0),\n",
       "                                         ('radius_distribution_mean', 5.0),\n",
       "                                         ('radius_distribution_standard_deviation',\n",
       "                                          5.0),\n",
       "                                         ('length_distribution_mean', 10.0),\n",
       "                                         ('length_distribution_standard_deviation',\n",
       "                                          3.0),\n",
       "                                         ('orientation_anisotropic', True),\n",
       "                                         ('orientation_alpha_rad', 0.0),\n",
       "                                         ('orientation_beta_rad', 0.0),\n",
       "                                         ('orientation_variance_rad', 0.1),\n",
       "                                         ('allow_overlap', False),\n",
       "                                         ('volume_fraction', 0.1),\n",
       "                                         ('maximum_1000_iteration_number', 10),\n",
       "                                         ('random_generator_seed', 0),\n",
       "                                         ('last_element_can_be_smaller',\n",
       "                                          False),\n",
       "                                         ('tube_shape', True)]))])),\n",
       "             ('generator_id', 0),\n",
       "             ('postprocessing',\n",
       "              OrderedDict([('gaussian_blur', True),\n",
       "                           ('gaussian_filter_sigma_mm', 1.0),\n",
       "                           ('add_noise', True),\n",
       "                           ('limit_negative_intensities', True),\n",
       "                           ('noise_rng_seed', 0),\n",
       "                           ('noise_exponent', 0.0001),\n",
       "                           ('noise_lambda_start', 0.1),\n",
       "                           ('noise_lambda_stop', 3.0),\n",
       "                           ('noise_amplitude', 40.0),\n",
       "                           ('noise_mean', 30.0),\n",
       "                           ('measurement_resolution', 20),\n",
       "                           ('output_dtype', 'uint8'),\n",
       "                           ('intensity_profile_radius', [0.4, 0.7, 1.0, 1.3]),\n",
       "                           ('intensity_profile_intensity',\n",
       "                            [195, 190, 200, 30]),\n",
       "                           ('negative', False)])),\n",
       "             ('areasampling',\n",
       "              {'areasize_mm': [110.0, 100.0, 100.0],\n",
       "               'areasize_px': [110, 100, 100],\n",
       "               'voxelsize_mm': [1.0, 1.0, 1.0]}),\n",
       "             ('filepattern', '~/teigen_data/{seriesn:03d}/data{:06d}.jpg'),\n",
       "             ('appearance',\n",
       "              {'noise_preview': False,\n",
       "               'show_aposteriori_surface': True,\n",
       "               'skip_volume_generation': False}),\n",
       "             ('output',\n",
       "              {'aposteriori_measurement': False,\n",
       "               'aposteriori_measurement_multiplier': 1.0,\n",
       "               'note': '',\n",
       "               'one_row_filename': '~/teigen_data/output_rows.csv'}),\n",
       "             ('measurement',\n",
       "              {'polygon_radius_selection_method': 'best',\n",
       "               'tube_shape': True})])"
      ]
     },
     "execution_count": 5,
     "metadata": {},
     "output_type": "execute_result"
    }
   ],
   "source": [
    "# pp(config)\n",
    "config"
   ]
  },
  {
   "cell_type": "code",
   "execution_count": 6,
   "metadata": {
    "collapsed": false,
    "deletable": true,
    "editable": true
   },
   "outputs": [
    {
     "data": {
      "text/plain": [
       "array([0, 1, 2, 3, 4, 5, 6, 7, 8, 9])"
      ]
     },
     "execution_count": 6,
     "metadata": {},
     "output_type": "execute_result"
    }
   ],
   "source": [
    "np.arange(0, 10)"
   ]
  },
  {
   "cell_type": "markdown",
   "metadata": {
    "deletable": true,
    "editable": true
   },
   "source": [
    "# Prepare multiple configs\n"
   ]
  },
  {
   "cell_type": "code",
   "execution_count": 7,
   "metadata": {
    "collapsed": false,
    "deletable": true,
    "editable": true
   },
   "outputs": [],
   "source": [
    "configs = []\n",
    "tg = teigen.tgmain.Teigen()"
   ]
  },
  {
   "cell_type": "code",
   "execution_count": null,
   "metadata": {
    "collapsed": true,
    "deletable": true,
    "editable": true
   },
   "outputs": [],
   "source": []
  },
  {
   "cell_type": "code",
   "execution_count": 8,
   "metadata": {
    "collapsed": false,
    "deletable": true,
    "editable": true
   },
   "outputs": [],
   "source": [
    "run_label = \"tube length\"\n",
    "if run_label in run_list:\n",
    "    for length in [5, 6, 7, 8, 10, 12, 14, 16, 20, 24, 28, 32, 40, 48]:\n",
    "        for rnd in [101, 102, 103]:\n",
    "            config = tg.get_default_config()\n",
    "            config[\"generator_id\"] = 3\n",
    "            config[\"output\"][\"note\"] = run_label\n",
    "            gc = config[\"generators\"][\"Unconnected tubes\"]\n",
    "            gc[\"element_number\"] = 10\n",
    "            gc[\"orientation_anisotropic\"] = False\n",
    "            gc[\"length_distribution_mean\"] = length\n",
    "            gc[\"length_distribution_standard_deviation\"] = 0.0\n",
    "            gc[\"random_generator_seed\"] = rnd\n",
    "            config[\"postprocessing\"][\"measurement_resolution\"] = 20\n",
    "            config[\"appearance\"][\"skip_volume_generation\"] = True\n",
    "            configs.append(config)"
   ]
  },
  {
   "cell_type": "code",
   "execution_count": 9,
   "metadata": {
    "collapsed": false,
    "deletable": true,
    "editable": true
   },
   "outputs": [],
   "source": [
    "run_label = \"tube length 2\"\n",
    "if run_label in run_list:\n",
    "    for length in [5, 10, 15, 20, 25, 30, 35, 40, 45]:\n",
    "        for rnd in [101, 102, 103]:\n",
    "            config = tg.get_default_config()\n",
    "            config[\"generator_id\"] = 3\n",
    "            config[\"output\"][\"note\"] = run_label\n",
    "            gc = config[\"generators\"][\"Unconnected tubes\"]\n",
    "            gc[\"element_number\"] = 10\n",
    "            gc[\"orientation_anisotropic\"] = False\n",
    "            gc[\"length_distribution_mean\"] = length\n",
    "            gc[\"length_distribution_standard_deviation\"] = 0.0\n",
    "            gc[\"random_generator_seed\"] = rnd\n",
    "            config[\"postprocessing\"][\"measurement_resolution\"] = 20\n",
    "            config[\"appearance\"][\"skip_volume_generation\"] = True\n",
    "            configs.append(config)"
   ]
  },
  {
   "cell_type": "markdown",
   "metadata": {
    "deletable": true,
    "editable": true
   },
   "source": [
    "# Vepsaná, opsaná, "
   ]
  },
  {
   "cell_type": "code",
   "execution_count": 10,
   "metadata": {
    "collapsed": false,
    "deletable": true,
    "editable": true
   },
   "outputs": [],
   "source": [
    "run_label = \"compensation method\"\n",
    "if run_label in run_list:\n",
    "    for resolution in [6, 7, 8, 10, 12, 16, 20, 25, 30, 40, 50]:\n",
    "        for rnd in [101]:\n",
    "            for radius_method in [\"inscribed\", \"circumscribed\", \"cylinder surface\", \"cylinder volume\", \"average\"]:\n",
    "                config = tg.get_default_config()\n",
    "                config[\"generator_id\"] = 3\n",
    "                config[\"output\"][\"note\"] = run_label + \" \" + radius_method\n",
    "                gc = config[\"generators\"][\"Unconnected tubes\"]\n",
    "                gc[\"element_number\"] = 10\n",
    "                gc[\"orientation_anisotropic\"] = False\n",
    "                gc[\"uniform_radius_distribution\"] = False\n",
    "                gc[\"fixed_radius_distribution\"] = True\n",
    "                gc[\"radius_distribution_mean\"] = 20\n",
    "                gc[\"radius_distribution_standard_deviation\"] = 0.0\n",
    "                gc[\"radius_distribution_maximum\"] = 30.0\n",
    "                gc[\"radius_distribution_minimum\"] = 3.0\n",
    "                gc[\"length_distribution_mean\"] = 20\n",
    "                gc[\"length_distribution_standard_deviation\"] = 0.0\n",
    "                gc[\"random_generator_seed\"] = rnd\n",
    "                config[\"postprocessing\"][\"measurement_resolution\"] = resolution\n",
    "                config[\"appearance\"][\"skip_volume_generation\"] = True\n",
    "                config[\"measurement\"][\"polygon_radius_selection_method\"] = radius_method\n",
    "                configs.append(config)"
   ]
  },
  {
   "cell_type": "markdown",
   "metadata": {
    "deletable": true,
    "editable": true
   },
   "source": [
    "### 1 sphere"
   ]
  },
  {
   "cell_type": "code",
   "execution_count": 11,
   "metadata": {
    "collapsed": false,
    "deletable": true,
    "editable": true
   },
   "outputs": [],
   "source": [
    "run_label = \"compensation method 1 sphere\"\n",
    "if run_label in run_list:\n",
    "    # for resolution in [6, 7, 8, 10, 12, 16, 18, 20, 22, 24, 26, 28, 30, 34, 38, 42, 46, 50]:\n",
    "    for resolution in [6, 10, 16, 22, 26, 30, 38, 46, 50]:\n",
    "        for rnd in [101, 102]:\n",
    "            for radius_method in [\n",
    "                \"inscribed\", \n",
    "                #\"circumscribed\", \n",
    "                #\"cylinder surface\", \n",
    "                \"cylinder volume\", \n",
    "                #\"average\", \n",
    "                \"cylinder volume + sphere compensation\"\n",
    "            ]:\n",
    "                config = tg.get_default_config()\n",
    "                config[\"generator_id\"] = 3\n",
    "                config[\"output\"][\"note\"] = run_label + \" \" + radius_method\n",
    "                gc = config[\"generators\"][\"Unconnected tubes\"]\n",
    "                gc[\"element_number\"] = 1\n",
    "                gc[\"orientation_anisotropic\"] = False\n",
    "                gc[\"uniform_radius_distribution\"] = False\n",
    "                gc[\"fixed_radius_distribution\"] = True\n",
    "                gc[\"radius_distribution_mean\"] = 20\n",
    "                gc[\"radius_distribution_standard_deviation\"] = 0.0\n",
    "                gc[\"radius_distribution_maximum\"] = 30.0\n",
    "                gc[\"radius_distribution_minimum\"] = 3.0\n",
    "                gc[\"length_distribution_mean\"] = 0.0\n",
    "                gc[\"length_distribution_standard_deviation\"] = 0.0\n",
    "                gc[\"random_generator_seed\"] = rnd\n",
    "                config[\"postprocessing\"][\"measurement_resolution\"] = resolution\n",
    "                config[\"appearance\"][\"skip_volume_generation\"] = True\n",
    "                config[\"measurement\"][\"polygon_radius_selection_method\"] = radius_method\n",
    "                configs.append(config)"
   ]
  },
  {
   "cell_type": "markdown",
   "metadata": {
    "deletable": true,
    "editable": true
   },
   "source": [
    "### 10 spheres"
   ]
  },
  {
   "cell_type": "code",
   "execution_count": 12,
   "metadata": {
    "collapsed": false,
    "deletable": true,
    "editable": true
   },
   "outputs": [],
   "source": [
    "run_label = \"compensation method 10 spheres\"\n",
    "if run_label in run_list:\n",
    "    for resolution in [6, 10, 17, 25, 35, 50]:\n",
    "        for rnd in [101]:\n",
    "            for radius_method in [\"inscribed\", \"circumscribed\", \"cylinder surface\", \"cylinder volume\", \"average\"]:\n",
    "                config = tg.get_default_config()\n",
    "                config[\"generator_id\"] = 3\n",
    "                config[\"output\"][\"note\"] = run_label + \" \" + radius_method\n",
    "                gc = config[\"generators\"][\"Unconnected tubes\"]\n",
    "                gc[\"element_number\"] = 10\n",
    "                gc[\"uniform_radius_distribution\"] = False\n",
    "                gc[\"fixed_radius_distribution\"] = True\n",
    "                gc[\"orientation_anisotropic\"] = False\n",
    "                gc[\"radius_distribution_mean\"] = 20\n",
    "                gc[\"radius_distribution_standard_deviation\"] = 0.0\n",
    "                gc[\"radius_distribution_maximum\"] = 30.0\n",
    "                gc[\"radius_distribution_minimum\"] = 3.0\n",
    "                gc[\"length_distribution_mean\"] = 0.0\n",
    "                gc[\"length_distribution_standard_deviation\"] = 0.0\n",
    "                gc[\"random_generator_seed\"] = rnd\n",
    "                config[\"postprocessing\"][\"measurement_resolution\"] = resolution\n",
    "                config[\"appearance\"][\"skip_volume_generation\"] = True\n",
    "                config[\"measurement\"][\"polygon_radius_selection_method\"] = radius_method\n",
    "                configs.append(config)"
   ]
  },
  {
   "cell_type": "markdown",
   "metadata": {
    "deletable": true,
    "editable": true
   },
   "source": [
    "### 3 spheres various radius"
   ]
  },
  {
   "cell_type": "code",
   "execution_count": 13,
   "metadata": {
    "collapsed": false,
    "deletable": true,
    "editable": true
   },
   "outputs": [],
   "source": [
    "run_label = \"compensation method 3 spheres various radius\"\n",
    "import itertools\n",
    "if run_label in run_list:\n",
    "    resolutions = [25]\n",
    "    for resolution, radius, rnd, radius_method in itertools.product(\n",
    "        [25],\n",
    "        [6, 7, 8, 10, 12, 16, 20, 25, 30, 40, 50],\n",
    "        [102, 103],\n",
    "        [\"inscribed\", \"cylinder surface\", \"cylinder volume\", \"cylinder volume + sphere compensation\"]\n",
    "    ):\n",
    "    # for resolution in [25]:\n",
    "    #     for radius in [6, 7, 8, 10, 12, 16, 20, 25, 30, 40, 50]:\n",
    "    #         for rnd in [102, 103]:\n",
    "    #             for radius_method in [\"inscribed\", \"circumscribed\", \"cylinder surface\", \"cylinder volume\", \"average\"]:\n",
    "        config = tg.get_default_config()\n",
    "        config[\"generator_id\"] = 3\n",
    "        config[\"output\"][\"note\"] = run_label + \" \" + radius_method\n",
    "        gc = config[\"generators\"][\"Unconnected tubes\"]\n",
    "        gc[\"element_number\"] = 3\n",
    "        gc[\"uniform_radius_distribution\"] = False\n",
    "        gc[\"fixed_radius_distribution\"] = True\n",
    "        gc[\"orientation_anisotropic\"] = False\n",
    "        gc[\"radius_distribution_mean\"] = radius\n",
    "        gc[\"radius_distribution_standard_deviation\"] = 0.0\n",
    "        gc[\"radius_distribution_maximum\"] = 30.0\n",
    "        gc[\"radius_distribution_minimum\"] = 3.0\n",
    "        gc[\"length_distribution_mean\"] = 0.0\n",
    "        gc[\"length_distribution_standard_deviation\"] = 0.0\n",
    "        gc[\"random_generator_seed\"] = rnd\n",
    "        config[\"postprocessing\"][\"measurement_resolution\"] = resolution\n",
    "        config[\"appearance\"][\"skip_volume_generation\"] = True\n",
    "        config[\"measurement\"][\"polygon_radius_selection_method\"] = radius_method\n",
    "        configs.append(config)"
   ]
  },
  {
   "cell_type": "markdown",
   "metadata": {},
   "source": [
    "## 1 cylinder"
   ]
  },
  {
   "cell_type": "code",
   "execution_count": 14,
   "metadata": {
    "collapsed": false,
    "deletable": true,
    "editable": true
   },
   "outputs": [],
   "source": [
    "run_label = \"compensation method 1 cylinder\"\n",
    "import itertools\n",
    "if run_label in run_list:\n",
    "    resolutions = [25]\n",
    "    for resolution, radius, rnd, radius_method in itertools.product(\n",
    "        [10, 15, 20, 25, 35, 50],\n",
    "        [10, 15],\n",
    "        [102, 103],\n",
    "        [\"inscribed\", \"cylinder volume\", \"cylinder surface\" , \n",
    "         \"cylinder volume + sphere compensation\", \"cylinder surface + sphere compensation\"]\n",
    "    ):\n",
    "    # for resolution in [25]:\n",
    "    #     for radius in [6, 7, 8, 10, 12, 16, 20, 25, 30, 40, 50]:\n",
    "    #         for rnd in [102, 103]:\n",
    "    #             for radius_method in [\"inscribed\", \"circumscribed\", \"cylinder surface\", \"cylinder volume\", \"average\"]:\n",
    "        config = tg.get_default_config()\n",
    "        config[\"generator_id\"] = 3\n",
    "        config[\"output\"][\"note\"] = run_label + \" \" + radius_method\n",
    "        gc = config[\"generators\"][\"Unconnected tubes\"]\n",
    "        gc[\"element_number\"] = 3\n",
    "        gc[\"uniform_radius_distribution\"] = False\n",
    "        gc[\"fixed_radius_distribution\"] = True\n",
    "        gc[\"orientation_anisotropic\"] = False\n",
    "        gc[\"radius_distribution_mean\"] = radius\n",
    "        gc[\"radius_distribution_standard_deviation\"] = 0.0\n",
    "        gc[\"radius_distribution_maximum\"] = 30.0\n",
    "        gc[\"radius_distribution_minimum\"] = 3.0\n",
    "        gc[\"length_distribution_mean\"] = 20.0\n",
    "        gc[\"length_distribution_standard_deviation\"] = 0.0\n",
    "        gc[\"random_generator_seed\"] = rnd\n",
    "        config[\"postprocessing\"][\"measurement_resolution\"] = resolution\n",
    "        config[\"appearance\"][\"skip_volume_generation\"] = True\n",
    "        config[\"measurement\"][\"polygon_radius_selection_method\"] = radius_method\n",
    "        config[\"measurement\"][\"tube_shape\"] = False\n",
    "        configs.append(config)"
   ]
  },
  {
   "cell_type": "markdown",
   "metadata": {
    "deletable": true,
    "editable": true
   },
   "source": [
    "## 1 tube"
   ]
  },
  {
   "cell_type": "code",
   "execution_count": 15,
   "metadata": {
    "collapsed": false,
    "deletable": true,
    "editable": true
   },
   "outputs": [],
   "source": [
    "run_label = \"compensation method 1 tube\"\n",
    "import itertools\n",
    "if run_label in run_list:\n",
    "    resolutions = [25]\n",
    "    for resolution, radius, rnd, radius_method in itertools.product(\n",
    "        [10, 15, 20, 25, 35, 50],\n",
    "        [20, 30],\n",
    "        [102, 103],\n",
    "        [\n",
    "            #\"inscribed\", \"cylinder volume\", \"cylinder surface\" , \n",
    "         \"cylinder volume + sphere compensation\", \"cylinder surface + sphere compensation\"]\n",
    "    ):\n",
    "    # for resolution in [25]:\n",
    "    #     for radius in [6, 7, 8, 10, 12, 16, 20, 25, 30, 40, 50]:\n",
    "    #         for rnd in [102, 103]:\n",
    "    #             for radius_method in [\"inscribed\", \"circumscribed\", \"cylinder surface\", \"cylinder volume\", \"average\"]:\n",
    "        config = tg.get_default_config()\n",
    "        config[\"generator_id\"] = 3\n",
    "        config[\"output\"][\"note\"] = run_label + \" \" + radius_method\n",
    "        gc = config[\"generators\"][\"Unconnected tubes\"]\n",
    "        gc[\"element_number\"] = 1\n",
    "        gc[\"uniform_radius_distribution\"] = False\n",
    "        gc[\"fixed_radius_distribution\"] = True\n",
    "        gc[\"orientation_anisotropic\"] = False\n",
    "        gc[\"radius_distribution_mean\"] = radius\n",
    "        gc[\"radius_distribution_standard_deviation\"] = 0.0\n",
    "        gc[\"radius_distribution_maximum\"] = 30.0\n",
    "        gc[\"radius_distribution_minimum\"] = 3.0\n",
    "        gc[\"length_distribution_mean\"] = 20.0\n",
    "        gc[\"length_distribution_standard_deviation\"] = 0.0\n",
    "        gc[\"random_generator_seed\"] = rnd\n",
    "        config[\"postprocessing\"][\"measurement_resolution\"] = resolution\n",
    "        config[\"appearance\"][\"skip_volume_generation\"] = True\n",
    "        config[\"measurement\"][\"polygon_radius_selection_method\"] = radius_method\n",
    "        config[\"measurement\"][\"tube_shape\"] = True\n",
    "        configs.append(config)"
   ]
  },
  {
   "cell_type": "code",
   "execution_count": 16,
   "metadata": {
    "collapsed": false,
    "deletable": true,
    "editable": true
   },
   "outputs": [],
   "source": [
    "run_label = \"compensation method 1 tube problem\"\n",
    "if run_label in run_list:\n",
    "    for resolution in [6, 7, 8, 10, 12, 16, 20, 25, 30, 40, 50]:\n",
    "        for rnd in [101]:\n",
    "            for radius_method in [\n",
    "                #\"cylinder surface\", \n",
    "                #\"cylinder volume\", \n",
    "                \"cylinder volume + sphere compensation\"\n",
    "            ]:\n",
    "                config = tg.get_default_config()\n",
    "                config[\"generator_id\"] = 3\n",
    "                config[\"output\"][\"note\"] = run_label + \" \" + radius_method\n",
    "                gc = config[\"generators\"][\"Unconnected tubes\"]\n",
    "                gc[\"element_number\"] = 1\n",
    "                gc[\"uniform_radius_distribution\"] = False\n",
    "                gc[\"fixed_radius_distribution\"] = True\n",
    "                gc[\"orientation_anisotropic\"] = False\n",
    "                gc[\"radius_distribution_mean\"] = 20\n",
    "                gc[\"radius_distribution_standard_deviation\"] = 0.0\n",
    "                gc[\"radius_distribution_maximum\"] = 30.0\n",
    "                gc[\"radius_distribution_minimum\"] = 3.0\n",
    "                gc[\"length_distribution_mean\"] = 20.0\n",
    "                gc[\"length_distribution_standard_deviation\"] = 0.0\n",
    "                gc[\"random_generator_seed\"] = rnd\n",
    "                config[\"postprocessing\"][\"measurement_resolution\"] = resolution\n",
    "                config[\"appearance\"][\"skip_volume_generation\"] = True\n",
    "                config[\"measurement\"][\"polygon_radius_selection_method\"] = radius_method\n",
    "                configs.append(config)"
   ]
  },
  {
   "cell_type": "markdown",
   "metadata": {
    "deletable": true,
    "editable": true
   },
   "source": [
    "## 1 tube various radius"
   ]
  },
  {
   "cell_type": "code",
   "execution_count": 17,
   "metadata": {
    "collapsed": false,
    "deletable": true,
    "editable": true
   },
   "outputs": [],
   "source": [
    "run_label = \"compensation method 1 tube various radius\"\n",
    "if run_label in run_list:\n",
    "    # for resolution in [6, 7, 8, 10, 12, 16, 20, 25, 30, 40, 50]:\n",
    "    for resolution in [25]:\n",
    "        for radius in [6, 7, 8, 10, 12, 16, 20, 25, 30, 40, 50]:\n",
    "            for rnd in [101, 102]:\n",
    "                for radius_method in [\n",
    "                    \"inscribed\",\n",
    "                    \"cylinder surface\", \n",
    "                    \"cylinder volume\", \n",
    "                    \"cylinder volume + sphere compensation\"\n",
    "                ]:\n",
    "                    config = tg.get_default_config()\n",
    "                    config[\"generator_id\"] = 3\n",
    "                    config[\"output\"][\"note\"] = run_label + \" \" + radius_method\n",
    "                    gc = config[\"generators\"][\"Unconnected tubes\"]\n",
    "                    gc[\"element_number\"] = 1\n",
    "                    gc[\"uniform_radius_distribution\"] = False\n",
    "                    gc[\"fixed_radius_distribution\"] = True\n",
    "                    gc[\"orientation_anisotropic\"] = False\n",
    "                    gc[\"radius_distribution_mean\"] = radius\n",
    "                    gc[\"radius_distribution_standard_deviation\"] = 0.0\n",
    "                    gc[\"radius_distribution_maximum\"] = 60.0\n",
    "                    gc[\"radius_distribution_minimum\"] = 3.0\n",
    "                    gc[\"length_distribution_mean\"] = 20.0\n",
    "                    gc[\"length_distribution_standard_deviation\"] = 0.0\n",
    "                    gc[\"random_generator_seed\"] = rnd\n",
    "                    config[\"postprocessing\"][\"measurement_resolution\"] = resolution\n",
    "                    config[\"appearance\"][\"skip_volume_generation\"] = True\n",
    "                    config[\"measurement\"][\"polygon_radius_selection_method\"] = radius_method\n",
    "                    configs.append(config)"
   ]
  },
  {
   "cell_type": "markdown",
   "metadata": {
    "deletable": true,
    "editable": true
   },
   "source": [
    "## 1 tube various length"
   ]
  },
  {
   "cell_type": "code",
   "execution_count": 18,
   "metadata": {
    "collapsed": false,
    "deletable": true,
    "editable": true
   },
   "outputs": [],
   "source": [
    "run_label = \"compensation method 1 tube various length\"\n",
    "if run_label in run_list:\n",
    "    # for resolution in [6, 7, 8, 10, 12, 16, 20, 25, 30, 40, 50]:\n",
    "    for resolution in [25]:\n",
    "        for length in [6, 7, 8, 10, 12, 16, 20, 25, 30, 40, 50]:\n",
    "            for rnd in [101, 102]:\n",
    "                for radius_method in [\n",
    "                    #\"cylinder surface\", \"cylinder volume\", \n",
    "                    #\"cylinder volume + sphere compensation\",\n",
    "                    \"best\"\n",
    "                ]:\n",
    "                    config = tg.get_default_config()\n",
    "                    config[\"generator_id\"] = 3\n",
    "                    config[\"output\"][\"note\"] = run_label + \" \" + radius_method\n",
    "                    gc = config[\"generators\"][\"Unconnected tubes\"]\n",
    "                    gc[\"element_number\"] = 1\n",
    "                    gc[\"uniform_radius_distribution\"] = False\n",
    "                    gc[\"fixed_radius_distribution\"] = True\n",
    "                    gc[\"orientation_anisotropic\"] = False\n",
    "                    gc[\"radius_distribution_mean\"] = 10.0\n",
    "                    gc[\"radius_distribution_standard_deviation\"] = 0.0\n",
    "                    gc[\"radius_distribution_maximum\"] = 60.0\n",
    "                    gc[\"radius_distribution_minimum\"] = 3.0\n",
    "                    gc[\"length_distribution_mean\"] = length\n",
    "                    gc[\"length_distribution_standard_deviation\"] = 0.0\n",
    "                    gc[\"random_generator_seed\"] = rnd\n",
    "                    config[\"postprocessing\"][\"measurement_resolution\"] = resolution\n",
    "                    config[\"appearance\"][\"skip_volume_generation\"] = True\n",
    "                    config[\"measurement\"][\"polygon_radius_selection_method\"] = radius_method\n",
    "                    configs.append(config)"
   ]
  },
  {
   "cell_type": "code",
   "execution_count": 19,
   "metadata": {
    "collapsed": true
   },
   "outputs": [],
   "source": [
    "# 1 tube mix"
   ]
  },
  {
   "cell_type": "code",
   "execution_count": 20,
   "metadata": {
    "collapsed": false,
    "deletable": true,
    "editable": true
   },
   "outputs": [],
   "source": [
    "run_label = \"compensation method 1 tube mix\"\n",
    "import itertools\n",
    "if run_label in run_list:\n",
    "    resolutions = [25]\n",
    "    for resolution, radius, length, rnd, radius_method in itertools.product(\n",
    "        [25, 35],\n",
    "        [10, 15],\n",
    "        [30, 40, 50],\n",
    "        [102, 103, 104, 105],\n",
    "        [\n",
    "            #\"inscribed\", \"cylinder volume\", \"cylinder surface\" , \n",
    "         \"cylinder volume + sphere compensation\", \"cylinder surface + sphere compensation\", \"best\"]\n",
    "    ):\n",
    "    # for resolution in [25]:\n",
    "    #     for radius in [6, 7, 8, 10, 12, 16, 20, 25, 30, 40, 50]:\n",
    "    #         for rnd in [102, 103]:\n",
    "    #             for radius_method in [\"inscribed\", \"circumscribed\", \"cylinder surface\", \"cylinder volume\", \"average\"]:\n",
    "        config = tg.get_default_config()\n",
    "        config[\"generator_id\"] = 3\n",
    "        config[\"output\"][\"note\"] = run_label + \" \" + radius_method\n",
    "        gc = config[\"generators\"][\"Unconnected tubes\"]\n",
    "        gc[\"element_number\"] = 1\n",
    "        gc[\"uniform_radius_distribution\"] = False\n",
    "        gc[\"fixed_radius_distribution\"] = True\n",
    "        gc[\"orientation_anisotropic\"] = False\n",
    "        gc[\"radius_distribution_mean\"] = radius\n",
    "        gc[\"radius_distribution_standard_deviation\"] = 0.0\n",
    "        gc[\"radius_distribution_maximum\"] = 30.0\n",
    "        gc[\"radius_distribution_minimum\"] = 3.0\n",
    "        gc[\"length_distribution_mean\"] = length\n",
    "        gc[\"length_distribution_standard_deviation\"] = 1.0\n",
    "        gc[\"random_generator_seed\"] = rnd\n",
    "        config[\"postprocessing\"][\"measurement_resolution\"] = resolution\n",
    "        config[\"appearance\"][\"skip_volume_generation\"] = True\n",
    "        config[\"measurement\"][\"polygon_radius_selection_method\"] = radius_method\n",
    "        config[\"measurement\"][\"tube_shape\"] = True\n",
    "        configs.append(config)"
   ]
  },
  {
   "cell_type": "markdown",
   "metadata": {
    "deletable": true,
    "editable": true
   },
   "source": [
    "# Všehochuť"
   ]
  },
  {
   "cell_type": "code",
   "execution_count": 21,
   "metadata": {
    "collapsed": false,
    "deletable": true,
    "editable": true
   },
   "outputs": [],
   "source": [
    "run_label = \"compensation method 5 tubes\"\n",
    "if run_label in run_list:\n",
    "    for resolution in [10, 12, 15, 18, 21, 25, 28, 30, 35, 40, 45, 50]:\n",
    "        for rnd in [101]:\n",
    "            for radius_method in [\n",
    "                # \"cylinder surface\", \n",
    "                # \"cylinder volume\", \n",
    "                # \"cylinder volume + sphere compensation\", \n",
    "                # \"cylinder surface + sphere compensation\", \n",
    "                \"best\"]:\n",
    "                config = tg.get_default_config()\n",
    "                config[\"generator_id\"] = 3\n",
    "                config[\"output\"][\"note\"] = run_label + \" \" + radius_method\n",
    "                gc = config[\"generators\"][\"Unconnected tubes\"]\n",
    "                gc[\"element_number\"] = 5\n",
    "                gc[\"uniform_radius_distribution\"] = True\n",
    "                gc[\"fixed_radius_distribution\"] = False\n",
    "                gc[\"orientation_anisotropic\"] = False\n",
    "                gc[\"radius_distribution_mean\"] = 10\n",
    "                gc[\"radius_distribution_standard_deviation\"] = 2.0\n",
    "                gc[\"radius_distribution_maximum\"] = 30.0\n",
    "                gc[\"radius_distribution_minimum\"] = 3.0\n",
    "                gc[\"length_distribution_mean\"] = 30.0\n",
    "                gc[\"length_distribution_standard_deviation\"] = 2.0\n",
    "                gc[\"random_generator_seed\"] = rnd\n",
    "                config[\"postprocessing\"][\"measurement_resolution\"] = resolution\n",
    "                config[\"appearance\"][\"skip_volume_generation\"] = True\n",
    "                config[\"measurement\"][\"polygon_radius_selection_method\"] = radius_method\n",
    "                configs.append(config)"
   ]
  },
  {
   "cell_type": "code",
   "execution_count": 22,
   "metadata": {
    "collapsed": false,
    "deletable": true,
    "editable": true
   },
   "outputs": [],
   "source": [
    "# run_label = \"resolution shape\"\n",
    "# if run_label in run_list:\n",
    "#     for resolution in [5, 6, 7, 8, 10, 12, 14, 16, 20, 24, 28, 32, 40, 48]:\n",
    "#         for rnd in [101, 102, 103, 104, 105]:\n",
    "#             config = tg.get_default_config()\n",
    "#             config[\"generator_id\"] = 3\n",
    "#             config[\"output\"][\"note\"] = run_label\n",
    "#             gc = config[\"generators\"][\"Unconnected tubes\"]\n",
    "#             gc[\"element_number\"] = 10\n",
    "#             gc[\"orientation_anisotropic\"] = False\n",
    "#             gc[\"length_distribution_mean\"] = 0.0\n",
    "#             gc[\"length_distribution_standard_deviation\"] = 0.0\n",
    "#             gc[\"random_generator_seed\"] = rnd\n",
    "#             config[\"postprocessing\"][\"measurement_resolution\"] = resolution\n",
    "#             config[\"appearance\"][\"skip_volume_generation\"] = True\n",
    "#             configs.append(config)\n",
    "\n",
    "run_label = \"resolution tube\"\n",
    "if run_label in run_list:\n",
    "    for resolution in [6, 7, 9, 11, 13, 15, 19, 23, 28, 33, 39, 50]:\n",
    "        for rnd in [102, 103]:\n",
    "            config = tg.get_default_config()\n",
    "            config[\"generator_id\"] = 3\n",
    "            config[\"output\"][\"note\"] = run_label\n",
    "            gc = config[\"generators\"][\"Unconnected tubes\"]\n",
    "            gc[\"element_number\"] = 10\n",
    "            gc[\"orientation_anisotropic\"] = False\n",
    "            gc[\"length_distribution_mean\"] = 40.0\n",
    "            gc[\"length_distribution_standard_deviation\"] = 2.0\n",
    "            gc[\"random_generator_seed\"] = rnd\n",
    "            config[\"postprocessing\"][\"measurement_resolution\"] = resolution\n",
    "            config[\"appearance\"][\"skip_volume_generation\"] = True\n",
    "            config[\"measurement\"][\"polygon_radius_selection_method\"] = \"cylinder volume + sphere compensation\"\n",
    "            configs.append(config)\n"
   ]
  },
  {
   "cell_type": "markdown",
   "metadata": {
    "deletable": true,
    "editable": true
   },
   "source": [
    "## Best"
   ]
  },
  {
   "cell_type": "code",
   "execution_count": 23,
   "metadata": {
    "collapsed": false,
    "deletable": true,
    "editable": true
   },
   "outputs": [],
   "source": [
    "run_label = \"best test\"\n",
    "if run_label in run_list:\n",
    "    for resolution in [25, 30, 35]:\n",
    "        for rnd in [106, 107, 108, 109, 110]:\n",
    "            for radius_method in [\"best\"]:\n",
    "                config = tg.get_default_config()\n",
    "                config[\"generator_id\"] = 3\n",
    "                config[\"output\"][\"note\"] = run_label + \" \" + radius_method\n",
    "                gc = config[\"generators\"][\"Unconnected tubes\"]\n",
    "                gc[\"element_number\"] = 1\n",
    "                gc[\"uniform_radius_distribution\"] = True\n",
    "                gc[\"fixed_radius_distribution\"] = False\n",
    "                gc[\"orientation_anisotropic\"] = False\n",
    "                gc[\"radius_distribution_mean\"] = 10\n",
    "                gc[\"radius_distribution_standard_deviation\"] = 2.0\n",
    "                gc[\"radius_distribution_maximum\"] = 30.0\n",
    "                gc[\"radius_distribution_minimum\"] = 3.0\n",
    "                gc[\"length_distribution_mean\"] = 30.0\n",
    "                gc[\"length_distribution_standard_deviation\"] = 10.0\n",
    "                gc[\"random_generator_seed\"] = rnd\n",
    "                config[\"postprocessing\"][\"measurement_resolution\"] = resolution\n",
    "                config[\"appearance\"][\"skip_volume_generation\"] = True\n",
    "                config[\"measurement\"][\"polygon_radius_selection_method\"] = radius_method\n",
    "                configs.append(config)"
   ]
  },
  {
   "cell_type": "code",
   "execution_count": 24,
   "metadata": {
    "collapsed": false,
    "deletable": true,
    "editable": true
   },
   "outputs": [],
   "source": [
    "run_label = \"fixed resolution\"\n",
    "if run_label in run_list:\n",
    "    for resolution in [25]:\n",
    "        for rnd in [106, 107, 108, 109, 110, 111, 112, 115, 116, 117, 118, 119]:\n",
    "            for radius_method in [\n",
    "                # \"inscribed\", \n",
    "                # \"average\",\n",
    "                #\"cylinder volume + sphere compensation\", \n",
    "                #\"cylinder surface + sphere compensation\", \n",
    "                \"best\", \n",
    "            ]:\n",
    "                config = tg.get_default_config()\n",
    "                config[\"generator_id\"] = 3\n",
    "                config[\"output\"][\"note\"] = run_label + \" \" + radius_method\n",
    "                gc = config[\"generators\"][\"Unconnected tubes\"]\n",
    "                gc[\"element_number\"] = 5\n",
    "                gc[\"uniform_radius_distribution\"] = True\n",
    "                gc[\"fixed_radius_distribution\"] = False\n",
    "                gc[\"orientation_anisotropic\"] = False\n",
    "                gc[\"radius_distribution_mean\"] = 10\n",
    "                gc[\"radius_distribution_standard_deviation\"] = 2.0\n",
    "                gc[\"radius_distribution_maximum\"] = 30.0\n",
    "                gc[\"radius_distribution_minimum\"] = 3.0\n",
    "                gc[\"length_distribution_mean\"] = 30.0\n",
    "                gc[\"length_distribution_standard_deviation\"] = 2.0\n",
    "                gc[\"random_generator_seed\"] = rnd\n",
    "                config[\"postprocessing\"][\"measurement_resolution\"] = resolution\n",
    "                config[\"appearance\"][\"skip_volume_generation\"] = True\n",
    "                config[\"measurement\"][\"polygon_radius_selection_method\"] = radius_method\n",
    "                configs.append(config)"
   ]
  },
  {
   "cell_type": "markdown",
   "metadata": {
    "deletable": true,
    "editable": true
   },
   "source": [
    "# Run multiple configs"
   ]
  },
  {
   "cell_type": "code",
   "execution_count": null,
   "metadata": {
    "collapsed": false
   },
   "outputs": [],
   "source": [
    "#import psutil\n",
    "\n",
    "#def print_number_of_opened_files():\n",
    "#    for proc in psutil.process_iter():\n",
    "#        print proc.open_files()"
   ]
  },
  {
   "cell_type": "code",
   "execution_count": null,
   "metadata": {
    "collapsed": false,
    "deletable": true,
    "editable": true
   },
   "outputs": [
    {
     "name": "stdout",
     "output_type": "stream",
     "text": [
      "0 / 15\n",
      "110\n",
      "35\n",
      "18.2638480731\n",
      "1.0\n",
      "1.0\n",
      "run finished\n",
      "1.0\n",
      "step2 finished\n",
      "1 / 15\n",
      "110\n",
      "35\n",
      "26.5573098799\n",
      "1.0\n",
      "1.0\n",
      "run finished\n",
      "1.0\n",
      "step2 finished\n",
      "2 / 15\n",
      "110\n",
      "35\n",
      "24.0726571182\n",
      "31.1878402999\n",
      "21.1066883411\n",
      "34.0416926819\n",
      "28.9826956597\n",
      "1.0\n",
      "1.0\n",
      "run finished\n",
      "1.0\n",
      "step2 finished\n",
      "3 / 15\n",
      "110\n",
      "35\n",
      "32.591949486\n",
      "29.2592508413\n",
      "28.7385573089\n",
      "32.991810029\n",
      "45.782945604\n",
      "31.6130870875\n",
      "1.0\n",
      "1.0\n",
      "run finished\n",
      "1.0\n",
      "step2 finished\n",
      "4 / 15\n",
      "110\n",
      "35\n",
      "31.3010932678\n",
      "1.0\n",
      "1.0\n",
      "run finished\n",
      "1.0\n",
      "step2 finished\n",
      "5 / 15\n",
      "110\n",
      "35\n",
      "18.2638480731\n",
      "1.0\n",
      "1.0\n",
      "run finished\n",
      "1.0\n",
      "step2 finished\n",
      "6 / 15\n",
      "110\n",
      "35\n",
      "26.5573098799\n",
      "1.0\n",
      "1.0\n",
      "run finished\n",
      "1.0\n",
      "step2 finished\n",
      "7 / 15\n",
      "110\n",
      "35\n",
      "24.0726571182\n",
      "31.1878402999\n",
      "21.1066883411\n",
      "34.0416926819\n",
      "28.9826956597\n",
      "1.0\n",
      "1.0\n",
      "run finished\n",
      "1.0\n",
      "step2 finished\n",
      "8 / 15\n",
      "110\n",
      "35\n",
      "32.591949486\n",
      "29.2592508413\n",
      "28.7385573089\n",
      "32.991810029\n",
      "45.782945604\n",
      "31.6130870875\n",
      "1.0\n",
      "1.0\n",
      "run finished\n",
      "1.0\n",
      "step2 finished\n",
      "9 / 15\n",
      "110\n",
      "35\n",
      "31.3010932678\n",
      "1.0\n",
      "1.0\n",
      "run finished\n",
      "1.0\n",
      "step2 finished\n",
      "10 / 15\n",
      "110\n",
      "35\n",
      "18.2638480731\n",
      "1.0\n",
      "1.0\n",
      "run finished\n",
      "1.0\n",
      "step2 finished\n",
      "11 / 15\n",
      "110\n",
      "35\n",
      "26.5573098799\n",
      "1.0\n",
      "1.0\n",
      "run finished\n",
      "1.0\n",
      "step2 finished\n",
      "12 / 15\n",
      "110\n",
      "35\n",
      "24.0726571182\n",
      "31.1878402999\n",
      "21.1066883411\n",
      "34.0416926819\n",
      "28.9826956597\n",
      "1.0\n",
      "1.0\n",
      "run finished\n",
      "1.0\n",
      "step2 finished\n",
      "13 / 15\n",
      "110\n",
      "35\n",
      "32.591949486\n",
      "29.2592508413\n",
      "28.7385573089\n",
      "32.991810029\n",
      "45.782945604\n",
      "31.6130870875"
     ]
    }
   ],
   "source": [
    "\n",
    "tg = teigen.tgmain.Teigen()\n",
    "for i, cfg in enumerate(configs):\n",
    "    # old failing\n",
    "    # tg = teigen.tgmain.Teigen()\n",
    "    # config = tg.get_default_config()\n",
    "    tg.use_default_config()\n",
    "    tg.update_config(**cfg)\n",
    "    print (str(i) + \" / \" + str(len(configs)))  \n",
    "    print(gc[\"random_generator_seed\"])\n",
    "    print(config[\"postprocessing\"][\"measurement_resolution\"])\n",
    "    tg.run()\n",
    "    print(\"run finished\")\n",
    "    tg.step2()\n",
    "    print(\"step2 finished\")\n",
    "    # del(tg)\n",
    "    "
   ]
  }
 ],
 "metadata": {
  "anaconda-cloud": {},
  "kernelspec": {
   "display_name": "Python 2",
   "language": "python",
   "name": "python2"
  },
  "language_info": {
   "codemirror_mode": {
    "name": "ipython",
    "version": 2
   },
   "file_extension": ".py",
   "mimetype": "text/x-python",
   "name": "python",
   "nbconvert_exporter": "python",
   "pygments_lexer": "ipython2",
   "version": "2.7.11"
  }
 },
 "nbformat": 4,
 "nbformat_minor": 2
}
