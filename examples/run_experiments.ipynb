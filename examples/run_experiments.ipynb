{
 "cells": [
  {
   "cell_type": "code",
   "execution_count": 1,
   "metadata": {
    "collapsed": false,
    "deletable": true,
    "editable": true
   },
   "outputs": [
    {
     "name": "stdout",
     "output_type": "stream",
     "text": [
      "Populating the interactive namespace from numpy and matplotlib\n"
     ]
    }
   ],
   "source": [
    "%pylab inline"
   ]
  },
  {
   "cell_type": "code",
   "execution_count": 2,
   "metadata": {
    "collapsed": false,
    "deletable": true,
    "editable": true
   },
   "outputs": [
    {
     "name": "stdout",
     "output_type": "stream",
     "text": [
      "/Users/mjirik/projects/teigen\n",
      "Using QVariant and QString version 1\n",
      "['/Users/mjirik/projects/teigen/teigen']\n"
     ]
    }
   ],
   "source": [
    "import matplotlib.pyplot as plt\n",
    "import pandas as pd\n",
    "import numpy as np\n",
    "import os.path as op\n",
    "from pprint import pprint as pp\n",
    "import scipy.stats\n",
    "import seaborn as sns\n",
    "import sys\n",
    "pth = op.abspath(\"../\")\n",
    "print pth\n",
    "sys.path.insert(0, pth)\n",
    "import teigen\n",
    "reload(teigen)\n",
    "print teigen.__path__"
   ]
  },
  {
   "cell_type": "code",
   "execution_count": 3,
   "metadata": {
    "collapsed": false,
    "deletable": true,
    "editable": true
   },
   "outputs": [],
   "source": [
    "tg = teigen.tgmain.Teigen()\n",
    "config = tg.get_default_config()"
   ]
  },
  {
   "cell_type": "code",
   "execution_count": 9,
   "metadata": {
    "collapsed": false,
    "deletable": true,
    "editable": true
   },
   "outputs": [
    {
     "data": {
      "text/plain": [
       "OrderedDict([('generators',\n",
       "              OrderedDict([('Voronoi tubes',\n",
       "                            OrderedDict([('element_number', 30),\n",
       "                                         ('uniform_radius_distribution', True),\n",
       "                                         ('normal_radius_distribution', False),\n",
       "                                         ('fixed_radius_distribution', False),\n",
       "                                         ('radius_distribution_minimum', 2.0),\n",
       "                                         ('radius_distribution_maximum', 10.0),\n",
       "                                         ('radius_distribution_mean', 5.0),\n",
       "                                         ('radius_distribution_standard_deviation',\n",
       "                                          5.0),\n",
       "                                         ('random_generator_seed', 0)])),\n",
       "                           ('Gensei', OrderedDict([('n_objects', 10)])),\n",
       "                           ('Continuous tubes',\n",
       "                            OrderedDict([('element_number', 30),\n",
       "                                         ('uniform_radius_distribution', True),\n",
       "                                         ('normal_radius_distribution', False),\n",
       "                                         ('fixed_radius_distribution', False),\n",
       "                                         ('radius_distribution_minimum', 2.0),\n",
       "                                         ('radius_distribution_maximum', 10.0),\n",
       "                                         ('radius_distribution_mean', 5.0),\n",
       "                                         ('radius_distribution_standard_deviation',\n",
       "                                          5.0),\n",
       "                                         ('random_generator_seed', 0)])),\n",
       "                           ('Unconnected tubes',\n",
       "                            OrderedDict([('element_number', -1),\n",
       "                                         ('uniform_radius_distribution', True),\n",
       "                                         ('normal_radius_distribution', False),\n",
       "                                         ('fixed_radius_distribution', False),\n",
       "                                         ('radius_distribution_minimum', 2.0),\n",
       "                                         ('radius_distribution_maximum', 10.0),\n",
       "                                         ('radius_distribution_mean', 5.0),\n",
       "                                         ('radius_distribution_standard_deviation',\n",
       "                                          5.0),\n",
       "                                         ('length_distribution_mean', 10.0),\n",
       "                                         ('length_distribution_standard_deviation',\n",
       "                                          3.0),\n",
       "                                         ('orientation_anisotropic', True),\n",
       "                                         ('orientation_alpha_rad', 0.0),\n",
       "                                         ('orientation_beta_rad', 0.0),\n",
       "                                         ('orientation_variance_rad', 0.1),\n",
       "                                         ('allow_overlap', False),\n",
       "                                         ('volume_fraction', 0.1),\n",
       "                                         ('maximum_1000_iteration_number', 10),\n",
       "                                         ('random_generator_seed', 0),\n",
       "                                         ('last_element_can_be_smaller',\n",
       "                                          False)]))])),\n",
       "             ('generator_id', 0),\n",
       "             ('postprocessing',\n",
       "              OrderedDict([('gaussian_blur', True),\n",
       "                           ('gaussian_filter_sigma_mm', 1.0),\n",
       "                           ('add_noise', True),\n",
       "                           ('limit_negative_intensities', True),\n",
       "                           ('noise_rng_seed', 0),\n",
       "                           ('noise_exponent', 0.0001),\n",
       "                           ('noise_lambda_start', 0.1),\n",
       "                           ('noise_lambda_stop', 3.0),\n",
       "                           ('noise_amplitude', 40.0),\n",
       "                           ('noise_mean', 30.0),\n",
       "                           ('measurement_resolution', 20),\n",
       "                           ('output_dtype', 'uint8'),\n",
       "                           ('intensity_profile_radius', [0.4, 0.7, 1.0, 1.3]),\n",
       "                           ('intensity_profile_intensity',\n",
       "                            [195, 190, 200, 30]),\n",
       "                           ('negative', False)])),\n",
       "             ('areasampling',\n",
       "              {'areasize_mm': [110.0, 100.0, 100.0],\n",
       "               'areasize_px': [110, 100, 100],\n",
       "               'voxelsize_mm': [1.0, 1.0, 1.0]}),\n",
       "             ('filepattern', '~/teigen_data/{seriesn:03d}/data{:06d}.jpg'),\n",
       "             ('appearance',\n",
       "              {'noise_preview': False,\n",
       "               'show_aposteriori_surface': True,\n",
       "               'skip_volume_generation': False}),\n",
       "             ('output',\n",
       "              {'aposteriori_measurement': False,\n",
       "               'aposteriori_measurement_multiplier': 1.0,\n",
       "               'note': '',\n",
       "               'one_row_filename': '~/teigen_data/output_rows.csv'}),\n",
       "             ('measurement',\n",
       "              {'polygon_radius_selection_method': 'inscribed'})])"
      ]
     },
     "execution_count": 9,
     "metadata": {},
     "output_type": "execute_result"
    }
   ],
   "source": [
    "# pp(config)\n",
    "config"
   ]
  },
  {
   "cell_type": "code",
   "execution_count": 18,
   "metadata": {
    "collapsed": false,
    "deletable": true,
    "editable": true
   },
   "outputs": [
    {
     "data": {
      "text/plain": [
       "array([0, 1, 2, 3, 4, 5, 6, 7, 8, 9])"
      ]
     },
     "execution_count": 18,
     "metadata": {},
     "output_type": "execute_result"
    }
   ],
   "source": [
    "np.arange(0, 10)"
   ]
  },
  {
   "cell_type": "markdown",
   "metadata": {
    "deletable": true,
    "editable": true
   },
   "source": [
    "# Prepare multiple configs\n"
   ]
  },
  {
   "cell_type": "code",
   "execution_count": 3,
   "metadata": {
    "collapsed": false,
    "deletable": true,
    "editable": true
   },
   "outputs": [],
   "source": [
    "configs = []\n",
    "tg = teigen.tgmain.Teigen()"
   ]
  },
  {
   "cell_type": "code",
   "execution_count": 20,
   "metadata": {
    "collapsed": false,
    "deletable": true,
    "editable": true
   },
   "outputs": [],
   "source": [
    "# for resolution in [5, 6, 7, 8, 10, 12, 14, 16, 20, 24, 28, 32, 40, 48]:\n",
    "#     for rnd in [101, 102, 103, 104, 105]:\n",
    "#         config = tg.get_default_config()\n",
    "#         config[\"generator_id\"] = 3\n",
    "#         config[\"output\"][\"note\"] = \"resolution sphere\"\n",
    "#         gc = config[\"generators\"][\"Unconnected tubes\"]\n",
    "#         gc[\"element_number\"] = 10\n",
    "#         gc[\"orientation_anisotropic\"] = False\n",
    "#         gc[\"length_distribution_mean\"] = 0.0\n",
    "#         gc[\"length_distribution_standard_deviation\"] = 0.0\n",
    "#         gc[\"random_generator_seed\"] = rnd\n",
    "#         config[\"postprocessing\"][\"measurement_resolution\"] = resolution\n",
    "#         config[\"appearance\"][\"skip_volume_generation\"] = True\n",
    "#         configs.append(config)\n",
    "\n",
    "for resolution in [5, 6, 7, 8, 10, 12, 14, 16, 20, 24, 28, 32, 40, 48]:\n",
    "    for rnd in [101, 102, 103, 104, 105]:\n",
    "        config = tg.get_default_config()\n",
    "        config[\"generator_id\"] = 3\n",
    "        config[\"output\"][\"note\"] = \"resolution tube\"\n",
    "        gc = config[\"generators\"][\"Unconnected tubes\"]\n",
    "        gc[\"element_number\"] = 10\n",
    "        gc[\"orientation_anisotropic\"] = False\n",
    "        gc[\"length_distribution_mean\"] = 40.0\n",
    "        gc[\"length_distribution_standard_deviation\"] = 2.0\n",
    "        gc[\"random_generator_seed\"] = rnd\n",
    "        config[\"postprocessing\"][\"measurement_resolution\"] = resolution\n",
    "        config[\"appearance\"][\"skip_volume_generation\"] = True\n",
    "        config[\"measurement\"][\"polygon_radius_selection_method\"] = \"inscribed\"\n",
    "        configs.append(config)\n"
   ]
  },
  {
   "cell_type": "code",
   "execution_count": 21,
   "metadata": {
    "collapsed": false,
    "deletable": true,
    "editable": true
   },
   "outputs": [],
   "source": [
    "\n",
    "for length in [5, 6, 7, 8, 10, 12, 14, 16, 20, 24, 28, 32, 40, 48]:\n",
    "    for rnd in [101, 102, 103]:\n",
    "        config = tg.get_default_config()\n",
    "        config[\"generator_id\"] = 3\n",
    "        config[\"output\"][\"note\"] = \"tube length\"\n",
    "        gc = config[\"generators\"][\"Unconnected tubes\"]\n",
    "        gc[\"element_number\"] = 10\n",
    "        gc[\"orientation_anisotropic\"] = False\n",
    "        gc[\"length_distribution_mean\"] = length\n",
    "        gc[\"length_distribution_standard_deviation\"] = 0.0\n",
    "        gc[\"random_generator_seed\"] = rnd\n",
    "        config[\"postprocessing\"][\"measurement_resolution\"] = 20\n",
    "        config[\"appearance\"][\"skip_volume_generation\"] = True\n",
    "        configs.append(config)"
   ]
  },
  {
   "cell_type": "code",
   "execution_count": 4,
   "metadata": {
    "collapsed": false,
    "deletable": true,
    "editable": true
   },
   "outputs": [],
   "source": [
    "\n",
    "for length in [5, 10, 15, 20, 25, 30, 35, 40, 45]:\n",
    "    for rnd in [101, 102, 103]:\n",
    "        config = tg.get_default_config()\n",
    "        config[\"generator_id\"] = 3\n",
    "        config[\"output\"][\"note\"] = \"tube length\"\n",
    "        gc = config[\"generators\"][\"Unconnected tubes\"]\n",
    "        gc[\"element_number\"] = 10\n",
    "        gc[\"orientation_anisotropic\"] = False\n",
    "        gc[\"length_distribution_mean\"] = length\n",
    "        gc[\"length_distribution_standard_deviation\"] = 0.0\n",
    "        gc[\"random_generator_seed\"] = rnd\n",
    "        config[\"postprocessing\"][\"measurement_resolution\"] = 20\n",
    "        config[\"appearance\"][\"skip_volume_generation\"] = True\n",
    "        configs.append(config)"
   ]
  },
  {
   "cell_type": "markdown",
   "metadata": {},
   "source": [
    "# Vepsaná, opsaná, "
   ]
  },
  {
   "cell_type": "code",
   "execution_count": 4,
   "metadata": {
    "collapsed": false,
    "deletable": true,
    "editable": true
   },
   "outputs": [],
   "source": [
    "\n",
    "for resolution in [5, 10, 15, 20, 25, 30, 35, 40, 45]:\n",
    "    for rnd in [101]:\n",
    "        for radius_method in [\"inscribed\", \"circumscribed\", \"cylinder surface\", \"cylinder volume\", \"average\"]:\n",
    "            config = tg.get_default_config()\n",
    "            config[\"generator_id\"] = 3\n",
    "            config[\"output\"][\"note\"] = \"compensation method - \" + radius_method\n",
    "            gc = config[\"generators\"][\"Unconnected tubes\"]\n",
    "            gc[\"element_number\"] = 10\n",
    "            gc[\"orientation_anisotropic\"] = False\n",
    "            gc[\"length_distribution_mean\"] = 20\n",
    "            gc[\"length_distribution_standard_deviation\"] = 0.0\n",
    "            gc[\"random_generator_seed\"] = rnd\n",
    "            config[\"postprocessing\"][\"measurement_resolution\"] = resolution\n",
    "            config[\"appearance\"][\"skip_volume_generation\"] = True\n",
    "            config[\"measurement\"][\"polygon_radius_selection_method\"] = radius_method\n",
    "            configs.append(config)"
   ]
  },
  {
   "cell_type": "markdown",
   "metadata": {
    "deletable": true,
    "editable": true
   },
   "source": [
    "# Run multiple configs"
   ]
  },
  {
   "cell_type": "code",
   "execution_count": 5,
   "metadata": {
    "collapsed": false,
    "deletable": true,
    "editable": true
   },
   "outputs": [
    {
     "name": "stdout",
     "output_type": "stream",
     "text": [
      "0 / 45\n",
      "101\n",
      "45\n",
      "20\n",
      "20\n",
      "20\n",
      "20\n",
      "20\n",
      "20\n",
      "20\n",
      "20\n",
      "20\n",
      "20\n",
      "20\n",
      "20\n",
      "20\n",
      "20\n",
      "20\n",
      "20\n",
      "20\n",
      "20\n",
      "20\n",
      "20\n",
      "0.1\n",
      "0.1\n",
      "0.1\n",
      "0.1\n",
      "0.1\n",
      "0.1\n",
      "0.1\n",
      "0.1\n",
      "0.1\n",
      "0.1\n",
      "run finished\n",
      "0.1\n",
      "0.1\n",
      "0.1\n",
      "0.1\n",
      "0.1\n",
      "0.1\n",
      "0.1\n",
      "0.1\n",
      "0.1\n",
      "0.1\n",
      "step2 finished\n",
      "1 / 45\n",
      "101\n",
      "45\n",
      "20\n",
      "20\n",
      "20\n",
      "20\n",
      "20\n",
      "20\n",
      "20\n",
      "20\n",
      "20\n",
      "20\n",
      "20\n",
      "20\n",
      "20\n",
      "20\n",
      "20\n",
      "20\n",
      "20\n",
      "20\n",
      "20\n",
      "20\n",
      "0.1\n",
      "0.1\n",
      "0.1\n",
      "0.1\n",
      "0.1\n",
      "0.1\n",
      "0.1\n",
      "0.1\n",
      "0.1\n",
      "0.1\n",
      "run finished\n",
      "0.1\n",
      "0.1\n",
      "0.1\n",
      "0.1\n",
      "0.1\n",
      "0.1\n",
      "0.1\n",
      "0.1\n",
      "0.1\n",
      "0.1\n",
      "step2 finished\n",
      "2 / 45\n",
      "101\n",
      "45\n",
      "20\n",
      "20\n",
      "20\n",
      "20\n",
      "20\n",
      "20\n",
      "20\n",
      "20\n",
      "20\n",
      "20\n",
      "20\n",
      "20\n",
      "20\n",
      "20\n",
      "20\n",
      "20\n",
      "20\n",
      "20\n",
      "20\n",
      "20\n",
      "0.1\n",
      "0.1\n",
      "0.1\n",
      "0.1\n",
      "0.1\n",
      "0.1\n",
      "0.1\n",
      "0.1\n",
      "0.1\n",
      "0.1\n",
      "run finished\n",
      "0.1\n",
      "0.1\n",
      "0.1\n",
      "0.1\n",
      "0.1\n",
      "0.1\n",
      "0.1\n",
      "0.1\n",
      "0.1\n",
      "0.1\n",
      "step2 finished\n",
      "3 / 45\n",
      "101\n",
      "45\n",
      "20\n",
      "20\n",
      "20\n",
      "20\n",
      "20\n",
      "20\n",
      "20\n",
      "20\n",
      "20\n",
      "20\n",
      "20\n",
      "20\n",
      "20\n",
      "20\n",
      "20\n",
      "20\n",
      "20\n",
      "20\n",
      "20\n",
      "20\n",
      "0.1\n",
      "0.1\n",
      "0.1\n",
      "0.1\n",
      "0.1\n",
      "0.1\n",
      "0.1\n",
      "0.1\n",
      "0.1\n",
      "0.1\n"
     ]
    },
    {
     "ename": "NameError",
     "evalue": "global name 'regular_polygon_volume_equivalent_radius' is not defined",
     "output_type": "error",
     "traceback": [
      "\u001b[0;31m---------------------------------------------------------------------------\u001b[0m",
      "\u001b[0;31mNameError\u001b[0m                                 Traceback (most recent call last)",
      "\u001b[0;32m<ipython-input-5-2404c7bca3df>\u001b[0m in \u001b[0;36m<module>\u001b[0;34m()\u001b[0m\n\u001b[1;32m      8\u001b[0m     \u001b[0;32mprint\u001b[0m\u001b[0;34m(\u001b[0m\u001b[0mconfig\u001b[0m\u001b[0;34m[\u001b[0m\u001b[0;34m\"postprocessing\"\u001b[0m\u001b[0;34m]\u001b[0m\u001b[0;34m[\u001b[0m\u001b[0;34m\"measurement_resolution\"\u001b[0m\u001b[0;34m]\u001b[0m\u001b[0;34m)\u001b[0m\u001b[0;34m\u001b[0m\u001b[0m\n\u001b[1;32m      9\u001b[0m \u001b[0;34m\u001b[0m\u001b[0m\n\u001b[0;32m---> 10\u001b[0;31m     \u001b[0mtg\u001b[0m\u001b[0;34m.\u001b[0m\u001b[0mrun\u001b[0m\u001b[0;34m(\u001b[0m\u001b[0;34m)\u001b[0m\u001b[0;34m\u001b[0m\u001b[0m\n\u001b[0m\u001b[1;32m     11\u001b[0m     \u001b[0;32mprint\u001b[0m\u001b[0;34m(\u001b[0m\u001b[0;34m\"run finished\"\u001b[0m\u001b[0;34m)\u001b[0m\u001b[0;34m\u001b[0m\u001b[0m\n\u001b[1;32m     12\u001b[0m     \u001b[0mtg\u001b[0m\u001b[0;34m.\u001b[0m\u001b[0mstep2\u001b[0m\u001b[0;34m(\u001b[0m\u001b[0;34m)\u001b[0m\u001b[0;34m\u001b[0m\u001b[0m\n",
      "\u001b[0;32m/Users/mjirik/projects/teigen/teigen/tgmain.pyc\u001b[0m in \u001b[0;36mrun\u001b[0;34m(self)\u001b[0m\n\u001b[1;32m    218\u001b[0m \u001b[0;34m\u001b[0m\u001b[0m\n\u001b[1;32m    219\u001b[0m         \u001b[0mlogger\u001b[0m\u001b[0;34m.\u001b[0m\u001b[0mdebug\u001b[0m\u001b[0;34m(\u001b[0m\u001b[0;34m\"1D structure is generated\"\u001b[0m\u001b[0;34m)\u001b[0m\u001b[0;34m\u001b[0m\u001b[0m\n\u001b[0;32m--> 220\u001b[0;31m         \u001b[0mself\u001b[0m\u001b[0;34m.\u001b[0m\u001b[0mpolydata\u001b[0m \u001b[0;34m=\u001b[0m \u001b[0mself\u001b[0m\u001b[0;34m.\u001b[0m\u001b[0m__generate_vtk\u001b[0m\u001b[0;34m(\u001b[0m\u001b[0mself\u001b[0m\u001b[0;34m.\u001b[0m\u001b[0mtemp_vtk_file\u001b[0m\u001b[0;34m)\u001b[0m\u001b[0;34m\u001b[0m\u001b[0m\n\u001b[0m\u001b[1;32m    221\u001b[0m         \u001b[0;31m# logger.debug(\"vtk generated\")\u001b[0m\u001b[0;34m\u001b[0m\u001b[0;34m\u001b[0m\u001b[0m\n\u001b[1;32m    222\u001b[0m         \u001b[0;31m# import ipdb; ipdb.set_trace()\u001b[0m\u001b[0;34m\u001b[0m\u001b[0;34m\u001b[0m\u001b[0m\n",
      "\u001b[0;32m/Users/mjirik/projects/teigen/teigen/tgmain.pyc\u001b[0m in \u001b[0;36m__generate_vtk\u001b[0;34m(self, vtk_file)\u001b[0m\n\u001b[1;32m    263\u001b[0m             \u001b[0mtvg\u001b[0m\u001b[0;34m.\u001b[0m\u001b[0mshape\u001b[0m \u001b[0;34m=\u001b[0m \u001b[0mself\u001b[0m\u001b[0;34m.\u001b[0m\u001b[0mgen\u001b[0m\u001b[0;34m.\u001b[0m\u001b[0mareasize_px\u001b[0m\u001b[0;34m\u001b[0m\u001b[0m\n\u001b[1;32m    264\u001b[0m             \u001b[0mtvg\u001b[0m\u001b[0;34m.\u001b[0m\u001b[0mtree_data\u001b[0m \u001b[0;34m=\u001b[0m \u001b[0mself\u001b[0m\u001b[0;34m.\u001b[0m\u001b[0mgen\u001b[0m\u001b[0;34m.\u001b[0m\u001b[0mtree_data\u001b[0m\u001b[0;34m\u001b[0m\u001b[0m\n\u001b[0;32m--> 265\u001b[0;31m             \u001b[0moutput\u001b[0m \u001b[0;34m=\u001b[0m \u001b[0mtvg\u001b[0m\u001b[0;34m.\u001b[0m\u001b[0mbuildTree\u001b[0m\u001b[0;34m(\u001b[0m\u001b[0;34m)\u001b[0m  \u001b[0;31m# noqa\u001b[0m\u001b[0;34m\u001b[0m\u001b[0m\n\u001b[0m\u001b[1;32m    266\u001b[0m             \u001b[0;31m# tvg.show()\u001b[0m\u001b[0;34m\u001b[0m\u001b[0;34m\u001b[0m\u001b[0m\n\u001b[1;32m    267\u001b[0m             \u001b[0;31m# TODO control output\u001b[0m\u001b[0;34m\u001b[0m\u001b[0;34m\u001b[0m\u001b[0m\n",
      "\u001b[0;32m/Users/mjirik/projects/teigen/teigen/tree.pyc\u001b[0m in \u001b[0;36mbuildTree\u001b[0;34m(self)\u001b[0m\n\u001b[1;32m    125\u001b[0m             \u001b[0mself\u001b[0m\u001b[0;34m.\u001b[0m\u001b[0mgenerator\u001b[0m \u001b[0;34m=\u001b[0m \u001b[0mself\u001b[0m\u001b[0;34m.\u001b[0m\u001b[0mgenerator_class\u001b[0m\u001b[0;34m(\u001b[0m\u001b[0mself\u001b[0m\u001b[0;34m,\u001b[0m \u001b[0;34m**\u001b[0m\u001b[0mself\u001b[0m\u001b[0;34m.\u001b[0m\u001b[0mgenerator_params\u001b[0m\u001b[0;34m)\u001b[0m\u001b[0;34m\u001b[0m\u001b[0m\n\u001b[1;32m    126\u001b[0m \u001b[0;34m\u001b[0m\u001b[0m\n\u001b[0;32m--> 127\u001b[0;31m         \u001b[0mtree_output\u001b[0m \u001b[0;34m=\u001b[0m \u001b[0mself\u001b[0m\u001b[0;34m.\u001b[0m\u001b[0m_build_tree_per_segments\u001b[0m\u001b[0;34m(\u001b[0m\u001b[0;34m)\u001b[0m\u001b[0;34m\u001b[0m\u001b[0m\n\u001b[0m\u001b[1;32m    128\u001b[0m \u001b[0;34m\u001b[0m\u001b[0m\n\u001b[1;32m    129\u001b[0m         \u001b[0mlogger\u001b[0m\u001b[0;34m.\u001b[0m\u001b[0mdebug\u001b[0m\u001b[0;34m(\u001b[0m\u001b[0;34m\"before visualization - generateTree()\"\u001b[0m\u001b[0;34m)\u001b[0m\u001b[0;34m\u001b[0m\u001b[0m\n",
      "\u001b[0;32m/Users/mjirik/projects/teigen/teigen/tree.pyc\u001b[0m in \u001b[0;36m_build_tree_per_segments\u001b[0;34m(self)\u001b[0m\n\u001b[1;32m    172\u001b[0m             \u001b[0;31m# generator could have finish() function\u001b[0m\u001b[0;34m\u001b[0m\u001b[0;34m\u001b[0m\u001b[0m\n\u001b[1;32m    173\u001b[0m             \u001b[0mself\u001b[0m\u001b[0;34m.\u001b[0m\u001b[0mgenerator\u001b[0m\u001b[0;34m.\u001b[0m\u001b[0mfinish_progress_callback\u001b[0m \u001b[0;34m=\u001b[0m \u001b[0mself\u001b[0m\u001b[0;34m.\u001b[0m\u001b[0mfinish_progress_callback\u001b[0m\u001b[0;34m\u001b[0m\u001b[0m\n\u001b[0;32m--> 174\u001b[0;31m             \u001b[0mself\u001b[0m\u001b[0;34m.\u001b[0m\u001b[0mgenerator\u001b[0m\u001b[0;34m.\u001b[0m\u001b[0mfinish\u001b[0m\u001b[0;34m(\u001b[0m\u001b[0;34m)\u001b[0m\u001b[0;34m\u001b[0m\u001b[0m\n\u001b[0m\u001b[1;32m    175\u001b[0m             \u001b[0mlogger\u001b[0m\u001b[0;34m.\u001b[0m\u001b[0mdebug\u001b[0m\u001b[0;34m(\u001b[0m\u001b[0;34m\"joints generated\"\u001b[0m\u001b[0;34m)\u001b[0m\u001b[0;34m\u001b[0m\u001b[0m\n\u001b[1;32m    176\u001b[0m         \u001b[0;32melse\u001b[0m\u001b[0;34m:\u001b[0m\u001b[0;34m\u001b[0m\u001b[0m\n",
      "\u001b[0;32m/Users/mjirik/projects/teigen/teigen/tb_vtk.py\u001b[0m in \u001b[0;36mfinish\u001b[0;34m(self)\u001b[0m\n\u001b[1;32m     50\u001b[0m                                  \u001b[0mpolygon_radius_selection_method\u001b[0m\u001b[0;34m=\u001b[0m\u001b[0mself\u001b[0m\u001b[0;34m.\u001b[0m\u001b[0mpolygon_radius_selection_method\u001b[0m\u001b[0;34m,\u001b[0m\u001b[0;34m\u001b[0m\u001b[0m\n\u001b[1;32m     51\u001b[0m                                  \u001b[0mcylinder_radius_compensation_factor\u001b[0m\u001b[0;34m=\u001b[0m\u001b[0mself\u001b[0m\u001b[0;34m.\u001b[0m\u001b[0mcylinder_radius_compensation_factor\u001b[0m\u001b[0;34m,\u001b[0m\u001b[0;34m\u001b[0m\u001b[0m\n\u001b[0;32m---> 52\u001b[0;31m                                  sphere_radius_compensation_factor=self.sphere_radius_compensation_factor)\n\u001b[0m\u001b[1;32m     53\u001b[0m         \u001b[0;31m# import ipdb; ipdb.set_trace()\u001b[0m\u001b[0;34m\u001b[0m\u001b[0;34m\u001b[0m\u001b[0m\n\u001b[1;32m     54\u001b[0m \u001b[0;34m\u001b[0m\u001b[0m\n",
      "\u001b[0;32m/Users/mjirik/projects/teigen/teigen/tb_vtk.py\u001b[0m in \u001b[0;36mgen_tree\u001b[0;34m(tree_data, cylinder_resolution, sphere_resolution, polygon_radius_selection_method, cylinder_radius_compensation_factor, sphere_radius_compensation_factor)\u001b[0m\n\u001b[1;32m    226\u001b[0m         \u001b[0msphere_radius_compensation_factor\u001b[0m\u001b[0;34m,\u001b[0m\u001b[0;34m\u001b[0m\u001b[0m\n\u001b[1;32m    227\u001b[0m         \u001b[0mcylinder_resolution\u001b[0m\u001b[0;34m,\u001b[0m\u001b[0;34m\u001b[0m\u001b[0m\n\u001b[0;32m--> 228\u001b[0;31m         \u001b[0msphere_resolution\u001b[0m\u001b[0;34m\u001b[0m\u001b[0m\n\u001b[0m\u001b[1;32m    229\u001b[0m     )\n\u001b[1;32m    230\u001b[0m \u001b[0;34m\u001b[0m\u001b[0m\n",
      "\u001b[0;32m/Users/mjirik/projects/teigen/teigen/tb_vtk.py\u001b[0m in \u001b[0;36mpolygon_radius_compensation_factos\u001b[0;34m(polygon_radius_selection_method, cylinder_radius_compensation_factor, sphere_radius_compensation_factor, cylinder_resolution, sphere_resolution)\u001b[0m\n\u001b[1;32m    185\u001b[0m     \u001b[0;32melif\u001b[0m \u001b[0mpolygon_radius_selection_method\u001b[0m \u001b[0;34m==\u001b[0m \u001b[0;34m\"cylinder volume\"\u001b[0m\u001b[0;34m:\u001b[0m\u001b[0;34m\u001b[0m\u001b[0m\n\u001b[1;32m    186\u001b[0m         \u001b[0;31m# from .. import geometry3d as g3\u001b[0m\u001b[0;34m\u001b[0m\u001b[0;34m\u001b[0m\u001b[0m\n\u001b[0;32m--> 187\u001b[0;31m         \u001b[0mradius_compensation_factor\u001b[0m \u001b[0;34m=\u001b[0m  \u001b[0mregular_polygon_volume_equivalent_radius\u001b[0m\u001b[0;34m(\u001b[0m\u001b[0mcylinder_resolution\u001b[0m\u001b[0;34m)\u001b[0m\u001b[0;34m\u001b[0m\u001b[0m\n\u001b[0m\u001b[1;32m    188\u001b[0m         \u001b[0mcylinder_radius_compensation_factor\u001b[0m \u001b[0;34m=\u001b[0m \u001b[0mradius_compensation_factor\u001b[0m\u001b[0;34m\u001b[0m\u001b[0m\n\u001b[1;32m    189\u001b[0m         \u001b[0msphere_radius_compensation_factor\u001b[0m \u001b[0;34m=\u001b[0m \u001b[0mradius_compensation_factor\u001b[0m\u001b[0;34m\u001b[0m\u001b[0m\n",
      "\u001b[0;31mNameError\u001b[0m: global name 'regular_polygon_volume_equivalent_radius' is not defined"
     ]
    }
   ],
   "source": [
    "for i, cfg in enumerate(configs):\n",
    "    \n",
    "    tg = teigen.tgmain.Teigen()\n",
    "    # config = tg.get_default_config()\n",
    "    tg.update_config(**cfg)\n",
    "    print (str(i) + \" / \" + str(len(configs)))  \n",
    "    print(gc[\"random_generator_seed\"])\n",
    "    print(config[\"postprocessing\"][\"measurement_resolution\"])\n",
    "    \n",
    "    tg.run()\n",
    "    print(\"run finished\")\n",
    "    tg.step2()\n",
    "    print(\"step2 finished\")\n",
    "    del(tg)\n",
    "    "
   ]
  }
 ],
 "metadata": {
  "anaconda-cloud": {},
  "kernelspec": {
   "display_name": "Python 2",
   "language": "python",
   "name": "python2"
  },
  "language_info": {
   "codemirror_mode": {
    "name": "ipython",
    "version": 2
   },
   "file_extension": ".py",
   "mimetype": "text/x-python",
   "name": "python",
   "nbconvert_exporter": "python",
   "pygments_lexer": "ipython2",
   "version": "2.7.11"
  }
 },
 "nbformat": 4,
 "nbformat_minor": 2
}
