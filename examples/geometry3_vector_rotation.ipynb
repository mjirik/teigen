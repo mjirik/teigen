{
 "cells": [
  {
   "cell_type": "code",
   "execution_count": 1,
   "metadata": {
    "collapsed": false
   },
   "outputs": [
    {
     "name": "stdout",
     "output_type": "stream",
     "text": [
      "Populating the interactive namespace from numpy and matplotlib\n"
     ]
    }
   ],
   "source": [
    "%pylab inline"
   ]
  },
  {
   "cell_type": "code",
   "execution_count": 2,
   "metadata": {
    "collapsed": false
   },
   "outputs": [
    {
     "name": "stdout",
     "output_type": "stream",
     "text": [
      "Using matplotlib backend: MacOSX\n",
      "Populating the interactive namespace from numpy and matplotlib\n"
     ]
    }
   ],
   "source": [
    "%pylab\n",
    "import matplotlib.pyplot as plt\n",
    "import numpy as np"
   ]
  },
  {
   "cell_type": "code",
   "execution_count": 3,
   "metadata": {
    "collapsed": true
   },
   "outputs": [],
   "source": [
    "xi1 = np.random.rand(500)\n",
    "xi2 = np.random.rand(500)\n",
    "theta = np.arccos(1.0-(xi1*1))\n",
    "phi = xi2 * 2 * np.pi\n",
    "\n",
    "xs = np.sin(theta) * np.cos(phi)\n",
    "ys = np.sin(theta) * np.sin(phi)\n",
    "zs = np.cos(theta)\n"
   ]
  },
  {
   "cell_type": "code",
   "execution_count": 4,
   "metadata": {
    "collapsed": false
   },
   "outputs": [
    {
     "data": {
      "text/plain": [
       "[<matplotlib.lines.Line2D at 0x10c49d810>]"
      ]
     },
     "execution_count": 4,
     "metadata": {},
     "output_type": "execute_result"
    }
   ],
   "source": [
    "plt.subplot(121)\n",
    "plt.plot(zs,xs, 'x')\n",
    "plt.subplot(122)\n",
    "plt.plot(xs,ys, 'x')"
   ]
  },
  {
   "cell_type": "code",
   "execution_count": 5,
   "metadata": {
    "collapsed": false
   },
   "outputs": [],
   "source": [
    "from mpl_toolkits.mplot3d import Axes3D\n",
    "import matplotlib.pyplot as plt\n",
    "\n",
    "\n",
    "fig = plt.figure()\n",
    "ax = fig.add_subplot(111, projection='3d')\n",
    "ax.scatter(xs, ys, zs)\n",
    "\n",
    "ax.set_xlabel('X Label')\n",
    "ax.set_ylabel('Y Label')\n",
    "ax.set_zlabel('Z Label')\n",
    "\n",
    "plt.show()"
   ]
  },
  {
   "cell_type": "markdown",
   "metadata": {},
   "source": [
    "# Random vector along direction"
   ]
  },
  {
   "cell_type": "markdown",
   "metadata": {},
   "source": [
    "## Random vector along one axis"
   ]
  },
  {
   "cell_type": "code",
   "execution_count": 18,
   "metadata": {
    "collapsed": false
   },
   "outputs": [],
   "source": [
    "\n",
    "def random_vector_along_axis(sigma=1.0, size=1):\n",
    "    beta = np.random.normal(scale=sigma, size=size)\n",
    "    # beta = [.98] * size \n",
    "    # alpha - dokola\n",
    "    alpha = 2 * np.pi * np.random.rand(size)\n",
    "    # alpha = [0.] * size \n",
    "    beta = 0.5 * np.pi - np.asarray(beta)\n",
    "    z = [np.sin(beta), -np.cos(beta) * np.sin(alpha), np.cos(beta)*np.cos(alpha)]\n",
    "    \n",
    "    return np.asarray(z)\n",
    "\n",
    "sigma = .8\n",
    "size = 1000\n",
    "\n",
    "xs, ys, zs = random_vector_along_axis(sigma, size)\n",
    "\n",
    "plt.figure()\n",
    "plt.subplot(131)\n",
    "plt.plot(zs,xs, 'x')\n",
    "plt.subplot(132)\n",
    "plt.plot(xs,ys, 'x')\n",
    "plt.subplot(133)\n",
    "plt.plot(zs,ys, 'x')\n",
    "\n",
    "fig = plt.figure()\n",
    "ax = fig.add_subplot(111, projection='3d')\n",
    "ax.scatter(xs, ys, zs)\n",
    "\n",
    "ax.set_xlabel('X Label')\n",
    "ax.set_ylabel('Y Label')\n",
    "ax.set_zlabel('Z Label')\n",
    "\n",
    "plt.show()"
   ]
  },
  {
   "cell_type": "markdown",
   "metadata": {},
   "source": [
    "## Vector rotation"
   ]
  },
  {
   "cell_type": "code",
   "execution_count": 20,
   "metadata": {
    "collapsed": false
   },
   "outputs": [],
   "source": [
    "alpha = 0.5\n",
    "beta = 0.3\n",
    "\n",
    "pts = [\n",
    "    [0, 0, 0],\n",
    "    [0, 0, .2],\n",
    "    [0, 0, .4],\n",
    "    [0, 0, .6],\n",
    "    [0, 0, .8],\n",
    "    [0, 0, 1.],\n",
    "]\n",
    "pts = np.asarray(pts).T\n",
    "\n",
    "def vector_rotate(vectors, alpha, beta):\n",
    "    sa = np.sin(alpha)\n",
    "    sb = np.sin(beta)\n",
    "    ca = np.cos(alpha)\n",
    "    cb = np.cos(beta)\n",
    "    R1 = [[1, 0, 0], [0, ca, -sa], [0, sa, ca]]\n",
    "    R2 = [[cb, 0, sb], [0, 1, 0], [-sa, 0, cb]]\n",
    "\n",
    "    ptsr = np.matmul(np.matmul(R1, R2), vectors)\n",
    "    \n",
    "    return ptsr\n",
    "\n",
    "ptsr = vector_rotate(pts, alpha, beta)\n",
    "\n",
    "fig = plt.figure()\n",
    "ax = fig.add_subplot(111, projection='3d')\n",
    "\n",
    "xs, ys, zs = pts\n",
    "ax.scatter(xs, ys, zs)\n",
    "xs, ys, zs = ptsr\n",
    "ax.scatter(xs, ys, zs)\n",
    "\n",
    "ax.set_xlabel('X Label')\n",
    "ax.set_ylabel('Y Label')\n",
    "ax.set_zlabel('Z Label')\n",
    "\n",
    "plt.show()"
   ]
  },
  {
   "cell_type": "markdown",
   "metadata": {},
   "source": [
    "### Rotated random vector along axis to new direction"
   ]
  },
  {
   "cell_type": "code",
   "execution_count": 22,
   "metadata": {
    "collapsed": true
   },
   "outputs": [],
   "source": [
    "vec = random_vector_along_axis(sigma=0.5, size=600)\n",
    "vec = vector_rotate(vec, 1.2, 0.2)\n",
    "\n",
    "fig = plt.figure()\n",
    "ax = fig.add_subplot(111, projection='3d')\n",
    "\n",
    "xs, ys, zs = vec\n",
    "ax.scatter(xs, ys, zs)\n",
    "# xs, ys, zs = ptsr\n",
    "#ax.scatter(xs, ys, zs)\n",
    "\n",
    "ax.set_xlabel('X Label')\n",
    "ax.set_ylabel('Y Label')\n",
    "ax.set_zlabel('Z Label')\n",
    "\n",
    "plt.show()"
   ]
  }
 ],
 "metadata": {
  "kernelspec": {
   "display_name": "Python 2",
   "language": "python",
   "name": "python2"
  },
  "language_info": {
   "codemirror_mode": {
    "name": "ipython",
    "version": 2
   },
   "file_extension": ".py",
   "mimetype": "text/x-python",
   "name": "python",
   "nbconvert_exporter": "python",
   "pygments_lexer": "ipython2",
   "version": "2.7.11"
  }
 },
 "nbformat": 4,
 "nbformat_minor": 0
}
